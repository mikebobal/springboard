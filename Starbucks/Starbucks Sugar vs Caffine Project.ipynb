{
 "cells": [
  {
   "cell_type": "markdown",
   "id": "b6e0b3db",
   "metadata": {},
   "source": [
    "# Starbucks drink data:\n",
    "# Wake up! Your caffine fix will break your health"
   ]
  },
  {
   "cell_type": "markdown",
   "id": "8be08607",
   "metadata": {},
   "source": [
    "<img src=\"https://i.ytimg.com/vi/ZGTTnPqjmeg/hqdefault.jpg\"/>"
   ]
  },
  {
   "cell_type": "markdown",
   "id": "e799ff65",
   "metadata": {},
   "source": [
    "## 1.0 Contents<a id='1.0'></a>\n",
    "  * [1.1 Introduction](#1.1)\n",
    "  * [1.2 Purpose](#1.2)\n",
    "  * [2.0 Data Overview](#2.0)\n",
    "  * [2.1 Missing values](#2.1)\n",
    "  * [2.2 Visualizing raw data](#2.2)\n",
    "  * [2.3 Selecting from label options](#2.3)\n",
    "  * [2.4 Correlations](#2.4)\n",
    "  * [2.5 Plotting the focus variables](#2.5)\n",
    "  * [3.0 Recommendations](#3.0)\n",
    "  * [3.1 Final recommendation list](#3.1)"
   ]
  },
  {
   "cell_type": "markdown",
   "id": "ea728bb9",
   "metadata": {},
   "source": [
    "##### 1.1 Introduction: <a id='1.1'></a>"
   ]
  },
  {
   "cell_type": "markdown",
   "id": "d3205e4b",
   "metadata": {},
   "source": [
    "America is fat. According to the latest available CDC data, the US obesity prevalence was 41.9% [1]. We are approaching a bariatric tipping point, and dietary decisions - whether conscious or otherwise - are a driving factor.\n",
    "\n",
    "America is also wired. According to research, 85% of the U.S. population consumes at least one caffeinated beverage per day, the vast majority of which comes from coffee and tea (70-90%) [2].\n",
    "\n",
    "According to statista, Starbucks is responsible for 40% of the US coffee market share, with over 15,000 locations (33,000 globally) [3]. America might \"run on Dunkin'\" but the data shows we \"vote with our dollars\" for Starbucks supremacy.\n",
    "\n",
    "One commonality that busy workers and stressed college students share, other than their affinity for coffee, is a lack of time to consider the not-readily-available nutrition facts about their preffered beverages. What makes the drinks so tasty is sugar, and lots of it. Our digestive system breaks down sugar into glucose, and whatever we don't burn off through physical activity will then be stored on the body as fat. Sugar is also calorie-dense, and there have been many studies showing that there is a significant association between sugar-sweetened beverages and obesity [4].\n",
    "\n",
    "While there could be a connection between increased obesity rates and sustained coffee consumption, we won't draw any conclusions in that regard here. However, it may be beneficial to visualize just exactly what you are drinking when you fly through the Starbucks drive-through.\n",
    "\n",
    "\n",
    "[1] https://www.cdc.gov/obesity/data/adult.html\n",
    "\n",
    "[2] https://pubmed.ncbi.nlm.nih.gov/24189158/\n",
    "\n",
    "[3] https://www.statista.com/statistics/250166/market-share-of-major-us-coffee-shops/\n",
    "\n",
    "[4] https://www.ncbi.nlm.nih.gov/pmc/articles/PMC5836186/"
   ]
  },
  {
   "cell_type": "markdown",
   "id": "3736cb32",
   "metadata": {},
   "source": [
    "##### 1.2 Purpose<a id='1.2'></a>"
   ]
  },
  {
   "cell_type": "markdown",
   "id": "a35be301",
   "metadata": {},
   "source": [
    "Using data publicly available from Kaggle [5], we will endeavour to better understand the features of the drinks that Starbucks offers.\n",
    "\n",
    "The specific question we want to resolve is this:<br>\n",
    "Are there any Starbucks drinks available to choose from that have enough caffine to get you focused, with low enough sugar to keep you from getting fat?\n",
    "\n",
    "\n",
    "[5] https://www.kaggle.com/datasets/starbucks/starbucks-menu?resource=download&select=starbucks_drinkMenu_expanded.csv"
   ]
  },
  {
   "cell_type": "markdown",
   "id": "2a6287c3",
   "metadata": {},
   "source": [
    "#### 2.0 Data Overview<a id='2.0'></a>"
   ]
  },
  {
   "cell_type": "markdown",
   "id": "8bc017e1",
   "metadata": {},
   "source": [
    "Import modules"
   ]
  },
  {
   "cell_type": "code",
   "execution_count": 176,
   "id": "b46eea90",
   "metadata": {},
   "outputs": [],
   "source": [
    "import pandas as pd\n",
    "import numpy as np\n",
    "import os\n",
    "import matplotlib.pyplot as plt\n",
    "import seaborn as sns\n"
   ]
  },
  {
   "cell_type": "code",
   "execution_count": 177,
   "id": "c1ec2e04",
   "metadata": {},
   "outputs": [],
   "source": [
    "file = r'C:\\Users\\Joseph Shire\\Documents\\Springboard Python Data Science\\Python Scripts\\springboard\\Starbucks'"
   ]
  },
  {
   "cell_type": "code",
   "execution_count": 178,
   "id": "900c7296",
   "metadata": {},
   "outputs": [],
   "source": [
    "df = pd.read_csv(file+r'\\starbucks_drinkMenu_expanded.csv')"
   ]
  },
  {
   "cell_type": "code",
   "execution_count": 179,
   "id": "c441a934",
   "metadata": {},
   "outputs": [
    {
     "data": {
      "text/html": [
       "<div>\n",
       "<style scoped>\n",
       "    .dataframe tbody tr th:only-of-type {\n",
       "        vertical-align: middle;\n",
       "    }\n",
       "\n",
       "    .dataframe tbody tr th {\n",
       "        vertical-align: top;\n",
       "    }\n",
       "\n",
       "    .dataframe thead th {\n",
       "        text-align: right;\n",
       "    }\n",
       "</style>\n",
       "<table border=\"1\" class=\"dataframe\">\n",
       "  <thead>\n",
       "    <tr style=\"text-align: right;\">\n",
       "      <th></th>\n",
       "      <th>Beverage_category</th>\n",
       "      <th>Beverage</th>\n",
       "      <th>Beverage_prep</th>\n",
       "      <th>Calories</th>\n",
       "      <th>Total Fat (g)</th>\n",
       "      <th>Trans Fat (g)</th>\n",
       "      <th>Saturated Fat (g)</th>\n",
       "      <th>Sodium (mg)</th>\n",
       "      <th>Total Carbohydrates (g)</th>\n",
       "      <th>Cholesterol (mg)</th>\n",
       "      <th>Dietary Fibre (g)</th>\n",
       "      <th>Sugars (g)</th>\n",
       "      <th>Protein (g)</th>\n",
       "      <th>Vitamin A (% DV)</th>\n",
       "      <th>Vitamin C (% DV)</th>\n",
       "      <th>Calcium (% DV)</th>\n",
       "      <th>Iron (% DV)</th>\n",
       "      <th>Caffeine (mg)</th>\n",
       "    </tr>\n",
       "  </thead>\n",
       "  <tbody>\n",
       "    <tr>\n",
       "      <th>0</th>\n",
       "      <td>Coffee</td>\n",
       "      <td>Brewed Coffee</td>\n",
       "      <td>Short</td>\n",
       "      <td>3</td>\n",
       "      <td>0.1</td>\n",
       "      <td>0.0</td>\n",
       "      <td>0.0</td>\n",
       "      <td>0</td>\n",
       "      <td>5</td>\n",
       "      <td>0</td>\n",
       "      <td>0</td>\n",
       "      <td>0</td>\n",
       "      <td>0.3</td>\n",
       "      <td>0%</td>\n",
       "      <td>0%</td>\n",
       "      <td>0%</td>\n",
       "      <td>0%</td>\n",
       "      <td>175</td>\n",
       "    </tr>\n",
       "    <tr>\n",
       "      <th>1</th>\n",
       "      <td>Coffee</td>\n",
       "      <td>Brewed Coffee</td>\n",
       "      <td>Tall</td>\n",
       "      <td>4</td>\n",
       "      <td>0.1</td>\n",
       "      <td>0.0</td>\n",
       "      <td>0.0</td>\n",
       "      <td>0</td>\n",
       "      <td>10</td>\n",
       "      <td>0</td>\n",
       "      <td>0</td>\n",
       "      <td>0</td>\n",
       "      <td>0.5</td>\n",
       "      <td>0%</td>\n",
       "      <td>0%</td>\n",
       "      <td>0%</td>\n",
       "      <td>0%</td>\n",
       "      <td>260</td>\n",
       "    </tr>\n",
       "    <tr>\n",
       "      <th>2</th>\n",
       "      <td>Coffee</td>\n",
       "      <td>Brewed Coffee</td>\n",
       "      <td>Grande</td>\n",
       "      <td>5</td>\n",
       "      <td>0.1</td>\n",
       "      <td>0.0</td>\n",
       "      <td>0.0</td>\n",
       "      <td>0</td>\n",
       "      <td>10</td>\n",
       "      <td>0</td>\n",
       "      <td>0</td>\n",
       "      <td>0</td>\n",
       "      <td>1.0</td>\n",
       "      <td>0%</td>\n",
       "      <td>0%</td>\n",
       "      <td>0%</td>\n",
       "      <td>0%</td>\n",
       "      <td>330</td>\n",
       "    </tr>\n",
       "    <tr>\n",
       "      <th>3</th>\n",
       "      <td>Coffee</td>\n",
       "      <td>Brewed Coffee</td>\n",
       "      <td>Venti</td>\n",
       "      <td>5</td>\n",
       "      <td>0.1</td>\n",
       "      <td>0.0</td>\n",
       "      <td>0.0</td>\n",
       "      <td>0</td>\n",
       "      <td>10</td>\n",
       "      <td>0</td>\n",
       "      <td>0</td>\n",
       "      <td>0</td>\n",
       "      <td>1.0</td>\n",
       "      <td>0%</td>\n",
       "      <td>0%</td>\n",
       "      <td>2%</td>\n",
       "      <td>0%</td>\n",
       "      <td>410</td>\n",
       "    </tr>\n",
       "    <tr>\n",
       "      <th>4</th>\n",
       "      <td>Classic Espresso Drinks</td>\n",
       "      <td>Caffè Latte</td>\n",
       "      <td>Short Nonfat Milk</td>\n",
       "      <td>70</td>\n",
       "      <td>0.1</td>\n",
       "      <td>0.1</td>\n",
       "      <td>0.0</td>\n",
       "      <td>5</td>\n",
       "      <td>75</td>\n",
       "      <td>10</td>\n",
       "      <td>0</td>\n",
       "      <td>9</td>\n",
       "      <td>6.0</td>\n",
       "      <td>10%</td>\n",
       "      <td>0%</td>\n",
       "      <td>20%</td>\n",
       "      <td>0%</td>\n",
       "      <td>75</td>\n",
       "    </tr>\n",
       "  </tbody>\n",
       "</table>\n",
       "</div>"
      ],
      "text/plain": [
       "         Beverage_category       Beverage      Beverage_prep  Calories  \\\n",
       "0                   Coffee  Brewed Coffee              Short         3   \n",
       "1                   Coffee  Brewed Coffee               Tall         4   \n",
       "2                   Coffee  Brewed Coffee             Grande         5   \n",
       "3                   Coffee  Brewed Coffee              Venti         5   \n",
       "4  Classic Espresso Drinks    Caffè Latte  Short Nonfat Milk        70   \n",
       "\n",
       "   Total Fat (g)  Trans Fat (g)   Saturated Fat (g)   Sodium (mg)  \\\n",
       "0            0.1             0.0                0.0             0   \n",
       "1            0.1             0.0                0.0             0   \n",
       "2            0.1             0.0                0.0             0   \n",
       "3            0.1             0.0                0.0             0   \n",
       "4            0.1             0.1                0.0             5   \n",
       "\n",
       "    Total Carbohydrates (g)   Cholesterol (mg)   Dietary Fibre (g)  \\\n",
       "0                          5                 0                   0   \n",
       "1                         10                 0                   0   \n",
       "2                         10                 0                   0   \n",
       "3                         10                 0                   0   \n",
       "4                         75                10                   0   \n",
       "\n",
       "    Sugars (g)   Protein (g)  Vitamin A (% DV)  Vitamin C (% DV)  \\\n",
       "0            0            0.3                0%               0%   \n",
       "1            0            0.5                0%               0%   \n",
       "2            0            1.0                0%               0%   \n",
       "3            0            1.0                0%               0%   \n",
       "4            9            6.0               10%               0%   \n",
       "\n",
       "   Calcium (% DV)  Iron (% DV)  Caffeine (mg)  \n",
       "0               0%           0%           175  \n",
       "1               0%           0%           260  \n",
       "2               0%           0%           330  \n",
       "3               2%           0%           410  \n",
       "4              20%           0%            75  "
      ]
     },
     "execution_count": 179,
     "metadata": {},
     "output_type": "execute_result"
    }
   ],
   "source": [
    "df.head()"
   ]
  },
  {
   "cell_type": "code",
   "execution_count": 180,
   "id": "563d717f",
   "metadata": {},
   "outputs": [
    {
     "name": "stdout",
     "output_type": "stream",
     "text": [
      "<class 'pandas.core.frame.DataFrame'>\n",
      "RangeIndex: 242 entries, 0 to 241\n",
      "Data columns (total 18 columns):\n",
      " #   Column                     Non-Null Count  Dtype  \n",
      "---  ------                     --------------  -----  \n",
      " 0   Beverage_category          242 non-null    object \n",
      " 1   Beverage                   242 non-null    object \n",
      " 2   Beverage_prep              242 non-null    object \n",
      " 3   Calories                   242 non-null    int64  \n",
      " 4    Total Fat (g)             242 non-null    object \n",
      " 5   Trans Fat (g)              242 non-null    float64\n",
      " 6   Saturated Fat (g)          242 non-null    float64\n",
      " 7    Sodium (mg)               242 non-null    int64  \n",
      " 8    Total Carbohydrates (g)   242 non-null    int64  \n",
      " 9   Cholesterol (mg)           242 non-null    int64  \n",
      " 10   Dietary Fibre (g)         242 non-null    int64  \n",
      " 11   Sugars (g)                242 non-null    int64  \n",
      " 12   Protein (g)               242 non-null    float64\n",
      " 13  Vitamin A (% DV)           242 non-null    object \n",
      " 14  Vitamin C (% DV)           242 non-null    object \n",
      " 15   Calcium (% DV)            242 non-null    object \n",
      " 16  Iron (% DV)                242 non-null    object \n",
      " 17  Caffeine (mg)              241 non-null    object \n",
      "dtypes: float64(3), int64(6), object(9)\n",
      "memory usage: 34.2+ KB\n"
     ]
    }
   ],
   "source": [
    "df.info()"
   ]
  },
  {
   "cell_type": "markdown",
   "id": "748b7e07",
   "metadata": {},
   "source": [
    "Already, we can see that columns that should be numeric are sometimes not ('object')"
   ]
  },
  {
   "cell_type": "markdown",
   "id": "209f777b",
   "metadata": {},
   "source": [
    "##### 2.1 Missing values<a id='2.1'></a>"
   ]
  },
  {
   "cell_type": "markdown",
   "id": "9c68f2b0",
   "metadata": {},
   "source": [
    "There appears to be a missing value for caffine, based on the df.info() non-null count."
   ]
  },
  {
   "cell_type": "code",
   "execution_count": 181,
   "id": "552c8fb7",
   "metadata": {},
   "outputs": [
    {
     "data": {
      "text/plain": [
       "[158]"
      ]
     },
     "execution_count": 181,
     "metadata": {},
     "output_type": "execute_result"
    }
   ],
   "source": [
    "null = df[df['Caffeine (mg)'].isnull()].index.tolist()\n",
    "null"
   ]
  },
  {
   "cell_type": "markdown",
   "id": "14d2a08c",
   "metadata": {},
   "source": [
    "We will inspect this index and its surrounding entries for context"
   ]
  },
  {
   "cell_type": "code",
   "execution_count": 182,
   "id": "daf1baf7",
   "metadata": {},
   "outputs": [
    {
     "data": {
      "text/html": [
       "<div>\n",
       "<style scoped>\n",
       "    .dataframe tbody tr th:only-of-type {\n",
       "        vertical-align: middle;\n",
       "    }\n",
       "\n",
       "    .dataframe tbody tr th {\n",
       "        vertical-align: top;\n",
       "    }\n",
       "\n",
       "    .dataframe thead th {\n",
       "        text-align: right;\n",
       "    }\n",
       "</style>\n",
       "<table border=\"1\" class=\"dataframe\">\n",
       "  <thead>\n",
       "    <tr style=\"text-align: right;\">\n",
       "      <th></th>\n",
       "      <th>Beverage_category</th>\n",
       "      <th>Beverage</th>\n",
       "      <th>Beverage_prep</th>\n",
       "      <th>Calories</th>\n",
       "      <th>Total Fat (g)</th>\n",
       "      <th>Trans Fat (g)</th>\n",
       "      <th>Saturated Fat (g)</th>\n",
       "      <th>Sodium (mg)</th>\n",
       "      <th>Total Carbohydrates (g)</th>\n",
       "      <th>Cholesterol (mg)</th>\n",
       "      <th>Dietary Fibre (g)</th>\n",
       "      <th>Sugars (g)</th>\n",
       "      <th>Protein (g)</th>\n",
       "      <th>Vitamin A (% DV)</th>\n",
       "      <th>Vitamin C (% DV)</th>\n",
       "      <th>Calcium (% DV)</th>\n",
       "      <th>Iron (% DV)</th>\n",
       "      <th>Caffeine (mg)</th>\n",
       "    </tr>\n",
       "  </thead>\n",
       "  <tbody>\n",
       "    <tr>\n",
       "      <th>154</th>\n",
       "      <td>Shaken Iced Beverages</td>\n",
       "      <td>Iced Brewed Coffee (With Classic Syrup)</td>\n",
       "      <td>Tall</td>\n",
       "      <td>60</td>\n",
       "      <td>0</td>\n",
       "      <td>0.0</td>\n",
       "      <td>0.0</td>\n",
       "      <td>0</td>\n",
       "      <td>4</td>\n",
       "      <td>15</td>\n",
       "      <td>0</td>\n",
       "      <td>15</td>\n",
       "      <td>0.2</td>\n",
       "      <td>0%</td>\n",
       "      <td>0%</td>\n",
       "      <td>0%</td>\n",
       "      <td>0%</td>\n",
       "      <td>120</td>\n",
       "    </tr>\n",
       "    <tr>\n",
       "      <th>155</th>\n",
       "      <td>Shaken Iced Beverages</td>\n",
       "      <td>Iced Brewed Coffee (With Classic Syrup)</td>\n",
       "      <td>Grande</td>\n",
       "      <td>90</td>\n",
       "      <td>0.1</td>\n",
       "      <td>0.0</td>\n",
       "      <td>0.0</td>\n",
       "      <td>0</td>\n",
       "      <td>5</td>\n",
       "      <td>21</td>\n",
       "      <td>0</td>\n",
       "      <td>21</td>\n",
       "      <td>0.3</td>\n",
       "      <td>0%</td>\n",
       "      <td>0%</td>\n",
       "      <td>0%</td>\n",
       "      <td>0%</td>\n",
       "      <td>165</td>\n",
       "    </tr>\n",
       "    <tr>\n",
       "      <th>156</th>\n",
       "      <td>Shaken Iced Beverages</td>\n",
       "      <td>Iced Brewed Coffee (With Classic Syrup)</td>\n",
       "      <td>Venti</td>\n",
       "      <td>130</td>\n",
       "      <td>0.1</td>\n",
       "      <td>0.0</td>\n",
       "      <td>0.0</td>\n",
       "      <td>0</td>\n",
       "      <td>5</td>\n",
       "      <td>31</td>\n",
       "      <td>0</td>\n",
       "      <td>31</td>\n",
       "      <td>0.4</td>\n",
       "      <td>0%</td>\n",
       "      <td>0%</td>\n",
       "      <td>0%</td>\n",
       "      <td>0%</td>\n",
       "      <td>235</td>\n",
       "    </tr>\n",
       "    <tr>\n",
       "      <th>157</th>\n",
       "      <td>Shaken Iced Beverages</td>\n",
       "      <td>Iced Brewed Coffee (With Milk &amp; Classic Syrup)</td>\n",
       "      <td>Tall Nonfat Milk</td>\n",
       "      <td>80</td>\n",
       "      <td>0.1</td>\n",
       "      <td>0.0</td>\n",
       "      <td>0.0</td>\n",
       "      <td>0</td>\n",
       "      <td>25</td>\n",
       "      <td>18</td>\n",
       "      <td>0</td>\n",
       "      <td>18</td>\n",
       "      <td>2.0</td>\n",
       "      <td>2%</td>\n",
       "      <td>0%</td>\n",
       "      <td>6%</td>\n",
       "      <td>0%</td>\n",
       "      <td>90</td>\n",
       "    </tr>\n",
       "    <tr>\n",
       "      <th>158</th>\n",
       "      <td>Shaken Iced Beverages</td>\n",
       "      <td>Iced Brewed Coffee (With Milk &amp; Classic Syrup)</td>\n",
       "      <td>2% Milk</td>\n",
       "      <td>90</td>\n",
       "      <td>1</td>\n",
       "      <td>0.5</td>\n",
       "      <td>0.0</td>\n",
       "      <td>5</td>\n",
       "      <td>25</td>\n",
       "      <td>18</td>\n",
       "      <td>0</td>\n",
       "      <td>18</td>\n",
       "      <td>2.0</td>\n",
       "      <td>2%</td>\n",
       "      <td>0%</td>\n",
       "      <td>6%</td>\n",
       "      <td>0.00%</td>\n",
       "      <td>NaN</td>\n",
       "    </tr>\n",
       "    <tr>\n",
       "      <th>159</th>\n",
       "      <td>Shaken Iced Beverages</td>\n",
       "      <td>Iced Brewed Coffee (With Milk &amp; Classic Syrup)</td>\n",
       "      <td>Soymilk</td>\n",
       "      <td>80</td>\n",
       "      <td>1</td>\n",
       "      <td>0.1</td>\n",
       "      <td>0.0</td>\n",
       "      <td>0</td>\n",
       "      <td>20</td>\n",
       "      <td>17</td>\n",
       "      <td>0</td>\n",
       "      <td>17</td>\n",
       "      <td>2.0</td>\n",
       "      <td>2%</td>\n",
       "      <td>0%</td>\n",
       "      <td>6%</td>\n",
       "      <td>0%</td>\n",
       "      <td>90</td>\n",
       "    </tr>\n",
       "    <tr>\n",
       "      <th>160</th>\n",
       "      <td>Shaken Iced Beverages</td>\n",
       "      <td>Iced Brewed Coffee (With Milk &amp; Classic Syrup)</td>\n",
       "      <td>Grande Nonfat Milk</td>\n",
       "      <td>110</td>\n",
       "      <td>0.1</td>\n",
       "      <td>0.0</td>\n",
       "      <td>0.0</td>\n",
       "      <td>0</td>\n",
       "      <td>30</td>\n",
       "      <td>24</td>\n",
       "      <td>0</td>\n",
       "      <td>24</td>\n",
       "      <td>2.0</td>\n",
       "      <td>4%</td>\n",
       "      <td>0%</td>\n",
       "      <td>8%</td>\n",
       "      <td>2%</td>\n",
       "      <td>90</td>\n",
       "    </tr>\n",
       "    <tr>\n",
       "      <th>161</th>\n",
       "      <td>Shaken Iced Beverages</td>\n",
       "      <td>Iced Brewed Coffee (With Milk &amp; Classic Syrup)</td>\n",
       "      <td>2% Milk</td>\n",
       "      <td>120</td>\n",
       "      <td>1.5</td>\n",
       "      <td>0.5</td>\n",
       "      <td>0.0</td>\n",
       "      <td>5</td>\n",
       "      <td>35</td>\n",
       "      <td>24</td>\n",
       "      <td>0</td>\n",
       "      <td>24</td>\n",
       "      <td>2.0</td>\n",
       "      <td>4%</td>\n",
       "      <td>0%</td>\n",
       "      <td>8%</td>\n",
       "      <td>0%</td>\n",
       "      <td>125</td>\n",
       "    </tr>\n",
       "  </tbody>\n",
       "</table>\n",
       "</div>"
      ],
      "text/plain": [
       "         Beverage_category                                        Beverage  \\\n",
       "154  Shaken Iced Beverages         Iced Brewed Coffee (With Classic Syrup)   \n",
       "155  Shaken Iced Beverages         Iced Brewed Coffee (With Classic Syrup)   \n",
       "156  Shaken Iced Beverages         Iced Brewed Coffee (With Classic Syrup)   \n",
       "157  Shaken Iced Beverages  Iced Brewed Coffee (With Milk & Classic Syrup)   \n",
       "158  Shaken Iced Beverages  Iced Brewed Coffee (With Milk & Classic Syrup)   \n",
       "159  Shaken Iced Beverages  Iced Brewed Coffee (With Milk & Classic Syrup)   \n",
       "160  Shaken Iced Beverages  Iced Brewed Coffee (With Milk & Classic Syrup)   \n",
       "161  Shaken Iced Beverages  Iced Brewed Coffee (With Milk & Classic Syrup)   \n",
       "\n",
       "          Beverage_prep  Calories  Total Fat (g)  Trans Fat (g)   \\\n",
       "154                Tall        60              0             0.0   \n",
       "155              Grande        90            0.1             0.0   \n",
       "156               Venti       130            0.1             0.0   \n",
       "157    Tall Nonfat Milk        80            0.1             0.0   \n",
       "158             2% Milk        90              1             0.5   \n",
       "159             Soymilk        80              1             0.1   \n",
       "160  Grande Nonfat Milk       110            0.1             0.0   \n",
       "161             2% Milk       120            1.5             0.5   \n",
       "\n",
       "     Saturated Fat (g)   Sodium (mg)   Total Carbohydrates (g)   \\\n",
       "154                0.0             0                          4   \n",
       "155                0.0             0                          5   \n",
       "156                0.0             0                          5   \n",
       "157                0.0             0                         25   \n",
       "158                0.0             5                         25   \n",
       "159                0.0             0                         20   \n",
       "160                0.0             0                         30   \n",
       "161                0.0             5                         35   \n",
       "\n",
       "     Cholesterol (mg)   Dietary Fibre (g)   Sugars (g)   Protein (g)   \\\n",
       "154                15                   0           15            0.2   \n",
       "155                21                   0           21            0.3   \n",
       "156                31                   0           31            0.4   \n",
       "157                18                   0           18            2.0   \n",
       "158                18                   0           18            2.0   \n",
       "159                17                   0           17            2.0   \n",
       "160                24                   0           24            2.0   \n",
       "161                24                   0           24            2.0   \n",
       "\n",
       "    Vitamin A (% DV)  Vitamin C (% DV)  Calcium (% DV)  Iron (% DV)   \\\n",
       "154                0%               0%               0%           0%   \n",
       "155                0%               0%               0%           0%   \n",
       "156                0%               0%               0%           0%   \n",
       "157                2%               0%               6%           0%   \n",
       "158                2%               0%               6%        0.00%   \n",
       "159                2%               0%               6%           0%   \n",
       "160                4%               0%               8%           2%   \n",
       "161                4%               0%               8%           0%   \n",
       "\n",
       "    Caffeine (mg)  \n",
       "154           120  \n",
       "155           165  \n",
       "156           235  \n",
       "157            90  \n",
       "158           NaN  \n",
       "159            90  \n",
       "160            90  \n",
       "161           125  "
      ]
     },
     "execution_count": 182,
     "metadata": {},
     "output_type": "execute_result"
    }
   ],
   "source": [
    "df.iloc[null[0]-4:null[0]+4]"
   ]
  },
  {
   "cell_type": "markdown",
   "id": "e5ae1852",
   "metadata": {},
   "source": [
    "Thankfully this is a probable entry error, and the missing value is obviously 90. Though we have uncovered a potential issue with 'Beverage_prep' labeling (to be solved later)."
   ]
  },
  {
   "cell_type": "code",
   "execution_count": 183,
   "id": "5d0e16c6",
   "metadata": {},
   "outputs": [
    {
     "data": {
      "text/plain": [
       "90"
      ]
     },
     "execution_count": 183,
     "metadata": {},
     "output_type": "execute_result"
    }
   ],
   "source": [
    "df['Caffeine (mg)'].fillna(value=90, inplace=True)\n",
    "df.iloc[158,-1]"
   ]
  },
  {
   "cell_type": "markdown",
   "id": "7fca1309",
   "metadata": {},
   "source": [
    "Now we can set to eliminating non-numeric values in otherwise numeric columns."
   ]
  },
  {
   "cell_type": "markdown",
   "id": "4d78ecad",
   "metadata": {},
   "source": [
    "First we can drop the vitamins/minerals columns, as well the fat subcategories."
   ]
  },
  {
   "cell_type": "code",
   "execution_count": 184,
   "id": "20d7b400",
   "metadata": {},
   "outputs": [],
   "source": [
    "df.drop(df.columns[[5,6,13,14,15,16]], axis=1, inplace=True)"
   ]
  },
  {
   "cell_type": "code",
   "execution_count": 185,
   "id": "aad24261",
   "metadata": {},
   "outputs": [
    {
     "name": "stdout",
     "output_type": "stream",
     "text": [
      "<class 'pandas.core.frame.DataFrame'>\n",
      "RangeIndex: 242 entries, 0 to 241\n",
      "Data columns (total 12 columns):\n",
      " #   Column                     Non-Null Count  Dtype  \n",
      "---  ------                     --------------  -----  \n",
      " 0   Beverage_category          242 non-null    object \n",
      " 1   Beverage                   242 non-null    object \n",
      " 2   Beverage_prep              242 non-null    object \n",
      " 3   Calories                   242 non-null    int64  \n",
      " 4    Total Fat (g)             242 non-null    object \n",
      " 5    Sodium (mg)               242 non-null    int64  \n",
      " 6    Total Carbohydrates (g)   242 non-null    int64  \n",
      " 7   Cholesterol (mg)           242 non-null    int64  \n",
      " 8    Dietary Fibre (g)         242 non-null    int64  \n",
      " 9    Sugars (g)                242 non-null    int64  \n",
      " 10   Protein (g)               242 non-null    float64\n",
      " 11  Caffeine (mg)              242 non-null    object \n",
      "dtypes: float64(1), int64(6), object(5)\n",
      "memory usage: 22.8+ KB\n"
     ]
    }
   ],
   "source": [
    "df.info()"
   ]
  },
  {
   "cell_type": "markdown",
   "id": "db6533e5",
   "metadata": {},
   "source": [
    "Now we are left with columns 4 and 11 to make numeric."
   ]
  },
  {
   "cell_type": "code",
   "execution_count": 186,
   "id": "0de0ac4f",
   "metadata": {},
   "outputs": [],
   "source": [
    "df2 = df.iloc[:,[4,11]].apply(pd.to_numeric, errors='coerce',result_type='broadcast')\n"
   ]
  },
  {
   "cell_type": "code",
   "execution_count": 187,
   "id": "b74a0669",
   "metadata": {},
   "outputs": [],
   "source": [
    "df.iloc[:,4] = df2.iloc[:,0]\n",
    "df.iloc[:,11] = df2.iloc[:,1]"
   ]
  },
  {
   "cell_type": "code",
   "execution_count": 188,
   "id": "66ded806",
   "metadata": {},
   "outputs": [
    {
     "data": {
      "text/plain": [
       "Beverage_category             0\n",
       "Beverage                      0\n",
       "Beverage_prep                 0\n",
       "Calories                      0\n",
       " Total Fat (g)                1\n",
       " Sodium (mg)                  0\n",
       " Total Carbohydrates (g)      0\n",
       "Cholesterol (mg)              0\n",
       " Dietary Fibre (g)            0\n",
       " Sugars (g)                   0\n",
       " Protein (g)                  0\n",
       "Caffeine (mg)                22\n",
       "dtype: int64"
      ]
     },
     "execution_count": 188,
     "metadata": {},
     "output_type": "execute_result"
    }
   ],
   "source": [
    "df.isna().sum()"
   ]
  },
  {
   "cell_type": "markdown",
   "id": "27d1513c",
   "metadata": {},
   "source": [
    "Now that the non-numeric values are NaN in our dataframe, we can drop those rows."
   ]
  },
  {
   "cell_type": "code",
   "execution_count": 189,
   "id": "c83e0803",
   "metadata": {},
   "outputs": [],
   "source": [
    "df = df.dropna(axis = 0)"
   ]
  },
  {
   "cell_type": "code",
   "execution_count": 190,
   "id": "06c5cf0d",
   "metadata": {},
   "outputs": [
    {
     "data": {
      "text/plain": [
       "Beverage_category            0\n",
       "Beverage                     0\n",
       "Beverage_prep                0\n",
       "Calories                     0\n",
       " Total Fat (g)               0\n",
       " Sodium (mg)                 0\n",
       " Total Carbohydrates (g)     0\n",
       "Cholesterol (mg)             0\n",
       " Dietary Fibre (g)           0\n",
       " Sugars (g)                  0\n",
       " Protein (g)                 0\n",
       "Caffeine (mg)                0\n",
       "dtype: int64"
      ]
     },
     "execution_count": 190,
     "metadata": {},
     "output_type": "execute_result"
    }
   ],
   "source": [
    "df.isna().sum()"
   ]
  },
  {
   "cell_type": "code",
   "execution_count": 191,
   "id": "6e145560",
   "metadata": {},
   "outputs": [],
   "source": [
    "df['Caffeine (mg)'] = pd.to_numeric(df['Caffeine (mg)'])\n",
    "df[' Total Fat (g)'] = pd.to_numeric(df[' Total Fat (g)'])"
   ]
  },
  {
   "cell_type": "code",
   "execution_count": 192,
   "id": "96c3ab41",
   "metadata": {
    "scrolled": true
   },
   "outputs": [
    {
     "name": "stdout",
     "output_type": "stream",
     "text": [
      "<class 'pandas.core.frame.DataFrame'>\n",
      "Int64Index: 219 entries, 0 to 241\n",
      "Data columns (total 12 columns):\n",
      " #   Column                     Non-Null Count  Dtype  \n",
      "---  ------                     --------------  -----  \n",
      " 0   Beverage_category          219 non-null    object \n",
      " 1   Beverage                   219 non-null    object \n",
      " 2   Beverage_prep              219 non-null    object \n",
      " 3   Calories                   219 non-null    int64  \n",
      " 4    Total Fat (g)             219 non-null    float64\n",
      " 5    Sodium (mg)               219 non-null    int64  \n",
      " 6    Total Carbohydrates (g)   219 non-null    int64  \n",
      " 7   Cholesterol (mg)           219 non-null    int64  \n",
      " 8    Dietary Fibre (g)         219 non-null    int64  \n",
      " 9    Sugars (g)                219 non-null    int64  \n",
      " 10   Protein (g)               219 non-null    float64\n",
      " 11  Caffeine (mg)              219 non-null    float64\n",
      "dtypes: float64(3), int64(6), object(3)\n",
      "memory usage: 22.2+ KB\n"
     ]
    }
   ],
   "source": [
    "df.info()"
   ]
  },
  {
   "cell_type": "markdown",
   "id": "55d61ac2",
   "metadata": {},
   "source": [
    "##### 2.2 Visualizing raw data<a id='2.2'></a>"
   ]
  },
  {
   "cell_type": "markdown",
   "id": "92a995b8",
   "metadata": {},
   "source": [
    "Now we can start to get an idea of how the data is distributed."
   ]
  },
  {
   "cell_type": "markdown",
   "id": "8b068afc",
   "metadata": {},
   "source": [
    "The variables that we are most interested in are caffine and sugar."
   ]
  },
  {
   "cell_type": "markdown",
   "id": "ac4df2cb",
   "metadata": {},
   "source": [
    "###### Sugar"
   ]
  },
  {
   "cell_type": "code",
   "execution_count": 193,
   "id": "718c443f",
   "metadata": {},
   "outputs": [
    {
     "data": {
      "text/plain": [
       "Text(0, 0.5, 'Frequency')"
      ]
     },
     "execution_count": 193,
     "metadata": {},
     "output_type": "execute_result"
    },
    {
     "data": {
      "image/png": "[encoded data removed]",
      "text/plain": [
       "<Figure size 432x288 with 1 Axes>"
      ]
     },
     "metadata": {
      "needs_background": "light"
     },
     "output_type": "display_data"
    }
   ],
   "source": [
    "plt.hist(df[' Sugars (g)'], bins=round(max(df[' Sugars (g)'])/2))\n",
    "plt.xlabel(df.columns[11])\n",
    "plt.ylabel(\"Frequency\")"
   ]
  },
  {
   "cell_type": "markdown",
   "id": "02ec7a3d",
   "metadata": {},
   "source": [
    "According to the FDA, the guideline for a typical 2,000 calories per day diet is no more than 50 g of added sugars [6]. Some of these Starbucks drink options easily exceed that.\n",
    "\n",
    "[6] https://www.fda.gov/food/new-nutrition-facts-label/added-sugars-new-nutrition-facts-label"
   ]
  },
  {
   "cell_type": "markdown",
   "id": "7e63181b",
   "metadata": {},
   "source": [
    "However, there seem to be many options at the very low end of the range, with many options containing near-zero sugar."
   ]
  },
  {
   "cell_type": "markdown",
   "id": "e09fbec0",
   "metadata": {},
   "source": [
    "###### Caffine"
   ]
  },
  {
   "cell_type": "code",
   "execution_count": 194,
   "id": "222b5bf6",
   "metadata": {},
   "outputs": [
    {
     "data": {
      "text/plain": [
       "Text(0, 0.5, 'Frequency')"
      ]
     },
     "execution_count": 194,
     "metadata": {},
     "output_type": "execute_result"
    },
    {
     "data": {
      "image/png": "[encoded data removed]",
      "text/plain": [
       "<Figure size 432x288 with 1 Axes>"
      ]
     },
     "metadata": {
      "needs_background": "light"
     },
     "output_type": "display_data"
    }
   ],
   "source": [
    "plt.hist(df['Caffeine (mg)'], bins=20)\n",
    "plt.xlabel(df.columns[11])\n",
    "plt.ylabel(\"Frequency\")"
   ]
  },
  {
   "cell_type": "markdown",
   "id": "11a3daf9",
   "metadata": {},
   "source": [
    "There are some very highly caffinated menu options available. But of interest is the obvious 3-peak histogram. What is the reason for a trimodal distribution? We can think back to our process for replacing the missing caffine value earlier for the answer."
   ]
  },
  {
   "cell_type": "code",
   "execution_count": 195,
   "id": "88aef2a6",
   "metadata": {},
   "outputs": [
    {
     "data": {
      "text/plain": [
       "Soymilk               61\n",
       "2% Milk               46\n",
       "Grande Nonfat Milk    24\n",
       "Tall Nonfat Milk      22\n",
       "Venti Nonfat Milk     21\n",
       "Whole Milk            16\n",
       "Short Nonfat Milk     11\n",
       "Tall                   5\n",
       "Grande                 4\n",
       "Venti                  4\n",
       "Short                  3\n",
       "Solo                   1\n",
       "Doppio                 1\n",
       "Name: Beverage_prep, dtype: int64"
      ]
     },
     "execution_count": 195,
     "metadata": {},
     "output_type": "execute_result"
    }
   ],
   "source": [
    "df['Beverage_prep'].value_counts()"
   ]
  },
  {
   "cell_type": "markdown",
   "id": "27628357",
   "metadata": {},
   "source": [
    "The culprit of the trimodal plot is the fact that there are different milk options for each Beverage: Nonfat Milk, 2% Milk, and Soymilk. There are also size options for many beverages: Short, Tall, Venti, and Grande. Logically, the larger the drink, the more sugar it will have."
   ]
  },
  {
   "cell_type": "markdown",
   "id": "6ffd5da9",
   "metadata": {},
   "source": [
    "##### 2.3 Selecting from label options<a id='2.3'></a>"
   ]
  },
  {
   "cell_type": "markdown",
   "id": "819657e6",
   "metadata": {},
   "source": [
    "In order to make a general compariason, we will need to select one milk and one drink size for each Beverage. The way in which the data was compiled makes using nonfat milk easiest."
   ]
  },
  {
   "cell_type": "markdown",
   "id": "cfeb8b58",
   "metadata": {},
   "source": [
    "The Grande is a 16 oz drink equivalent to a medium, and is considered the standard, so we will proceed using the 24 Grande-sized nonfat milk options."
   ]
  },
  {
   "cell_type": "code",
   "execution_count": 196,
   "id": "c07d6b17",
   "metadata": {},
   "outputs": [
    {
     "data": {
      "text/html": [
       "<div>\n",
       "<style scoped>\n",
       "    .dataframe tbody tr th:only-of-type {\n",
       "        vertical-align: middle;\n",
       "    }\n",
       "\n",
       "    .dataframe tbody tr th {\n",
       "        vertical-align: top;\n",
       "    }\n",
       "\n",
       "    .dataframe thead th {\n",
       "        text-align: right;\n",
       "    }\n",
       "</style>\n",
       "<table border=\"1\" class=\"dataframe\">\n",
       "  <thead>\n",
       "    <tr style=\"text-align: right;\">\n",
       "      <th></th>\n",
       "      <th>Calories</th>\n",
       "      <th>Total Fat (g)</th>\n",
       "      <th>Sodium (mg)</th>\n",
       "      <th>Total Carbohydrates (g)</th>\n",
       "      <th>Cholesterol (mg)</th>\n",
       "      <th>Dietary Fibre (g)</th>\n",
       "      <th>Sugars (g)</th>\n",
       "      <th>Protein (g)</th>\n",
       "      <th>Caffeine (mg)</th>\n",
       "    </tr>\n",
       "  </thead>\n",
       "  <tbody>\n",
       "    <tr>\n",
       "      <th>count</th>\n",
       "      <td>24.000000</td>\n",
       "      <td>24.000000</td>\n",
       "      <td>24.000000</td>\n",
       "      <td>24.000000</td>\n",
       "      <td>24.000000</td>\n",
       "      <td>24.00000</td>\n",
       "      <td>24.000000</td>\n",
       "      <td>24.000000</td>\n",
       "      <td>24.000000</td>\n",
       "    </tr>\n",
       "    <tr>\n",
       "      <th>mean</th>\n",
       "      <td>209.166667</td>\n",
       "      <td>1.116667</td>\n",
       "      <td>3.541667</td>\n",
       "      <td>165.416667</td>\n",
       "      <td>42.708333</td>\n",
       "      <td>1.00000</td>\n",
       "      <td>39.125000</td>\n",
       "      <td>8.416667</td>\n",
       "      <td>89.791667</td>\n",
       "    </tr>\n",
       "    <tr>\n",
       "      <th>std</th>\n",
       "      <td>70.889790</td>\n",
       "      <td>1.564738</td>\n",
       "      <td>3.451265</td>\n",
       "      <td>58.121250</td>\n",
       "      <td>15.702338</td>\n",
       "      <td>1.86501</td>\n",
       "      <td>14.748065</td>\n",
       "      <td>4.799607</td>\n",
       "      <td>56.250201</td>\n",
       "    </tr>\n",
       "    <tr>\n",
       "      <th>min</th>\n",
       "      <td>80.000000</td>\n",
       "      <td>0.100000</td>\n",
       "      <td>0.000000</td>\n",
       "      <td>30.000000</td>\n",
       "      <td>12.000000</td>\n",
       "      <td>0.00000</td>\n",
       "      <td>10.000000</td>\n",
       "      <td>2.000000</td>\n",
       "      <td>0.000000</td>\n",
       "    </tr>\n",
       "    <tr>\n",
       "      <th>25%</th>\n",
       "      <td>150.000000</td>\n",
       "      <td>0.175000</td>\n",
       "      <td>0.000000</td>\n",
       "      <td>125.000000</td>\n",
       "      <td>32.500000</td>\n",
       "      <td>0.00000</td>\n",
       "      <td>30.750000</td>\n",
       "      <td>4.000000</td>\n",
       "      <td>58.750000</td>\n",
       "    </tr>\n",
       "    <tr>\n",
       "      <th>50%</th>\n",
       "      <td>220.000000</td>\n",
       "      <td>0.300000</td>\n",
       "      <td>5.000000</td>\n",
       "      <td>160.000000</td>\n",
       "      <td>44.000000</td>\n",
       "      <td>0.00000</td>\n",
       "      <td>38.000000</td>\n",
       "      <td>7.500000</td>\n",
       "      <td>95.000000</td>\n",
       "    </tr>\n",
       "    <tr>\n",
       "      <th>75%</th>\n",
       "      <td>260.000000</td>\n",
       "      <td>1.000000</td>\n",
       "      <td>5.000000</td>\n",
       "      <td>212.500000</td>\n",
       "      <td>56.250000</td>\n",
       "      <td>1.25000</td>\n",
       "      <td>52.750000</td>\n",
       "      <td>13.000000</td>\n",
       "      <td>150.000000</td>\n",
       "    </tr>\n",
       "    <tr>\n",
       "      <th>max</th>\n",
       "      <td>350.000000</td>\n",
       "      <td>6.000000</td>\n",
       "      <td>10.000000</td>\n",
       "      <td>250.000000</td>\n",
       "      <td>67.000000</td>\n",
       "      <td>7.00000</td>\n",
       "      <td>62.000000</td>\n",
       "      <td>16.000000</td>\n",
       "      <td>175.000000</td>\n",
       "    </tr>\n",
       "  </tbody>\n",
       "</table>\n",
       "</div>"
      ],
      "text/plain": [
       "         Calories   Total Fat (g)   Sodium (mg)   Total Carbohydrates (g)   \\\n",
       "count   24.000000       24.000000     24.000000                  24.000000   \n",
       "mean   209.166667        1.116667      3.541667                 165.416667   \n",
       "std     70.889790        1.564738      3.451265                  58.121250   \n",
       "min     80.000000        0.100000      0.000000                  30.000000   \n",
       "25%    150.000000        0.175000      0.000000                 125.000000   \n",
       "50%    220.000000        0.300000      5.000000                 160.000000   \n",
       "75%    260.000000        1.000000      5.000000                 212.500000   \n",
       "max    350.000000        6.000000     10.000000                 250.000000   \n",
       "\n",
       "       Cholesterol (mg)   Dietary Fibre (g)   Sugars (g)   Protein (g)   \\\n",
       "count         24.000000            24.00000    24.000000      24.000000   \n",
       "mean          42.708333             1.00000    39.125000       8.416667   \n",
       "std           15.702338             1.86501    14.748065       4.799607   \n",
       "min           12.000000             0.00000    10.000000       2.000000   \n",
       "25%           32.500000             0.00000    30.750000       4.000000   \n",
       "50%           44.000000             0.00000    38.000000       7.500000   \n",
       "75%           56.250000             1.25000    52.750000      13.000000   \n",
       "max           67.000000             7.00000    62.000000      16.000000   \n",
       "\n",
       "       Caffeine (mg)  \n",
       "count      24.000000  \n",
       "mean       89.791667  \n",
       "std        56.250201  \n",
       "min         0.000000  \n",
       "25%        58.750000  \n",
       "50%        95.000000  \n",
       "75%       150.000000  \n",
       "max       175.000000  "
      ]
     },
     "execution_count": 196,
     "metadata": {},
     "output_type": "execute_result"
    }
   ],
   "source": [
    "gnf = df[df['Beverage_prep'] == \"Grande Nonfat Milk\"]\n",
    "gnf.describe()"
   ]
  },
  {
   "cell_type": "markdown",
   "id": "d41ec32a",
   "metadata": {},
   "source": [
    "##### 2.4 Correlations<a id='2.4'></a>"
   ]
  },
  {
   "cell_type": "code",
   "execution_count": 197,
   "id": "c895c9ec",
   "metadata": {},
   "outputs": [
    {
     "name": "stderr",
     "output_type": "stream",
     "text": [
      "<ipython-input-197-c652acb02cc4>:2: FutureWarning: The default value of numeric_only in DataFrame.corr is deprecated. In a future version, it will default to False. Select only valid columns or specify the value of numeric_only to silence this warning.\n",
      "  sns.heatmap(gnf.corr(),annot=True,cmap=sns.cubehelix_palette(as_cmap=True));\n"
     ]
    },
    {
     "data": {
      "image/png": "[encoded data removed]",
      "text/plain": [
       "<Figure size 864x720 with 2 Axes>"
      ]
     },
     "metadata": {
      "needs_background": "light"
     },
     "output_type": "display_data"
    }
   ],
   "source": [
    "plt.subplots(figsize=(12,10))\n",
    "sns.heatmap(gnf.corr(),annot=True,cmap=sns.cubehelix_palette(as_cmap=True));"
   ]
  },
  {
   "cell_type": "markdown",
   "id": "dfbc216c",
   "metadata": {},
   "source": [
    "We see highly positive correlation between Calories, Sugar, and Cholesterol.\n",
    "This is intuitive, as sugars are calorie-dense macronutrients.\n",
    "\n",
    "Sugar and Total Carbohydrates have a correlation coefficient of 0.59, which is actually lower than expected, given that sugars are carbohydrates.\n",
    "\n",
    "Interestingly, Protein and Sodium are have a correlation coefficient of 0.80."
   ]
  },
  {
   "cell_type": "markdown",
   "id": "34044714",
   "metadata": {},
   "source": [
    "Not to state the obvious, but the most important realization here is that **you don't need sugar to have caffine.**\n",
    "\n",
    "Sugar does not correlate highly with caffine. <br>\n",
    "In fact, with a correlation coefficient of -0.30, the *more sugar in your Starbucks drink, the less caffine you can expect!*"
   ]
  },
  {
   "cell_type": "markdown",
   "id": "ac94f4f3",
   "metadata": {},
   "source": [
    "##### 2.5 Plotting the focus variables<a id='2.5'></a>"
   ]
  },
  {
   "cell_type": "markdown",
   "id": "638673b1",
   "metadata": {},
   "source": [
    "###### Sugar vs Caffine"
   ]
  },
  {
   "cell_type": "code",
   "execution_count": 198,
   "id": "31e6878c",
   "metadata": {},
   "outputs": [
    {
     "data": {
      "text/plain": [
       "<AxesSubplot:xlabel='Caffeine (mg)', ylabel=' Sugars (g)'>"
      ]
     },
     "execution_count": 198,
     "metadata": {},
     "output_type": "execute_result"
    },
    {
     "data": {
      "image/png": "[encoded data removed]",
      "text/plain": [
       "<Figure size 432x288 with 1 Axes>"
      ]
     },
     "metadata": {
      "needs_background": "light"
     },
     "output_type": "display_data"
    }
   ],
   "source": [
    "sns.scatterplot(data=gnf,x='Caffeine (mg)',y=' Sugars (g)',markers='Beverage')"
   ]
  },
  {
   "cell_type": "code",
   "execution_count": 223,
   "id": "246b10b8",
   "metadata": {},
   "outputs": [
    {
     "data": {
      "image/png": "[encoded data removed]",
      "text/plain": [
       "<Figure size 1152x576 with 2 Axes>"
      ]
     },
     "metadata": {},
     "output_type": "display_data"
    }
   ],
   "source": [
    "fig = plt.figure(figsize =(16, 8))\n",
    "ax = fig.add_subplot() # Create matplotlib axes\n",
    "ax2 = ax.twinx() # Create another axes that shares the same x-axis as ax.\n",
    "\n",
    "width = 0.3\n",
    "\n",
    "gnf['Caffeine (mg)'].plot(kind='bar', color='#44aa88', ax=ax, width=width, position=1,label=\"Caffine\")\n",
    "gnf[' Sugars (g)'].plot(kind='bar', color='blue', ax=ax2, width=width, position=0,label=\"Sugar\")\n",
    "\n",
    "ax.set_ylabel('Caffine')\n",
    "ax.yaxis.label.set_color('#44aa88')\n",
    "ax.tick_params(axis='y', labelcolor='#44aa88')\n",
    "ax2.set_ylabel('Sugar')\n",
    "ax2.yaxis.label.set_color('blue')\n",
    "ax2.tick_params(axis='y', labelcolor='blue')\n",
    "ax.set_xticklabels(gnf['Beverage'])\n",
    "ax.margins(x=0.5)\n",
    "plt.title(\"Sugar and Caffine content among Grande-sized Starbucks Drinks\")\n",
    "fig.legend()\n",
    "plt.show()"
   ]
  },
  {
   "cell_type": "markdown",
   "id": "a53d48e4",
   "metadata": {},
   "source": [
    "Looking at this data, we can clearly see that Starbucks customers can choose a drinks with any combination of caffine and sugar. Some drinks are high in both, some are lower in both, some are high sugar - low caffine, and some are low sugar - high caffine. It is the latter category which we would point obesity-averse \"coffee people\" toward.\n",
    "\n",
    "For example, there are seven drinks in this cohort which contain 150 or more mg of caffine. Among those, the sugar quantity ranges from ~10 to ~60 grams.\n",
    "\n",
    "At ~150 mg of caffine, the \"White Chocolate Mocha\" sounds delicious, but its 60 grams of sugar should stifle your excitement.<br>\n",
    "On the other hand, **the classic \"Cappuccino\" has just as much caffine, with one sixth of the sugar.**"
   ]
  },
  {
   "cell_type": "markdown",
   "id": "84abf627",
   "metadata": {},
   "source": [
    "A major problem is that most of the choices offered have way too much sugar. In fact, *some have lots of sugar and no caffine whatsoever.*"
   ]
  },
  {
   "cell_type": "code",
   "execution_count": 200,
   "id": "684d605a",
   "metadata": {},
   "outputs": [],
   "source": [
    "sugary = gnf[gnf[' Sugars (g)']>25][' Sugars (g)'].count()\n",
    "sugaryP = 100*sugary/len(gnf)"
   ]
  },
  {
   "cell_type": "code",
   "execution_count": 201,
   "id": "7c1eb623",
   "metadata": {},
   "outputs": [
    {
     "name": "stdout",
     "output_type": "stream",
     "text": [
      "There are 20 drinks in this subset of 24 medium-sized drinks \n",
      "which have a sugar amount greater than half of the recommended daily intake.\n",
      "This accounts for 83.33 percent of the drinks on this subset.\n"
     ]
    }
   ],
   "source": [
    "print(\"There are {} drinks in this subset of 24 medium-sized drinks \\nwhich have a sugar amount greater than half of the recommended daily intake.\\nThis accounts for {} percent of the drinks on this subset.\".format(sugary,round(sugaryP,2)))"
   ]
  },
  {
   "cell_type": "markdown",
   "id": "0711910b",
   "metadata": {},
   "source": [
    "##### 3.0 Recommendations<a id='3.0'></a>"
   ]
  },
  {
   "cell_type": "markdown",
   "id": "cb36926a",
   "metadata": {},
   "source": [
    "###### Make new columns in the original dataframe:"
   ]
  },
  {
   "cell_type": "markdown",
   "id": "08b5b146",
   "metadata": {},
   "source": [
    "* Whether sugar amount is over half of the recommended daily intake (binary)\n",
    "* Number of ounces in each drink\n",
    "* Whether caffine amount is over 100 mg"
   ]
  },
  {
   "cell_type": "code",
   "execution_count": 202,
   "id": "281524b0",
   "metadata": {},
   "outputs": [],
   "source": [
    "df[\"over_50p_sugar\"] = np.where(df[' Sugars (g)']>25,1,0)\n",
    "df[\"oz\"] = np.where(df[\"Beverage_prep\"].str.contains(\"Short\"),8,\n",
    "                    np.where(df[\"Beverage_prep\"].str.contains(\"Tall\"),12,\n",
    "                    np.where(df[\"Beverage_prep\"].str.contains(\"Grande\"),16,\n",
    "                    np.where(df[\"Beverage_prep\"].str.contains(\"Venti\"),20,0\n",
    "                   ))))\n",
    "df[\"over100mg\"] = np.where(df['Caffeine (mg)']>100,1,0)"
   ]
  },
  {
   "cell_type": "markdown",
   "id": "4ab50176",
   "metadata": {},
   "source": [
    "Make a new dataframe using only drinks that have ounces listed."
   ]
  },
  {
   "cell_type": "code",
   "execution_count": 212,
   "id": "d3a46c0f",
   "metadata": {},
   "outputs": [],
   "source": [
    "df3 = df[df[\"oz\"]>0]"
   ]
  },
  {
   "cell_type": "markdown",
   "id": "457f75f2",
   "metadata": {},
   "source": [
    "Count the number of drinks over/under 100 mg of caffine."
   ]
  },
  {
   "cell_type": "code",
   "execution_count": 204,
   "id": "da34fe4f",
   "metadata": {},
   "outputs": [
    {
     "data": {
      "text/plain": [
       "0    55\n",
       "1    39\n",
       "Name: over100mg, dtype: int64"
      ]
     },
     "execution_count": 204,
     "metadata": {},
     "output_type": "execute_result"
    }
   ],
   "source": [
    "df3.over100mg.value_counts()"
   ]
  },
  {
   "cell_type": "markdown",
   "id": "19eb1632",
   "metadata": {},
   "source": [
    "Make a new column for \"good\" drinks for health-conscious coffe addicts, listing those options containing at least 100 mg of caffine and less than 25 g of sugar (half of the 50 g limit suggested by the FDA)"
   ]
  },
  {
   "cell_type": "code",
   "execution_count": 208,
   "id": "e46cd2f8",
   "metadata": {},
   "outputs": [
    {
     "name": "stderr",
     "output_type": "stream",
     "text": [
      "<ipython-input-208-faccc119a754>:1: SettingWithCopyWarning: \n",
      "A value is trying to be set on a copy of a slice from a DataFrame.\n",
      "Try using .loc[row_indexer,col_indexer] = value instead\n",
      "\n",
      "See the caveats in the documentation: https://pandas.pydata.org/pandas-docs/stable/user_guide/indexing.html#returning-a-view-versus-a-copy\n",
      "  df3['hcls'] = np.where((df3['over100mg']==1) & (df3['over_50p_sugar']==0),1,0)\n"
     ]
    }
   ],
   "source": [
    "df3['hcls'] = np.where((df3['over100mg']==1) & (df3['over_50p_sugar']==0),1,0)"
   ]
  },
  {
   "cell_type": "code",
   "execution_count": 210,
   "id": "cb83b522",
   "metadata": {},
   "outputs": [],
   "source": [
    "rec = df3[df3['hcls']==1]"
   ]
  },
  {
   "cell_type": "code",
   "execution_count": 211,
   "id": "178ec257",
   "metadata": {},
   "outputs": [
    {
     "data": {
      "text/html": [
       "<div>\n",
       "<style scoped>\n",
       "    .dataframe tbody tr th:only-of-type {\n",
       "        vertical-align: middle;\n",
       "    }\n",
       "\n",
       "    .dataframe tbody tr th {\n",
       "        vertical-align: top;\n",
       "    }\n",
       "\n",
       "    .dataframe thead th {\n",
       "        text-align: right;\n",
       "    }\n",
       "</style>\n",
       "<table border=\"1\" class=\"dataframe\">\n",
       "  <thead>\n",
       "    <tr style=\"text-align: right;\">\n",
       "      <th></th>\n",
       "      <th>Beverage_category</th>\n",
       "      <th>Beverage</th>\n",
       "      <th>Beverage_prep</th>\n",
       "      <th>Calories</th>\n",
       "      <th>Total Fat (g)</th>\n",
       "      <th>Sodium (mg)</th>\n",
       "      <th>Total Carbohydrates (g)</th>\n",
       "      <th>Cholesterol (mg)</th>\n",
       "      <th>Dietary Fibre (g)</th>\n",
       "      <th>Sugars (g)</th>\n",
       "      <th>Protein (g)</th>\n",
       "      <th>Caffeine (mg)</th>\n",
       "      <th>over_50p_sugar</th>\n",
       "      <th>oz</th>\n",
       "      <th>over100mg</th>\n",
       "      <th>hcls</th>\n",
       "    </tr>\n",
       "  </thead>\n",
       "  <tbody>\n",
       "    <tr>\n",
       "      <th>0</th>\n",
       "      <td>Coffee</td>\n",
       "      <td>Brewed Coffee</td>\n",
       "      <td>Short</td>\n",
       "      <td>3</td>\n",
       "      <td>0.1</td>\n",
       "      <td>0</td>\n",
       "      <td>5</td>\n",
       "      <td>0</td>\n",
       "      <td>0</td>\n",
       "      <td>0</td>\n",
       "      <td>0.3</td>\n",
       "      <td>175.0</td>\n",
       "      <td>0</td>\n",
       "      <td>8</td>\n",
       "      <td>1</td>\n",
       "      <td>1</td>\n",
       "    </tr>\n",
       "    <tr>\n",
       "      <th>1</th>\n",
       "      <td>Coffee</td>\n",
       "      <td>Brewed Coffee</td>\n",
       "      <td>Tall</td>\n",
       "      <td>4</td>\n",
       "      <td>0.1</td>\n",
       "      <td>0</td>\n",
       "      <td>10</td>\n",
       "      <td>0</td>\n",
       "      <td>0</td>\n",
       "      <td>0</td>\n",
       "      <td>0.5</td>\n",
       "      <td>260.0</td>\n",
       "      <td>0</td>\n",
       "      <td>12</td>\n",
       "      <td>1</td>\n",
       "      <td>1</td>\n",
       "    </tr>\n",
       "    <tr>\n",
       "      <th>2</th>\n",
       "      <td>Coffee</td>\n",
       "      <td>Brewed Coffee</td>\n",
       "      <td>Grande</td>\n",
       "      <td>5</td>\n",
       "      <td>0.1</td>\n",
       "      <td>0</td>\n",
       "      <td>10</td>\n",
       "      <td>0</td>\n",
       "      <td>0</td>\n",
       "      <td>0</td>\n",
       "      <td>1.0</td>\n",
       "      <td>330.0</td>\n",
       "      <td>0</td>\n",
       "      <td>16</td>\n",
       "      <td>1</td>\n",
       "      <td>1</td>\n",
       "    </tr>\n",
       "    <tr>\n",
       "      <th>3</th>\n",
       "      <td>Coffee</td>\n",
       "      <td>Brewed Coffee</td>\n",
       "      <td>Venti</td>\n",
       "      <td>5</td>\n",
       "      <td>0.1</td>\n",
       "      <td>0</td>\n",
       "      <td>10</td>\n",
       "      <td>0</td>\n",
       "      <td>0</td>\n",
       "      <td>0</td>\n",
       "      <td>1.0</td>\n",
       "      <td>410.0</td>\n",
       "      <td>0</td>\n",
       "      <td>20</td>\n",
       "      <td>1</td>\n",
       "      <td>1</td>\n",
       "    </tr>\n",
       "    <tr>\n",
       "      <th>10</th>\n",
       "      <td>Classic Espresso Drinks</td>\n",
       "      <td>Caffè Latte</td>\n",
       "      <td>Grande Nonfat Milk</td>\n",
       "      <td>130</td>\n",
       "      <td>0.3</td>\n",
       "      <td>5</td>\n",
       "      <td>150</td>\n",
       "      <td>19</td>\n",
       "      <td>0</td>\n",
       "      <td>18</td>\n",
       "      <td>13.0</td>\n",
       "      <td>150.0</td>\n",
       "      <td>0</td>\n",
       "      <td>16</td>\n",
       "      <td>1</td>\n",
       "      <td>1</td>\n",
       "    </tr>\n",
       "    <tr>\n",
       "      <th>13</th>\n",
       "      <td>Classic Espresso Drinks</td>\n",
       "      <td>Caffè Latte</td>\n",
       "      <td>Venti Nonfat Milk</td>\n",
       "      <td>170</td>\n",
       "      <td>0.4</td>\n",
       "      <td>10</td>\n",
       "      <td>190</td>\n",
       "      <td>25</td>\n",
       "      <td>0</td>\n",
       "      <td>23</td>\n",
       "      <td>16.0</td>\n",
       "      <td>150.0</td>\n",
       "      <td>0</td>\n",
       "      <td>20</td>\n",
       "      <td>1</td>\n",
       "      <td>1</td>\n",
       "    </tr>\n",
       "    <tr>\n",
       "      <th>41</th>\n",
       "      <td>Classic Espresso Drinks</td>\n",
       "      <td>Caffè Americano</td>\n",
       "      <td>Tall</td>\n",
       "      <td>10</td>\n",
       "      <td>0.0</td>\n",
       "      <td>0</td>\n",
       "      <td>10</td>\n",
       "      <td>2</td>\n",
       "      <td>0</td>\n",
       "      <td>0</td>\n",
       "      <td>1.0</td>\n",
       "      <td>150.0</td>\n",
       "      <td>0</td>\n",
       "      <td>12</td>\n",
       "      <td>1</td>\n",
       "      <td>1</td>\n",
       "    </tr>\n",
       "    <tr>\n",
       "      <th>42</th>\n",
       "      <td>Classic Espresso Drinks</td>\n",
       "      <td>Caffè Americano</td>\n",
       "      <td>Grande</td>\n",
       "      <td>15</td>\n",
       "      <td>0.0</td>\n",
       "      <td>0</td>\n",
       "      <td>15</td>\n",
       "      <td>3</td>\n",
       "      <td>0</td>\n",
       "      <td>0</td>\n",
       "      <td>1.0</td>\n",
       "      <td>225.0</td>\n",
       "      <td>0</td>\n",
       "      <td>16</td>\n",
       "      <td>1</td>\n",
       "      <td>1</td>\n",
       "    </tr>\n",
       "    <tr>\n",
       "      <th>43</th>\n",
       "      <td>Classic Espresso Drinks</td>\n",
       "      <td>Caffè Americano</td>\n",
       "      <td>Venti</td>\n",
       "      <td>25</td>\n",
       "      <td>0.0</td>\n",
       "      <td>0</td>\n",
       "      <td>15</td>\n",
       "      <td>4</td>\n",
       "      <td>0</td>\n",
       "      <td>0</td>\n",
       "      <td>1.0</td>\n",
       "      <td>300.0</td>\n",
       "      <td>0</td>\n",
       "      <td>20</td>\n",
       "      <td>1</td>\n",
       "      <td>1</td>\n",
       "    </tr>\n",
       "    <tr>\n",
       "      <th>50</th>\n",
       "      <td>Classic Espresso Drinks</td>\n",
       "      <td>Cappuccino</td>\n",
       "      <td>Grande Nonfat Milk</td>\n",
       "      <td>80</td>\n",
       "      <td>0.2</td>\n",
       "      <td>5</td>\n",
       "      <td>90</td>\n",
       "      <td>12</td>\n",
       "      <td>0</td>\n",
       "      <td>10</td>\n",
       "      <td>8.0</td>\n",
       "      <td>150.0</td>\n",
       "      <td>0</td>\n",
       "      <td>16</td>\n",
       "      <td>1</td>\n",
       "      <td>1</td>\n",
       "    </tr>\n",
       "    <tr>\n",
       "      <th>53</th>\n",
       "      <td>Classic Espresso Drinks</td>\n",
       "      <td>Cappuccino</td>\n",
       "      <td>Venti Nonfat Milk</td>\n",
       "      <td>110</td>\n",
       "      <td>0.2</td>\n",
       "      <td>5</td>\n",
       "      <td>120</td>\n",
       "      <td>16</td>\n",
       "      <td>0</td>\n",
       "      <td>14</td>\n",
       "      <td>10.0</td>\n",
       "      <td>150.0</td>\n",
       "      <td>0</td>\n",
       "      <td>20</td>\n",
       "      <td>1</td>\n",
       "      <td>1</td>\n",
       "    </tr>\n",
       "    <tr>\n",
       "      <th>60</th>\n",
       "      <td>Classic Espresso Drinks</td>\n",
       "      <td>Skinny Latte (Any Flavour)</td>\n",
       "      <td>Grande Nonfat Milk</td>\n",
       "      <td>120</td>\n",
       "      <td>0.3</td>\n",
       "      <td>5</td>\n",
       "      <td>160</td>\n",
       "      <td>18</td>\n",
       "      <td>0</td>\n",
       "      <td>16</td>\n",
       "      <td>12.0</td>\n",
       "      <td>150.0</td>\n",
       "      <td>0</td>\n",
       "      <td>16</td>\n",
       "      <td>1</td>\n",
       "      <td>1</td>\n",
       "    </tr>\n",
       "    <tr>\n",
       "      <th>61</th>\n",
       "      <td>Classic Espresso Drinks</td>\n",
       "      <td>Skinny Latte (Any Flavour)</td>\n",
       "      <td>Venti Nonfat Milk</td>\n",
       "      <td>160</td>\n",
       "      <td>0.3</td>\n",
       "      <td>10</td>\n",
       "      <td>200</td>\n",
       "      <td>24</td>\n",
       "      <td>0</td>\n",
       "      <td>21</td>\n",
       "      <td>15.0</td>\n",
       "      <td>150.0</td>\n",
       "      <td>0</td>\n",
       "      <td>20</td>\n",
       "      <td>1</td>\n",
       "      <td>1</td>\n",
       "    </tr>\n",
       "    <tr>\n",
       "      <th>154</th>\n",
       "      <td>Shaken Iced Beverages</td>\n",
       "      <td>Iced Brewed Coffee (With Classic Syrup)</td>\n",
       "      <td>Tall</td>\n",
       "      <td>60</td>\n",
       "      <td>0.0</td>\n",
       "      <td>0</td>\n",
       "      <td>4</td>\n",
       "      <td>15</td>\n",
       "      <td>0</td>\n",
       "      <td>15</td>\n",
       "      <td>0.2</td>\n",
       "      <td>120.0</td>\n",
       "      <td>0</td>\n",
       "      <td>12</td>\n",
       "      <td>1</td>\n",
       "      <td>1</td>\n",
       "    </tr>\n",
       "    <tr>\n",
       "      <th>155</th>\n",
       "      <td>Shaken Iced Beverages</td>\n",
       "      <td>Iced Brewed Coffee (With Classic Syrup)</td>\n",
       "      <td>Grande</td>\n",
       "      <td>90</td>\n",
       "      <td>0.1</td>\n",
       "      <td>0</td>\n",
       "      <td>5</td>\n",
       "      <td>21</td>\n",
       "      <td>0</td>\n",
       "      <td>21</td>\n",
       "      <td>0.3</td>\n",
       "      <td>165.0</td>\n",
       "      <td>0</td>\n",
       "      <td>16</td>\n",
       "      <td>1</td>\n",
       "      <td>1</td>\n",
       "    </tr>\n",
       "    <tr>\n",
       "      <th>166</th>\n",
       "      <td>Shaken Iced Beverages</td>\n",
       "      <td>Shaken Iced Tazo® Tea (With Classic Syrup)</td>\n",
       "      <td>Tall</td>\n",
       "      <td>60</td>\n",
       "      <td>0.0</td>\n",
       "      <td>0</td>\n",
       "      <td>0</td>\n",
       "      <td>15</td>\n",
       "      <td>0</td>\n",
       "      <td>15</td>\n",
       "      <td>0.0</td>\n",
       "      <td>170.0</td>\n",
       "      <td>0</td>\n",
       "      <td>12</td>\n",
       "      <td>1</td>\n",
       "      <td>1</td>\n",
       "    </tr>\n",
       "  </tbody>\n",
       "</table>\n",
       "</div>"
      ],
      "text/plain": [
       "           Beverage_category                                    Beverage  \\\n",
       "0                     Coffee                               Brewed Coffee   \n",
       "1                     Coffee                               Brewed Coffee   \n",
       "2                     Coffee                               Brewed Coffee   \n",
       "3                     Coffee                               Brewed Coffee   \n",
       "10   Classic Espresso Drinks                                 Caffè Latte   \n",
       "13   Classic Espresso Drinks                                 Caffè Latte   \n",
       "41   Classic Espresso Drinks                             Caffè Americano   \n",
       "42   Classic Espresso Drinks                             Caffè Americano   \n",
       "43   Classic Espresso Drinks                             Caffè Americano   \n",
       "50   Classic Espresso Drinks                                  Cappuccino   \n",
       "53   Classic Espresso Drinks                                  Cappuccino   \n",
       "60   Classic Espresso Drinks                  Skinny Latte (Any Flavour)   \n",
       "61   Classic Espresso Drinks                  Skinny Latte (Any Flavour)   \n",
       "154    Shaken Iced Beverages     Iced Brewed Coffee (With Classic Syrup)   \n",
       "155    Shaken Iced Beverages     Iced Brewed Coffee (With Classic Syrup)   \n",
       "166    Shaken Iced Beverages  Shaken Iced Tazo® Tea (With Classic Syrup)   \n",
       "\n",
       "          Beverage_prep  Calories   Total Fat (g)   Sodium (mg)  \\\n",
       "0                 Short         3             0.1             0   \n",
       "1                  Tall         4             0.1             0   \n",
       "2                Grande         5             0.1             0   \n",
       "3                 Venti         5             0.1             0   \n",
       "10   Grande Nonfat Milk       130             0.3             5   \n",
       "13    Venti Nonfat Milk       170             0.4            10   \n",
       "41                 Tall        10             0.0             0   \n",
       "42               Grande        15             0.0             0   \n",
       "43                Venti        25             0.0             0   \n",
       "50   Grande Nonfat Milk        80             0.2             5   \n",
       "53    Venti Nonfat Milk       110             0.2             5   \n",
       "60   Grande Nonfat Milk       120             0.3             5   \n",
       "61    Venti Nonfat Milk       160             0.3            10   \n",
       "154                Tall        60             0.0             0   \n",
       "155              Grande        90             0.1             0   \n",
       "166                Tall        60             0.0             0   \n",
       "\n",
       "      Total Carbohydrates (g)   Cholesterol (mg)   Dietary Fibre (g)  \\\n",
       "0                            5                 0                   0   \n",
       "1                           10                 0                   0   \n",
       "2                           10                 0                   0   \n",
       "3                           10                 0                   0   \n",
       "10                         150                19                   0   \n",
       "13                         190                25                   0   \n",
       "41                          10                 2                   0   \n",
       "42                          15                 3                   0   \n",
       "43                          15                 4                   0   \n",
       "50                          90                12                   0   \n",
       "53                         120                16                   0   \n",
       "60                         160                18                   0   \n",
       "61                         200                24                   0   \n",
       "154                          4                15                   0   \n",
       "155                          5                21                   0   \n",
       "166                          0                15                   0   \n",
       "\n",
       "      Sugars (g)   Protein (g)   Caffeine (mg)  over_50p_sugar  oz  over100mg  \\\n",
       "0              0            0.3          175.0               0   8          1   \n",
       "1              0            0.5          260.0               0  12          1   \n",
       "2              0            1.0          330.0               0  16          1   \n",
       "3              0            1.0          410.0               0  20          1   \n",
       "10            18           13.0          150.0               0  16          1   \n",
       "13            23           16.0          150.0               0  20          1   \n",
       "41             0            1.0          150.0               0  12          1   \n",
       "42             0            1.0          225.0               0  16          1   \n",
       "43             0            1.0          300.0               0  20          1   \n",
       "50            10            8.0          150.0               0  16          1   \n",
       "53            14           10.0          150.0               0  20          1   \n",
       "60            16           12.0          150.0               0  16          1   \n",
       "61            21           15.0          150.0               0  20          1   \n",
       "154           15            0.2          120.0               0  12          1   \n",
       "155           21            0.3          165.0               0  16          1   \n",
       "166           15            0.0          170.0               0  12          1   \n",
       "\n",
       "     hcls  \n",
       "0       1  \n",
       "1       1  \n",
       "2       1  \n",
       "3       1  \n",
       "10      1  \n",
       "13      1  \n",
       "41      1  \n",
       "42      1  \n",
       "43      1  \n",
       "50      1  \n",
       "53      1  \n",
       "60      1  \n",
       "61      1  \n",
       "154     1  \n",
       "155     1  \n",
       "166     1  "
      ]
     },
     "execution_count": 211,
     "metadata": {},
     "output_type": "execute_result"
    }
   ],
   "source": [
    "rec"
   ]
  },
  {
   "cell_type": "markdown",
   "id": "e3b9d440",
   "metadata": {},
   "source": [
    "###### 3.1 Final recommendation list:<a id='3.1'></a>"
   ]
  },
  {
   "cell_type": "code",
   "execution_count": 215,
   "id": "dc07d296",
   "metadata": {},
   "outputs": [
    {
     "data": {
      "text/plain": [
       "['Brewed Coffee',\n",
       " 'Caffè Latte',\n",
       " 'Caffè Americano',\n",
       " 'Cappuccino',\n",
       " 'Skinny Latte (Any Flavour)',\n",
       " 'Iced Brewed Coffee (With Classic Syrup)',\n",
       " 'Shaken Iced Tazo® Tea (With Classic Syrup)']"
      ]
     },
     "execution_count": 215,
     "metadata": {},
     "output_type": "execute_result"
    }
   ],
   "source": [
    "list(rec['Beverage'].unique())"
   ]
  },
  {
   "cell_type": "markdown",
   "id": "ed48f5f6",
   "metadata": {},
   "source": [
    "**If you are a Starbucks customer who wants to avoid obesity while catering to your caffine addiction, just remember this list of acceptable drinks!**"
   ]
  },
  {
   "cell_type": "markdown",
   "id": "9e1a0d2d",
   "metadata": {},
   "source": [
    "<img src=\"https://upload.wikimedia.org/wikipedia/commons/thumb/c/c8/Cappuccino_at_Sightglass_Coffee.jpg/1280px-Cappuccino_at_Sightglass_Coffee.jpg\" alt=\"Alternative text\" />"
   ]
  },
  {
   "cell_type": "code",
   "execution_count": null,
   "id": "898b9b75",
   "metadata": {},
   "outputs": [],
   "source": []
  }
 ],
 "metadata": {
  "kernelspec": {
   "display_name": "Python 3",
   "language": "python",
   "name": "python3"
  },
  "language_info": {
   "codemirror_mode": {
    "name": "ipython",
    "version": 3
   },
   "file_extension": ".py",
   "mimetype": "text/x-python",
   "name": "python",
   "nbconvert_exporter": "python",
   "pygments_lexer": "ipython3",
   "version": "3.8.8"
  }
 },
 "nbformat": 4,
 "nbformat_minor": 5
}
