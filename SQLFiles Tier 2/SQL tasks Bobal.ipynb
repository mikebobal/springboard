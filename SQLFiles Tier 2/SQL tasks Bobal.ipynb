{
 "cells": [
  {
   "cell_type": "markdown",
   "id": "ac981887",
   "metadata": {},
   "source": [
    "Welcome to the SQL mini project. You will carry out this project partly in\n",
    "the PHPMyAdmin interface, and partly in Jupyter via a Python connection.\n",
    "\n",
    "This is Tier 2 of the case study, which means that there'll be less guidance for you about how to setup\n",
    "your local SQLite connection in PART 2 of the case study. This will make the case study more challenging for you: \n",
    "you might need to do some digging, aand revise the Working with Relational Databases in Python chapter in the previous resource.\n",
    "\n",
    "Otherwise, the questions in the case study are exactly the same as with Tier 1.\n",
    "\n",
    "PART 1: PHPMyAdmin\n",
    "\n",
    "You will complete questions 1-9 below in the PHPMyAdmin interface. \n",
    "Log in by pasting the following URL into your browser, and\n",
    "using the following Username and Password:\n",
    "\n",
    "URL: https://sql.springboard.com/\n",
    "Username: student\n",
    "Password: learn_sql@springboard\n",
    "\n",
    "The data you need is in the \"country_club\" database. This database\n",
    "contains 3 tables:\n",
    "    i) the \"Bookings\" table,\n",
    "    ii) the \"Facilities\" table, and\n",
    "    iii) the \"Members\" table.\n",
    "\n",
    "In this case study, you'll be asked a series of questions. You can\n",
    "solve them using the platform, but for the final deliverable,\n",
    "paste the code for each solution into this script, and upload it\n",
    "to your GitHub.\n",
    "\n",
    "Before starting with the questions, feel free to take your time,\n",
    "exploring the data, and getting acquainted with the 3 tables. */\n",
    "\n",
    "\n",
    " "
   ]
  },
  {
   "cell_type": "code",
   "execution_count": 1,
   "id": "ce910d7d",
   "metadata": {},
   "outputs": [
    {
     "data": {
      "text/plain": [
       "\"\\nQUESTIONS \\n\\n/* Q1: Some of the facilities charge a fee to members, but some do not.\\nWrite a SQL query to produce a list of the names of the facilities that do. */\\n\\nSELECT name\\nFROM Facilities\\nWHERE membercost > 0;\\n\\n/* Q2: How many facilities do not charge a fee to members? */\\n\\nSELECT count(name)\\nFROM Facilities\\nWHERE membercost = 0;\\n\\n/* Q3: Write an SQL query to show a list of facilities that charge a fee to members,\\nwhere the fee is less than 20% of the facility's monthly maintenance cost.\\nReturn the facid, facility name, member cost, and monthly maintenance of the\\nfacilities in question. */\\n\\nSELECT facid, name, membercost, monthlymaintenance\\nFROM Facilities\\nWHERE \\n\\tmembercost > 0\\n\\tAND membercost < (0.20 * monthlymaintenance);\\n\\n\\n/* Q4: Write an SQL query to retrieve the details of facilities with ID 1 and 5.\\nTry writing the query without using the OR operator. */\\n\\nSELECT *\\nFROM Facilities\\nWHERE facid IN (1,5);\\n\\n\\n/* Q5: Produce a list of facilities, with each labelled as\\n'cheap' or 'expensive', depending on if their monthly maintenance cost is\\nmore than $100. Return the name and monthly maintenance of the facilities\\nin question. */\\n\\nSELECT name, monthlymaintenance,\\nCASE\\n    WHEN monthlymaintenance > 100 THEN 'expensive'\\n    ELSE 'cheap'\\n    END AS cost\\nFROM Facilities;\\n\\n\\n/* Q6: You'd like to get the first and last name of the last member(s)\\nwho signed up. Try not to use the LIMIT clause for your solution. */\\n\\nSELECT firstname, surname\\nFROM Members\\nWHERE joindate = (SELECT MAX(joindate) FROM `Members`);\\n\\n\\n/* Q7: Produce a list of all members who have used a tennis court.\\nInclude in your output the name of the court, and the name of the member\\nformatted as a single column. Ensure no duplicate data, and order by\\nthe member name. */\\n\\nSELECT DISTINCT f.name as Facility, CONCAT(m.firstname, ' ', m.surname) AS Member\\nFROM `Members` as m \\nINNER JOIN `Bookings` as b\\nON m.memid = b.memid \\nINNER JOIN `Facilities` as f\\nON f.facid = b.facid \\nWHERE b.facid IN (0, 1) AND b.memid != 0\\nORDER BY Member;\\n\\n\\n/* Q8: Produce a list of bookings on the day of 2012-09-14 which\\nwill cost the member (or guest) more than $30. Remember that guests have\\ndifferent costs to members (the listed costs are per half-hour 'slot'), and\\nthe guest user's ID is always 0. Include in your output the name of the\\nfacility, the name of the member formatted as a single column, and the cost.\\nOrder by descending cost, and do not use any subqueries. */\\n\\nSELECT starttime, f.name AS Facility, \\nCASE WHEN b.memid != 0 THEN CONCAT(m.firstname, ' ', m.surname)\\n     ELSE m.firstname \\nEND AS name, \\nCASE WHEN b.memid != 0 THEN b.slots * f.membercost\\n     ELSE b.slots * f.guestcost\\nEND AS cost\\nFROM Bookings as b\\nINNER JOIN Members as m\\nON b.memid = m.memid\\nINNER JOIN Facilities as f\\nON f.facid = b.facid\\nWHERE CAST(starttime AS date) = CAST('2012-09-14' AS date) AND\\nCASE WHEN b.memid != 0 THEN b.slots * f.membercost\\n     ELSE b.slots * f.guestcost\\nEND > 30.00\\nORDER BY cost DESC;\\n\\n\\n/* Q9: This time, produce the same result as in Q8, but using a subquery. */\\n\\nSELECT sub.starttime, sub.name AS Facility, \\nCASE WHEN sub.memid != 0 THEN CONCAT(sub.firstname, ' ', sub.surname)\\n     ELSE sub.firstname \\nEND AS name, \\nCASE WHEN sub.memid != 0 THEN sub.slots * sub.membercost\\n     ELSE sub.slots * sub.guestcost\\nEND AS cost\\nFROM (SELECT b.starttime, b.facid, b.memid, b.slots, f.membercost, f.guestcost, f.name,\\n      m.firstname, m.surname\\n      FROM Bookings AS b\\n      INNER JOIN Members AS m\\n      ON b.memid = m.memid\\n      INNER JOIN Facilities AS f\\n      ON f.facid = b.facid) AS sub\\nWHERE CAST(starttime AS date) = CAST('2012-09-14' AS date) AND\\nCASE WHEN memid != 0 THEN slots * membercost\\n     ELSE slots * guestcost\\nEND > 30\\nORDER BY cost DESC;\\n\""
      ]
     },
     "execution_count": 1,
     "metadata": {},
     "output_type": "execute_result"
    }
   ],
   "source": [
    "\"\"\"\n",
    "QUESTIONS \n",
    "\n",
    "/* Q1: Some of the facilities charge a fee to members, but some do not.\n",
    "Write a SQL query to produce a list of the names of the facilities that do. */\n",
    "\n",
    "SELECT name\n",
    "FROM Facilities\n",
    "WHERE membercost > 0;\n",
    "\n",
    "/* Q2: How many facilities do not charge a fee to members? */\n",
    "\n",
    "SELECT count(name)\n",
    "FROM Facilities\n",
    "WHERE membercost = 0;\n",
    "\n",
    "/* Q3: Write an SQL query to show a list of facilities that charge a fee to members,\n",
    "where the fee is less than 20% of the facility's monthly maintenance cost.\n",
    "Return the facid, facility name, member cost, and monthly maintenance of the\n",
    "facilities in question. */\n",
    "\n",
    "SELECT facid, name, membercost, monthlymaintenance\n",
    "FROM Facilities\n",
    "WHERE \n",
    "\tmembercost > 0\n",
    "\tAND membercost < (0.20 * monthlymaintenance);\n",
    "\n",
    "\n",
    "/* Q4: Write an SQL query to retrieve the details of facilities with ID 1 and 5.\n",
    "Try writing the query without using the OR operator. */\n",
    "\n",
    "SELECT *\n",
    "FROM Facilities\n",
    "WHERE facid IN (1,5);\n",
    "\n",
    "\n",
    "/* Q5: Produce a list of facilities, with each labelled as\n",
    "'cheap' or 'expensive', depending on if their monthly maintenance cost is\n",
    "more than $100. Return the name and monthly maintenance of the facilities\n",
    "in question. */\n",
    "\n",
    "SELECT name, monthlymaintenance,\n",
    "CASE\n",
    "    WHEN monthlymaintenance > 100 THEN 'expensive'\n",
    "    ELSE 'cheap'\n",
    "    END AS cost\n",
    "FROM Facilities;\n",
    "\n",
    "\n",
    "/* Q6: You'd like to get the first and last name of the last member(s)\n",
    "who signed up. Try not to use the LIMIT clause for your solution. */\n",
    "\n",
    "SELECT firstname, surname\n",
    "FROM Members\n",
    "WHERE joindate = (SELECT MAX(joindate) FROM `Members`);\n",
    "\n",
    "\n",
    "/* Q7: Produce a list of all members who have used a tennis court.\n",
    "Include in your output the name of the court, and the name of the member\n",
    "formatted as a single column. Ensure no duplicate data, and order by\n",
    "the member name. */\n",
    "\n",
    "SELECT DISTINCT f.name as Facility, CONCAT(m.firstname, ' ', m.surname) AS Member\n",
    "FROM `Members` as m \n",
    "INNER JOIN `Bookings` as b\n",
    "ON m.memid = b.memid \n",
    "INNER JOIN `Facilities` as f\n",
    "ON f.facid = b.facid \n",
    "WHERE b.facid IN (0, 1) AND b.memid != 0\n",
    "ORDER BY Member;\n",
    "\n",
    "\n",
    "/* Q8: Produce a list of bookings on the day of 2012-09-14 which\n",
    "will cost the member (or guest) more than $30. Remember that guests have\n",
    "different costs to members (the listed costs are per half-hour 'slot'), and\n",
    "the guest user's ID is always 0. Include in your output the name of the\n",
    "facility, the name of the member formatted as a single column, and the cost.\n",
    "Order by descending cost, and do not use any subqueries. */\n",
    "\n",
    "SELECT starttime, f.name AS Facility, \n",
    "CASE WHEN b.memid != 0 THEN CONCAT(m.firstname, ' ', m.surname)\n",
    "     ELSE m.firstname \n",
    "END AS name, \n",
    "CASE WHEN b.memid != 0 THEN b.slots * f.membercost\n",
    "     ELSE b.slots * f.guestcost\n",
    "END AS cost\n",
    "FROM Bookings as b\n",
    "INNER JOIN Members as m\n",
    "ON b.memid = m.memid\n",
    "INNER JOIN Facilities as f\n",
    "ON f.facid = b.facid\n",
    "WHERE CAST(starttime AS date) = CAST('2012-09-14' AS date) AND\n",
    "CASE WHEN b.memid != 0 THEN b.slots * f.membercost\n",
    "     ELSE b.slots * f.guestcost\n",
    "END > 30.00\n",
    "ORDER BY cost DESC;\n",
    "\n",
    "\n",
    "/* Q9: This time, produce the same result as in Q8, but using a subquery. */\n",
    "\n",
    "SELECT sub.starttime, sub.name AS Facility, \n",
    "CASE WHEN sub.memid != 0 THEN CONCAT(sub.firstname, ' ', sub.surname)\n",
    "     ELSE sub.firstname \n",
    "END AS name, \n",
    "CASE WHEN sub.memid != 0 THEN sub.slots * sub.membercost\n",
    "     ELSE sub.slots * sub.guestcost\n",
    "END AS cost\n",
    "FROM (SELECT b.starttime, b.facid, b.memid, b.slots, f.membercost, f.guestcost, f.name,\n",
    "      m.firstname, m.surname\n",
    "      FROM Bookings AS b\n",
    "      INNER JOIN Members AS m\n",
    "      ON b.memid = m.memid\n",
    "      INNER JOIN Facilities AS f\n",
    "      ON f.facid = b.facid) AS sub\n",
    "WHERE CAST(starttime AS date) = CAST('2012-09-14' AS date) AND\n",
    "CASE WHEN memid != 0 THEN slots * membercost\n",
    "     ELSE slots * guestcost\n",
    "END > 30\n",
    "ORDER BY cost DESC;\n",
    "\"\"\""
   ]
  },
  {
   "cell_type": "markdown",
   "id": "42083cec",
   "metadata": {},
   "source": [
    "PART 2: SQLite\n",
    "\n",
    "Export the country club data from PHPMyAdmin, and connect to a local SQLite instance from Jupyter notebook \n",
    "for the following questions.  \n",
    "\n"
   ]
  },
  {
   "cell_type": "code",
   "execution_count": 2,
   "id": "edcda59f",
   "metadata": {},
   "outputs": [],
   "source": [
    "from sqlalchemy import create_engine\n",
    "import pandas as pd"
   ]
  },
  {
   "cell_type": "code",
   "execution_count": 3,
   "id": "35a92bd1",
   "metadata": {},
   "outputs": [],
   "source": [
    "filepath = r\"C:\\Users\\Joseph Shire\\Documents\\Springboard Python Data Science\\Python Scripts\\springboard\\SQLFiles Tier 2\\sqlite_db_pythonsqlite.db\"\n",
    "e = create_engine(r\"sqlite:///\"+filepath)\n",
    "ec = e.connect()\n"
   ]
  },
  {
   "cell_type": "markdown",
   "id": "34628c59",
   "metadata": {},
   "source": [
    "QUESTIONS: /* Q10: Produce a list of facilities with a total revenue less than 1000. The output of facility name and total revenue, sorted by revenue. Remember that there's a different cost for guests and members! */"
   ]
  },
  {
   "cell_type": "code",
   "execution_count": 4,
   "id": "fc750928",
   "metadata": {},
   "outputs": [
    {
     "name": "stdout",
     "output_type": "stream",
     "text": [
      "        Facility  total_rev\n",
      "0   Table Tennis        180\n",
      "1  Snooker Table        240\n",
      "2     Pool Table        270\n"
     ]
    }
   ],
   "source": [
    "a10 = '''\n",
    "SELECT name AS Facility, sum(rev) AS total_rev\n",
    "FROM (\n",
    "    SELECT f.name,  \n",
    "    CASE WHEN\n",
    "        b.memid != 0 THEN f.membercost * b.slots \n",
    "        ELSE f.guestcost * b.slots END\n",
    "        AS rev\n",
    "    FROM Facilities AS f \n",
    "    INNER JOIN Bookings AS b\n",
    "    ON b.facid = f.facid\n",
    "    )\n",
    "    AS sub\n",
    "GROUP BY sub.name\n",
    "HAVING sum(rev) < 1000\n",
    "ORDER BY total_rev;\n",
    "'''\n",
    "\n",
    "\n",
    "a10ex = ec.execute(a10)\n",
    "a10df = pd.DataFrame(a10ex.fetchall())\n",
    "a10df.columns = a10ex.keys()\n",
    "print(a10df)"
   ]
  },
  {
   "cell_type": "markdown",
   "id": "b7c9bb92",
   "metadata": {},
   "source": [
    "/* Q11: Produce a report of members and who recommended them in alphabetic surname,firstname order */\n",
    "\n",
    "\n"
   ]
  },
  {
   "cell_type": "code",
   "execution_count": 10,
   "id": "1b01ff63",
   "metadata": {},
   "outputs": [
    {
     "name": "stdout",
     "output_type": "stream",
     "text": [
      "           Recommender               Recommendee\n",
      "0      Bader, Florence         Sarwin, Ramnaresh\n",
      "1       Baker, Timothy              Coplin, Joan\n",
      "2      Butters, Gerald          Genting, Matthew\n",
      "3      Farrell, Jemima            Baker, Timothy\n",
      "4      Farrell, Jemima             Pinker, David\n",
      "5     Genting, Matthew         Rumney, Henrietta\n",
      "6         Jones, David            Jones, Douglas\n",
      "7     Joplette, Janice               Dare, Nancy\n",
      "8     Joplette, Janice              Jones, David\n",
      "9   Purview, Millicent                Hunt, John\n",
      "10         Rownam, Tim               Boothe, Tim\n",
      "11       Smith, Darren          Joplette, Janice\n",
      "12       Smith, Darren           Butters, Gerald\n",
      "13       Smith, Darren             Owen, Charles\n",
      "14       Smith, Darren               Smith, Jack\n",
      "15       Smith, Darren           Mackenzie, Anna\n",
      "16        Smith, Tracy  Worthington-Smyth, Henry\n",
      "17        Smith, Tracy        Purview, Millicent\n",
      "18        Smith, Tracy            Crumpet, Erica\n",
      "19    Stibbons, Ponder               Baker, Anne\n",
      "20    Stibbons, Ponder           Bader, Florence\n",
      "21       Tracy, Burton          Stibbons, Ponder\n"
     ]
    }
   ],
   "source": [
    "a11 = '''\n",
    "SELECT (m1.surname|| ', ' ||m1.firstname) AS Recommender, (m2.surname||', '||m2.firstname) AS Recommendee\n",
    "FROM Members AS m1\n",
    "INNER JOIN Members AS m2\n",
    "ON m1.memid = m2.recommendedby\n",
    "ORDER BY m1.surname, m1.firstname;\n",
    "'''\n",
    "\n",
    "\n",
    "a11ex = ec.execute(a11)\n",
    "a11df = pd.DataFrame(a11ex.fetchall())\n",
    "a11df.columns = a11ex.keys()\n",
    "print(a11df)"
   ]
  },
  {
   "cell_type": "markdown",
   "id": "550990e3",
   "metadata": {},
   "source": [
    "/* Q12: Find the facilities with their usage by member, but not guests */\n",
    "\n",
    "\n"
   ]
  },
  {
   "cell_type": "code",
   "execution_count": 20,
   "id": "55c793ba",
   "metadata": {},
   "outputs": [
    {
     "name": "stdout",
     "output_type": "stream",
     "text": [
      "              name  Hours of Usage\n",
      "0  Badminton Court           172.0\n",
      "1   Massage Room 1           210.5\n",
      "2   Massage Room 2            13.5\n",
      "3       Pool Table           391.5\n",
      "4    Snooker Table           210.5\n",
      "5     Squash Court            97.5\n",
      "6     Table Tennis           192.5\n",
      "7   Tennis Court 1           154.0\n",
      "8   Tennis Court 2           138.0\n"
     ]
    }
   ],
   "source": [
    "a12 = '''\n",
    "SELECT f.name, round(count(slots)/2.0,2) AS 'Hours of Usage'\n",
    "FROM Facilities AS f\n",
    "INNER JOIN Bookings AS b\n",
    "ON b.facid = f.facid\n",
    "WHERE b.memid > 0\n",
    "GROUP BY f.name;\n",
    "'''\n",
    "\n",
    "\n",
    "a12ex = ec.execute(a12)\n",
    "a12df = pd.DataFrame(a12ex.fetchall())\n",
    "a12df.columns = a12ex.keys()\n",
    "print(a12df)"
   ]
  },
  {
   "cell_type": "code",
   "execution_count": null,
   "id": "98a82bf4",
   "metadata": {},
   "outputs": [],
   "source": []
  },
  {
   "cell_type": "markdown",
   "id": "38056f92",
   "metadata": {},
   "source": [
    "/* Q13: Find the facilities usage by month, but not guests */"
   ]
  },
  {
   "cell_type": "code",
   "execution_count": 24,
   "id": "f59108a9",
   "metadata": {},
   "outputs": [
    {
     "name": "stdout",
     "output_type": "stream",
     "text": [
      "               name Month  Hours of Usage\n",
      "0   Badminton Court    07            25.5\n",
      "1   Badminton Court    08            66.0\n",
      "2   Badminton Court    09            80.5\n",
      "3    Massage Room 1    07            38.5\n",
      "4    Massage Room 1    08            76.5\n",
      "5    Massage Room 1    09            95.5\n",
      "6    Massage Room 2    07             2.0\n",
      "7    Massage Room 2    08             4.5\n",
      "8    Massage Room 2    09             7.0\n",
      "9        Pool Table    07            51.5\n",
      "10       Pool Table    08           136.0\n",
      "11       Pool Table    09           204.0\n",
      "12    Snooker Table    07            34.0\n",
      "13    Snooker Table    08            77.0\n",
      "14    Snooker Table    09            99.5\n",
      "15     Squash Court    07            11.5\n",
      "16     Squash Court    08            42.5\n",
      "17     Squash Court    09            43.5\n",
      "18     Table Tennis    07            24.0\n",
      "19     Table Tennis    08            71.5\n",
      "20     Table Tennis    09            97.0\n",
      "21   Tennis Court 1    07            32.5\n",
      "22   Tennis Court 1    08            55.5\n",
      "23   Tennis Court 1    09            66.0\n",
      "24   Tennis Court 2    07            20.5\n",
      "25   Tennis Court 2    08            54.5\n",
      "26   Tennis Court 2    09            63.0\n"
     ]
    }
   ],
   "source": [
    "a13 = '''\n",
    "SELECT f.name, strftime('%m', starttime) AS Month, round(count(slots)/2.0,2) AS 'Hours of Usage'\n",
    "FROM Facilities AS f\n",
    "INNER JOIN Bookings AS b\n",
    "ON b.facid = f.facid\n",
    "WHERE b.memid > 0\n",
    "GROUP BY f.name, Month;\n",
    "'''\n",
    "\n",
    "\n",
    "a13ex = ec.execute(a13)\n",
    "a13df = pd.DataFrame(a13ex.fetchall())\n",
    "a13df.columns = a13ex.keys()\n",
    "print(a13df)"
   ]
  },
  {
   "cell_type": "code",
   "execution_count": null,
   "id": "b30dc7b0",
   "metadata": {},
   "outputs": [],
   "source": []
  }
 ],
 "metadata": {
  "kernelspec": {
   "display_name": "Python 3",
   "language": "python",
   "name": "python3"
  },
  "language_info": {
   "codemirror_mode": {
    "name": "ipython",
    "version": 3
   },
   "file_extension": ".py",
   "mimetype": "text/x-python",
   "name": "python",
   "nbconvert_exporter": "python",
   "pygments_lexer": "ipython3",
   "version": "3.8.8"
  }
 },
 "nbformat": 4,
 "nbformat_minor": 5
}
