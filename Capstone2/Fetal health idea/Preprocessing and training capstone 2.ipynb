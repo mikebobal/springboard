{
 "cells": [
  {
   "cell_type": "markdown",
   "id": "01769da5",
   "metadata": {},
   "source": [
    "### Table of Contents\n",
    "\n",
    "* [1.0 Purpose](#1.0)\n",
    "    * [1.1 Imports](#1.1)\n",
    "    * [1.2 Load the data](#1.2)\n",
    "    * [1.3 Inspect the data](#1.3)\n",
    "* [2.1 Proportion of classes](#2.1)\n",
    "    * [2.2 Dummy encoding](#2.2)\n",
    "* [3.1 Split dataframe into features and target](#3.1)\n",
    "    * [3.2 Preliminary modeling](#3.2)\n",
    "    * [3.3 Preliminary model confusion matrix and classification report](#3.3)\n",
    "* [4.0 Logistic regression model](#4.0)    \n",
    "    * [4.1 Tuning hyperparameters using a pipeline and GridSearchCV](#4.1)\n",
    "    * [4.2 Build a function to run GridSearchCV](#4.2)\n",
    "    * [4.3 Build a function to exclude highly correlated features](#4.3)\n",
    "    * [4.4 Recall results with \"hold out\" features to loop through](#4.4)\n",
    "    * [4.5 Individual model Recall results with excluded \"hold out\" features](#4.5)"
   ]
  },
  {
   "cell_type": "markdown",
   "id": "bc8c2bf2",
   "metadata": {},
   "source": [
    "##### 1.0 Purpose<a id='1.0'></a>"
   ]
  },
  {
   "cell_type": "markdown",
   "id": "c4cf3c1a",
   "metadata": {},
   "source": [
    "In the previous notebook, we completed exploratory data analysis. The data was visualized in terms of correlations, both between features and targets, and between features and other features.\n",
    "\n",
    "Now, in this notebook, we are in the preprocessing and training phase of this Capstone 2 project. We will be putting together different models for the training/testing process, then checking for accuracy.\n"
   ]
  },
  {
   "cell_type": "markdown",
   "id": "80946f0e",
   "metadata": {},
   "source": [
    "##### 1.1 Imports<a id='1.1'></a>"
   ]
  },
  {
   "cell_type": "code",
   "execution_count": 130,
   "id": "8d41a63b",
   "metadata": {},
   "outputs": [],
   "source": [
    "import numpy as np\n",
    "import scipy as sp\n",
    "import pandas as pd\n",
    "from datetime import datetime\n",
    "#\n",
    "# plotting and visualization\n",
    "#\n",
    "import matplotlib as mpl\n",
    "import matplotlib.cm as cm\n",
    "from matplotlib.colors import ListedColormap\n",
    "import matplotlib.pyplot as plt\n",
    "#\n",
    "import seaborn as sns\n",
    "#\n",
    "# modeling\n",
    "#\n",
    "from sklearn.preprocessing import OneHotEncoder as OHE\n",
    "import sklearn.model_selection\n",
    "from sklearn.model_selection import train_test_split\n",
    "from sklearn.model_selection import KFold\n",
    "from sklearn.linear_model import LogisticRegression\n",
    "from sklearn.metrics import accuracy_score, f1_score, roc_auc_score, recall_score, precision_score\n",
    "from sklearn.metrics import classification_report\n",
    "from sklearn.metrics import confusion_matrix\n",
    "from sklearn.metrics import ConfusionMatrixDisplay\n",
    "from sklearn.model_selection import GridSearchCV\n",
    "from sklearn.preprocessing import StandardScaler\n",
    "from sklearn.pipeline import Pipeline\n",
    "from sklearn.ensemble import RandomForestRegressor\n",
    "from sklearn.ensemble import RandomForestClassifier\n",
    "from sklearn import tree\n",
    "from sklearn.tree import DecisionTreeClassifier\n",
    "from sklearn.tree import DecisionTreeRegressor"
   ]
  },
  {
   "cell_type": "markdown",
   "id": "d78ddeaf",
   "metadata": {},
   "source": [
    "##### 1.2 Load data<a id='1.2'></a>"
   ]
  },
  {
   "cell_type": "code",
   "execution_count": 131,
   "id": "72bd6912",
   "metadata": {},
   "outputs": [
    {
     "name": "stdout",
     "output_type": "stream",
     "text": [
      "The main data have  2126  rows and  22  columns\n",
      "\n",
      "column names: \n",
      "\n",
      "LB\n",
      "AC\n",
      "FM\n",
      "UC\n",
      "ASTV\n",
      "MSTV\n",
      "ALTV\n",
      "MLTV\n",
      "DL\n",
      "DS\n",
      "DP\n",
      "Width\n",
      "Min\n",
      "Max\n",
      "Nmax\n",
      "Nzeros\n",
      "Mode\n",
      "Mean\n",
      "Median\n",
      "Variance\n",
      "Tendency\n",
      "NSP\n"
     ]
    }
   ],
   "source": [
    "path = r'C:\\Users\\Joseph Shire\\Documents\\Springboard Python Data Science\\Python Scripts\\springboard\\Capstone2\\Fetal health idea'\n",
    "main_file = r'\\ctg_final.csv'\n",
    "df = pd.read_csv(path+main_file)\n",
    "fc = r'\\ctg_corr.csv'\n",
    "fcorr = pd.read_csv(path+fc)\n",
    "tc = r'\\ctg_corr_NSP.csv'\n",
    "tcorr = pd.read_csv(path+tc)\n",
    "\n",
    "print('The main data have ', df.shape[0], ' rows and ', df.shape[1], ' columns\\n')\n",
    "print('column names: \\n')\n",
    "print('\\n'.join(list(df.columns)))"
   ]
  },
  {
   "cell_type": "markdown",
   "id": "ed8ed659",
   "metadata": {},
   "source": [
    "Look at the correlation dataframes"
   ]
  },
  {
   "cell_type": "code",
   "execution_count": 132,
   "id": "3940720f",
   "metadata": {},
   "outputs": [
    {
     "data": {
      "text/html": [
       "<div>\n",
       "<style scoped>\n",
       "    .dataframe tbody tr th:only-of-type {\n",
       "        vertical-align: middle;\n",
       "    }\n",
       "\n",
       "    .dataframe tbody tr th {\n",
       "        vertical-align: top;\n",
       "    }\n",
       "\n",
       "    .dataframe thead th {\n",
       "        text-align: right;\n",
       "    }\n",
       "</style>\n",
       "<table border=\"1\" class=\"dataframe\">\n",
       "  <thead>\n",
       "    <tr style=\"text-align: right;\">\n",
       "      <th></th>\n",
       "      <th>var_1</th>\n",
       "      <th>var_2</th>\n",
       "      <th>correlation</th>\n",
       "      <th>abs_corr</th>\n",
       "      <th>corr_level</th>\n",
       "    </tr>\n",
       "  </thead>\n",
       "  <tbody>\n",
       "    <tr>\n",
       "      <th>0</th>\n",
       "      <td>DP</td>\n",
       "      <td>NSP_3.0</td>\n",
       "      <td>0.580253</td>\n",
       "      <td>0.580253</td>\n",
       "      <td>MID</td>\n",
       "    </tr>\n",
       "    <tr>\n",
       "      <th>1</th>\n",
       "      <td>ASTV</td>\n",
       "      <td>NSP_1.0</td>\n",
       "      <td>-0.493391</td>\n",
       "      <td>0.493391</td>\n",
       "      <td>LOW</td>\n",
       "    </tr>\n",
       "    <tr>\n",
       "      <th>2</th>\n",
       "      <td>ALTV</td>\n",
       "      <td>NSP_1.0</td>\n",
       "      <td>-0.489400</td>\n",
       "      <td>0.489400</td>\n",
       "      <td>LOW</td>\n",
       "    </tr>\n",
       "    <tr>\n",
       "      <th>3</th>\n",
       "      <td>NSP_3.0</td>\n",
       "      <td>Mode</td>\n",
       "      <td>-0.419051</td>\n",
       "      <td>0.419051</td>\n",
       "      <td>LOW</td>\n",
       "    </tr>\n",
       "    <tr>\n",
       "      <th>4</th>\n",
       "      <td>ALTV</td>\n",
       "      <td>NSP_2.0</td>\n",
       "      <td>0.418659</td>\n",
       "      <td>0.418659</td>\n",
       "      <td>LOW</td>\n",
       "    </tr>\n",
       "    <tr>\n",
       "      <th>5</th>\n",
       "      <td>NSP_3.0</td>\n",
       "      <td>Mean</td>\n",
       "      <td>-0.416886</td>\n",
       "      <td>0.416886</td>\n",
       "      <td>LOW</td>\n",
       "    </tr>\n",
       "    <tr>\n",
       "      <th>6</th>\n",
       "      <td>Median</td>\n",
       "      <td>NSP_3.0</td>\n",
       "      <td>-0.384857</td>\n",
       "      <td>0.384857</td>\n",
       "      <td>LOW</td>\n",
       "    </tr>\n",
       "    <tr>\n",
       "      <th>7</th>\n",
       "      <td>AC</td>\n",
       "      <td>NSP_1.0</td>\n",
       "      <td>0.369470</td>\n",
       "      <td>0.369470</td>\n",
       "      <td>LOW</td>\n",
       "    </tr>\n",
       "    <tr>\n",
       "      <th>8</th>\n",
       "      <td>NSP_2.0</td>\n",
       "      <td>ASTV</td>\n",
       "      <td>0.348213</td>\n",
       "      <td>0.348213</td>\n",
       "      <td>LOW</td>\n",
       "    </tr>\n",
       "    <tr>\n",
       "      <th>9</th>\n",
       "      <td>LB</td>\n",
       "      <td>NSP_2.0</td>\n",
       "      <td>0.341922</td>\n",
       "      <td>0.341922</td>\n",
       "      <td>LOW</td>\n",
       "    </tr>\n",
       "  </tbody>\n",
       "</table>\n",
       "</div>"
      ],
      "text/plain": [
       "     var_1    var_2  correlation  abs_corr corr_level\n",
       "0       DP  NSP_3.0     0.580253  0.580253        MID\n",
       "1     ASTV  NSP_1.0    -0.493391  0.493391        LOW\n",
       "2     ALTV  NSP_1.0    -0.489400  0.489400        LOW\n",
       "3  NSP_3.0     Mode    -0.419051  0.419051        LOW\n",
       "4     ALTV  NSP_2.0     0.418659  0.418659        LOW\n",
       "5  NSP_3.0     Mean    -0.416886  0.416886        LOW\n",
       "6   Median  NSP_3.0    -0.384857  0.384857        LOW\n",
       "7       AC  NSP_1.0     0.369470  0.369470        LOW\n",
       "8  NSP_2.0     ASTV     0.348213  0.348213        LOW\n",
       "9       LB  NSP_2.0     0.341922  0.341922        LOW"
      ]
     },
     "execution_count": 132,
     "metadata": {},
     "output_type": "execute_result"
    }
   ],
   "source": [
    "tcorr.head(10)"
   ]
  },
  {
   "cell_type": "code",
   "execution_count": 133,
   "id": "a9bd8aa1",
   "metadata": {},
   "outputs": [
    {
     "data": {
      "text/html": [
       "<div>\n",
       "<style scoped>\n",
       "    .dataframe tbody tr th:only-of-type {\n",
       "        vertical-align: middle;\n",
       "    }\n",
       "\n",
       "    .dataframe tbody tr th {\n",
       "        vertical-align: top;\n",
       "    }\n",
       "\n",
       "    .dataframe thead th {\n",
       "        text-align: right;\n",
       "    }\n",
       "</style>\n",
       "<table border=\"1\" class=\"dataframe\">\n",
       "  <thead>\n",
       "    <tr style=\"text-align: right;\">\n",
       "      <th></th>\n",
       "      <th>var_1</th>\n",
       "      <th>var_2</th>\n",
       "      <th>correlation</th>\n",
       "      <th>abs_corr</th>\n",
       "      <th>corr_level</th>\n",
       "    </tr>\n",
       "  </thead>\n",
       "  <tbody>\n",
       "    <tr>\n",
       "      <th>0</th>\n",
       "      <td>Median</td>\n",
       "      <td>Mean</td>\n",
       "      <td>0.948251</td>\n",
       "      <td>0.948251</td>\n",
       "      <td>HIGH</td>\n",
       "    </tr>\n",
       "    <tr>\n",
       "      <th>1</th>\n",
       "      <td>Mode</td>\n",
       "      <td>Median</td>\n",
       "      <td>0.933399</td>\n",
       "      <td>0.933399</td>\n",
       "      <td>HIGH</td>\n",
       "    </tr>\n",
       "    <tr>\n",
       "      <th>2</th>\n",
       "      <td>Min</td>\n",
       "      <td>Width</td>\n",
       "      <td>-0.898519</td>\n",
       "      <td>0.898519</td>\n",
       "      <td>HIGH</td>\n",
       "    </tr>\n",
       "    <tr>\n",
       "      <th>3</th>\n",
       "      <td>Mode</td>\n",
       "      <td>Mean</td>\n",
       "      <td>0.893412</td>\n",
       "      <td>0.893412</td>\n",
       "      <td>HIGH</td>\n",
       "    </tr>\n",
       "    <tr>\n",
       "      <th>4</th>\n",
       "      <td>LB</td>\n",
       "      <td>Median</td>\n",
       "      <td>0.789246</td>\n",
       "      <td>0.789246</td>\n",
       "      <td>HIGH</td>\n",
       "    </tr>\n",
       "    <tr>\n",
       "      <th>5</th>\n",
       "      <td>Width</td>\n",
       "      <td>Nmax</td>\n",
       "      <td>0.747071</td>\n",
       "      <td>0.747071</td>\n",
       "      <td>HIGH</td>\n",
       "    </tr>\n",
       "    <tr>\n",
       "      <th>6</th>\n",
       "      <td>Mean</td>\n",
       "      <td>LB</td>\n",
       "      <td>0.723121</td>\n",
       "      <td>0.723121</td>\n",
       "      <td>HIGH</td>\n",
       "    </tr>\n",
       "    <tr>\n",
       "      <th>7</th>\n",
       "      <td>Mode</td>\n",
       "      <td>LB</td>\n",
       "      <td>0.708993</td>\n",
       "      <td>0.708993</td>\n",
       "      <td>HIGH</td>\n",
       "    </tr>\n",
       "    <tr>\n",
       "      <th>8</th>\n",
       "      <td>Max</td>\n",
       "      <td>Width</td>\n",
       "      <td>0.690769</td>\n",
       "      <td>0.690769</td>\n",
       "      <td>MID</td>\n",
       "    </tr>\n",
       "    <tr>\n",
       "      <th>9</th>\n",
       "      <td>Min</td>\n",
       "      <td>Nmax</td>\n",
       "      <td>-0.670287</td>\n",
       "      <td>0.670287</td>\n",
       "      <td>MID</td>\n",
       "    </tr>\n",
       "  </tbody>\n",
       "</table>\n",
       "</div>"
      ],
      "text/plain": [
       "    var_1   var_2  correlation  abs_corr corr_level\n",
       "0  Median    Mean     0.948251  0.948251       HIGH\n",
       "1    Mode  Median     0.933399  0.933399       HIGH\n",
       "2     Min   Width    -0.898519  0.898519       HIGH\n",
       "3    Mode    Mean     0.893412  0.893412       HIGH\n",
       "4      LB  Median     0.789246  0.789246       HIGH\n",
       "5   Width    Nmax     0.747071  0.747071       HIGH\n",
       "6    Mean      LB     0.723121  0.723121       HIGH\n",
       "7    Mode      LB     0.708993  0.708993       HIGH\n",
       "8     Max   Width     0.690769  0.690769        MID\n",
       "9     Min    Nmax    -0.670287  0.670287        MID"
      ]
     },
     "execution_count": 133,
     "metadata": {},
     "output_type": "execute_result"
    }
   ],
   "source": [
    "fcorr.head(10)"
   ]
  },
  {
   "cell_type": "markdown",
   "id": "5d5f2aa2",
   "metadata": {},
   "source": [
    "##### 2.1 Proportion of classes<a id='2.1'></a>"
   ]
  },
  {
   "cell_type": "markdown",
   "id": "6090a565",
   "metadata": {},
   "source": [
    "When building classification models, it is essential to know right away the number of samples per class, proportionally to the total number of samples."
   ]
  },
  {
   "cell_type": "markdown",
   "id": "ad58298d",
   "metadata": {},
   "source": [
    "For our fetal health data, the diagnostic categories are: 1 = Normal = N, 2 = Suspect = S, 3 = Pathological = P."
   ]
  },
  {
   "cell_type": "code",
   "execution_count": 134,
   "id": "a1af8246",
   "metadata": {},
   "outputs": [
    {
     "name": "stdout",
     "output_type": "stream",
     "text": [
      "Raw totals:\n",
      "\n",
      "1.0    1655\n",
      "2.0     295\n",
      "3.0     176\n",
      "Name: NSP, dtype: int64\n"
     ]
    }
   ],
   "source": [
    "class_counts_nsp = df['NSP'].value_counts()\n",
    "print('Raw totals:\\n')\n",
    "print(class_counts_nsp)"
   ]
  },
  {
   "cell_type": "code",
   "execution_count": 135,
   "id": "3cbd3545",
   "metadata": {},
   "outputs": [
    {
     "name": "stdout",
     "output_type": "stream",
     "text": [
      "Percentages:\n",
      "\n",
      "1    77.845720\n",
      "2    13.875823\n",
      "3     8.278457\n",
      "dtype: float64\n"
     ]
    }
   ],
   "source": [
    "class_p_nsp = pd.Series([(x / df.shape[0]) * 100.00 for x in class_counts_nsp], index=[1,2,3])\n",
    "print('Percentages:\\n')\n",
    "print(class_p_nsp)"
   ]
  },
  {
   "cell_type": "markdown",
   "id": "1b5fb937",
   "metadata": {},
   "source": [
    "Visualize Proportionality"
   ]
  },
  {
   "cell_type": "code",
   "execution_count": 136,
   "id": "746ae9db",
   "metadata": {},
   "outputs": [
    {
     "data": {
      "image/png": "[encoded data removed]",
      "text/plain": [
       "<Figure size 432x288 with 1 Axes>"
      ]
     },
     "metadata": {
      "needs_background": "light"
     },
     "output_type": "display_data"
    }
   ],
   "source": [
    "fig, ax = plt.subplots()\n",
    "ax.bar(class_counts_nsp.index, class_counts_nsp)\n",
    "ax.set_xticks([1,2,3])\n",
    "ax.set_xticklabels(class_p_nsp.index.astype(str) + '\\n' + ' ' +\n",
    "                   class_p_nsp.round(2).astype(str) + '%')\n",
    "\n",
    "ax.set_ylabel('Count')\n",
    "ax.set_xlabel('NSP category')\n",
    "ax.set_title('Cardiotocogram NSP class distribution\\nwhere 1=normal; 2=suspect; 3=pathologic',\n",
    "              fontsize = 10)\n",
    "plt.show()"
   ]
  },
  {
   "cell_type": "markdown",
   "id": "14195b55",
   "metadata": {},
   "source": [
    "##### 2.2 Dummy encode only categorical feature<a id='2.2'></a>"
   ]
  },
  {
   "cell_type": "markdown",
   "id": "21ce93d5",
   "metadata": {},
   "source": [
    "The feature \"Tendency\" is a categorical variable, and will need dummies applied"
   ]
  },
  {
   "cell_type": "code",
   "execution_count": 137,
   "id": "fb26d45b",
   "metadata": {},
   "outputs": [
    {
     "data": {
      "text/plain": [
       " 0.0    1115\n",
       " 1.0     846\n",
       "-1.0     165\n",
       "Name: Tendency, dtype: int64"
      ]
     },
     "execution_count": 137,
     "metadata": {},
     "output_type": "execute_result"
    }
   ],
   "source": [
    "df['Tendency'].value_counts()"
   ]
  },
  {
   "cell_type": "markdown",
   "id": "b245dc64",
   "metadata": {},
   "source": [
    "According to documentaiton, 'Tendency' is histogram tendency: -1=left assymetric; 0=symmetric; 1=right assymetric"
   ]
  },
  {
   "cell_type": "code",
   "execution_count": 138,
   "id": "8b521e30",
   "metadata": {},
   "outputs": [
    {
     "data": {
      "text/html": [
       "<div>\n",
       "<style scoped>\n",
       "    .dataframe tbody tr th:only-of-type {\n",
       "        vertical-align: middle;\n",
       "    }\n",
       "\n",
       "    .dataframe tbody tr th {\n",
       "        vertical-align: top;\n",
       "    }\n",
       "\n",
       "    .dataframe thead th {\n",
       "        text-align: right;\n",
       "    }\n",
       "</style>\n",
       "<table border=\"1\" class=\"dataframe\">\n",
       "  <thead>\n",
       "    <tr style=\"text-align: right;\">\n",
       "      <th></th>\n",
       "      <th>LB</th>\n",
       "      <th>AC</th>\n",
       "      <th>FM</th>\n",
       "      <th>UC</th>\n",
       "      <th>ASTV</th>\n",
       "      <th>MSTV</th>\n",
       "      <th>ALTV</th>\n",
       "      <th>MLTV</th>\n",
       "      <th>DL</th>\n",
       "      <th>DS</th>\n",
       "      <th>...</th>\n",
       "      <th>Max</th>\n",
       "      <th>Nmax</th>\n",
       "      <th>Nzeros</th>\n",
       "      <th>Mode</th>\n",
       "      <th>Mean</th>\n",
       "      <th>Median</th>\n",
       "      <th>Variance</th>\n",
       "      <th>NSP</th>\n",
       "      <th>Tendency_0.0</th>\n",
       "      <th>Tendency_1.0</th>\n",
       "    </tr>\n",
       "  </thead>\n",
       "  <tbody>\n",
       "    <tr>\n",
       "      <th>0</th>\n",
       "      <td>120.0</td>\n",
       "      <td>0.0</td>\n",
       "      <td>0.0</td>\n",
       "      <td>0.0</td>\n",
       "      <td>73.0</td>\n",
       "      <td>0.5</td>\n",
       "      <td>43.0</td>\n",
       "      <td>2.4</td>\n",
       "      <td>0.0</td>\n",
       "      <td>0.0</td>\n",
       "      <td>...</td>\n",
       "      <td>126.0</td>\n",
       "      <td>2.0</td>\n",
       "      <td>0.0</td>\n",
       "      <td>120.0</td>\n",
       "      <td>137.0</td>\n",
       "      <td>121.0</td>\n",
       "      <td>73.0</td>\n",
       "      <td>2.0</td>\n",
       "      <td>0</td>\n",
       "      <td>1</td>\n",
       "    </tr>\n",
       "    <tr>\n",
       "      <th>1</th>\n",
       "      <td>132.0</td>\n",
       "      <td>4.0</td>\n",
       "      <td>0.0</td>\n",
       "      <td>4.0</td>\n",
       "      <td>17.0</td>\n",
       "      <td>2.1</td>\n",
       "      <td>0.0</td>\n",
       "      <td>10.4</td>\n",
       "      <td>2.0</td>\n",
       "      <td>0.0</td>\n",
       "      <td>...</td>\n",
       "      <td>198.0</td>\n",
       "      <td>6.0</td>\n",
       "      <td>1.0</td>\n",
       "      <td>141.0</td>\n",
       "      <td>136.0</td>\n",
       "      <td>140.0</td>\n",
       "      <td>12.0</td>\n",
       "      <td>1.0</td>\n",
       "      <td>1</td>\n",
       "      <td>0</td>\n",
       "    </tr>\n",
       "    <tr>\n",
       "      <th>2</th>\n",
       "      <td>133.0</td>\n",
       "      <td>2.0</td>\n",
       "      <td>0.0</td>\n",
       "      <td>5.0</td>\n",
       "      <td>16.0</td>\n",
       "      <td>2.1</td>\n",
       "      <td>0.0</td>\n",
       "      <td>13.4</td>\n",
       "      <td>2.0</td>\n",
       "      <td>0.0</td>\n",
       "      <td>...</td>\n",
       "      <td>198.0</td>\n",
       "      <td>5.0</td>\n",
       "      <td>1.0</td>\n",
       "      <td>141.0</td>\n",
       "      <td>135.0</td>\n",
       "      <td>138.0</td>\n",
       "      <td>13.0</td>\n",
       "      <td>1.0</td>\n",
       "      <td>1</td>\n",
       "      <td>0</td>\n",
       "    </tr>\n",
       "    <tr>\n",
       "      <th>3</th>\n",
       "      <td>134.0</td>\n",
       "      <td>2.0</td>\n",
       "      <td>0.0</td>\n",
       "      <td>6.0</td>\n",
       "      <td>16.0</td>\n",
       "      <td>2.4</td>\n",
       "      <td>0.0</td>\n",
       "      <td>23.0</td>\n",
       "      <td>2.0</td>\n",
       "      <td>0.0</td>\n",
       "      <td>...</td>\n",
       "      <td>170.0</td>\n",
       "      <td>11.0</td>\n",
       "      <td>0.0</td>\n",
       "      <td>137.0</td>\n",
       "      <td>134.0</td>\n",
       "      <td>137.0</td>\n",
       "      <td>13.0</td>\n",
       "      <td>1.0</td>\n",
       "      <td>0</td>\n",
       "      <td>1</td>\n",
       "    </tr>\n",
       "    <tr>\n",
       "      <th>4</th>\n",
       "      <td>132.0</td>\n",
       "      <td>4.0</td>\n",
       "      <td>0.0</td>\n",
       "      <td>5.0</td>\n",
       "      <td>16.0</td>\n",
       "      <td>2.4</td>\n",
       "      <td>0.0</td>\n",
       "      <td>19.9</td>\n",
       "      <td>0.0</td>\n",
       "      <td>0.0</td>\n",
       "      <td>...</td>\n",
       "      <td>170.0</td>\n",
       "      <td>9.0</td>\n",
       "      <td>0.0</td>\n",
       "      <td>137.0</td>\n",
       "      <td>136.0</td>\n",
       "      <td>138.0</td>\n",
       "      <td>11.0</td>\n",
       "      <td>1.0</td>\n",
       "      <td>0</td>\n",
       "      <td>1</td>\n",
       "    </tr>\n",
       "    <tr>\n",
       "      <th>...</th>\n",
       "      <td>...</td>\n",
       "      <td>...</td>\n",
       "      <td>...</td>\n",
       "      <td>...</td>\n",
       "      <td>...</td>\n",
       "      <td>...</td>\n",
       "      <td>...</td>\n",
       "      <td>...</td>\n",
       "      <td>...</td>\n",
       "      <td>...</td>\n",
       "      <td>...</td>\n",
       "      <td>...</td>\n",
       "      <td>...</td>\n",
       "      <td>...</td>\n",
       "      <td>...</td>\n",
       "      <td>...</td>\n",
       "      <td>...</td>\n",
       "      <td>...</td>\n",
       "      <td>...</td>\n",
       "      <td>...</td>\n",
       "      <td>...</td>\n",
       "    </tr>\n",
       "    <tr>\n",
       "      <th>2121</th>\n",
       "      <td>140.0</td>\n",
       "      <td>0.0</td>\n",
       "      <td>0.0</td>\n",
       "      <td>6.0</td>\n",
       "      <td>79.0</td>\n",
       "      <td>0.2</td>\n",
       "      <td>25.0</td>\n",
       "      <td>7.2</td>\n",
       "      <td>0.0</td>\n",
       "      <td>0.0</td>\n",
       "      <td>...</td>\n",
       "      <td>177.0</td>\n",
       "      <td>4.0</td>\n",
       "      <td>0.0</td>\n",
       "      <td>153.0</td>\n",
       "      <td>150.0</td>\n",
       "      <td>152.0</td>\n",
       "      <td>2.0</td>\n",
       "      <td>2.0</td>\n",
       "      <td>1</td>\n",
       "      <td>0</td>\n",
       "    </tr>\n",
       "    <tr>\n",
       "      <th>2122</th>\n",
       "      <td>140.0</td>\n",
       "      <td>1.0</td>\n",
       "      <td>0.0</td>\n",
       "      <td>9.0</td>\n",
       "      <td>78.0</td>\n",
       "      <td>0.4</td>\n",
       "      <td>22.0</td>\n",
       "      <td>7.1</td>\n",
       "      <td>0.0</td>\n",
       "      <td>0.0</td>\n",
       "      <td>...</td>\n",
       "      <td>169.0</td>\n",
       "      <td>6.0</td>\n",
       "      <td>0.0</td>\n",
       "      <td>152.0</td>\n",
       "      <td>148.0</td>\n",
       "      <td>151.0</td>\n",
       "      <td>3.0</td>\n",
       "      <td>2.0</td>\n",
       "      <td>0</td>\n",
       "      <td>1</td>\n",
       "    </tr>\n",
       "    <tr>\n",
       "      <th>2123</th>\n",
       "      <td>140.0</td>\n",
       "      <td>1.0</td>\n",
       "      <td>0.0</td>\n",
       "      <td>7.0</td>\n",
       "      <td>79.0</td>\n",
       "      <td>0.4</td>\n",
       "      <td>20.0</td>\n",
       "      <td>6.1</td>\n",
       "      <td>0.0</td>\n",
       "      <td>0.0</td>\n",
       "      <td>...</td>\n",
       "      <td>170.0</td>\n",
       "      <td>5.0</td>\n",
       "      <td>0.0</td>\n",
       "      <td>153.0</td>\n",
       "      <td>148.0</td>\n",
       "      <td>152.0</td>\n",
       "      <td>4.0</td>\n",
       "      <td>2.0</td>\n",
       "      <td>0</td>\n",
       "      <td>1</td>\n",
       "    </tr>\n",
       "    <tr>\n",
       "      <th>2124</th>\n",
       "      <td>140.0</td>\n",
       "      <td>1.0</td>\n",
       "      <td>0.0</td>\n",
       "      <td>9.0</td>\n",
       "      <td>78.0</td>\n",
       "      <td>0.4</td>\n",
       "      <td>27.0</td>\n",
       "      <td>7.0</td>\n",
       "      <td>0.0</td>\n",
       "      <td>0.0</td>\n",
       "      <td>...</td>\n",
       "      <td>169.0</td>\n",
       "      <td>6.0</td>\n",
       "      <td>0.0</td>\n",
       "      <td>152.0</td>\n",
       "      <td>147.0</td>\n",
       "      <td>151.0</td>\n",
       "      <td>4.0</td>\n",
       "      <td>2.0</td>\n",
       "      <td>0</td>\n",
       "      <td>1</td>\n",
       "    </tr>\n",
       "    <tr>\n",
       "      <th>2125</th>\n",
       "      <td>142.0</td>\n",
       "      <td>1.0</td>\n",
       "      <td>1.0</td>\n",
       "      <td>5.0</td>\n",
       "      <td>74.0</td>\n",
       "      <td>0.4</td>\n",
       "      <td>36.0</td>\n",
       "      <td>5.0</td>\n",
       "      <td>0.0</td>\n",
       "      <td>0.0</td>\n",
       "      <td>...</td>\n",
       "      <td>159.0</td>\n",
       "      <td>2.0</td>\n",
       "      <td>1.0</td>\n",
       "      <td>145.0</td>\n",
       "      <td>143.0</td>\n",
       "      <td>145.0</td>\n",
       "      <td>1.0</td>\n",
       "      <td>1.0</td>\n",
       "      <td>1</td>\n",
       "      <td>0</td>\n",
       "    </tr>\n",
       "  </tbody>\n",
       "</table>\n",
       "<p>2126 rows × 23 columns</p>\n",
       "</div>"
      ],
      "text/plain": [
       "         LB   AC   FM   UC  ASTV  MSTV  ALTV  MLTV   DL   DS  ...    Max  \\\n",
       "0     120.0  0.0  0.0  0.0  73.0   0.5  43.0   2.4  0.0  0.0  ...  126.0   \n",
       "1     132.0  4.0  0.0  4.0  17.0   2.1   0.0  10.4  2.0  0.0  ...  198.0   \n",
       "2     133.0  2.0  0.0  5.0  16.0   2.1   0.0  13.4  2.0  0.0  ...  198.0   \n",
       "3     134.0  2.0  0.0  6.0  16.0   2.4   0.0  23.0  2.0  0.0  ...  170.0   \n",
       "4     132.0  4.0  0.0  5.0  16.0   2.4   0.0  19.9  0.0  0.0  ...  170.0   \n",
       "...     ...  ...  ...  ...   ...   ...   ...   ...  ...  ...  ...    ...   \n",
       "2121  140.0  0.0  0.0  6.0  79.0   0.2  25.0   7.2  0.0  0.0  ...  177.0   \n",
       "2122  140.0  1.0  0.0  9.0  78.0   0.4  22.0   7.1  0.0  0.0  ...  169.0   \n",
       "2123  140.0  1.0  0.0  7.0  79.0   0.4  20.0   6.1  0.0  0.0  ...  170.0   \n",
       "2124  140.0  1.0  0.0  9.0  78.0   0.4  27.0   7.0  0.0  0.0  ...  169.0   \n",
       "2125  142.0  1.0  1.0  5.0  74.0   0.4  36.0   5.0  0.0  0.0  ...  159.0   \n",
       "\n",
       "      Nmax  Nzeros   Mode   Mean  Median  Variance  NSP  Tendency_0.0  \\\n",
       "0      2.0     0.0  120.0  137.0   121.0      73.0  2.0             0   \n",
       "1      6.0     1.0  141.0  136.0   140.0      12.0  1.0             1   \n",
       "2      5.0     1.0  141.0  135.0   138.0      13.0  1.0             1   \n",
       "3     11.0     0.0  137.0  134.0   137.0      13.0  1.0             0   \n",
       "4      9.0     0.0  137.0  136.0   138.0      11.0  1.0             0   \n",
       "...    ...     ...    ...    ...     ...       ...  ...           ...   \n",
       "2121   4.0     0.0  153.0  150.0   152.0       2.0  2.0             1   \n",
       "2122   6.0     0.0  152.0  148.0   151.0       3.0  2.0             0   \n",
       "2123   5.0     0.0  153.0  148.0   152.0       4.0  2.0             0   \n",
       "2124   6.0     0.0  152.0  147.0   151.0       4.0  2.0             0   \n",
       "2125   2.0     1.0  145.0  143.0   145.0       1.0  1.0             1   \n",
       "\n",
       "      Tendency_1.0  \n",
       "0                1  \n",
       "1                0  \n",
       "2                0  \n",
       "3                1  \n",
       "4                1  \n",
       "...            ...  \n",
       "2121             0  \n",
       "2122             1  \n",
       "2123             1  \n",
       "2124             1  \n",
       "2125             0  \n",
       "\n",
       "[2126 rows x 23 columns]"
      ]
     },
     "execution_count": 138,
     "metadata": {},
     "output_type": "execute_result"
    }
   ],
   "source": [
    "dfd = pd.get_dummies(df, columns = ['Tendency'], drop_first=True)\n",
    "dfd"
   ]
  },
  {
   "cell_type": "markdown",
   "id": "da02b337",
   "metadata": {},
   "source": [
    "##### 3.1 Split dataframe into features and target<a id='3.1'></a>"
   ]
  },
  {
   "cell_type": "markdown",
   "id": "9ae2e330",
   "metadata": {},
   "source": [
    "Setting our features as the X variable, and targets as the y variable for use in our modeling."
   ]
  },
  {
   "cell_type": "code",
   "execution_count": 139,
   "id": "b6c2643e",
   "metadata": {},
   "outputs": [],
   "source": [
    "    dfd['NSP'] = df['NSP'].replace([1.0,2.0,3.0],['N','S','P'])"
   ]
  },
  {
   "cell_type": "code",
   "execution_count": 140,
   "id": "f369ee6d",
   "metadata": {},
   "outputs": [],
   "source": [
    "X = dfd.drop(columns = ['NSP'])"
   ]
  },
  {
   "cell_type": "code",
   "execution_count": 141,
   "id": "d3e9cd66",
   "metadata": {},
   "outputs": [],
   "source": [
    "y = dfd['NSP']"
   ]
  },
  {
   "cell_type": "code",
   "execution_count": 142,
   "id": "ad2b4866",
   "metadata": {},
   "outputs": [
    {
     "name": "stdout",
     "output_type": "stream",
     "text": [
      "      LB   AC   FM   UC  ASTV  MSTV  ALTV  MLTV   DL   DS  ...   Min    Max  \\\n",
      "0  120.0  0.0  0.0  0.0  73.0   0.5  43.0   2.4  0.0  0.0  ...  62.0  126.0   \n",
      "1  132.0  4.0  0.0  4.0  17.0   2.1   0.0  10.4  2.0  0.0  ...  68.0  198.0   \n",
      "2  133.0  2.0  0.0  5.0  16.0   2.1   0.0  13.4  2.0  0.0  ...  68.0  198.0   \n",
      "3  134.0  2.0  0.0  6.0  16.0   2.4   0.0  23.0  2.0  0.0  ...  53.0  170.0   \n",
      "4  132.0  4.0  0.0  5.0  16.0   2.4   0.0  19.9  0.0  0.0  ...  53.0  170.0   \n",
      "\n",
      "   Nmax  Nzeros   Mode   Mean  Median  Variance  Tendency_0.0  Tendency_1.0  \n",
      "0   2.0     0.0  120.0  137.0   121.0      73.0             0             1  \n",
      "1   6.0     1.0  141.0  136.0   140.0      12.0             1             0  \n",
      "2   5.0     1.0  141.0  135.0   138.0      13.0             1             0  \n",
      "3  11.0     0.0  137.0  134.0   137.0      13.0             0             1  \n",
      "4   9.0     0.0  137.0  136.0   138.0      11.0             0             1  \n",
      "\n",
      "[5 rows x 22 columns] 0    S\n",
      "1    N\n",
      "2    N\n",
      "3    N\n",
      "4    N\n",
      "Name: NSP, dtype: object\n"
     ]
    }
   ],
   "source": [
    "print(X.head(),y.head())"
   ]
  },
  {
   "cell_type": "code",
   "execution_count": 143,
   "id": "4fbfd4da",
   "metadata": {},
   "outputs": [
    {
     "data": {
      "text/plain": [
       "N    1655\n",
       "S     295\n",
       "P     176\n",
       "Name: NSP, dtype: int64"
      ]
     },
     "execution_count": 143,
     "metadata": {},
     "output_type": "execute_result"
    }
   ],
   "source": [
    "y.value_counts()"
   ]
  },
  {
   "cell_type": "markdown",
   "id": "dd24881f",
   "metadata": {},
   "source": [
    "##### 3.2 Preliminary modeling<a id='3.2'></a>"
   ]
  },
  {
   "cell_type": "markdown",
   "id": "4bec5414",
   "metadata": {},
   "source": [
    "Start by training a single model on a single set of parameters, to see what non-tuned results might look like"
   ]
  },
  {
   "cell_type": "code",
   "execution_count": 144,
   "id": "a564d7a9",
   "metadata": {},
   "outputs": [],
   "source": [
    "X_train, X_test, y_train, y_test = train_test_split(X, y, train_size = 0.80, stratify = y)"
   ]
  },
  {
   "cell_type": "code",
   "execution_count": 145,
   "id": "57757cbe",
   "metadata": {},
   "outputs": [
    {
     "data": {
      "text/plain": [
       "N    1323\n",
       "S     236\n",
       "P     141\n",
       "Name: NSP, dtype: int64"
      ]
     },
     "execution_count": 145,
     "metadata": {},
     "output_type": "execute_result"
    }
   ],
   "source": [
    "y_train.value_counts()"
   ]
  },
  {
   "cell_type": "code",
   "execution_count": 146,
   "id": "28487dbe",
   "metadata": {},
   "outputs": [
    {
     "data": {
      "text/plain": [
       "N    332\n",
       "S     59\n",
       "P     35\n",
       "Name: NSP, dtype: int64"
      ]
     },
     "execution_count": 146,
     "metadata": {},
     "output_type": "execute_result"
    }
   ],
   "source": [
    "y_test.value_counts()"
   ]
  },
  {
   "cell_type": "markdown",
   "id": "07c826c9",
   "metadata": {},
   "source": [
    "Using Logistic Regression, with the solver 'liblinear', maximum iterations set to 500, and regularization (C) at 1000"
   ]
  },
  {
   "cell_type": "code",
   "execution_count": 147,
   "id": "e6a67b3d",
   "metadata": {},
   "outputs": [],
   "source": [
    "lr = LogisticRegression(solver = 'liblinear', max_iter = 500, C = 1000)"
   ]
  },
  {
   "cell_type": "markdown",
   "id": "906bd75e",
   "metadata": {},
   "source": [
    "We fit the training data to the model"
   ]
  },
  {
   "cell_type": "code",
   "execution_count": 148,
   "id": "243a0f4f",
   "metadata": {},
   "outputs": [
    {
     "data": {
      "text/plain": [
       "LogisticRegression(C=1000, max_iter=500, solver='liblinear')"
      ]
     },
     "execution_count": 148,
     "metadata": {},
     "output_type": "execute_result"
    }
   ],
   "source": [
    "lr.fit(X_train, y_train)"
   ]
  },
  {
   "cell_type": "markdown",
   "id": "781ec97b",
   "metadata": {},
   "source": [
    "Then assess recall scores for training and testing data"
   ]
  },
  {
   "cell_type": "code",
   "execution_count": 149,
   "id": "574c9ede",
   "metadata": {},
   "outputs": [
    {
     "name": "stdout",
     "output_type": "stream",
     "text": [
      "Recall on training data:  0.7954291358460815\n"
     ]
    }
   ],
   "source": [
    "print('Recall on training data: ',recall_score(y_train,lr.predict(X_train), average='macro'))"
   ]
  },
  {
   "cell_type": "code",
   "execution_count": 150,
   "id": "19fbc57d",
   "metadata": {},
   "outputs": [
    {
     "name": "stdout",
     "output_type": "stream",
     "text": [
      "Recall on test data:  0.7870931668562872\n"
     ]
    }
   ],
   "source": [
    "print(f'Recall on test data: ',recall_score(y_test,lr.predict(X_test),average='macro'))"
   ]
  },
  {
   "cell_type": "markdown",
   "id": "f533a59c",
   "metadata": {},
   "source": [
    "##### 3.3 Preliminary model confusion matrix and classification report<a id='3.3'></a>"
   ]
  },
  {
   "cell_type": "code",
   "execution_count": 151,
   "id": "a923a143",
   "metadata": {},
   "outputs": [
    {
     "data": {
      "text/plain": [
       "<sklearn.metrics._plot.confusion_matrix.ConfusionMatrixDisplay at 0x1fe0cec69d0>"
      ]
     },
     "execution_count": 151,
     "metadata": {},
     "output_type": "execute_result"
    },
    {
     "data": {
      "image/png": "[encoded data removed]",
      "text/plain": [
       "<Figure size 432x288 with 2 Axes>"
      ]
     },
     "metadata": {
      "needs_background": "light"
     },
     "output_type": "display_data"
    }
   ],
   "source": [
    "cm = confusion_matrix(lr.predict(X_train), y_train)\n",
    "_, ax = plt.subplots()\n",
    "display_cm = ConfusionMatrixDisplay(confusion_matrix = cm, display_labels=lr.classes_)\n",
    "ax.set_xticks([0, 2])\n",
    "ax.set_yticks([0, 2])\n",
    "display_cm.plot(ax = ax)\n"
   ]
  },
  {
   "cell_type": "code",
   "execution_count": 152,
   "id": "c254404e",
   "metadata": {},
   "outputs": [
    {
     "data": {
      "text/plain": [
       "<sklearn.metrics._plot.confusion_matrix.ConfusionMatrixDisplay at 0x1fe0cccf940>"
      ]
     },
     "execution_count": 152,
     "metadata": {},
     "output_type": "execute_result"
    },
    {
     "data": {
      "image/png": "[encoded data removed]",
      "text/plain": [
       "<Figure size 432x288 with 2 Axes>"
      ]
     },
     "metadata": {
      "needs_background": "light"
     },
     "output_type": "display_data"
    }
   ],
   "source": [
    "cm = confusion_matrix(lr.predict(X_test), y_test)\n",
    "_, ax = plt.subplots()\n",
    "display_cm = ConfusionMatrixDisplay(confusion_matrix = cm, display_labels=lr.classes_)\n",
    "ax.set_xticks([0, 2])\n",
    "ax.set_yticks([0, 2])\n",
    "display_cm.plot(ax = ax)"
   ]
  },
  {
   "cell_type": "markdown",
   "id": "cf16a270",
   "metadata": {},
   "source": [
    "Right away, we can see that for class P (pathological), this model is not satisfactory. The true positives of the test set equal 20, but class P false negatives add up to 9, which is only a class P identification rate of 20/(20+9) = 68.97%"
   ]
  },
  {
   "cell_type": "markdown",
   "id": "ae7be89b",
   "metadata": {},
   "source": [
    "For a closer look at the performance, a classification report is created for both training and testing data"
   ]
  },
  {
   "cell_type": "code",
   "execution_count": 153,
   "id": "2c6bf2e8",
   "metadata": {},
   "outputs": [
    {
     "name": "stdout",
     "output_type": "stream",
     "text": [
      "Classification Report for Training Data\n",
      "              precision    recall  f1-score   support\n",
      "\n",
      "           N       0.94      0.96      0.95      1323\n",
      "           P       0.87      0.77      0.82       141\n",
      "           S       0.68      0.65      0.67       236\n",
      "\n",
      "    accuracy                           0.90      1700\n",
      "   macro avg       0.83      0.80      0.81      1700\n",
      "weighted avg       0.90      0.90      0.90      1700\n",
      "\n"
     ]
    }
   ],
   "source": [
    "print(\"Classification Report for Training Data\")\n",
    "print(classification_report(y_train, lr.predict(X_train)))"
   ]
  },
  {
   "cell_type": "code",
   "execution_count": 154,
   "id": "a2ea4e84",
   "metadata": {},
   "outputs": [
    {
     "name": "stdout",
     "output_type": "stream",
     "text": [
      "Classification Report for Test Data\n",
      "              precision    recall  f1-score   support\n",
      "\n",
      "           N       0.94      0.95      0.94       332\n",
      "           P       0.90      0.77      0.83        35\n",
      "           S       0.62      0.64      0.63        59\n",
      "\n",
      "    accuracy                           0.89       426\n",
      "   macro avg       0.82      0.79      0.80       426\n",
      "weighted avg       0.89      0.89      0.89       426\n",
      "\n"
     ]
    }
   ],
   "source": [
    "print(\"Classification Report for Test Data\")\n",
    "print(classification_report(y_test, lr.predict(X_test)))"
   ]
  },
  {
   "cell_type": "markdown",
   "id": "6aa6de14",
   "metadata": {},
   "source": [
    "The model performs better than randomly guessing, but there is much room for improvement."
   ]
  },
  {
   "cell_type": "markdown",
   "id": "e2858658",
   "metadata": {},
   "source": [
    "##### 4.0 Logistic regression model<a id='4.0'></a>"
   ]
  },
  {
   "cell_type": "markdown",
   "id": "4c73060e",
   "metadata": {},
   "source": [
    "Now we can commense hyperparameter tuning to get a better feel for what parameters could give us the best predictive power"
   ]
  },
  {
   "cell_type": "markdown",
   "id": "8934b823",
   "metadata": {},
   "source": [
    "https://scikit-learn.org/stable/modules/generated/sklearn.model_selection.GridSearchCV.html"
   ]
  },
  {
   "cell_type": "markdown",
   "id": "1a595b36",
   "metadata": {},
   "source": [
    "##### 4.1 Tuning hyperparameters using a pipeline and GridSearchCV<a id='4.1'></a>"
   ]
  },
  {
   "cell_type": "markdown",
   "id": "e1dd297c",
   "metadata": {},
   "source": [
    "Initially, we will look at a Logistic Regression model.\n",
    "The first step is to crete a pipeline. Within this step, we scale our data, since there are vastly differing scales among our features.\n",
    "Next, we include multiple levels of regularization (parameter 'C'), and multiple solvers.\n",
    "Finally, we use GridSearchCV to check recall scores across all combinations of the parameter choices."
   ]
  },
  {
   "cell_type": "markdown",
   "id": "b5db4773",
   "metadata": {},
   "source": [
    "We will focus on recall for a scoring metric, due to class imbalance and the importance of reducing false negatives. The business interest lies in detecting pathological health conditions, so ensuring that Class P 'positives' are detected accurately is most important."
   ]
  },
  {
   "cell_type": "code",
   "execution_count": 155,
   "id": "0f02e07a",
   "metadata": {},
   "outputs": [
    {
     "name": "stderr",
     "output_type": "stream",
     "text": [
      "C:\\ProgramData\\Anaconda3\\lib\\site-packages\\sklearn\\svm\\_base.py:985: ConvergenceWarning: Liblinear failed to converge, increase the number of iterations.\n",
      "  warnings.warn(\"Liblinear failed to converge, increase \"\n",
      "C:\\ProgramData\\Anaconda3\\lib\\site-packages\\sklearn\\svm\\_base.py:985: ConvergenceWarning: Liblinear failed to converge, increase the number of iterations.\n",
      "  warnings.warn(\"Liblinear failed to converge, increase \"\n"
     ]
    },
    {
     "name": "stdout",
     "output_type": "stream",
     "text": [
      "Duration: 0:13:55.840761\n"
     ]
    }
   ],
   "source": [
    "start_time = datetime.now()\n",
    "#code to time\n",
    "\n",
    "steps = [(\"scaler\",StandardScaler()),(\"lr\",LogisticRegression(max_iter = 8000))]\n",
    "pipe = Pipeline(steps)\n",
    "\n",
    "Cval = [0.0001, 0.001, 0.1, 1, 5, 10, 50, 100]\n",
    "params = [{\"lr__penalty\":['none'], 'lr__solver': ['newton-cg','sag','lbfgs','saga']},{\"lr__penalty\":['l1'],\"lr__solver\":['liblinear','saga'],\"lr__C\":Cval},  {\"lr__penalty\":['l2'], 'lr__solver': ['liblinear','newton-cg','sag','lbfgs','saga'],\"lr__C\":Cval},{\"lr__penalty\":['elasticnet'],'lr__solver': ['saga'],'lr__l1_ratio':[0.2,0.5,0.8],\"lr__C\":Cval}]\n",
    "\n",
    "grid = GridSearchCV(pipe, param_grid=params, scoring=\"recall_macro\")\n",
    "grid.fit(X_train, y_train)\n",
    "results = pd.DataFrame(grid.cv_results_)\n",
    "end_time = datetime.now()\n",
    "print('Duration: {}'.format(end_time - start_time))"
   ]
  },
  {
   "cell_type": "code",
   "execution_count": 156,
   "id": "9136476a",
   "metadata": {},
   "outputs": [
    {
     "name": "stdout",
     "output_type": "stream",
     "text": [
      "[Pipeline(steps=[('scaler', StandardScaler()),\n",
      "                ('lr',\n",
      "                 LogisticRegression(C=50, max_iter=8000, penalty='l1',\n",
      "                                    solver='saga'))]), {'lr__C': 50, 'lr__penalty': 'l1', 'lr__solver': 'saga'}, 0.7825884790460366]\n"
     ]
    }
   ],
   "source": [
    "best_results = [grid.best_estimator_, grid.best_params_, grid.best_score_]\n",
    "print(best_results)"
   ]
  },
  {
   "cell_type": "code",
   "execution_count": 157,
   "id": "52e9c78e",
   "metadata": {},
   "outputs": [
    {
     "data": {
      "text/plain": [
       "17"
      ]
     },
     "execution_count": 157,
     "metadata": {},
     "output_type": "execute_result"
    }
   ],
   "source": [
    "grid.best_index_"
   ]
  },
  {
   "cell_type": "code",
   "execution_count": 158,
   "id": "946461b2",
   "metadata": {},
   "outputs": [
    {
     "data": {
      "text/html": [
       "<div>\n",
       "<style scoped>\n",
       "    .dataframe tbody tr th:only-of-type {\n",
       "        vertical-align: middle;\n",
       "    }\n",
       "\n",
       "    .dataframe tbody tr th {\n",
       "        vertical-align: top;\n",
       "    }\n",
       "\n",
       "    .dataframe thead th {\n",
       "        text-align: right;\n",
       "    }\n",
       "</style>\n",
       "<table border=\"1\" class=\"dataframe\">\n",
       "  <thead>\n",
       "    <tr style=\"text-align: right;\">\n",
       "      <th></th>\n",
       "      <th>param_lr__solver</th>\n",
       "      <th>param_lr__penalty</th>\n",
       "      <th>param_lr__l1_ratio</th>\n",
       "      <th>param_lr__C</th>\n",
       "      <th>mean_test_score</th>\n",
       "    </tr>\n",
       "  </thead>\n",
       "  <tbody>\n",
       "    <tr>\n",
       "      <th>83</th>\n",
       "      <td>saga</td>\n",
       "      <td>elasticnet</td>\n",
       "      <td>0.8</td>\n",
       "      <td>100</td>\n",
       "      <td>0.782588</td>\n",
       "    </tr>\n",
       "  </tbody>\n",
       "</table>\n",
       "</div>"
      ],
      "text/plain": [
       "   param_lr__solver param_lr__penalty param_lr__l1_ratio param_lr__C  \\\n",
       "83             saga        elasticnet                0.8         100   \n",
       "\n",
       "    mean_test_score  \n",
       "83         0.782588  "
      ]
     },
     "execution_count": 158,
     "metadata": {},
     "output_type": "execute_result"
    }
   ],
   "source": [
    "filtered = results.iloc[:,[5,4,7,6,14]].sort_values(results.columns[14], ascending=False)\n",
    "best_result = filtered.head(1)\n",
    "best_result"
   ]
  },
  {
   "cell_type": "code",
   "execution_count": 159,
   "id": "b3766a90",
   "metadata": {},
   "outputs": [
    {
     "data": {
      "text/html": [
       "<div>\n",
       "<style scoped>\n",
       "    .dataframe tbody tr th:only-of-type {\n",
       "        vertical-align: middle;\n",
       "    }\n",
       "\n",
       "    .dataframe tbody tr th {\n",
       "        vertical-align: top;\n",
       "    }\n",
       "\n",
       "    .dataframe thead th {\n",
       "        text-align: right;\n",
       "    }\n",
       "</style>\n",
       "<table border=\"1\" class=\"dataframe\">\n",
       "  <thead>\n",
       "    <tr style=\"text-align: right;\">\n",
       "      <th></th>\n",
       "      <th>param_lr__solver</th>\n",
       "      <th>param_lr__penalty</th>\n",
       "      <th>param_lr__l1_ratio</th>\n",
       "      <th>param_lr__C</th>\n",
       "      <th>mean_test_score</th>\n",
       "    </tr>\n",
       "  </thead>\n",
       "  <tbody>\n",
       "    <tr>\n",
       "      <th>83</th>\n",
       "      <td>saga</td>\n",
       "      <td>elasticnet</td>\n",
       "      <td>0.8</td>\n",
       "      <td>100</td>\n",
       "      <td>0.782588</td>\n",
       "    </tr>\n",
       "    <tr>\n",
       "      <th>78</th>\n",
       "      <td>saga</td>\n",
       "      <td>elasticnet</td>\n",
       "      <td>0.2</td>\n",
       "      <td>50</td>\n",
       "      <td>0.782588</td>\n",
       "    </tr>\n",
       "    <tr>\n",
       "      <th>54</th>\n",
       "      <td>saga</td>\n",
       "      <td>l2</td>\n",
       "      <td>NaN</td>\n",
       "      <td>50</td>\n",
       "      <td>0.782588</td>\n",
       "    </tr>\n",
       "    <tr>\n",
       "      <th>59</th>\n",
       "      <td>saga</td>\n",
       "      <td>l2</td>\n",
       "      <td>NaN</td>\n",
       "      <td>100</td>\n",
       "      <td>0.782588</td>\n",
       "    </tr>\n",
       "    <tr>\n",
       "      <th>17</th>\n",
       "      <td>saga</td>\n",
       "      <td>l1</td>\n",
       "      <td>NaN</td>\n",
       "      <td>50</td>\n",
       "      <td>0.782588</td>\n",
       "    </tr>\n",
       "  </tbody>\n",
       "</table>\n",
       "</div>"
      ],
      "text/plain": [
       "   param_lr__solver param_lr__penalty param_lr__l1_ratio param_lr__C  \\\n",
       "83             saga        elasticnet                0.8         100   \n",
       "78             saga        elasticnet                0.2          50   \n",
       "54             saga                l2                NaN          50   \n",
       "59             saga                l2                NaN         100   \n",
       "17             saga                l1                NaN          50   \n",
       "\n",
       "    mean_test_score  \n",
       "83         0.782588  \n",
       "78         0.782588  \n",
       "54         0.782588  \n",
       "59         0.782588  \n",
       "17         0.782588  "
      ]
     },
     "execution_count": 159,
     "metadata": {},
     "output_type": "execute_result"
    }
   ],
   "source": [
    "filtered.head(5)"
   ]
  },
  {
   "cell_type": "code",
   "execution_count": 160,
   "id": "3a0a308e",
   "metadata": {},
   "outputs": [
    {
     "data": {
      "text/plain": [
       "'param_lr__solver'"
      ]
     },
     "execution_count": 160,
     "metadata": {},
     "output_type": "execute_result"
    }
   ],
   "source": [
    "attributes = filtered.columns\n",
    "attributes[0]"
   ]
  },
  {
   "cell_type": "code",
   "execution_count": 161,
   "id": "5bbefc7e",
   "metadata": {},
   "outputs": [
    {
     "data": {
      "text/plain": [
       "'saga'"
      ]
     },
     "execution_count": 161,
     "metadata": {},
     "output_type": "execute_result"
    }
   ],
   "source": [
    "solver = filtered[attributes[0]].iloc[0]\n",
    "solver"
   ]
  },
  {
   "cell_type": "markdown",
   "id": "fd92b2dd",
   "metadata": {},
   "source": [
    "##### 4.2 Build a function to run GridSearchCV<a id='4.2'></a>"
   ]
  },
  {
   "cell_type": "code",
   "execution_count": 162,
   "id": "b94f7c85",
   "metadata": {},
   "outputs": [],
   "source": [
    "import math"
   ]
  },
  {
   "cell_type": "code",
   "execution_count": 163,
   "id": "9144470a",
   "metadata": {},
   "outputs": [],
   "source": [
    "def LR(X,y,Cval=[0.0001, 0.001, 0.1, 1, 5, 10, 50, 100],scoring=\"recall_macro\",suppressCR=False):\n",
    "    \"\"\"\n",
    "    X is X_train\n",
    "    y is y_train\n",
    "    Cval is a list of C regularizations to be tried, auto covers a wide range\n",
    "    data is automatically scaled\n",
    "    suppressCR is whether you want the final readout to display the classification reports,\n",
    "        False means do display report, don't suppress it (default)\n",
    "        True means don't display report, suppress it\n",
    "    \n",
    "    Logistic regression only, max_iter = 8000\n",
    "    \"\"\"\n",
    "    #code to time how long this code runs for\n",
    "    start_timeLR = datetime.now()\n",
    "    \n",
    "    # create a pipeline for scaled data in logistic regression\n",
    "    steps = [(\"scaler\",StandardScaler()),(\"lr\",LogisticRegression(max_iter = 8000))]\n",
    "    pipe = Pipeline(steps)\n",
    "    \n",
    "    # list parameters to be tried in our grid search.\n",
    "    # all solvers at every penalty level included.\n",
    "    # Cval is implemented here (defult is wide range of C values).\n",
    "    params = [{\"lr__penalty\":['none'], 'lr__solver': ['newton-cg','sag','lbfgs','saga']},{\"lr__penalty\":['l1'],\"lr__solver\":['liblinear','saga'],\"lr__C\":Cval},  {\"lr__penalty\":['l2'], 'lr__solver': ['liblinear','newton-cg','sag','lbfgs','saga'],\"lr__C\":Cval},{\"lr__penalty\":['elasticnet'],'lr__solver': ['saga'],'lr__l1_ratio':[0.2,0.5,0.8],\"lr__C\":Cval}]\n",
    "    \n",
    "    # execute the grid search\n",
    "    grid = GridSearchCV(pipe, param_grid=params, scoring=scoring)\n",
    "    # fit the model\n",
    "    grid.fit(X, y)\n",
    "    # compile results in a dataframe\n",
    "    results = pd.DataFrame(grid.cv_results_)\n",
    "    # filter to only the desired columns and sort by performance\n",
    "    filtered = results.iloc[:,[5,4,7,6,14]].sort_values(results.columns[14], ascending=False)\n",
    "    filtered\n",
    "    \n",
    "    best_model = filtered.head(1)\n",
    "    attributes = best_model.columns\n",
    "    solver = best_model[attributes[0]].iloc[0]\n",
    "    penalty = best_model[attributes[1]].iloc[0]\n",
    "    l1_ratio = best_model[attributes[2]].iloc[0]\n",
    "    Creg = best_model[attributes[3]].iloc[0]\n",
    "    best_score = best_model[attributes[4]].iloc[0]\n",
    "\n",
    "    \n",
    "    if penalty == 'elasticnet':\n",
    "        print('solver = ', solver,', penalty = ', penalty,', C = ', Creg,'l1 ratio = ', l1_ratio)\n",
    "\n",
    "    else:\n",
    "        print('solver = ', solver,', penalty = ', penalty,', C = ', Creg)\n",
    "    print(scoring,' score = ', round(best_score,4),'\\n')\n",
    "    if suppressCR == False:\n",
    "        print('_______________________________________')\n",
    "\n",
    "        # run the best model and produce report\n",
    "        if penalty == 'elasticnet':    \n",
    "            best_model_lr = LogisticRegression(solver = solver, C = Creg, penalty=penalty, l1_ratio=l1_ratio, max_iter = 8000)\n",
    "            best_model_lr.fit(X, y)\n",
    "            print('Scoring = ',scoring)\n",
    "            print(\"Classification Report for Training Data (using the best-performing model)\")\n",
    "            print(classification_report(y, best_model_lr.predict(X)))\n",
    "            end_timeLR = datetime.now()\n",
    "            print('Duration of this segment: {}'.format(end_timeLR - start_timeLR))  \n",
    "        else:\n",
    "            best_model_lr = LogisticRegression(solver = solver, C = Creg, penalty=penalty, max_iter = 8000)\n",
    "            best_model_lr.fit(X, y)\n",
    "            print('Scoring = ',scoring)\n",
    "            print(\"Best Model Classification Report for Training Data\")\n",
    "            print(classification_report(y, best_model_lr.predict(X)))\n",
    "            end_timeLR = datetime.now()\n",
    "            print('Duration of this segment: {}'.format(end_timeLR - start_timeLR))  \n",
    "        print('*********************************************************\\n\\n')\n",
    "    else:\n",
    "        end_timeLR = datetime.now()\n",
    "        print('Duration of this segment: {}'.format(end_timeLR - start_timeLR))\n",
    "        print('*********************************************************\\n\\n')\n",
    "    \n",
    "    return best_model"
   ]
  },
  {
   "cell_type": "markdown",
   "id": "70e85985",
   "metadata": {},
   "source": [
    "Test the function with simple parameters"
   ]
  },
  {
   "cell_type": "code",
   "execution_count": 164,
   "id": "4342146f",
   "metadata": {
    "scrolled": false
   },
   "outputs": [
    {
     "name": "stdout",
     "output_type": "stream",
     "text": [
      "solver =  newton-cg , penalty =  none , C =  nan\n",
      "recall_macro  score =  0.7811 \n",
      "\n",
      "_______________________________________\n"
     ]
    },
    {
     "name": "stderr",
     "output_type": "stream",
     "text": [
      "C:\\ProgramData\\Anaconda3\\lib\\site-packages\\sklearn\\linear_model\\_logistic.py:1322: UserWarning: Setting penalty='none' will ignore the C and l1_ratio parameters\n",
      "  warnings.warn(\n"
     ]
    },
    {
     "name": "stdout",
     "output_type": "stream",
     "text": [
      "Scoring =  recall_macro\n",
      "Best Model Classification Report for Training Data\n",
      "              precision    recall  f1-score   support\n",
      "\n",
      "           N       0.95      0.96      0.95      1323\n",
      "           P       0.83      0.81      0.82       141\n",
      "           S       0.69      0.65      0.67       236\n",
      "\n",
      "    accuracy                           0.91      1700\n",
      "   macro avg       0.82      0.81      0.81      1700\n",
      "weighted avg       0.90      0.91      0.90      1700\n",
      "\n",
      "Duration of this segment: 0:00:47.221686\n",
      "*********************************************************\n",
      "\n",
      "\n"
     ]
    },
    {
     "data": {
      "text/html": [
       "<div>\n",
       "<style scoped>\n",
       "    .dataframe tbody tr th:only-of-type {\n",
       "        vertical-align: middle;\n",
       "    }\n",
       "\n",
       "    .dataframe tbody tr th {\n",
       "        vertical-align: top;\n",
       "    }\n",
       "\n",
       "    .dataframe thead th {\n",
       "        text-align: right;\n",
       "    }\n",
       "</style>\n",
       "<table border=\"1\" class=\"dataframe\">\n",
       "  <thead>\n",
       "    <tr style=\"text-align: right;\">\n",
       "      <th></th>\n",
       "      <th>param_lr__solver</th>\n",
       "      <th>param_lr__penalty</th>\n",
       "      <th>param_lr__l1_ratio</th>\n",
       "      <th>param_lr__C</th>\n",
       "      <th>mean_test_score</th>\n",
       "    </tr>\n",
       "  </thead>\n",
       "  <tbody>\n",
       "    <tr>\n",
       "      <th>0</th>\n",
       "      <td>newton-cg</td>\n",
       "      <td>none</td>\n",
       "      <td>NaN</td>\n",
       "      <td>NaN</td>\n",
       "      <td>0.781117</td>\n",
       "    </tr>\n",
       "  </tbody>\n",
       "</table>\n",
       "</div>"
      ],
      "text/plain": [
       "  param_lr__solver param_lr__penalty param_lr__l1_ratio param_lr__C  \\\n",
       "0        newton-cg              none                NaN         NaN   \n",
       "\n",
       "   mean_test_score  \n",
       "0         0.781117  "
      ]
     },
     "execution_count": 164,
     "metadata": {},
     "output_type": "execute_result"
    }
   ],
   "source": [
    "LR(X_train,y_train,Cval=[1])"
   ]
  },
  {
   "cell_type": "markdown",
   "id": "96dd6354",
   "metadata": {},
   "source": [
    "##### 4.3 Build a function to exclude highly correlated features<a id='4.3'></a>"
   ]
  },
  {
   "cell_type": "markdown",
   "id": "2c76fc0f",
   "metadata": {},
   "source": [
    "To help resolve a potential issue with multicollinearity, we can see how our models perform when certain features are not included in the analysis."
   ]
  },
  {
   "cell_type": "markdown",
   "id": "a2d9b806",
   "metadata": {},
   "source": [
    "Using another function, we can \"leave one out\" and run the Logistic Regression grid search repeatedly, in order to determine if excluding a highly colinear feature would be beneficial to the performance of the models."
   ]
  },
  {
   "cell_type": "code",
   "execution_count": 165,
   "id": "7028dfb3",
   "metadata": {},
   "outputs": [],
   "source": [
    "def one_out(out,X,y,Cval=[0.0001, 0.001, 0.1, 1, 5, 10, 50, 100],scoring='recall_macro'):\n",
    "    \"\"\"\n",
    "    'out' is a list of the features in the training set,\n",
    "    of which one feature is excluded at a time.\n",
    "    \n",
    "    Previously defined function 'LR' is then looped through.\n",
    "    \"\"\"\n",
    "    \n",
    "    #code to time how long this code runs for\n",
    "    start_time = datetime.now()\n",
    "    choices = []\n",
    "\n",
    "    for i in out:\n",
    "        print('Best performing model with feature ',i,' held out')\n",
    "        best_model = LR(X.drop(columns=i),y,Cval,scoring,suppressCR=True)\n",
    "        # Note that 'suppressCR' is set to 'True'\n",
    "        # 'True' makes the final readout display only the best parameters,\n",
    "        # and not the classification reports.\n",
    "        \n",
    "        \n",
    "        attributes = best_model.columns\n",
    "        solver = best_model[attributes[0]].iloc[0]\n",
    "        penalty = best_model[attributes[1]].iloc[0]\n",
    "        l1_ratio = best_model[attributes[2]].iloc[0]\n",
    "        Creg = best_model[attributes[3]].iloc[0]\n",
    "        best_score = best_model[attributes[4]].iloc[0]\n",
    "        choices.append([i,solver,penalty,l1_ratio,Creg,best_score])\n",
    "        \n",
    "    df = pd.DataFrame(choices)\n",
    "    top = df.sort_values(df.columns[5], ascending=False)\n",
    "    top.columns = ['Excluded feature',attributes[0],attributes[1],attributes[2],attributes[3],attributes[4]]\n",
    "\n",
    "    \n",
    "    end_time = datetime.now()\n",
    "    print('Total Duration: {}'.format(end_time - start_time))  \n",
    "    return top\n",
    "    print(top)"
   ]
  },
  {
   "cell_type": "markdown",
   "id": "deb1a196",
   "metadata": {},
   "source": [
    "Testing the nested functions with simple parameters"
   ]
  },
  {
   "cell_type": "code",
   "execution_count": 166,
   "id": "6746bb21",
   "metadata": {
    "scrolled": false
   },
   "outputs": [
    {
     "name": "stdout",
     "output_type": "stream",
     "text": [
      "Best performing model with feature  Mean  held out\n",
      "solver =  saga , penalty =  elasticnet , C =  1 l1 ratio =  0.2\n",
      "recall_macro  score =  0.7831 \n",
      "\n",
      "Duration of this segment: 0:00:34.272822\n",
      "*********************************************************\n",
      "\n",
      "\n",
      "Best performing model with feature  Median  held out\n",
      "solver =  sag , penalty =  none , C =  nan\n",
      "recall_macro  score =  0.7825 \n",
      "\n",
      "Duration of this segment: 0:00:34.029816\n",
      "*********************************************************\n",
      "\n",
      "\n",
      "Total Duration: 0:01:08.310626\n"
     ]
    },
    {
     "data": {
      "text/html": [
       "<div>\n",
       "<style scoped>\n",
       "    .dataframe tbody tr th:only-of-type {\n",
       "        vertical-align: middle;\n",
       "    }\n",
       "\n",
       "    .dataframe tbody tr th {\n",
       "        vertical-align: top;\n",
       "    }\n",
       "\n",
       "    .dataframe thead th {\n",
       "        text-align: right;\n",
       "    }\n",
       "</style>\n",
       "<table border=\"1\" class=\"dataframe\">\n",
       "  <thead>\n",
       "    <tr style=\"text-align: right;\">\n",
       "      <th></th>\n",
       "      <th>Excluded feature</th>\n",
       "      <th>param_lr__solver</th>\n",
       "      <th>param_lr__penalty</th>\n",
       "      <th>param_lr__l1_ratio</th>\n",
       "      <th>param_lr__C</th>\n",
       "      <th>mean_test_score</th>\n",
       "    </tr>\n",
       "  </thead>\n",
       "  <tbody>\n",
       "    <tr>\n",
       "      <th>0</th>\n",
       "      <td>Mean</td>\n",
       "      <td>saga</td>\n",
       "      <td>elasticnet</td>\n",
       "      <td>0.2</td>\n",
       "      <td>1.0</td>\n",
       "      <td>0.783103</td>\n",
       "    </tr>\n",
       "    <tr>\n",
       "      <th>1</th>\n",
       "      <td>Median</td>\n",
       "      <td>sag</td>\n",
       "      <td>none</td>\n",
       "      <td>NaN</td>\n",
       "      <td>NaN</td>\n",
       "      <td>0.782502</td>\n",
       "    </tr>\n",
       "  </tbody>\n",
       "</table>\n",
       "</div>"
      ],
      "text/plain": [
       "  Excluded feature param_lr__solver param_lr__penalty  param_lr__l1_ratio  \\\n",
       "0             Mean             saga        elasticnet                 0.2   \n",
       "1           Median              sag              none                 NaN   \n",
       "\n",
       "   param_lr__C  mean_test_score  \n",
       "0          1.0         0.783103  \n",
       "1          NaN         0.782502  "
      ]
     },
     "execution_count": 166,
     "metadata": {},
     "output_type": "execute_result"
    }
   ],
   "source": [
    "one_out(['Mean','Median'],X_train,y_train,Cval=[1])"
   ]
  },
  {
   "cell_type": "markdown",
   "id": "932d9654",
   "metadata": {},
   "source": [
    "##### 4.4 Recall results with \"hold out\" features to loop through<a id='4.4'></a> "
   ]
  },
  {
   "cell_type": "markdown",
   "id": "8385a155",
   "metadata": {},
   "source": [
    "Of the 8 inter-feature correlations considered to have \"HIGH\" correlation, at least one of the features 'Mean', 'Median', 'Mode', and 'Width' always appears.\n",
    "Therefore, we will use the 'one_out' function to examine model performance while leaving one of these features out each time."
   ]
  },
  {
   "cell_type": "code",
   "execution_count": 167,
   "id": "625cdaa6",
   "metadata": {},
   "outputs": [
    {
     "name": "stdout",
     "output_type": "stream",
     "text": [
      "Best performing model with feature  Mean  held out\n",
      "solver =  saga , penalty =  elasticnet , C =  1 l1 ratio =  0.2\n",
      "recall_macro  score =  0.7831 \n",
      "\n",
      "Duration of this segment: 0:00:35.768435\n",
      "*********************************************************\n",
      "\n",
      "\n",
      "Best performing model with feature  Median  held out\n",
      "solver =  sag , penalty =  none , C =  nan\n",
      "recall_macro  score =  0.7825 \n",
      "\n",
      "Duration of this segment: 0:00:34.559434\n",
      "*********************************************************\n",
      "\n",
      "\n",
      "Best performing model with feature  Mode  held out\n",
      "solver =  newton-cg , penalty =  none , C =  nan\n",
      "recall_macro  score =  0.7812 \n",
      "\n",
      "Duration of this segment: 0:00:33.744796\n",
      "*********************************************************\n",
      "\n",
      "\n",
      "Best performing model with feature  Width  held out\n",
      "solver =  newton-cg , penalty =  none , C =  nan\n",
      "recall_macro  score =  0.7811 \n",
      "\n",
      "Duration of this segment: 0:00:37.011218\n",
      "*********************************************************\n",
      "\n",
      "\n",
      "Total Duration: 0:02:21.090315\n"
     ]
    },
    {
     "data": {
      "text/html": [
       "<div>\n",
       "<style scoped>\n",
       "    .dataframe tbody tr th:only-of-type {\n",
       "        vertical-align: middle;\n",
       "    }\n",
       "\n",
       "    .dataframe tbody tr th {\n",
       "        vertical-align: top;\n",
       "    }\n",
       "\n",
       "    .dataframe thead th {\n",
       "        text-align: right;\n",
       "    }\n",
       "</style>\n",
       "<table border=\"1\" class=\"dataframe\">\n",
       "  <thead>\n",
       "    <tr style=\"text-align: right;\">\n",
       "      <th></th>\n",
       "      <th>Excluded feature</th>\n",
       "      <th>param_lr__solver</th>\n",
       "      <th>param_lr__penalty</th>\n",
       "      <th>param_lr__l1_ratio</th>\n",
       "      <th>param_lr__C</th>\n",
       "      <th>mean_test_score</th>\n",
       "    </tr>\n",
       "  </thead>\n",
       "  <tbody>\n",
       "    <tr>\n",
       "      <th>0</th>\n",
       "      <td>Mean</td>\n",
       "      <td>saga</td>\n",
       "      <td>elasticnet</td>\n",
       "      <td>0.2</td>\n",
       "      <td>1.0</td>\n",
       "      <td>0.783103</td>\n",
       "    </tr>\n",
       "    <tr>\n",
       "      <th>1</th>\n",
       "      <td>Median</td>\n",
       "      <td>sag</td>\n",
       "      <td>none</td>\n",
       "      <td>NaN</td>\n",
       "      <td>NaN</td>\n",
       "      <td>0.782502</td>\n",
       "    </tr>\n",
       "    <tr>\n",
       "      <th>2</th>\n",
       "      <td>Mode</td>\n",
       "      <td>newton-cg</td>\n",
       "      <td>none</td>\n",
       "      <td>NaN</td>\n",
       "      <td>NaN</td>\n",
       "      <td>0.781227</td>\n",
       "    </tr>\n",
       "    <tr>\n",
       "      <th>3</th>\n",
       "      <td>Width</td>\n",
       "      <td>newton-cg</td>\n",
       "      <td>none</td>\n",
       "      <td>NaN</td>\n",
       "      <td>NaN</td>\n",
       "      <td>0.781117</td>\n",
       "    </tr>\n",
       "  </tbody>\n",
       "</table>\n",
       "</div>"
      ],
      "text/plain": [
       "  Excluded feature param_lr__solver param_lr__penalty  param_lr__l1_ratio  \\\n",
       "0             Mean             saga        elasticnet                 0.2   \n",
       "1           Median              sag              none                 NaN   \n",
       "2             Mode        newton-cg              none                 NaN   \n",
       "3            Width        newton-cg              none                 NaN   \n",
       "\n",
       "   param_lr__C  mean_test_score  \n",
       "0          1.0         0.783103  \n",
       "1          NaN         0.782502  \n",
       "2          NaN         0.781227  \n",
       "3          NaN         0.781117  "
      ]
     },
     "execution_count": 167,
     "metadata": {},
     "output_type": "execute_result"
    }
   ],
   "source": [
    "high_corr_feat = ['Mean','Median','Mode','Width']\n",
    "one_out(high_corr_feat,X_train,y_train,Cval=[1])"
   ]
  },
  {
   "cell_type": "markdown",
   "id": "0da03e40",
   "metadata": {},
   "source": [
    "According to this function - and using recall as our performance measure - the best model among these 4 is \"excluding 'Mode'\", though it does not perform better than the best models on the previous no-hold-out training set."
   ]
  },
  {
   "cell_type": "markdown",
   "id": "b7d38dfc",
   "metadata": {},
   "source": [
    "To more completely assess which parameters will give us the best recall performance, we can run our 'one_out' function with the full array of C parameter options, which will allow us to decide which, if any, features should be held out for future analysis."
   ]
  },
  {
   "cell_type": "code",
   "execution_count": 168,
   "id": "23cdea50",
   "metadata": {},
   "outputs": [
    {
     "name": "stdout",
     "output_type": "stream",
     "text": [
      "Best performing model with feature  Mean  held out\n"
     ]
    },
    {
     "name": "stderr",
     "output_type": "stream",
     "text": [
      "C:\\ProgramData\\Anaconda3\\lib\\site-packages\\sklearn\\svm\\_base.py:985: ConvergenceWarning: Liblinear failed to converge, increase the number of iterations.\n",
      "  warnings.warn(\"Liblinear failed to converge, increase \"\n",
      "C:\\ProgramData\\Anaconda3\\lib\\site-packages\\sklearn\\svm\\_base.py:985: ConvergenceWarning: Liblinear failed to converge, increase the number of iterations.\n",
      "  warnings.warn(\"Liblinear failed to converge, increase \"\n"
     ]
    },
    {
     "name": "stdout",
     "output_type": "stream",
     "text": [
      "solver =  saga , penalty =  elasticnet , C =  5 l1 ratio =  0.2\n",
      "recall_macro  score =  0.7877 \n",
      "\n",
      "Duration of this segment: 0:12:45.086487\n",
      "*********************************************************\n",
      "\n",
      "\n",
      "Best performing model with feature  Median  held out\n"
     ]
    },
    {
     "name": "stderr",
     "output_type": "stream",
     "text": [
      "C:\\ProgramData\\Anaconda3\\lib\\site-packages\\sklearn\\svm\\_base.py:985: ConvergenceWarning: Liblinear failed to converge, increase the number of iterations.\n",
      "  warnings.warn(\"Liblinear failed to converge, increase \"\n",
      "C:\\ProgramData\\Anaconda3\\lib\\site-packages\\sklearn\\svm\\_base.py:985: ConvergenceWarning: Liblinear failed to converge, increase the number of iterations.\n",
      "  warnings.warn(\"Liblinear failed to converge, increase \"\n"
     ]
    },
    {
     "name": "stdout",
     "output_type": "stream",
     "text": [
      "solver =  lbfgs , penalty =  l2 , C =  50\n",
      "recall_macro  score =  0.7828 \n",
      "\n",
      "Duration of this segment: 0:12:53.245957\n",
      "*********************************************************\n",
      "\n",
      "\n",
      "Best performing model with feature  Mode  held out\n"
     ]
    },
    {
     "name": "stderr",
     "output_type": "stream",
     "text": [
      "C:\\ProgramData\\Anaconda3\\lib\\site-packages\\sklearn\\svm\\_base.py:985: ConvergenceWarning: Liblinear failed to converge, increase the number of iterations.\n",
      "  warnings.warn(\"Liblinear failed to converge, increase \"\n",
      "C:\\ProgramData\\Anaconda3\\lib\\site-packages\\sklearn\\svm\\_base.py:985: ConvergenceWarning: Liblinear failed to converge, increase the number of iterations.\n",
      "  warnings.warn(\"Liblinear failed to converge, increase \"\n"
     ]
    },
    {
     "name": "stdout",
     "output_type": "stream",
     "text": [
      "solver =  newton-cg , penalty =  none , C =  nan\n",
      "recall_macro  score =  0.7812 \n",
      "\n",
      "Duration of this segment: 0:13:00.376583\n",
      "*********************************************************\n",
      "\n",
      "\n",
      "Best performing model with feature  Width  held out\n"
     ]
    },
    {
     "name": "stderr",
     "output_type": "stream",
     "text": [
      "C:\\ProgramData\\Anaconda3\\lib\\site-packages\\sklearn\\svm\\_base.py:985: ConvergenceWarning: Liblinear failed to converge, increase the number of iterations.\n",
      "  warnings.warn(\"Liblinear failed to converge, increase \"\n",
      "C:\\ProgramData\\Anaconda3\\lib\\site-packages\\sklearn\\svm\\_base.py:985: ConvergenceWarning: Liblinear failed to converge, increase the number of iterations.\n",
      "  warnings.warn(\"Liblinear failed to converge, increase \"\n"
     ]
    },
    {
     "name": "stdout",
     "output_type": "stream",
     "text": [
      "solver =  saga , penalty =  elasticnet , C =  100 l1 ratio =  0.8\n",
      "recall_macro  score =  0.7826 \n",
      "\n",
      "Duration of this segment: 0:13:57.439106\n",
      "*********************************************************\n",
      "\n",
      "\n",
      "Total Duration: 0:52:36.162127\n"
     ]
    },
    {
     "data": {
      "text/html": [
       "<div>\n",
       "<style scoped>\n",
       "    .dataframe tbody tr th:only-of-type {\n",
       "        vertical-align: middle;\n",
       "    }\n",
       "\n",
       "    .dataframe tbody tr th {\n",
       "        vertical-align: top;\n",
       "    }\n",
       "\n",
       "    .dataframe thead th {\n",
       "        text-align: right;\n",
       "    }\n",
       "</style>\n",
       "<table border=\"1\" class=\"dataframe\">\n",
       "  <thead>\n",
       "    <tr style=\"text-align: right;\">\n",
       "      <th></th>\n",
       "      <th>Excluded feature</th>\n",
       "      <th>param_lr__solver</th>\n",
       "      <th>param_lr__penalty</th>\n",
       "      <th>param_lr__l1_ratio</th>\n",
       "      <th>param_lr__C</th>\n",
       "      <th>mean_test_score</th>\n",
       "    </tr>\n",
       "  </thead>\n",
       "  <tbody>\n",
       "    <tr>\n",
       "      <th>0</th>\n",
       "      <td>Mean</td>\n",
       "      <td>saga</td>\n",
       "      <td>elasticnet</td>\n",
       "      <td>0.2</td>\n",
       "      <td>5.0</td>\n",
       "      <td>0.787660</td>\n",
       "    </tr>\n",
       "    <tr>\n",
       "      <th>1</th>\n",
       "      <td>Median</td>\n",
       "      <td>lbfgs</td>\n",
       "      <td>l2</td>\n",
       "      <td>NaN</td>\n",
       "      <td>50.0</td>\n",
       "      <td>0.782755</td>\n",
       "    </tr>\n",
       "    <tr>\n",
       "      <th>3</th>\n",
       "      <td>Width</td>\n",
       "      <td>saga</td>\n",
       "      <td>elasticnet</td>\n",
       "      <td>0.8</td>\n",
       "      <td>100.0</td>\n",
       "      <td>0.782588</td>\n",
       "    </tr>\n",
       "    <tr>\n",
       "      <th>2</th>\n",
       "      <td>Mode</td>\n",
       "      <td>newton-cg</td>\n",
       "      <td>none</td>\n",
       "      <td>NaN</td>\n",
       "      <td>NaN</td>\n",
       "      <td>0.781227</td>\n",
       "    </tr>\n",
       "  </tbody>\n",
       "</table>\n",
       "</div>"
      ],
      "text/plain": [
       "  Excluded feature param_lr__solver param_lr__penalty  param_lr__l1_ratio  \\\n",
       "0             Mean             saga        elasticnet                 0.2   \n",
       "1           Median            lbfgs                l2                 NaN   \n",
       "3            Width             saga        elasticnet                 0.8   \n",
       "2             Mode        newton-cg              none                 NaN   \n",
       "\n",
       "   param_lr__C  mean_test_score  \n",
       "0          5.0         0.787660  \n",
       "1         50.0         0.782755  \n",
       "3        100.0         0.782588  \n",
       "2          NaN         0.781227  "
      ]
     },
     "execution_count": 168,
     "metadata": {},
     "output_type": "execute_result"
    }
   ],
   "source": [
    "one_out(high_corr_feat,X_train,y_train)"
   ]
  },
  {
   "cell_type": "markdown",
   "id": "a76f5478",
   "metadata": {},
   "source": [
    "##### 4.5 Individual model Recall results with excluded \"hold out\" features<a id='4.5'></a> "
   ]
  },
  {
   "cell_type": "markdown",
   "id": "6a5eccfa",
   "metadata": {},
   "source": [
    "In order to maintain data continuity during individual model evaluation, we need to use scaled data."
   ]
  },
  {
   "cell_type": "code",
   "execution_count": 169,
   "id": "2b4769f9",
   "metadata": {},
   "outputs": [],
   "source": [
    "sc = StandardScaler()\n",
    "sX_train = pd.DataFrame(sc.fit_transform(X_train),columns=X_train.columns)\n",
    "sX_test = pd.DataFrame(sc.transform(X_test),columns=X_test.columns)"
   ]
  },
  {
   "cell_type": "code",
   "execution_count": null,
   "id": "e05c40e6",
   "metadata": {},
   "outputs": [],
   "source": []
  },
  {
   "cell_type": "markdown",
   "id": "f4954924",
   "metadata": {},
   "source": [
    "Remove just Mode and run a logistic regression on the training set, using top performing parameters"
   ]
  },
  {
   "cell_type": "code",
   "execution_count": 170,
   "id": "d57104a0",
   "metadata": {},
   "outputs": [
    {
     "name": "stdout",
     "output_type": "stream",
     "text": [
      "Recall score =  0.809036463351886\n",
      "Classification Report for Training Data\n",
      "              precision    recall  f1-score   support\n",
      "\n",
      "           N       0.95      0.96      0.95      1323\n",
      "           P       0.85      0.79      0.82       141\n",
      "           S       0.69      0.68      0.69       236\n",
      "\n",
      "    accuracy                           0.91      1700\n",
      "   macro avg       0.83      0.81      0.82      1700\n",
      "weighted avg       0.90      0.91      0.90      1700\n",
      "\n"
     ]
    }
   ],
   "source": [
    "xMode = sX_train.drop(columns=['Mode'])\n",
    "lrs1 = LogisticRegression(solver = 'saga', max_iter = 8000, C = 1, penalty='l1')\n",
    "lrs1.fit(xMode, y_train)\n",
    "print('Recall score = ',recall_score(y_train, lrs1.predict(xMode),average='macro'))\n",
    "print(\"Classification Report for Training Data\")\n",
    "print(classification_report(y_train, lrs1.predict(xMode)))"
   ]
  },
  {
   "cell_type": "markdown",
   "id": "5944a43e",
   "metadata": {},
   "source": [
    "Compare Area Under the Receiver Operating Characteristic Curve (ROC AUC)"
   ]
  },
  {
   "cell_type": "code",
   "execution_count": 171,
   "id": "161a2583",
   "metadata": {},
   "outputs": [
    {
     "data": {
      "text/plain": [
       "0.9726627300232645"
      ]
     },
     "execution_count": 171,
     "metadata": {},
     "output_type": "execute_result"
    }
   ],
   "source": [
    "roc_auc_score(y_train,lrs1.predict_proba(xMode),multi_class='ovr')"
   ]
  },
  {
   "cell_type": "markdown",
   "id": "60e1c5ab",
   "metadata": {},
   "source": [
    "Run a logistic regression using the same parameters on the training set without removing any feature (for comparison)"
   ]
  },
  {
   "cell_type": "code",
   "execution_count": 172,
   "id": "d0d2e534",
   "metadata": {},
   "outputs": [
    {
     "name": "stdout",
     "output_type": "stream",
     "text": [
      "Recall score =  0.8053030804821026\n",
      "Classification Report for Training Data\n",
      "              precision    recall  f1-score   support\n",
      "\n",
      "           N       0.95      0.96      0.95      1323\n",
      "           P       0.86      0.79      0.82       141\n",
      "           S       0.69      0.67      0.68       236\n",
      "\n",
      "    accuracy                           0.90      1700\n",
      "   macro avg       0.83      0.81      0.82      1700\n",
      "weighted avg       0.90      0.90      0.90      1700\n",
      "\n"
     ]
    }
   ],
   "source": [
    "lrs2 = LogisticRegression(solver = 'saga', max_iter = 8000, C = 1, penalty='l1')\n",
    "lrs2.fit(sX_train, y_train)\n",
    "print('Recall score = ',recall_score(y_train, lrs2.predict(sX_train),average='macro'))\n",
    "print(\"Classification Report for Training Data\")\n",
    "print(classification_report(y_train, lrs2.predict(sX_train)))"
   ]
  },
  {
   "cell_type": "code",
   "execution_count": 173,
   "id": "d1ad9b39",
   "metadata": {},
   "outputs": [
    {
     "data": {
      "text/plain": [
       "0.9734539276050903"
      ]
     },
     "execution_count": 173,
     "metadata": {},
     "output_type": "execute_result"
    }
   ],
   "source": [
    "roc_auc_score(y_train,lrs2.predict_proba(sX_train),multi_class='ovr')"
   ]
  },
  {
   "cell_type": "markdown",
   "id": "489f99d1",
   "metadata": {},
   "source": [
    "The training set excluding 'Mode' slightly outperforms the original set on recall: 0.82155 vs 0.82018"
   ]
  },
  {
   "cell_type": "markdown",
   "id": "f45ec4ea",
   "metadata": {},
   "source": [
    "Run a logistic regression using the same parameters on the test set, excluding 'Mode' feature"
   ]
  },
  {
   "cell_type": "code",
   "execution_count": 174,
   "id": "63a18f23",
   "metadata": {},
   "outputs": [
    {
     "name": "stdout",
     "output_type": "stream",
     "text": [
      "Recall score =  0.8538113713935646\n",
      "Classification Report for Test Data\n",
      "              precision    recall  f1-score   support\n",
      "\n",
      "           N       0.95      0.96      0.96       332\n",
      "           P       0.94      0.89      0.91        35\n",
      "           S       0.75      0.71      0.73        59\n",
      "\n",
      "    accuracy                           0.92       426\n",
      "   macro avg       0.88      0.85      0.87       426\n",
      "weighted avg       0.92      0.92      0.92       426\n",
      "\n"
     ]
    }
   ],
   "source": [
    "xModeTEST = sX_test.drop(columns=['Mode'])\n",
    "lrs3 = LogisticRegression(solver = 'saga', max_iter = 8000, C = 1, penalty='l1')\n",
    "lrs3.fit(xModeTEST, y_test)\n",
    "print('Recall score = ',recall_score(y_test, lrs3.predict(xModeTEST),average='macro'))\n",
    "print(\"Classification Report for Test Data\")\n",
    "print(classification_report(y_test, lrs3.predict(xModeTEST)))"
   ]
  },
  {
   "cell_type": "code",
   "execution_count": 175,
   "id": "80954e26",
   "metadata": {},
   "outputs": [
    {
     "data": {
      "text/plain": [
       "0.9765468703639609"
      ]
     },
     "execution_count": 175,
     "metadata": {},
     "output_type": "execute_result"
    }
   ],
   "source": [
    "roc_auc_score(y_test,lrs3.predict_proba(xModeTEST),multi_class='ovr')"
   ]
  },
  {
   "cell_type": "code",
   "execution_count": 176,
   "id": "7ca0dd3f",
   "metadata": {},
   "outputs": [
    {
     "name": "stdout",
     "output_type": "stream",
     "text": [
      "Recall score =  0.842511936365316\n",
      "Classification Report for Test Data\n",
      "              precision    recall  f1-score   support\n",
      "\n",
      "           N       0.94      0.96      0.95       332\n",
      "           P       0.94      0.89      0.91        35\n",
      "           S       0.74      0.68      0.71        59\n",
      "\n",
      "    accuracy                           0.92       426\n",
      "   macro avg       0.87      0.84      0.86       426\n",
      "weighted avg       0.92      0.92      0.92       426\n",
      "\n"
     ]
    }
   ],
   "source": [
    "lrs = LogisticRegression(solver = 'saga', max_iter = 8000, C = 1, penalty='l1')\n",
    "lrs.fit(sX_test, y_test)\n",
    "print('Recall score = ',recall_score(y_test, lrs.predict(sX_test),average='macro'))\n",
    "print(\"Classification Report for Test Data\")\n",
    "print(classification_report(y_test, lrs.predict(sX_test)))"
   ]
  },
  {
   "cell_type": "code",
   "execution_count": 177,
   "id": "272a7554",
   "metadata": {},
   "outputs": [
    {
     "data": {
      "text/plain": [
       "0.9766713027158708"
      ]
     },
     "execution_count": 177,
     "metadata": {},
     "output_type": "execute_result"
    }
   ],
   "source": [
    "roc_auc_score(y_test,lrs.predict_proba(sX_test),multi_class='ovr')\n"
   ]
  },
  {
   "cell_type": "markdown",
   "id": "75e5f745",
   "metadata": {},
   "source": [
    "Again, the test set excluding 'Mode' slightly outperforms the original set on recall: 0.8414 vs 0.8128."
   ]
  },
  {
   "cell_type": "code",
   "execution_count": null,
   "id": "c644073b",
   "metadata": {},
   "outputs": [],
   "source": []
  },
  {
   "cell_type": "markdown",
   "id": "5aac07a0",
   "metadata": {},
   "source": [
    "Now we check on the neffect of removing both 'Width' and 'Mode'"
   ]
  },
  {
   "cell_type": "code",
   "execution_count": 178,
   "id": "33f6120d",
   "metadata": {},
   "outputs": [
    {
     "name": "stdout",
     "output_type": "stream",
     "text": [
      "Recall score =  0.809036463351886\n",
      "Classification Report for Training Data\n",
      "              precision    recall  f1-score   support\n",
      "\n",
      "           N       0.95      0.96      0.95      1323\n",
      "           P       0.85      0.79      0.82       141\n",
      "           S       0.69      0.68      0.69       236\n",
      "\n",
      "    accuracy                           0.91      1700\n",
      "   macro avg       0.83      0.81      0.82      1700\n",
      "weighted avg       0.90      0.91      0.90      1700\n",
      "\n"
     ]
    }
   ],
   "source": [
    "xW = sX_train.drop(columns=['Mode','Width'])\n",
    "lrs5 = LogisticRegression(solver = 'saga', max_iter = 8000, C = 1, penalty='l1')\n",
    "lrs5.fit(xW, y_train)\n",
    "print('Recall score = ',recall_score(y_train, lrs5.predict(xW),average='macro'))\n",
    "print(\"Classification Report for Training Data\")\n",
    "print(classification_report(y_train, lrs5.predict(xW)))"
   ]
  },
  {
   "cell_type": "code",
   "execution_count": 179,
   "id": "8aec71b1",
   "metadata": {},
   "outputs": [
    {
     "name": "stdout",
     "output_type": "stream",
     "text": [
      "Recall score =  0.8538113713935646\n",
      "Classification Report for Training Data\n",
      "              precision    recall  f1-score   support\n",
      "\n",
      "           N       0.95      0.96      0.96       332\n",
      "           P       0.94      0.89      0.91        35\n",
      "           S       0.75      0.71      0.73        59\n",
      "\n",
      "    accuracy                           0.92       426\n",
      "   macro avg       0.88      0.85      0.87       426\n",
      "weighted avg       0.92      0.92      0.92       426\n",
      "\n"
     ]
    }
   ],
   "source": [
    "xWtest = sX_test.drop(columns=['Mode','Width'])\n",
    "lrs6 = LogisticRegression(solver = 'saga', max_iter = 8000, C = 1, penalty='l1')\n",
    "lrs6.fit(xWtest, y_test)\n",
    "print('Recall score = ',recall_score(y_test, lrs6.predict(xWtest),average='macro'))\n",
    "print(\"Classification Report for Training Data\")\n",
    "print(classification_report(y_test, lrs6.predict(xWtest)))"
   ]
  },
  {
   "cell_type": "code",
   "execution_count": 180,
   "id": "591ef091",
   "metadata": {},
   "outputs": [
    {
     "data": {
      "text/plain": [
       "0.9765468703639609"
      ]
     },
     "execution_count": 180,
     "metadata": {},
     "output_type": "execute_result"
    }
   ],
   "source": [
    "roc_auc_score(y_test,lrs6.predict_proba(xWtest),multi_class='ovr')\n"
   ]
  },
  {
   "cell_type": "markdown",
   "id": "7845ae84",
   "metadata": {},
   "source": [
    "These results seem to indicate that the removal of both 'Width' and 'Mode' from the features considered by the model, improve the recall performance thereof."
   ]
  },
  {
   "cell_type": "code",
   "execution_count": null,
   "id": "6cf9b44e",
   "metadata": {},
   "outputs": [],
   "source": []
  },
  {
   "cell_type": "code",
   "execution_count": 185,
   "id": "204763e1",
   "metadata": {},
   "outputs": [
    {
     "name": "stdout",
     "output_type": "stream",
     "text": [
      "Recall score for Class P =  0.7872340425531915\n",
      "Classification Report for Training Data\n",
      "              precision    recall  f1-score   support\n",
      "\n",
      "           N       0.95      0.96      0.95      1323\n",
      "           P       0.86      0.79      0.82       141\n",
      "           S       0.69      0.67      0.68       236\n",
      "\n",
      "    accuracy                           0.90      1700\n",
      "   macro avg       0.83      0.81      0.82      1700\n",
      "weighted avg       0.90      0.90      0.90      1700\n",
      "\n"
     ]
    }
   ],
   "source": [
    "lrP = LogisticRegression(solver = 'saga', max_iter = 8000, C = 1, penalty='l1')\n",
    "lrP.fit(sX_train, y_train)\n",
    "print('Recall score for Class P = ',recall_score(y_train, lrP.predict(sX_train),average='macro',labels='P'))\n",
    "print(\"Classification Report for Training Data\")\n",
    "print(classification_report(y_train, lrP.predict(sX_train)))"
   ]
  },
  {
   "cell_type": "code",
   "execution_count": null,
   "id": "8c030ab0",
   "metadata": {},
   "outputs": [],
   "source": []
  },
  {
   "cell_type": "markdown",
   "id": "6b39c56d",
   "metadata": {},
   "source": [
    "(0) This is a very good notebook, but I suggest that you reorganize it so that in the \"Pre-Processing and Training\" part you only deal with one model--say LogisticRegression, and then use the results of that model to inform the decision of what models to use in the \"Modeling\" notebook, how many and how--in order to optimize what metric. The remaining comments aim at suggesting how to conduct this reorganization, by suggesting what to include in each notebook. \n",
    "\n"
   ]
  },
  {
   "cell_type": "markdown",
   "id": "6a205997",
   "metadata": {},
   "source": [
    "(1) Pre-processing and Training: the goal is to use Logistic Regression (LogReg) to investigate: * Effect of the imbalance among the classes * Hyper-parameter tuning * Performance evaluation of models built * Identify what metric to optimize for, among: precision, recall, f-1, any other (e.g., business cost-based) * The effect of using highly correlated features * (Optional): the effect of using \"Leave one Out\" categorical encoding versus dummy variables (a) Just for fun, verify if the split produced by train/test split indeed preserved the size proportion among the classes for X_train, X_test, y_train, y_test--before building the first LogReg model.\n",
    "\n",
    "(b) You wrote: \"The model performs well, and even does better for the test set than the training set across the board (better precision, recall, and F1 scores for all 3 classes)\" There are two different types of evaluations we need to do here:\n",
    "(b.1) Is there overfitting? In order to determine this we compare the performance metrics of the classification reports for the training set and test set, pairwise: class 0 precision vs class 1 precision; class 0 recall vs class 1 recall; class 0 f-1 vs class 1 f-1. When you do that, you will see that your statement does not hold. Thus, in theory, one might want to try regularization, a.k.a. hyper-parameter tuning of parameter C with some details discussed below. \n",
    "(b.2) So, we want to do regularization due to the overfitting observed in (b.1) ... and you did that ... but ... \n",
    "(b.2.1) No need to include the long doc-page, just include a hyperlink to the doc page. \n",
    "(b.2.2) When doing regularization, one wants to shorten the gap between training performance and test performance, and in this case one would need to choose the metric that will be use in the GridSearch optimization, which is described by the parameter 'scoring'. Do you think that 'accuracy' would be appropriate? Why not precision, or recall, or f-1? Which one would you use based on the definition of precision, recall, and f-1 and the underlying business problem. Usually, choosing the appropriate metric is tied to the following question posed to the client: what are you able to better tolerate: (A) false positives, at the expense of having to deal with false negatives? (B) false negatives, at the expense of having to deal with false positives? (C) some compromise between (A) and (B) By using the answer/s from the client, you can then decide to optimize for precision, or recall, or f-1 (or some other ad-hoc metric that you would need to build to capture the requirements of your client.) \n",
    "(b.2.3) Think about whether you need to try different solvers? Would this make any difference with respect to the goal, which is to see if overfitting can be improved? \n",
    "(b.2.4) Notice that there are two types of regularization supported by LogisticRegression from scikit-learn. They should also be part of the list of hyper-parameters to be used ... https://scikit-learn.org/stable/modules/generated/sklearn.linear_model.LogisticRegression.html ... take a look at parameter 'penalty', which has default value of 'l2', which is usually referred to as \"L2-Regularization\". You can read the ISLR (*), chapter 6, and more specifically section 6.2. L2-regularization is also called \"Lasso\", and L1-Regularization is also called \"Ridge\". In conclusion, you can try with both values of this parameter ... penalty = ['l1', 'l2'] (*) https://hastie.su.domains/ISLR2/ISLRv2_website.pdf \n",
    "(c) Once you find the best mix of parameters for the perfomancce metric of choice, you can build the LogReg model for such mix and compare the performance of this model with respect to the previous one by using the classification report, as described above. Did the train/test gap diminish? \n",
    "(d) Also show the confusion matrices for both models (test set), and the ROC curves with AUC values. \n",
    "(e) Once you compare both models: >> Which one is the best model? >> Is there room for improvement? >> Is the room for improvement connected with the imbalance among the classes? >> What is the appropriate performance metric one would need to optimize for, in alignment with the business problem? \n",
    "(f) If you want to explore the effect of using highly correlated features, you can successively build LogReg models for all pairs (a, b) of features that are highly correlated such that you include one and not the other--perhaps randomly chosen. To simplify, you can use the same optimal hype-parameters from the analysis above. \n",
    "(g) If you want to explore the effect of using \"Leave one Out\" categorical encoding versus dummy variables, read about this by browsing some of the results of the Google search ... https://www.google.com/search?q=leave+one+out+encoding+sklearn&oq=leave+one+out+encoding+s&aqs=chrome.0.0i512j69i57j0i390.7896j0j15&sourceid=chrome&ie=UTF-8 \n"
   ]
  },
  {
   "cell_type": "markdown",
   "id": "09e7abda",
   "metadata": {},
   "source": [
    "(2) Modeling Notebook: In this notebook you want to use the notes I shared with you on imbalanced classification problems to combine a selection of over-sampling, and under-sampling techniques (implemented by package imblearn (+)) with classification algorithms, all of which would need hyper-parameter tuning: RandomForestClassifier, XGBOOST Classifier, LGBM Classifier (these are covered in case studies in the curriculum). Feel free to add more models, but be midnful of the multiplicative nature of combining N resampling techniques with M algorithms, which means building N * M models ... (+) https://imbalanced-learn.org/stable/ Some suggestions about this: \n",
    "(a) To avoid code repetition, you may want to create functions and pipelines to accomodate all these variations. \n",
    "(b) For hyper-parameter tuning, you would be optimizing for the performance metric chosen in the previous notebook \n",
    "(c) Continue to use classification report, confusion matrix, and ROC/AUC to evaluate the performance of the optimal models with respect to the **SAME** train/test split used in the Pre-Processing and Training notebook \n",
    "(d) Build a comparison table with **all** the models built at this point: combining the results from this notebook and the previous notebook \n",
    "(e) Analyze this comparison table: >> What is the best model and why? >> Are there opportunities to *combine* models, and how would you do this?--Reseach \"model ensembling\" After this, the next activity would be interpretability ... we can talk about this when we meet again ... Let me know if you have any questions ..."
   ]
  }
 ],
 "metadata": {
  "kernelspec": {
   "display_name": "Python 3",
   "language": "python",
   "name": "python3"
  },
  "language_info": {
   "codemirror_mode": {
    "name": "ipython",
    "version": 3
   },
   "file_extension": ".py",
   "mimetype": "text/x-python",
   "name": "python",
   "nbconvert_exporter": "python",
   "pygments_lexer": "ipython3",
   "version": "3.8.8"
  }
 },
 "nbformat": 4,
 "nbformat_minor": 5
}
