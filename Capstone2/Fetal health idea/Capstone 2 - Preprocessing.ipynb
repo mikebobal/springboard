{
 "cells": [
  {
   "cell_type": "markdown",
   "id": "01769da5",
   "metadata": {},
   "source": [
    "### Table of Contents\n",
    "\n",
    "* [1.0 Purpose](#1.0)\n",
    "    * [1.1 Imports](#1.1)\n",
    "    * [1.2 Load the data](#1.2)\n",
    "    * [1.3 Inspect the data](#1.3)\n",
    "* [2.1 Proportion of classes](#2.1)\n",
    "    * [2.2 Dummy encoding](#2.2)\n",
    "* [3.1 Split dataframe into features and target](#3.1)\n",
    "    * [3.2 Preliminary modeling](#3.2)\n",
    "    * [3.3 Preliminary model confusion matrix and classification report](#3.3)\n",
    "* [4.0 Logistic regression model](#4.0)    \n",
    "    * [4.1 Tuning hyperparameters using a pipeline and GridSearchCV](#4.1)\n",
    "    * [4.2 Build a function to run GridSearchCV](#4.2)\n",
    "    * [4.3 Build a function to exclude highly correlated features](#4.3)\n",
    "    * [4.4 Recall results with \"hold out\" features to loop through](#4.4)\n",
    "    * [4.5 Individual model Recall results with excluded \"hold out\" features](#4.5)"
   ]
  },
  {
   "cell_type": "markdown",
   "id": "bc8c2bf2",
   "metadata": {},
   "source": [
    "##### 1.0 Purpose<a id='1.0'></a>"
   ]
  },
  {
   "cell_type": "markdown",
   "id": "c4cf3c1a",
   "metadata": {},
   "source": [
    "In the previous notebook, we completed exploratory data analysis. The data was visualized in terms of correlations, both between features and targets, and between features and other features.\n",
    "\n",
    "Now, in this notebook, we are in the preprocessing and training phase of this Capstone 2 project. We will be putting together different models for the training/testing process, then checking for accuracy.\n"
   ]
  },
  {
   "cell_type": "markdown",
   "id": "80946f0e",
   "metadata": {},
   "source": [
    "##### 1.1 Imports<a id='1.1'></a>"
   ]
  },
  {
   "cell_type": "code",
   "execution_count": 36,
   "id": "8d41a63b",
   "metadata": {},
   "outputs": [],
   "source": [
    "import numpy as np\n",
    "import scipy as sp\n",
    "import pandas as pd\n",
    "from datetime import datetime\n",
    "#\n",
    "# plotting and visualization\n",
    "#\n",
    "import matplotlib as mpl\n",
    "import matplotlib.cm as cm\n",
    "from matplotlib.colors import ListedColormap\n",
    "import matplotlib.pyplot as plt\n",
    "#\n",
    "import seaborn as sns\n",
    "#\n",
    "# modeling\n",
    "#\n",
    "from sklearn.preprocessing import OneHotEncoder as OHE\n",
    "import sklearn.model_selection\n",
    "from sklearn.model_selection import train_test_split\n",
    "from sklearn.model_selection import KFold\n",
    "from sklearn.linear_model import LogisticRegression, LogisticRegressionCV\n",
    "from sklearn.model_selection import StratifiedKFold\n",
    "from sklearn import linear_model\n",
    "from sklearn.metrics import accuracy_score, f1_score, roc_auc_score, recall_score, precision_score\n",
    "from sklearn.metrics import classification_report\n",
    "from sklearn.metrics import confusion_matrix\n",
    "from sklearn.metrics import ConfusionMatrixDisplay\n",
    "from sklearn.model_selection import GridSearchCV\n",
    "from sklearn.preprocessing import StandardScaler\n",
    "from sklearn.pipeline import Pipeline"
   ]
  },
  {
   "cell_type": "markdown",
   "id": "d78ddeaf",
   "metadata": {},
   "source": [
    "##### 1.2 Load data<a id='1.2'></a>"
   ]
  },
  {
   "cell_type": "code",
   "execution_count": 37,
   "id": "72bd6912",
   "metadata": {},
   "outputs": [
    {
     "name": "stdout",
     "output_type": "stream",
     "text": [
      "The main data have  2126  rows and  22  columns\n",
      "\n",
      "column names: \n",
      "\n",
      "LB\n",
      "AC\n",
      "FM\n",
      "UC\n",
      "ASTV\n",
      "MSTV\n",
      "ALTV\n",
      "MLTV\n",
      "DL\n",
      "DS\n",
      "DP\n",
      "Width\n",
      "Min\n",
      "Max\n",
      "Nmax\n",
      "Nzeros\n",
      "Mode\n",
      "Mean\n",
      "Median\n",
      "Variance\n",
      "Tendency\n",
      "NSP\n"
     ]
    }
   ],
   "source": [
    "path = r'C:\\Users\\Joseph Shire\\Documents\\Springboard Python Data Science\\Python Scripts\\springboard\\Capstone2\\Fetal health idea'\n",
    "main_file = r'\\ctg_final.csv'\n",
    "df = pd.read_csv(path+main_file)\n",
    "fc = r'\\ctg_corr.csv'\n",
    "fcorr = pd.read_csv(path+fc)\n",
    "tc = r'\\ctg_corr_NSP.csv'\n",
    "tcorr = pd.read_csv(path+tc)\n",
    "\n",
    "print('The main data have ', df.shape[0], ' rows and ', df.shape[1], ' columns\\n')\n",
    "print('column names: \\n')\n",
    "print('\\n'.join(list(df.columns)))"
   ]
  },
  {
   "cell_type": "markdown",
   "id": "ed8ed659",
   "metadata": {},
   "source": [
    "Look at the correlation dataframes"
   ]
  },
  {
   "cell_type": "code",
   "execution_count": 38,
   "id": "3940720f",
   "metadata": {},
   "outputs": [
    {
     "data": {
      "text/html": [
       "<div>\n",
       "<style scoped>\n",
       "    .dataframe tbody tr th:only-of-type {\n",
       "        vertical-align: middle;\n",
       "    }\n",
       "\n",
       "    .dataframe tbody tr th {\n",
       "        vertical-align: top;\n",
       "    }\n",
       "\n",
       "    .dataframe thead th {\n",
       "        text-align: right;\n",
       "    }\n",
       "</style>\n",
       "<table border=\"1\" class=\"dataframe\">\n",
       "  <thead>\n",
       "    <tr style=\"text-align: right;\">\n",
       "      <th></th>\n",
       "      <th>var_1</th>\n",
       "      <th>var_2</th>\n",
       "      <th>correlation</th>\n",
       "      <th>abs_corr</th>\n",
       "      <th>corr_level</th>\n",
       "    </tr>\n",
       "  </thead>\n",
       "  <tbody>\n",
       "    <tr>\n",
       "      <th>0</th>\n",
       "      <td>DP</td>\n",
       "      <td>NSP_3.0</td>\n",
       "      <td>0.580253</td>\n",
       "      <td>0.580253</td>\n",
       "      <td>MID</td>\n",
       "    </tr>\n",
       "    <tr>\n",
       "      <th>1</th>\n",
       "      <td>ASTV</td>\n",
       "      <td>NSP_1.0</td>\n",
       "      <td>-0.493391</td>\n",
       "      <td>0.493391</td>\n",
       "      <td>LOW</td>\n",
       "    </tr>\n",
       "    <tr>\n",
       "      <th>2</th>\n",
       "      <td>ALTV</td>\n",
       "      <td>NSP_1.0</td>\n",
       "      <td>-0.489400</td>\n",
       "      <td>0.489400</td>\n",
       "      <td>LOW</td>\n",
       "    </tr>\n",
       "    <tr>\n",
       "      <th>3</th>\n",
       "      <td>NSP_3.0</td>\n",
       "      <td>Mode</td>\n",
       "      <td>-0.419051</td>\n",
       "      <td>0.419051</td>\n",
       "      <td>LOW</td>\n",
       "    </tr>\n",
       "    <tr>\n",
       "      <th>4</th>\n",
       "      <td>ALTV</td>\n",
       "      <td>NSP_2.0</td>\n",
       "      <td>0.418659</td>\n",
       "      <td>0.418659</td>\n",
       "      <td>LOW</td>\n",
       "    </tr>\n",
       "    <tr>\n",
       "      <th>5</th>\n",
       "      <td>NSP_3.0</td>\n",
       "      <td>Mean</td>\n",
       "      <td>-0.416886</td>\n",
       "      <td>0.416886</td>\n",
       "      <td>LOW</td>\n",
       "    </tr>\n",
       "    <tr>\n",
       "      <th>6</th>\n",
       "      <td>Median</td>\n",
       "      <td>NSP_3.0</td>\n",
       "      <td>-0.384857</td>\n",
       "      <td>0.384857</td>\n",
       "      <td>LOW</td>\n",
       "    </tr>\n",
       "    <tr>\n",
       "      <th>7</th>\n",
       "      <td>AC</td>\n",
       "      <td>NSP_1.0</td>\n",
       "      <td>0.369470</td>\n",
       "      <td>0.369470</td>\n",
       "      <td>LOW</td>\n",
       "    </tr>\n",
       "    <tr>\n",
       "      <th>8</th>\n",
       "      <td>NSP_2.0</td>\n",
       "      <td>ASTV</td>\n",
       "      <td>0.348213</td>\n",
       "      <td>0.348213</td>\n",
       "      <td>LOW</td>\n",
       "    </tr>\n",
       "    <tr>\n",
       "      <th>9</th>\n",
       "      <td>LB</td>\n",
       "      <td>NSP_2.0</td>\n",
       "      <td>0.341922</td>\n",
       "      <td>0.341922</td>\n",
       "      <td>LOW</td>\n",
       "    </tr>\n",
       "  </tbody>\n",
       "</table>\n",
       "</div>"
      ],
      "text/plain": [
       "     var_1    var_2  correlation  abs_corr corr_level\n",
       "0       DP  NSP_3.0     0.580253  0.580253        MID\n",
       "1     ASTV  NSP_1.0    -0.493391  0.493391        LOW\n",
       "2     ALTV  NSP_1.0    -0.489400  0.489400        LOW\n",
       "3  NSP_3.0     Mode    -0.419051  0.419051        LOW\n",
       "4     ALTV  NSP_2.0     0.418659  0.418659        LOW\n",
       "5  NSP_3.0     Mean    -0.416886  0.416886        LOW\n",
       "6   Median  NSP_3.0    -0.384857  0.384857        LOW\n",
       "7       AC  NSP_1.0     0.369470  0.369470        LOW\n",
       "8  NSP_2.0     ASTV     0.348213  0.348213        LOW\n",
       "9       LB  NSP_2.0     0.341922  0.341922        LOW"
      ]
     },
     "execution_count": 38,
     "metadata": {},
     "output_type": "execute_result"
    }
   ],
   "source": [
    "tcorr.head(10)"
   ]
  },
  {
   "cell_type": "code",
   "execution_count": 39,
   "id": "a9bd8aa1",
   "metadata": {},
   "outputs": [
    {
     "data": {
      "text/html": [
       "<div>\n",
       "<style scoped>\n",
       "    .dataframe tbody tr th:only-of-type {\n",
       "        vertical-align: middle;\n",
       "    }\n",
       "\n",
       "    .dataframe tbody tr th {\n",
       "        vertical-align: top;\n",
       "    }\n",
       "\n",
       "    .dataframe thead th {\n",
       "        text-align: right;\n",
       "    }\n",
       "</style>\n",
       "<table border=\"1\" class=\"dataframe\">\n",
       "  <thead>\n",
       "    <tr style=\"text-align: right;\">\n",
       "      <th></th>\n",
       "      <th>var_1</th>\n",
       "      <th>var_2</th>\n",
       "      <th>correlation</th>\n",
       "      <th>abs_corr</th>\n",
       "      <th>corr_level</th>\n",
       "    </tr>\n",
       "  </thead>\n",
       "  <tbody>\n",
       "    <tr>\n",
       "      <th>0</th>\n",
       "      <td>Median</td>\n",
       "      <td>Mean</td>\n",
       "      <td>0.948251</td>\n",
       "      <td>0.948251</td>\n",
       "      <td>HIGH</td>\n",
       "    </tr>\n",
       "    <tr>\n",
       "      <th>1</th>\n",
       "      <td>Mode</td>\n",
       "      <td>Median</td>\n",
       "      <td>0.933399</td>\n",
       "      <td>0.933399</td>\n",
       "      <td>HIGH</td>\n",
       "    </tr>\n",
       "    <tr>\n",
       "      <th>2</th>\n",
       "      <td>Min</td>\n",
       "      <td>Width</td>\n",
       "      <td>-0.898519</td>\n",
       "      <td>0.898519</td>\n",
       "      <td>HIGH</td>\n",
       "    </tr>\n",
       "    <tr>\n",
       "      <th>3</th>\n",
       "      <td>Mode</td>\n",
       "      <td>Mean</td>\n",
       "      <td>0.893412</td>\n",
       "      <td>0.893412</td>\n",
       "      <td>HIGH</td>\n",
       "    </tr>\n",
       "    <tr>\n",
       "      <th>4</th>\n",
       "      <td>LB</td>\n",
       "      <td>Median</td>\n",
       "      <td>0.789246</td>\n",
       "      <td>0.789246</td>\n",
       "      <td>HIGH</td>\n",
       "    </tr>\n",
       "    <tr>\n",
       "      <th>5</th>\n",
       "      <td>Width</td>\n",
       "      <td>Nmax</td>\n",
       "      <td>0.747071</td>\n",
       "      <td>0.747071</td>\n",
       "      <td>HIGH</td>\n",
       "    </tr>\n",
       "    <tr>\n",
       "      <th>6</th>\n",
       "      <td>Mean</td>\n",
       "      <td>LB</td>\n",
       "      <td>0.723121</td>\n",
       "      <td>0.723121</td>\n",
       "      <td>HIGH</td>\n",
       "    </tr>\n",
       "    <tr>\n",
       "      <th>7</th>\n",
       "      <td>Mode</td>\n",
       "      <td>LB</td>\n",
       "      <td>0.708993</td>\n",
       "      <td>0.708993</td>\n",
       "      <td>HIGH</td>\n",
       "    </tr>\n",
       "    <tr>\n",
       "      <th>8</th>\n",
       "      <td>Max</td>\n",
       "      <td>Width</td>\n",
       "      <td>0.690769</td>\n",
       "      <td>0.690769</td>\n",
       "      <td>MID</td>\n",
       "    </tr>\n",
       "    <tr>\n",
       "      <th>9</th>\n",
       "      <td>Min</td>\n",
       "      <td>Nmax</td>\n",
       "      <td>-0.670287</td>\n",
       "      <td>0.670287</td>\n",
       "      <td>MID</td>\n",
       "    </tr>\n",
       "  </tbody>\n",
       "</table>\n",
       "</div>"
      ],
      "text/plain": [
       "    var_1   var_2  correlation  abs_corr corr_level\n",
       "0  Median    Mean     0.948251  0.948251       HIGH\n",
       "1    Mode  Median     0.933399  0.933399       HIGH\n",
       "2     Min   Width    -0.898519  0.898519       HIGH\n",
       "3    Mode    Mean     0.893412  0.893412       HIGH\n",
       "4      LB  Median     0.789246  0.789246       HIGH\n",
       "5   Width    Nmax     0.747071  0.747071       HIGH\n",
       "6    Mean      LB     0.723121  0.723121       HIGH\n",
       "7    Mode      LB     0.708993  0.708993       HIGH\n",
       "8     Max   Width     0.690769  0.690769        MID\n",
       "9     Min    Nmax    -0.670287  0.670287        MID"
      ]
     },
     "execution_count": 39,
     "metadata": {},
     "output_type": "execute_result"
    }
   ],
   "source": [
    "fcorr.head(10)"
   ]
  },
  {
   "cell_type": "markdown",
   "id": "5d5f2aa2",
   "metadata": {},
   "source": [
    "##### 2.1 Proportion of classes<a id='2.1'></a>"
   ]
  },
  {
   "cell_type": "markdown",
   "id": "6090a565",
   "metadata": {},
   "source": [
    "When building classification models, it is essential to know right away the number of samples per class, proportionally to the total number of samples."
   ]
  },
  {
   "cell_type": "markdown",
   "id": "ad58298d",
   "metadata": {},
   "source": [
    "For our fetal health data, the diagnostic categories are: Normal = N, Suspect = S, Pathological = P."
   ]
  },
  {
   "cell_type": "code",
   "execution_count": 40,
   "id": "b2eb7c68",
   "metadata": {},
   "outputs": [],
   "source": [
    "nsp = ['N','S','P']\n",
    "df['NSP'] = df['NSP'].replace([1.0,2.0,3.0],nsp)"
   ]
  },
  {
   "cell_type": "code",
   "execution_count": 41,
   "id": "a1af8246",
   "metadata": {},
   "outputs": [],
   "source": [
    "class_counts_nsp = df['NSP'].value_counts()\n",
    "class_p_nsp = pd.Series([(x / df.shape[0]) * 100.00 for x in class_counts_nsp])"
   ]
  },
  {
   "cell_type": "markdown",
   "id": "1b5fb937",
   "metadata": {},
   "source": [
    "Visualize Proportionality"
   ]
  },
  {
   "cell_type": "code",
   "execution_count": 42,
   "id": "746ae9db",
   "metadata": {},
   "outputs": [
    {
     "data": {
      "image/png": "[encoded data removed]",
      "text/plain": [
       "<Figure size 432x288 with 1 Axes>"
      ]
     },
     "metadata": {
      "needs_background": "light"
     },
     "output_type": "display_data"
    }
   ],
   "source": [
    "fig, ax = plt.subplots()\n",
    "ax.bar(class_counts_nsp.index, class_counts_nsp)\n",
    "ax.set_xticks([0,1,2])\n",
    "\n",
    "a=ax.get_xticks().tolist()\n",
    "for i in a:    \n",
    "    a[i] = nsp[i]+'\\n' + class_p_nsp.round(2).astype(str)[i] + '%'+'\\n' +'n = '+class_counts_nsp.astype(str)[i]\n",
    "ax.set_xticklabels(a)\n",
    "ax.set_ylabel('Count')\n",
    "ax.set_xlabel('Class')\n",
    "ax.set_title('Cardiotocogram NSP class distribution',\n",
    "              fontsize = 10)\n",
    "plt.show()"
   ]
  },
  {
   "cell_type": "markdown",
   "id": "8272c402",
   "metadata": {},
   "source": [
    "Important decision on removing a class"
   ]
  },
  {
   "cell_type": "markdown",
   "id": "464046d5",
   "metadata": {},
   "source": [
    "Due to the nature of health sciences having the main purpose of supporting well-being of patients, we have determined to eliminate the \"Suspect\" class from our initial analysis. At-risk fetuses are either in health danger (Pathological class), or not (Normal class). In the next notebook, we will endeavour to reclassify these 295 patients into one of the binary classes of Normal or Pathological, and inspect the results through graphical visualizations."
   ]
  },
  {
   "cell_type": "markdown",
   "id": "e3522db9",
   "metadata": {},
   "source": [
    "Having made this determination, we will thus remove \"S\" class datapoints from our data during this preprocessing step."
   ]
  },
  {
   "cell_type": "code",
   "execution_count": 43,
   "id": "e2fbd191",
   "metadata": {},
   "outputs": [
    {
     "data": {
      "text/plain": [
       "N    1655\n",
       "P     176\n",
       "Name: NSP, dtype: int64"
      ]
     },
     "execution_count": 43,
     "metadata": {},
     "output_type": "execute_result"
    }
   ],
   "source": [
    "df2 = df[df['NSP'] != 'S']\n",
    "df2['NSP'].value_counts()"
   ]
  },
  {
   "cell_type": "code",
   "execution_count": 44,
   "id": "551358a6",
   "metadata": {},
   "outputs": [],
   "source": [
    "class_counts_np = df2['NSP'].value_counts()\n",
    "class_p_np = pd.Series([(x / df2.shape[0]) * 100.00 for x in class_counts_np])"
   ]
  },
  {
   "cell_type": "code",
   "execution_count": 45,
   "id": "11c9586a",
   "metadata": {},
   "outputs": [
    {
     "data": {
      "image/png": "[encoded data removed]",
      "text/plain": [
       "<Figure size 432x288 with 1 Axes>"
      ]
     },
     "metadata": {
      "needs_background": "light"
     },
     "output_type": "display_data"
    }
   ],
   "source": [
    "fig, ax = plt.subplots()\n",
    "ax.bar(class_counts_np.index, class_counts_np)\n",
    "ax.set_xticks([0,1])\n",
    "\n",
    "a=ax.get_xticks().tolist()\n",
    "for i in a:    \n",
    "    a[i] = nsp[i]+'\\n' + class_p_np.round(2).astype(str)[i] + '%'+'\\n' +'n = '+class_counts_np.astype(str)[i]\n",
    "ax.set_xticklabels(a)\n",
    "ax.set_ylabel('Count')\n",
    "ax.set_xlabel('Class')\n",
    "ax.set_title('Cardiotocogram NP class distribution',\n",
    "              fontsize = 10)\n",
    "plt.show()"
   ]
  },
  {
   "cell_type": "markdown",
   "id": "14195b55",
   "metadata": {},
   "source": [
    "##### 2.2 Dummy encode only categorical feature<a id='2.2'></a>"
   ]
  },
  {
   "cell_type": "markdown",
   "id": "21ce93d5",
   "metadata": {},
   "source": [
    "The feature \"Tendency\" is a categorical variable, and will need dummies applied"
   ]
  },
  {
   "cell_type": "code",
   "execution_count": 46,
   "id": "fb26d45b",
   "metadata": {},
   "outputs": [
    {
     "data": {
      "text/plain": [
       " 0.0    978\n",
       " 1.0    703\n",
       "-1.0    150\n",
       "Name: Tendency, dtype: int64"
      ]
     },
     "execution_count": 46,
     "metadata": {},
     "output_type": "execute_result"
    }
   ],
   "source": [
    "df2['Tendency'].value_counts()"
   ]
  },
  {
   "cell_type": "markdown",
   "id": "b245dc64",
   "metadata": {},
   "source": [
    "According to documentaiton, 'Tendency' is histogram tendency: -1=left assymetric; 0=symmetric; 1=right assymetric"
   ]
  },
  {
   "cell_type": "code",
   "execution_count": 47,
   "id": "8b521e30",
   "metadata": {},
   "outputs": [
    {
     "data": {
      "text/html": [
       "<div>\n",
       "<style scoped>\n",
       "    .dataframe tbody tr th:only-of-type {\n",
       "        vertical-align: middle;\n",
       "    }\n",
       "\n",
       "    .dataframe tbody tr th {\n",
       "        vertical-align: top;\n",
       "    }\n",
       "\n",
       "    .dataframe thead th {\n",
       "        text-align: right;\n",
       "    }\n",
       "</style>\n",
       "<table border=\"1\" class=\"dataframe\">\n",
       "  <thead>\n",
       "    <tr style=\"text-align: right;\">\n",
       "      <th></th>\n",
       "      <th>LB</th>\n",
       "      <th>AC</th>\n",
       "      <th>FM</th>\n",
       "      <th>UC</th>\n",
       "      <th>ASTV</th>\n",
       "      <th>MSTV</th>\n",
       "      <th>ALTV</th>\n",
       "      <th>MLTV</th>\n",
       "      <th>DL</th>\n",
       "      <th>DS</th>\n",
       "      <th>...</th>\n",
       "      <th>Max</th>\n",
       "      <th>Nmax</th>\n",
       "      <th>Nzeros</th>\n",
       "      <th>Mode</th>\n",
       "      <th>Mean</th>\n",
       "      <th>Median</th>\n",
       "      <th>Variance</th>\n",
       "      <th>NSP</th>\n",
       "      <th>Tendency_0.0</th>\n",
       "      <th>Tendency_1.0</th>\n",
       "    </tr>\n",
       "  </thead>\n",
       "  <tbody>\n",
       "    <tr>\n",
       "      <th>1</th>\n",
       "      <td>132.0</td>\n",
       "      <td>4.0</td>\n",
       "      <td>0.0</td>\n",
       "      <td>4.0</td>\n",
       "      <td>17.0</td>\n",
       "      <td>2.1</td>\n",
       "      <td>0.0</td>\n",
       "      <td>10.4</td>\n",
       "      <td>2.0</td>\n",
       "      <td>0.0</td>\n",
       "      <td>...</td>\n",
       "      <td>198.0</td>\n",
       "      <td>6.0</td>\n",
       "      <td>1.0</td>\n",
       "      <td>141.0</td>\n",
       "      <td>136.0</td>\n",
       "      <td>140.0</td>\n",
       "      <td>12.0</td>\n",
       "      <td>N</td>\n",
       "      <td>1</td>\n",
       "      <td>0</td>\n",
       "    </tr>\n",
       "    <tr>\n",
       "      <th>2</th>\n",
       "      <td>133.0</td>\n",
       "      <td>2.0</td>\n",
       "      <td>0.0</td>\n",
       "      <td>5.0</td>\n",
       "      <td>16.0</td>\n",
       "      <td>2.1</td>\n",
       "      <td>0.0</td>\n",
       "      <td>13.4</td>\n",
       "      <td>2.0</td>\n",
       "      <td>0.0</td>\n",
       "      <td>...</td>\n",
       "      <td>198.0</td>\n",
       "      <td>5.0</td>\n",
       "      <td>1.0</td>\n",
       "      <td>141.0</td>\n",
       "      <td>135.0</td>\n",
       "      <td>138.0</td>\n",
       "      <td>13.0</td>\n",
       "      <td>N</td>\n",
       "      <td>1</td>\n",
       "      <td>0</td>\n",
       "    </tr>\n",
       "    <tr>\n",
       "      <th>3</th>\n",
       "      <td>134.0</td>\n",
       "      <td>2.0</td>\n",
       "      <td>0.0</td>\n",
       "      <td>6.0</td>\n",
       "      <td>16.0</td>\n",
       "      <td>2.4</td>\n",
       "      <td>0.0</td>\n",
       "      <td>23.0</td>\n",
       "      <td>2.0</td>\n",
       "      <td>0.0</td>\n",
       "      <td>...</td>\n",
       "      <td>170.0</td>\n",
       "      <td>11.0</td>\n",
       "      <td>0.0</td>\n",
       "      <td>137.0</td>\n",
       "      <td>134.0</td>\n",
       "      <td>137.0</td>\n",
       "      <td>13.0</td>\n",
       "      <td>N</td>\n",
       "      <td>0</td>\n",
       "      <td>1</td>\n",
       "    </tr>\n",
       "    <tr>\n",
       "      <th>4</th>\n",
       "      <td>132.0</td>\n",
       "      <td>4.0</td>\n",
       "      <td>0.0</td>\n",
       "      <td>5.0</td>\n",
       "      <td>16.0</td>\n",
       "      <td>2.4</td>\n",
       "      <td>0.0</td>\n",
       "      <td>19.9</td>\n",
       "      <td>0.0</td>\n",
       "      <td>0.0</td>\n",
       "      <td>...</td>\n",
       "      <td>170.0</td>\n",
       "      <td>9.0</td>\n",
       "      <td>0.0</td>\n",
       "      <td>137.0</td>\n",
       "      <td>136.0</td>\n",
       "      <td>138.0</td>\n",
       "      <td>11.0</td>\n",
       "      <td>N</td>\n",
       "      <td>0</td>\n",
       "      <td>1</td>\n",
       "    </tr>\n",
       "    <tr>\n",
       "      <th>5</th>\n",
       "      <td>134.0</td>\n",
       "      <td>1.0</td>\n",
       "      <td>0.0</td>\n",
       "      <td>10.0</td>\n",
       "      <td>26.0</td>\n",
       "      <td>5.9</td>\n",
       "      <td>0.0</td>\n",
       "      <td>0.0</td>\n",
       "      <td>9.0</td>\n",
       "      <td>0.0</td>\n",
       "      <td>...</td>\n",
       "      <td>200.0</td>\n",
       "      <td>5.0</td>\n",
       "      <td>3.0</td>\n",
       "      <td>76.0</td>\n",
       "      <td>107.0</td>\n",
       "      <td>107.0</td>\n",
       "      <td>170.0</td>\n",
       "      <td>P</td>\n",
       "      <td>1</td>\n",
       "      <td>0</td>\n",
       "    </tr>\n",
       "    <tr>\n",
       "      <th>...</th>\n",
       "      <td>...</td>\n",
       "      <td>...</td>\n",
       "      <td>...</td>\n",
       "      <td>...</td>\n",
       "      <td>...</td>\n",
       "      <td>...</td>\n",
       "      <td>...</td>\n",
       "      <td>...</td>\n",
       "      <td>...</td>\n",
       "      <td>...</td>\n",
       "      <td>...</td>\n",
       "      <td>...</td>\n",
       "      <td>...</td>\n",
       "      <td>...</td>\n",
       "      <td>...</td>\n",
       "      <td>...</td>\n",
       "      <td>...</td>\n",
       "      <td>...</td>\n",
       "      <td>...</td>\n",
       "      <td>...</td>\n",
       "      <td>...</td>\n",
       "    </tr>\n",
       "    <tr>\n",
       "      <th>2117</th>\n",
       "      <td>140.0</td>\n",
       "      <td>0.0</td>\n",
       "      <td>0.0</td>\n",
       "      <td>6.0</td>\n",
       "      <td>79.0</td>\n",
       "      <td>0.3</td>\n",
       "      <td>20.0</td>\n",
       "      <td>8.5</td>\n",
       "      <td>0.0</td>\n",
       "      <td>0.0</td>\n",
       "      <td>...</td>\n",
       "      <td>150.0</td>\n",
       "      <td>1.0</td>\n",
       "      <td>0.0</td>\n",
       "      <td>144.0</td>\n",
       "      <td>143.0</td>\n",
       "      <td>145.0</td>\n",
       "      <td>1.0</td>\n",
       "      <td>N</td>\n",
       "      <td>0</td>\n",
       "      <td>1</td>\n",
       "    </tr>\n",
       "    <tr>\n",
       "      <th>2118</th>\n",
       "      <td>140.0</td>\n",
       "      <td>0.0</td>\n",
       "      <td>0.0</td>\n",
       "      <td>7.0</td>\n",
       "      <td>79.0</td>\n",
       "      <td>0.5</td>\n",
       "      <td>26.0</td>\n",
       "      <td>7.0</td>\n",
       "      <td>1.0</td>\n",
       "      <td>0.0</td>\n",
       "      <td>...</td>\n",
       "      <td>150.0</td>\n",
       "      <td>1.0</td>\n",
       "      <td>0.0</td>\n",
       "      <td>145.0</td>\n",
       "      <td>142.0</td>\n",
       "      <td>145.0</td>\n",
       "      <td>2.0</td>\n",
       "      <td>N</td>\n",
       "      <td>0</td>\n",
       "      <td>1</td>\n",
       "    </tr>\n",
       "    <tr>\n",
       "      <th>2119</th>\n",
       "      <td>140.0</td>\n",
       "      <td>0.0</td>\n",
       "      <td>0.0</td>\n",
       "      <td>6.0</td>\n",
       "      <td>79.0</td>\n",
       "      <td>0.6</td>\n",
       "      <td>27.0</td>\n",
       "      <td>6.4</td>\n",
       "      <td>1.0</td>\n",
       "      <td>0.0</td>\n",
       "      <td>...</td>\n",
       "      <td>150.0</td>\n",
       "      <td>1.0</td>\n",
       "      <td>0.0</td>\n",
       "      <td>144.0</td>\n",
       "      <td>141.0</td>\n",
       "      <td>145.0</td>\n",
       "      <td>1.0</td>\n",
       "      <td>N</td>\n",
       "      <td>0</td>\n",
       "      <td>1</td>\n",
       "    </tr>\n",
       "    <tr>\n",
       "      <th>2120</th>\n",
       "      <td>140.0</td>\n",
       "      <td>0.0</td>\n",
       "      <td>0.0</td>\n",
       "      <td>4.0</td>\n",
       "      <td>77.0</td>\n",
       "      <td>0.7</td>\n",
       "      <td>17.0</td>\n",
       "      <td>6.0</td>\n",
       "      <td>1.0</td>\n",
       "      <td>0.0</td>\n",
       "      <td>...</td>\n",
       "      <td>155.0</td>\n",
       "      <td>2.0</td>\n",
       "      <td>0.0</td>\n",
       "      <td>145.0</td>\n",
       "      <td>143.0</td>\n",
       "      <td>145.0</td>\n",
       "      <td>2.0</td>\n",
       "      <td>N</td>\n",
       "      <td>1</td>\n",
       "      <td>0</td>\n",
       "    </tr>\n",
       "    <tr>\n",
       "      <th>2125</th>\n",
       "      <td>142.0</td>\n",
       "      <td>1.0</td>\n",
       "      <td>1.0</td>\n",
       "      <td>5.0</td>\n",
       "      <td>74.0</td>\n",
       "      <td>0.4</td>\n",
       "      <td>36.0</td>\n",
       "      <td>5.0</td>\n",
       "      <td>0.0</td>\n",
       "      <td>0.0</td>\n",
       "      <td>...</td>\n",
       "      <td>159.0</td>\n",
       "      <td>2.0</td>\n",
       "      <td>1.0</td>\n",
       "      <td>145.0</td>\n",
       "      <td>143.0</td>\n",
       "      <td>145.0</td>\n",
       "      <td>1.0</td>\n",
       "      <td>N</td>\n",
       "      <td>1</td>\n",
       "      <td>0</td>\n",
       "    </tr>\n",
       "  </tbody>\n",
       "</table>\n",
       "<p>1831 rows × 23 columns</p>\n",
       "</div>"
      ],
      "text/plain": [
       "         LB   AC   FM    UC  ASTV  MSTV  ALTV  MLTV   DL   DS  ...    Max  \\\n",
       "1     132.0  4.0  0.0   4.0  17.0   2.1   0.0  10.4  2.0  0.0  ...  198.0   \n",
       "2     133.0  2.0  0.0   5.0  16.0   2.1   0.0  13.4  2.0  0.0  ...  198.0   \n",
       "3     134.0  2.0  0.0   6.0  16.0   2.4   0.0  23.0  2.0  0.0  ...  170.0   \n",
       "4     132.0  4.0  0.0   5.0  16.0   2.4   0.0  19.9  0.0  0.0  ...  170.0   \n",
       "5     134.0  1.0  0.0  10.0  26.0   5.9   0.0   0.0  9.0  0.0  ...  200.0   \n",
       "...     ...  ...  ...   ...   ...   ...   ...   ...  ...  ...  ...    ...   \n",
       "2117  140.0  0.0  0.0   6.0  79.0   0.3  20.0   8.5  0.0  0.0  ...  150.0   \n",
       "2118  140.0  0.0  0.0   7.0  79.0   0.5  26.0   7.0  1.0  0.0  ...  150.0   \n",
       "2119  140.0  0.0  0.0   6.0  79.0   0.6  27.0   6.4  1.0  0.0  ...  150.0   \n",
       "2120  140.0  0.0  0.0   4.0  77.0   0.7  17.0   6.0  1.0  0.0  ...  155.0   \n",
       "2125  142.0  1.0  1.0   5.0  74.0   0.4  36.0   5.0  0.0  0.0  ...  159.0   \n",
       "\n",
       "      Nmax  Nzeros   Mode   Mean  Median  Variance  NSP  Tendency_0.0  \\\n",
       "1      6.0     1.0  141.0  136.0   140.0      12.0    N             1   \n",
       "2      5.0     1.0  141.0  135.0   138.0      13.0    N             1   \n",
       "3     11.0     0.0  137.0  134.0   137.0      13.0    N             0   \n",
       "4      9.0     0.0  137.0  136.0   138.0      11.0    N             0   \n",
       "5      5.0     3.0   76.0  107.0   107.0     170.0    P             1   \n",
       "...    ...     ...    ...    ...     ...       ...  ...           ...   \n",
       "2117   1.0     0.0  144.0  143.0   145.0       1.0    N             0   \n",
       "2118   1.0     0.0  145.0  142.0   145.0       2.0    N             0   \n",
       "2119   1.0     0.0  144.0  141.0   145.0       1.0    N             0   \n",
       "2120   2.0     0.0  145.0  143.0   145.0       2.0    N             1   \n",
       "2125   2.0     1.0  145.0  143.0   145.0       1.0    N             1   \n",
       "\n",
       "      Tendency_1.0  \n",
       "1                0  \n",
       "2                0  \n",
       "3                1  \n",
       "4                1  \n",
       "5                0  \n",
       "...            ...  \n",
       "2117             1  \n",
       "2118             1  \n",
       "2119             1  \n",
       "2120             0  \n",
       "2125             0  \n",
       "\n",
       "[1831 rows x 23 columns]"
      ]
     },
     "execution_count": 47,
     "metadata": {},
     "output_type": "execute_result"
    }
   ],
   "source": [
    "dfd = pd.get_dummies(df2, columns = ['Tendency'], drop_first=True)\n",
    "dfd"
   ]
  },
  {
   "cell_type": "markdown",
   "id": "da02b337",
   "metadata": {},
   "source": [
    "##### 3.1 Split dataframe into features and target<a id='3.1'></a>"
   ]
  },
  {
   "cell_type": "markdown",
   "id": "9ae2e330",
   "metadata": {},
   "source": [
    "Setting our features as the X variable, and targets as the y variable for use in our modeling."
   ]
  },
  {
   "cell_type": "code",
   "execution_count": 48,
   "id": "f369ee6d",
   "metadata": {},
   "outputs": [],
   "source": [
    "X = dfd.drop(columns = ['NSP'])"
   ]
  },
  {
   "cell_type": "code",
   "execution_count": 49,
   "id": "d3e9cd66",
   "metadata": {},
   "outputs": [],
   "source": [
    "y = dfd['NSP']"
   ]
  },
  {
   "cell_type": "code",
   "execution_count": 50,
   "id": "ad2b4866",
   "metadata": {},
   "outputs": [
    {
     "name": "stdout",
     "output_type": "stream",
     "text": [
      "      LB   AC   FM    UC  ASTV  MSTV  ALTV  MLTV   DL   DS  ...   Min    Max  \\\n",
      "1  132.0  4.0  0.0   4.0  17.0   2.1   0.0  10.4  2.0  0.0  ...  68.0  198.0   \n",
      "2  133.0  2.0  0.0   5.0  16.0   2.1   0.0  13.4  2.0  0.0  ...  68.0  198.0   \n",
      "3  134.0  2.0  0.0   6.0  16.0   2.4   0.0  23.0  2.0  0.0  ...  53.0  170.0   \n",
      "4  132.0  4.0  0.0   5.0  16.0   2.4   0.0  19.9  0.0  0.0  ...  53.0  170.0   \n",
      "5  134.0  1.0  0.0  10.0  26.0   5.9   0.0   0.0  9.0  0.0  ...  50.0  200.0   \n",
      "\n",
      "   Nmax  Nzeros   Mode   Mean  Median  Variance  Tendency_0.0  Tendency_1.0  \n",
      "1   6.0     1.0  141.0  136.0   140.0      12.0             1             0  \n",
      "2   5.0     1.0  141.0  135.0   138.0      13.0             1             0  \n",
      "3  11.0     0.0  137.0  134.0   137.0      13.0             0             1  \n",
      "4   9.0     0.0  137.0  136.0   138.0      11.0             0             1  \n",
      "5   5.0     3.0   76.0  107.0   107.0     170.0             1             0  \n",
      "\n",
      "[5 rows x 22 columns] 1    N\n",
      "2    N\n",
      "3    N\n",
      "4    N\n",
      "5    P\n",
      "Name: NSP, dtype: object\n"
     ]
    }
   ],
   "source": [
    "print(X.head(),y.head())"
   ]
  },
  {
   "cell_type": "code",
   "execution_count": 51,
   "id": "4fbfd4da",
   "metadata": {},
   "outputs": [
    {
     "data": {
      "text/plain": [
       "N    1655\n",
       "P     176\n",
       "Name: NSP, dtype: int64"
      ]
     },
     "execution_count": 51,
     "metadata": {},
     "output_type": "execute_result"
    }
   ],
   "source": [
    "y.value_counts()"
   ]
  },
  {
   "cell_type": "markdown",
   "id": "dd24881f",
   "metadata": {},
   "source": [
    "##### 3.2 Preliminary modeling<a id='3.2'></a>"
   ]
  },
  {
   "cell_type": "markdown",
   "id": "4bec5414",
   "metadata": {},
   "source": [
    "Start by training a single model on a single set of parameters, to see what non-tuned results might look like"
   ]
  },
  {
   "cell_type": "code",
   "execution_count": 52,
   "id": "a564d7a9",
   "metadata": {},
   "outputs": [],
   "source": [
    "X_train, X_test, y_train, y_test = train_test_split(X, y, train_size = 0.75, stratify = y)"
   ]
  },
  {
   "cell_type": "code",
   "execution_count": 53,
   "id": "57757cbe",
   "metadata": {},
   "outputs": [
    {
     "data": {
      "text/plain": [
       "N    1241\n",
       "P     132\n",
       "Name: NSP, dtype: int64"
      ]
     },
     "execution_count": 53,
     "metadata": {},
     "output_type": "execute_result"
    }
   ],
   "source": [
    "y_train.value_counts()"
   ]
  },
  {
   "cell_type": "code",
   "execution_count": 54,
   "id": "28487dbe",
   "metadata": {},
   "outputs": [
    {
     "data": {
      "text/plain": [
       "N    414\n",
       "P     44\n",
       "Name: NSP, dtype: int64"
      ]
     },
     "execution_count": 54,
     "metadata": {},
     "output_type": "execute_result"
    }
   ],
   "source": [
    "y_test.value_counts()"
   ]
  },
  {
   "cell_type": "markdown",
   "id": "948408ee",
   "metadata": {},
   "source": [
    "Scale the data"
   ]
  },
  {
   "cell_type": "code",
   "execution_count": 55,
   "id": "f2857749",
   "metadata": {},
   "outputs": [],
   "source": [
    "sc = StandardScaler()\n",
    "X_train = pd.DataFrame(sc.fit_transform(X_train),columns=X_train.columns)\n",
    "X_test = pd.DataFrame(sc.transform(X_test),columns=X_test.columns)"
   ]
  },
  {
   "cell_type": "markdown",
   "id": "07c826c9",
   "metadata": {},
   "source": [
    "We will use Logistic Regression cross validation, with built-in stratified k-folds for cross-validation, the solver 'saga', penalty of 'l2', maximum iterations set to 5000, and regularization (C) at intervals from 0.1 to 100."
   ]
  },
  {
   "cell_type": "markdown",
   "id": "a880c1f7",
   "metadata": {},
   "source": [
    "We will focus on recall for a scoring metric, due to class imbalance and the importance of reducing false negatives. The business interest lies in detecting pathological health conditions, so ensuring that Class P 'positives' are detected accurately is most important."
   ]
  },
  {
   "cell_type": "code",
   "execution_count": 56,
   "id": "e6a67b3d",
   "metadata": {},
   "outputs": [],
   "source": [
    "lrcv = LogisticRegressionCV(solver = 'saga', penalty = 'l2', \n",
    "                            max_iter = 5000, Cs=[0.1,1,10,100], \n",
    "                            cv = StratifiedKFold(n_splits=5, shuffle=True),\n",
    "                           scoring='recall')"
   ]
  },
  {
   "cell_type": "markdown",
   "id": "906bd75e",
   "metadata": {},
   "source": [
    "We fit the training data to the model"
   ]
  },
  {
   "cell_type": "code",
   "execution_count": 57,
   "id": "243a0f4f",
   "metadata": {},
   "outputs": [
    {
     "data": {
      "text/plain": [
       "LogisticRegressionCV(Cs=[0.1, 1, 10, 100],\n",
       "                     cv=StratifiedKFold(n_splits=5, random_state=None, shuffle=True),\n",
       "                     max_iter=5000, scoring='recall', solver='saga')"
      ]
     },
     "execution_count": 57,
     "metadata": {},
     "output_type": "execute_result"
    }
   ],
   "source": [
    "lrcv.fit(X_train, y_train)"
   ]
  },
  {
   "cell_type": "code",
   "execution_count": 58,
   "id": "bc310787",
   "metadata": {},
   "outputs": [
    {
     "data": {
      "text/plain": [
       "{'P': array([[0.61538462, 0.69230769, 0.80769231, 0.84615385],\n",
       "        [0.81481481, 0.88888889, 0.88888889, 0.88888889],\n",
       "        [0.81481481, 0.96296296, 1.        , 0.96296296],\n",
       "        [0.80769231, 0.88461538, 0.92307692, 0.92307692],\n",
       "        [0.88461538, 0.96153846, 0.96153846, 0.96153846]])}"
      ]
     },
     "execution_count": 58,
     "metadata": {},
     "output_type": "execute_result"
    }
   ],
   "source": [
    "lrcv.scores_"
   ]
  },
  {
   "cell_type": "code",
   "execution_count": 59,
   "id": "475d5cda",
   "metadata": {},
   "outputs": [
    {
     "name": "stdout",
     "output_type": "stream",
     "text": [
      "CV mean for C of  0.1  =  0.7874643874643875\n",
      "CV mean for C of  1  =  0.8780626780626781\n",
      "CV mean for C of  10  =  0.9162393162393163\n",
      "CV mean for C of  100  =  0.9165242165242166\n"
     ]
    }
   ],
   "source": [
    "Cs = [0.1, 1, 10, 100]\n",
    "j = 0\n",
    "\n",
    "for i in lrcv.scores_['P'].T:\n",
    "    print(\"CV mean for C of \",Cs[j], \" = \",i.mean(axis=0))\n",
    "    j +=1"
   ]
  },
  {
   "cell_type": "markdown",
   "id": "525e7f89",
   "metadata": {},
   "source": [
    "There does not appear to be data leakage or over fitting."
   ]
  },
  {
   "cell_type": "markdown",
   "id": "c841d02e",
   "metadata": {},
   "source": [
    "Now we can run Logistic Regression with set parameters to see how the training data compares to the testing data."
   ]
  },
  {
   "cell_type": "code",
   "execution_count": 60,
   "id": "d6bd883f",
   "metadata": {},
   "outputs": [],
   "source": [
    "lr = LogisticRegression(solver = 'saga', penalty = 'l2', \n",
    "                            max_iter = 5000, C=100)"
   ]
  },
  {
   "cell_type": "code",
   "execution_count": 61,
   "id": "4982fd5f",
   "metadata": {},
   "outputs": [
    {
     "data": {
      "text/plain": [
       "LogisticRegression(C=100, max_iter=5000, solver='saga')"
      ]
     },
     "execution_count": 61,
     "metadata": {},
     "output_type": "execute_result"
    }
   ],
   "source": [
    "lr.fit(X_train,y_train)"
   ]
  },
  {
   "cell_type": "code",
   "execution_count": 62,
   "id": "d91a8a3c",
   "metadata": {},
   "outputs": [],
   "source": [
    "y_pred_tr = lr.predict(X_train)\n",
    "y_pred = lr.predict(X_test)"
   ]
  },
  {
   "cell_type": "markdown",
   "id": "781ec97b",
   "metadata": {},
   "source": [
    "Then assess recall scores for training and testing data"
   ]
  },
  {
   "cell_type": "code",
   "execution_count": 63,
   "id": "19fbc57d",
   "metadata": {},
   "outputs": [
    {
     "name": "stdout",
     "output_type": "stream",
     "text": [
      "Recall on training data:  0.946969696969697\n"
     ]
    }
   ],
   "source": [
    "print(f'Recall on training data: ',recall_score(y_train,y_pred_tr,pos_label='P'))"
   ]
  },
  {
   "cell_type": "code",
   "execution_count": 64,
   "id": "7c98300e",
   "metadata": {},
   "outputs": [
    {
     "name": "stdout",
     "output_type": "stream",
     "text": [
      "Recall on test data:  0.9090909090909091\n"
     ]
    }
   ],
   "source": [
    "print(f'Recall on test data: ',recall_score(y_test,y_pred,pos_label='P'))"
   ]
  },
  {
   "cell_type": "markdown",
   "id": "f533a59c",
   "metadata": {},
   "source": [
    "##### 3.3 Preliminary model confusion matrix and classification report<a id='3.3'></a>"
   ]
  },
  {
   "cell_type": "code",
   "execution_count": 65,
   "id": "a923a143",
   "metadata": {},
   "outputs": [
    {
     "data": {
      "text/plain": [
       "<sklearn.metrics._plot.confusion_matrix.ConfusionMatrixDisplay at 0x23966075d30>"
      ]
     },
     "execution_count": 65,
     "metadata": {},
     "output_type": "execute_result"
    },
    {
     "data": {
      "image/png": "[encoded data removed]",
      "text/plain": [
       "<Figure size 432x288 with 2 Axes>"
      ]
     },
     "metadata": {
      "needs_background": "light"
     },
     "output_type": "display_data"
    }
   ],
   "source": [
    "cm = confusion_matrix(y_pred_tr, y_train)\n",
    "_, ax = plt.subplots()\n",
    "display_cm = ConfusionMatrixDisplay(confusion_matrix = cm, display_labels=lr.classes_)\n",
    "ax.set_xticks([0, 2])\n",
    "ax.set_yticks([0, 2])\n",
    "display_cm.plot(ax = ax)\n"
   ]
  },
  {
   "cell_type": "code",
   "execution_count": 66,
   "id": "c254404e",
   "metadata": {
    "scrolled": true
   },
   "outputs": [
    {
     "data": {
      "text/plain": [
       "<sklearn.metrics._plot.confusion_matrix.ConfusionMatrixDisplay at 0x23968474f40>"
      ]
     },
     "execution_count": 66,
     "metadata": {},
     "output_type": "execute_result"
    },
    {
     "data": {
      "image/png": "[encoded data removed]",
      "text/plain": [
       "<Figure size 432x288 with 2 Axes>"
      ]
     },
     "metadata": {
      "needs_background": "light"
     },
     "output_type": "display_data"
    }
   ],
   "source": [
    "cm = confusion_matrix(y_pred, y_test)\n",
    "_, ax = plt.subplots()\n",
    "display_cm = ConfusionMatrixDisplay(confusion_matrix = cm, display_labels=lr.classes_)\n",
    "ax.set_xticks([0, 2])\n",
    "ax.set_yticks([0, 2])\n",
    "display_cm.plot(ax = ax)"
   ]
  },
  {
   "cell_type": "code",
   "execution_count": null,
   "id": "a56eaaac",
   "metadata": {},
   "outputs": [],
   "source": []
  },
  {
   "cell_type": "markdown",
   "id": "ae7be89b",
   "metadata": {},
   "source": [
    "For a closer look at the performance, a classification report is created for both training and testing data"
   ]
  },
  {
   "cell_type": "code",
   "execution_count": 67,
   "id": "2c6bf2e8",
   "metadata": {},
   "outputs": [
    {
     "name": "stdout",
     "output_type": "stream",
     "text": [
      "Classification Report for Training Data\n",
      "              precision    recall  f1-score   support\n",
      "\n",
      "           N       0.99      1.00      1.00      1241\n",
      "           P       0.96      0.95      0.95       132\n",
      "\n",
      "    accuracy                           0.99      1373\n",
      "   macro avg       0.98      0.97      0.97      1373\n",
      "weighted avg       0.99      0.99      0.99      1373\n",
      "\n"
     ]
    }
   ],
   "source": [
    "print(\"Classification Report for Training Data\")\n",
    "print(classification_report(y_train, y_pred_tr))"
   ]
  },
  {
   "cell_type": "code",
   "execution_count": 68,
   "id": "a2ea4e84",
   "metadata": {},
   "outputs": [
    {
     "name": "stdout",
     "output_type": "stream",
     "text": [
      "Classification Report for Test Data\n",
      "              precision    recall  f1-score   support\n",
      "\n",
      "           N       0.99      1.00      0.99       414\n",
      "           P       0.95      0.91      0.93        44\n",
      "\n",
      "    accuracy                           0.99       458\n",
      "   macro avg       0.97      0.95      0.96       458\n",
      "weighted avg       0.99      0.99      0.99       458\n",
      "\n"
     ]
    }
   ],
   "source": [
    "print(\"Classification Report for Test Data\")\n",
    "print(classification_report(y_test, y_pred))"
   ]
  },
  {
   "cell_type": "markdown",
   "id": "6aa6de14",
   "metadata": {},
   "source": [
    "The model performs better than randomly guessing, but there is room for improvement. Considering our performance metric, recall, the model (as expected) performs extremely well on the training data, and less well on the test data."
   ]
  },
  {
   "cell_type": "markdown",
   "id": "e298d31c",
   "metadata": {},
   "source": [
    "The researchers who collected this data appear to have done a good job of engineering features."
   ]
  },
  {
   "cell_type": "markdown",
   "id": "6aade95e",
   "metadata": {},
   "source": [
    "##### 4.0 Conclusions<a id='4.0'></a>"
   ]
  },
  {
   "cell_type": "markdown",
   "id": "66a295d0",
   "metadata": {},
   "source": [
    "As mentioned before, we will focus on recall for a scoring metric, due to class imbalance and the importance of reducing false negatives. The business interest lies in detecting pathological health conditions, so ensuring that Class P 'positives' are detected accurately is most important."
   ]
  },
  {
   "cell_type": "markdown",
   "id": "c3ca7325",
   "metadata": {},
   "source": [
    "The current model with the current algorithm (Logistic Regression) produces on output where testing recall for the positive class is 91%. "
   ]
  },
  {
   "cell_type": "markdown",
   "id": "cf4463ca",
   "metadata": {},
   "source": [
    "In our next notebook, Modeling, we will explore using Logistic Regression, in addition to other algorithms to build the most accurate model for our data. Other algorithms may include include Random Forest Classifier, XGBOOST Classifier, and LGBM Classifier.\n",
    "My goal will be to increase performance by trying multiple models and using resampling methods."
   ]
  },
  {
   "cell_type": "code",
   "execution_count": null,
   "id": "a934483f",
   "metadata": {},
   "outputs": [],
   "source": []
  }
 ],
 "metadata": {
  "kernelspec": {
   "display_name": "Python 3",
   "language": "python",
   "name": "python3"
  },
  "language_info": {
   "codemirror_mode": {
    "name": "ipython",
    "version": 3
   },
   "file_extension": ".py",
   "mimetype": "text/x-python",
   "name": "python",
   "nbconvert_exporter": "python",
   "pygments_lexer": "ipython3",
   "version": "3.8.8"
  }
 },
 "nbformat": 4,
 "nbformat_minor": 5
}
