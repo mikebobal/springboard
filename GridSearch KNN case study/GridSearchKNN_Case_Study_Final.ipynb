{
 "cells": [
  {
   "cell_type": "markdown",
   "metadata": {},
   "source": [
    "## Grid Search Hyperparameter optimization"
   ]
  },
  {
   "cell_type": "markdown",
   "metadata": {},
   "source": [
    "This case study is all about using grid searches to identify the optimal parameters for a machine learning algorithm. To complere this case study, you'll use the Pima Indian diabetes dataset from Kaggle and KNN. Follow along with the preprocessing steps of this case study."
   ]
  },
  {
   "cell_type": "markdown",
   "metadata": {
    "tags": []
   },
   "source": [
    "Load the necessary packages"
   ]
  },
  {
   "cell_type": "code",
   "execution_count": 136,
   "metadata": {},
   "outputs": [],
   "source": [
    "import numpy as np\n",
    "import pandas as pd\n",
    "import matplotlib.pyplot as plt\n",
    "import seaborn as sns\n",
    "sns.set()\n",
    "import sklearn.model_selection\n",
    "from sklearn.model_selection import train_test_split\n",
    "from sklearn.model_selection import KFold\n",
    "from sklearn.linear_model import LogisticRegression\n",
    "from sklearn.metrics import accuracy_score, f1_score, roc_auc_score, recall_score, precision_score\n",
    "from sklearn.metrics import classification_report\n",
    "from sklearn.metrics import confusion_matrix\n",
    "from sklearn.metrics import ConfusionMatrixDisplay\n",
    "from sklearn.model_selection import GridSearchCV\n",
    "from sklearn.preprocessing import StandardScaler\n",
    "from sklearn.pipeline import Pipeline\n",
    "from sklearn.ensemble import RandomForestRegressor\n",
    "from sklearn.ensemble import RandomForestClassifier\n",
    "from sklearn import tree\n",
    "from sklearn.tree import DecisionTreeClassifier\n",
    "from sklearn.tree import DecisionTreeRegressor\n",
    "# set random seed to try make this exercise and solutions reproducible (NB: this is just for teaching purpose and not something you would do in real life)\n",
    "random_seed_number = 42\n",
    "np.random.seed(random_seed_number)"
   ]
  },
  {
   "cell_type": "markdown",
   "metadata": {
    "tags": []
   },
   "source": [
    "#### Load the diabetes data"
   ]
  },
  {
   "cell_type": "code",
   "execution_count": 137,
   "metadata": {},
   "outputs": [
    {
     "data": {
      "text/html": [
       "<div>\n",
       "<style scoped>\n",
       "    .dataframe tbody tr th:only-of-type {\n",
       "        vertical-align: middle;\n",
       "    }\n",
       "\n",
       "    .dataframe tbody tr th {\n",
       "        vertical-align: top;\n",
       "    }\n",
       "\n",
       "    .dataframe thead th {\n",
       "        text-align: right;\n",
       "    }\n",
       "</style>\n",
       "<table border=\"1\" class=\"dataframe\">\n",
       "  <thead>\n",
       "    <tr style=\"text-align: right;\">\n",
       "      <th></th>\n",
       "      <th>Pregnancies</th>\n",
       "      <th>Glucose</th>\n",
       "      <th>BloodPressure</th>\n",
       "      <th>SkinThickness</th>\n",
       "      <th>Insulin</th>\n",
       "      <th>BMI</th>\n",
       "      <th>DiabetesPedigreeFunction</th>\n",
       "      <th>Age</th>\n",
       "      <th>Outcome</th>\n",
       "    </tr>\n",
       "  </thead>\n",
       "  <tbody>\n",
       "    <tr>\n",
       "      <th>0</th>\n",
       "      <td>6</td>\n",
       "      <td>148</td>\n",
       "      <td>72</td>\n",
       "      <td>35</td>\n",
       "      <td>0</td>\n",
       "      <td>33.6</td>\n",
       "      <td>0.627</td>\n",
       "      <td>50</td>\n",
       "      <td>1</td>\n",
       "    </tr>\n",
       "    <tr>\n",
       "      <th>1</th>\n",
       "      <td>1</td>\n",
       "      <td>85</td>\n",
       "      <td>66</td>\n",
       "      <td>29</td>\n",
       "      <td>0</td>\n",
       "      <td>26.6</td>\n",
       "      <td>0.351</td>\n",
       "      <td>31</td>\n",
       "      <td>0</td>\n",
       "    </tr>\n",
       "    <tr>\n",
       "      <th>2</th>\n",
       "      <td>8</td>\n",
       "      <td>183</td>\n",
       "      <td>64</td>\n",
       "      <td>0</td>\n",
       "      <td>0</td>\n",
       "      <td>23.3</td>\n",
       "      <td>0.672</td>\n",
       "      <td>32</td>\n",
       "      <td>1</td>\n",
       "    </tr>\n",
       "    <tr>\n",
       "      <th>3</th>\n",
       "      <td>1</td>\n",
       "      <td>89</td>\n",
       "      <td>66</td>\n",
       "      <td>23</td>\n",
       "      <td>94</td>\n",
       "      <td>28.1</td>\n",
       "      <td>0.167</td>\n",
       "      <td>21</td>\n",
       "      <td>0</td>\n",
       "    </tr>\n",
       "    <tr>\n",
       "      <th>4</th>\n",
       "      <td>0</td>\n",
       "      <td>137</td>\n",
       "      <td>40</td>\n",
       "      <td>35</td>\n",
       "      <td>168</td>\n",
       "      <td>43.1</td>\n",
       "      <td>2.288</td>\n",
       "      <td>33</td>\n",
       "      <td>1</td>\n",
       "    </tr>\n",
       "  </tbody>\n",
       "</table>\n",
       "</div>"
      ],
      "text/plain": [
       "   Pregnancies  Glucose  BloodPressure  SkinThickness  Insulin   BMI  \\\n",
       "0            6      148             72             35        0  33.6   \n",
       "1            1       85             66             29        0  26.6   \n",
       "2            8      183             64              0        0  23.3   \n",
       "3            1       89             66             23       94  28.1   \n",
       "4            0      137             40             35      168  43.1   \n",
       "\n",
       "   DiabetesPedigreeFunction  Age  Outcome  \n",
       "0                     0.627   50        1  \n",
       "1                     0.351   31        0  \n",
       "2                     0.672   32        1  \n",
       "3                     0.167   21        0  \n",
       "4                     2.288   33        1  "
      ]
     },
     "execution_count": 137,
     "metadata": {},
     "output_type": "execute_result"
    }
   ],
   "source": [
    "diabetes_data = pd.read_csv(r'C:\\Users\\Joseph Shire\\Documents\\Springboard Python Data Science\\Python Scripts\\springboard\\GridSearch KNN case study\\data\\diabetes.csv')\n",
    "diabetes_data.head()"
   ]
  },
  {
   "cell_type": "markdown",
   "metadata": {
    "tags": []
   },
   "source": [
    "**<font color='teal'> Start by reviewing the data info.</font>**"
   ]
  },
  {
   "cell_type": "code",
   "execution_count": 138,
   "metadata": {},
   "outputs": [
    {
     "name": "stdout",
     "output_type": "stream",
     "text": [
      "<class 'pandas.core.frame.DataFrame'>\n",
      "RangeIndex: 768 entries, 0 to 767\n",
      "Data columns (total 9 columns):\n",
      " #   Column                    Non-Null Count  Dtype  \n",
      "---  ------                    --------------  -----  \n",
      " 0   Pregnancies               768 non-null    int64  \n",
      " 1   Glucose                   768 non-null    int64  \n",
      " 2   BloodPressure             768 non-null    int64  \n",
      " 3   SkinThickness             768 non-null    int64  \n",
      " 4   Insulin                   768 non-null    int64  \n",
      " 5   BMI                       768 non-null    float64\n",
      " 6   DiabetesPedigreeFunction  768 non-null    float64\n",
      " 7   Age                       768 non-null    int64  \n",
      " 8   Outcome                   768 non-null    int64  \n",
      "dtypes: float64(2), int64(7)\n",
      "memory usage: 54.1 KB\n"
     ]
    }
   ],
   "source": [
    "diabetes_data.info()"
   ]
  },
  {
   "cell_type": "markdown",
   "metadata": {
    "tags": []
   },
   "source": [
    "**<font color='teal'> Apply the describe function to the data.</font>**"
   ]
  },
  {
   "cell_type": "code",
   "execution_count": 139,
   "metadata": {},
   "outputs": [
    {
     "data": {
      "text/html": [
       "<div>\n",
       "<style scoped>\n",
       "    .dataframe tbody tr th:only-of-type {\n",
       "        vertical-align: middle;\n",
       "    }\n",
       "\n",
       "    .dataframe tbody tr th {\n",
       "        vertical-align: top;\n",
       "    }\n",
       "\n",
       "    .dataframe thead th {\n",
       "        text-align: right;\n",
       "    }\n",
       "</style>\n",
       "<table border=\"1\" class=\"dataframe\">\n",
       "  <thead>\n",
       "    <tr style=\"text-align: right;\">\n",
       "      <th></th>\n",
       "      <th>Pregnancies</th>\n",
       "      <th>Glucose</th>\n",
       "      <th>BloodPressure</th>\n",
       "      <th>SkinThickness</th>\n",
       "      <th>Insulin</th>\n",
       "      <th>BMI</th>\n",
       "      <th>DiabetesPedigreeFunction</th>\n",
       "      <th>Age</th>\n",
       "      <th>Outcome</th>\n",
       "    </tr>\n",
       "  </thead>\n",
       "  <tbody>\n",
       "    <tr>\n",
       "      <th>count</th>\n",
       "      <td>768.000000</td>\n",
       "      <td>768.000000</td>\n",
       "      <td>768.000000</td>\n",
       "      <td>768.000000</td>\n",
       "      <td>768.000000</td>\n",
       "      <td>768.000000</td>\n",
       "      <td>768.000000</td>\n",
       "      <td>768.000000</td>\n",
       "      <td>768.000000</td>\n",
       "    </tr>\n",
       "    <tr>\n",
       "      <th>mean</th>\n",
       "      <td>3.845052</td>\n",
       "      <td>120.894531</td>\n",
       "      <td>69.105469</td>\n",
       "      <td>20.536458</td>\n",
       "      <td>79.799479</td>\n",
       "      <td>31.992578</td>\n",
       "      <td>0.471876</td>\n",
       "      <td>33.240885</td>\n",
       "      <td>0.348958</td>\n",
       "    </tr>\n",
       "    <tr>\n",
       "      <th>std</th>\n",
       "      <td>3.369578</td>\n",
       "      <td>31.972618</td>\n",
       "      <td>19.355807</td>\n",
       "      <td>15.952218</td>\n",
       "      <td>115.244002</td>\n",
       "      <td>7.884160</td>\n",
       "      <td>0.331329</td>\n",
       "      <td>11.760232</td>\n",
       "      <td>0.476951</td>\n",
       "    </tr>\n",
       "    <tr>\n",
       "      <th>min</th>\n",
       "      <td>0.000000</td>\n",
       "      <td>0.000000</td>\n",
       "      <td>0.000000</td>\n",
       "      <td>0.000000</td>\n",
       "      <td>0.000000</td>\n",
       "      <td>0.000000</td>\n",
       "      <td>0.078000</td>\n",
       "      <td>21.000000</td>\n",
       "      <td>0.000000</td>\n",
       "    </tr>\n",
       "    <tr>\n",
       "      <th>25%</th>\n",
       "      <td>1.000000</td>\n",
       "      <td>99.000000</td>\n",
       "      <td>62.000000</td>\n",
       "      <td>0.000000</td>\n",
       "      <td>0.000000</td>\n",
       "      <td>27.300000</td>\n",
       "      <td>0.243750</td>\n",
       "      <td>24.000000</td>\n",
       "      <td>0.000000</td>\n",
       "    </tr>\n",
       "    <tr>\n",
       "      <th>50%</th>\n",
       "      <td>3.000000</td>\n",
       "      <td>117.000000</td>\n",
       "      <td>72.000000</td>\n",
       "      <td>23.000000</td>\n",
       "      <td>30.500000</td>\n",
       "      <td>32.000000</td>\n",
       "      <td>0.372500</td>\n",
       "      <td>29.000000</td>\n",
       "      <td>0.000000</td>\n",
       "    </tr>\n",
       "    <tr>\n",
       "      <th>75%</th>\n",
       "      <td>6.000000</td>\n",
       "      <td>140.250000</td>\n",
       "      <td>80.000000</td>\n",
       "      <td>32.000000</td>\n",
       "      <td>127.250000</td>\n",
       "      <td>36.600000</td>\n",
       "      <td>0.626250</td>\n",
       "      <td>41.000000</td>\n",
       "      <td>1.000000</td>\n",
       "    </tr>\n",
       "    <tr>\n",
       "      <th>max</th>\n",
       "      <td>17.000000</td>\n",
       "      <td>199.000000</td>\n",
       "      <td>122.000000</td>\n",
       "      <td>99.000000</td>\n",
       "      <td>846.000000</td>\n",
       "      <td>67.100000</td>\n",
       "      <td>2.420000</td>\n",
       "      <td>81.000000</td>\n",
       "      <td>1.000000</td>\n",
       "    </tr>\n",
       "  </tbody>\n",
       "</table>\n",
       "</div>"
      ],
      "text/plain": [
       "       Pregnancies     Glucose  BloodPressure  SkinThickness     Insulin  \\\n",
       "count   768.000000  768.000000     768.000000     768.000000  768.000000   \n",
       "mean      3.845052  120.894531      69.105469      20.536458   79.799479   \n",
       "std       3.369578   31.972618      19.355807      15.952218  115.244002   \n",
       "min       0.000000    0.000000       0.000000       0.000000    0.000000   \n",
       "25%       1.000000   99.000000      62.000000       0.000000    0.000000   \n",
       "50%       3.000000  117.000000      72.000000      23.000000   30.500000   \n",
       "75%       6.000000  140.250000      80.000000      32.000000  127.250000   \n",
       "max      17.000000  199.000000     122.000000      99.000000  846.000000   \n",
       "\n",
       "              BMI  DiabetesPedigreeFunction         Age     Outcome  \n",
       "count  768.000000                768.000000  768.000000  768.000000  \n",
       "mean    31.992578                  0.471876   33.240885    0.348958  \n",
       "std      7.884160                  0.331329   11.760232    0.476951  \n",
       "min      0.000000                  0.078000   21.000000    0.000000  \n",
       "25%     27.300000                  0.243750   24.000000    0.000000  \n",
       "50%     32.000000                  0.372500   29.000000    0.000000  \n",
       "75%     36.600000                  0.626250   41.000000    1.000000  \n",
       "max     67.100000                  2.420000   81.000000    1.000000  "
      ]
     },
     "execution_count": 139,
     "metadata": {},
     "output_type": "execute_result"
    }
   ],
   "source": [
    "diabetes_data.describe()"
   ]
  },
  {
   "cell_type": "markdown",
   "metadata": {
    "tags": []
   },
   "source": [
    "**<font color='teal'> Currently, the missing values in the dataset are represented as zeros. Replace the zero values in the following columns ['Glucose','BloodPressure','SkinThickness','Insulin','BMI'] with nan .</font>**"
   ]
  },
  {
   "cell_type": "code",
   "execution_count": 140,
   "metadata": {},
   "outputs": [
    {
     "data": {
      "text/html": [
       "<div>\n",
       "<style scoped>\n",
       "    .dataframe tbody tr th:only-of-type {\n",
       "        vertical-align: middle;\n",
       "    }\n",
       "\n",
       "    .dataframe tbody tr th {\n",
       "        vertical-align: top;\n",
       "    }\n",
       "\n",
       "    .dataframe thead th {\n",
       "        text-align: right;\n",
       "    }\n",
       "</style>\n",
       "<table border=\"1\" class=\"dataframe\">\n",
       "  <thead>\n",
       "    <tr style=\"text-align: right;\">\n",
       "      <th></th>\n",
       "      <th>Pregnancies</th>\n",
       "      <th>Glucose</th>\n",
       "      <th>BloodPressure</th>\n",
       "      <th>SkinThickness</th>\n",
       "      <th>Insulin</th>\n",
       "      <th>BMI</th>\n",
       "      <th>DiabetesPedigreeFunction</th>\n",
       "      <th>Age</th>\n",
       "      <th>Outcome</th>\n",
       "    </tr>\n",
       "  </thead>\n",
       "  <tbody>\n",
       "    <tr>\n",
       "      <th>0</th>\n",
       "      <td>6</td>\n",
       "      <td>148.0</td>\n",
       "      <td>72.0</td>\n",
       "      <td>35.0</td>\n",
       "      <td>NaN</td>\n",
       "      <td>33.6</td>\n",
       "      <td>0.627</td>\n",
       "      <td>50</td>\n",
       "      <td>1</td>\n",
       "    </tr>\n",
       "    <tr>\n",
       "      <th>1</th>\n",
       "      <td>1</td>\n",
       "      <td>85.0</td>\n",
       "      <td>66.0</td>\n",
       "      <td>29.0</td>\n",
       "      <td>NaN</td>\n",
       "      <td>26.6</td>\n",
       "      <td>0.351</td>\n",
       "      <td>31</td>\n",
       "      <td>0</td>\n",
       "    </tr>\n",
       "    <tr>\n",
       "      <th>2</th>\n",
       "      <td>8</td>\n",
       "      <td>183.0</td>\n",
       "      <td>64.0</td>\n",
       "      <td>NaN</td>\n",
       "      <td>NaN</td>\n",
       "      <td>23.3</td>\n",
       "      <td>0.672</td>\n",
       "      <td>32</td>\n",
       "      <td>1</td>\n",
       "    </tr>\n",
       "    <tr>\n",
       "      <th>3</th>\n",
       "      <td>1</td>\n",
       "      <td>89.0</td>\n",
       "      <td>66.0</td>\n",
       "      <td>23.0</td>\n",
       "      <td>94.0</td>\n",
       "      <td>28.1</td>\n",
       "      <td>0.167</td>\n",
       "      <td>21</td>\n",
       "      <td>0</td>\n",
       "    </tr>\n",
       "    <tr>\n",
       "      <th>4</th>\n",
       "      <td>0</td>\n",
       "      <td>137.0</td>\n",
       "      <td>40.0</td>\n",
       "      <td>35.0</td>\n",
       "      <td>168.0</td>\n",
       "      <td>43.1</td>\n",
       "      <td>2.288</td>\n",
       "      <td>33</td>\n",
       "      <td>1</td>\n",
       "    </tr>\n",
       "  </tbody>\n",
       "</table>\n",
       "</div>"
      ],
      "text/plain": [
       "   Pregnancies  Glucose  BloodPressure  SkinThickness  Insulin   BMI  \\\n",
       "0            6    148.0           72.0           35.0      NaN  33.6   \n",
       "1            1     85.0           66.0           29.0      NaN  26.6   \n",
       "2            8    183.0           64.0            NaN      NaN  23.3   \n",
       "3            1     89.0           66.0           23.0     94.0  28.1   \n",
       "4            0    137.0           40.0           35.0    168.0  43.1   \n",
       "\n",
       "   DiabetesPedigreeFunction  Age  Outcome  \n",
       "0                     0.627   50        1  \n",
       "1                     0.351   31        0  \n",
       "2                     0.672   32        1  \n",
       "3                     0.167   21        0  \n",
       "4                     2.288   33        1  "
      ]
     },
     "execution_count": 140,
     "metadata": {},
     "output_type": "execute_result"
    }
   ],
   "source": [
    "diabetes_data[['Glucose','BloodPressure','SkinThickness','Insulin','BMI']] = diabetes_data[['Glucose','BloodPressure','SkinThickness','Insulin','BMI']].replace(0,np.nan)\n",
    "diabetes_data.head()"
   ]
  },
  {
   "cell_type": "markdown",
   "metadata": {
    "tags": []
   },
   "source": [
    "**<font color='teal'> Plot histograms of each column. </font>**"
   ]
  },
  {
   "cell_type": "code",
   "execution_count": 141,
   "metadata": {},
   "outputs": [
    {
     "data": {
      "image/png": "[encoded data removed]",
      "text/plain": [
       "<Figure size 432x288 with 1 Axes>"
      ]
     },
     "metadata": {},
     "output_type": "display_data"
    },
    {
     "data": {
      "image/png": "[encoded data removed]",
      "text/plain": [
       "<Figure size 432x288 with 1 Axes>"
      ]
     },
     "metadata": {},
     "output_type": "display_data"
    },
    {
     "data": {
      "image/png": "[encoded data removed]",
      "text/plain": [
       "<Figure size 432x288 with 1 Axes>"
      ]
     },
     "metadata": {},
     "output_type": "display_data"
    },
    {
     "data": {
      "image/png": "[encoded data removed]",
      "text/plain": [
       "<Figure size 432x288 with 1 Axes>"
      ]
     },
     "metadata": {},
     "output_type": "display_data"
    },
    {
     "data": {
      "image/png": "[encoded data removed]",
      "text/plain": [
       "<Figure size 432x288 with 1 Axes>"
      ]
     },
     "metadata": {},
     "output_type": "display_data"
    },
    {
     "data": {
      "image/png": "[encoded data removed]",
      "text/plain": [
       "<Figure size 432x288 with 1 Axes>"
      ]
     },
     "metadata": {},
     "output_type": "display_data"
    },
    {
     "data": {
      "image/png": "[encoded data removed]",
      "text/plain": [
       "<Figure size 432x288 with 1 Axes>"
      ]
     },
     "metadata": {},
     "output_type": "display_data"
    },
    {
     "data": {
      "image/png": "[encoded data removed]",
      "text/plain": [
       "<Figure size 432x288 with 1 Axes>"
      ]
     },
     "metadata": {},
     "output_type": "display_data"
    },
    {
     "data": {
      "image/png": "[encoded data removed]",
      "text/plain": [
       "<Figure size 432x288 with 1 Axes>"
      ]
     },
     "metadata": {},
     "output_type": "display_data"
    },
    {
     "data": {
      "text/plain": [
       "[[(array([246., 103.,  75.,  68.,  57.,  50.,  45.,  66.,  24.,  11.,   9.,\n",
       "           10.,   2.,   1.,   1.]),\n",
       "   array([ 0.        ,  1.13333333,  2.26666667,  3.4       ,  4.53333333,\n",
       "           5.66666667,  6.8       ,  7.93333333,  9.06666667, 10.2       ,\n",
       "          11.33333333, 12.46666667, 13.6       , 14.73333333, 15.86666667,\n",
       "          17.        ]),\n",
       "   <BarContainer object of 15 artists>),\n",
       "  Text(0.5, 17.200000000000003, 'Pregnancies'),\n",
       "  Text(17.200000000000003, 0.5, 'count'),\n",
       "  None],\n",
       " [(array([  1.,   5.,  17.,  51.,  81., 104., 116., 100.,  70.,  70.,  36.,\n",
       "           36.,  25.,  29.,  22.]),\n",
       "   array([ 44.        ,  54.33333333,  64.66666667,  75.        ,\n",
       "           85.33333333,  95.66666667, 106.        , 116.33333333,\n",
       "          126.66666667, 137.        , 147.33333333, 157.66666667,\n",
       "          168.        , 178.33333333, 188.66666667, 199.        ]),\n",
       "   <BarContainer object of 15 artists>),\n",
       "  Text(0.5, 17.200000000000003, 'Glucose'),\n",
       "  Text(17.200000000000003, 0.5, 'count'),\n",
       "  None],\n",
       " [(array([  3.,   0.,   2.,  24.,  36.,  93., 125., 200., 115.,  75.,  37.,\n",
       "           11.,   7.,   4.,   1.]),\n",
       "   array([ 24.        ,  30.53333333,  37.06666667,  43.6       ,\n",
       "           50.13333333,  56.66666667,  63.2       ,  69.73333333,\n",
       "           76.26666667,  82.8       ,  89.33333333,  95.86666667,\n",
       "          102.4       , 108.93333333, 115.46666667, 122.        ]),\n",
       "   <BarContainer object of 15 artists>),\n",
       "  Text(0.5, 17.200000000000003, 'BloodPressure'),\n",
       "  Text(17.200000000000003, 0.5, 'count'),\n",
       "  None],\n",
       " [(array([ 33.,  78.,  89., 122., 104.,  73.,  30.,   9.,   1.,   1.,   0.,\n",
       "            0.,   0.,   0.,   1.]),\n",
       "   array([ 7.        , 13.13333333, 19.26666667, 25.4       , 31.53333333,\n",
       "          37.66666667, 43.8       , 49.93333333, 56.06666667, 62.2       ,\n",
       "          68.33333333, 74.46666667, 80.6       , 86.73333333, 92.86666667,\n",
       "          99.        ]),\n",
       "   <BarContainer object of 15 artists>),\n",
       "  Text(0.5, 17.200000000000003, 'SkinThickness'),\n",
       "  Text(17.200000000000003, 0.5, 'count'),\n",
       "  None],\n",
       " [(array([ 79., 115.,  91.,  47.,  22.,  15.,   6.,   2.,   9.,   3.,   2.,\n",
       "            0.,   1.,   1.,   1.]),\n",
       "   array([ 14.        ,  69.46666667, 124.93333333, 180.4       ,\n",
       "          235.86666667, 291.33333333, 346.8       , 402.26666667,\n",
       "          457.73333333, 513.2       , 568.66666667, 624.13333333,\n",
       "          679.6       , 735.06666667, 790.53333333, 846.        ]),\n",
       "   <BarContainer object of 15 artists>),\n",
       "  Text(0.5, 17.200000000000003, 'Insulin'),\n",
       "  Text(17.200000000000003, 0.5, 'count'),\n",
       "  None],\n",
       " [(array([ 26.,  76., 111., 134., 140., 115.,  73.,  43.,  23.,   8.,   4.,\n",
       "            2.,   1.,   0.,   1.]),\n",
       "   array([18.2 , 21.46, 24.72, 27.98, 31.24, 34.5 , 37.76, 41.02, 44.28,\n",
       "          47.54, 50.8 , 54.06, 57.32, 60.58, 63.84, 67.1 ]),\n",
       "   <BarContainer object of 15 artists>),\n",
       "  Text(0.5, 17.200000000000003, 'BMI'),\n",
       "  Text(17.200000000000003, 0.5, 'count'),\n",
       "  None],\n",
       " [(array([172., 227., 125., 101.,  60.,  33.,  17.,  15.,   8.,   1.,   4.,\n",
       "            1.,   0.,   1.,   3.]),\n",
       "   array([0.078     , 0.23413333, 0.39026667, 0.5464    , 0.70253333,\n",
       "          0.85866667, 1.0148    , 1.17093333, 1.32706667, 1.4832    ,\n",
       "          1.63933333, 1.79546667, 1.9516    , 2.10773333, 2.26386667,\n",
       "          2.42      ]),\n",
       "   <BarContainer object of 15 artists>),\n",
       "  Text(0.5, 17.246875000000003, 'DiabetesPedigreeFunction'),\n",
       "  Text(17.200000000000003, 0.5, 'count'),\n",
       "  None],\n",
       " [(array([219., 148.,  90.,  57.,  60.,  61.,  39.,  29.,  18.,  20.,  11.,\n",
       "           11.,   4.,   0.,   1.]),\n",
       "   array([21., 25., 29., 33., 37., 41., 45., 49., 53., 57., 61., 65., 69.,\n",
       "          73., 77., 81.]),\n",
       "   <BarContainer object of 15 artists>),\n",
       "  Text(0.5, 17.200000000000003, 'Age'),\n",
       "  Text(17.200000000000003, 0.5, 'count'),\n",
       "  None],\n",
       " [(array([500.,   0.,   0.,   0.,   0.,   0.,   0.,   0.,   0.,   0.,   0.,\n",
       "            0.,   0.,   0., 268.]),\n",
       "   array([0.        , 0.06666667, 0.13333333, 0.2       , 0.26666667,\n",
       "          0.33333333, 0.4       , 0.46666667, 0.53333333, 0.6       ,\n",
       "          0.66666667, 0.73333333, 0.8       , 0.86666667, 0.93333333,\n",
       "          1.        ]),\n",
       "   <BarContainer object of 15 artists>),\n",
       "  Text(0.5, 17.200000000000003, 'Outcome'),\n",
       "  Text(17.200000000000003, 0.5, 'count'),\n",
       "  None]]"
      ]
     },
     "execution_count": 141,
     "metadata": {},
     "output_type": "execute_result"
    }
   ],
   "source": [
    "\n",
    "[[plt.hist(diabetes_data[i],bins=15),plt.xlabel(i), plt.ylabel('count'),plt.show()] for i in diabetes_data]\n",
    "# list comprehension that plots each columns' histogram"
   ]
  },
  {
   "cell_type": "markdown",
   "metadata": {
    "tags": []
   },
   "source": [
    "#### Replace the zeros with mean and median values."
   ]
  },
  {
   "cell_type": "code",
   "execution_count": 142,
   "metadata": {},
   "outputs": [],
   "source": [
    "diabetes_data['Glucose'].fillna(diabetes_data['Glucose'].mean(), inplace = True)\n",
    "diabetes_data['BloodPressure'].fillna(diabetes_data['BloodPressure'].mean(), inplace = True)\n",
    "diabetes_data['SkinThickness'].fillna(diabetes_data['SkinThickness'].median(), inplace = True)\n",
    "diabetes_data['Insulin'].fillna(diabetes_data['Insulin'].median(), inplace = True)\n",
    "diabetes_data['BMI'].fillna(diabetes_data['BMI'].median(), inplace = True)"
   ]
  },
  {
   "cell_type": "markdown",
   "metadata": {
    "tags": []
   },
   "source": [
    "**<font color='teal'> Plot histograms of each column after replacing nan. </font>**"
   ]
  },
  {
   "cell_type": "code",
   "execution_count": 143,
   "metadata": {},
   "outputs": [
    {
     "data": {
      "image/png": "[encoded data removed]",
      "text/plain": [
       "<Figure size 432x288 with 1 Axes>"
      ]
     },
     "metadata": {},
     "output_type": "display_data"
    },
    {
     "data": {
      "image/png": "[encoded data removed]",
      "text/plain": [
       "<Figure size 432x288 with 1 Axes>"
      ]
     },
     "metadata": {},
     "output_type": "display_data"
    },
    {
     "data": {
      "image/png": "[encoded data removed]",
      "text/plain": [
       "<Figure size 432x288 with 1 Axes>"
      ]
     },
     "metadata": {},
     "output_type": "display_data"
    },
    {
     "data": {
      "image/png": "[encoded data removed]",
      "text/plain": [
       "<Figure size 432x288 with 1 Axes>"
      ]
     },
     "metadata": {},
     "output_type": "display_data"
    },
    {
     "data": {
      "image/png": "[encoded data removed]",
      "text/plain": [
       "<Figure size 432x288 with 1 Axes>"
      ]
     },
     "metadata": {},
     "output_type": "display_data"
    },
    {
     "data": {
      "image/png": "[encoded data removed]",
      "text/plain": [
       "<Figure size 432x288 with 1 Axes>"
      ]
     },
     "metadata": {},
     "output_type": "display_data"
    },
    {
     "data": {
      "image/png": "[encoded data removed]",
      "text/plain": [
       "<Figure size 432x288 with 1 Axes>"
      ]
     },
     "metadata": {},
     "output_type": "display_data"
    },
    {
     "data": {
      "image/png": "[encoded data removed]",
      "text/plain": [
       "<Figure size 432x288 with 1 Axes>"
      ]
     },
     "metadata": {},
     "output_type": "display_data"
    },
    {
     "data": {
      "image/png": "[encoded data removed]",
      "text/plain": [
       "<Figure size 432x288 with 1 Axes>"
      ]
     },
     "metadata": {},
     "output_type": "display_data"
    },
    {
     "data": {
      "text/plain": [
       "[[(array([246., 103.,  75.,  68.,  57.,  50.,  45.,  66.,  24.,  11.,   9.,\n",
       "           10.,   2.,   1.,   1.]),\n",
       "   array([ 0.        ,  1.13333333,  2.26666667,  3.4       ,  4.53333333,\n",
       "           5.66666667,  6.8       ,  7.93333333,  9.06666667, 10.2       ,\n",
       "          11.33333333, 12.46666667, 13.6       , 14.73333333, 15.86666667,\n",
       "          17.        ]),\n",
       "   <BarContainer object of 15 artists>),\n",
       "  Text(0.5, 17.200000000000003, 'Pregnancies'),\n",
       "  Text(17.200000000000003, 0.5, 'count'),\n",
       "  None],\n",
       " [(array([  1.,   5.,  17.,  51.,  81., 104., 116., 105.,  70.,  70.,  36.,\n",
       "           36.,  25.,  29.,  22.]),\n",
       "   array([ 44.        ,  54.33333333,  64.66666667,  75.        ,\n",
       "           85.33333333,  95.66666667, 106.        , 116.33333333,\n",
       "          126.66666667, 137.        , 147.33333333, 157.66666667,\n",
       "          168.        , 178.33333333, 188.66666667, 199.        ]),\n",
       "   <BarContainer object of 15 artists>),\n",
       "  Text(0.5, 17.200000000000003, 'Glucose'),\n",
       "  Text(17.200000000000003, 0.5, 'count'),\n",
       "  None],\n",
       " [(array([  3.,   0.,   2.,  24.,  36.,  93., 125., 235., 115.,  75.,  37.,\n",
       "           11.,   7.,   4.,   1.]),\n",
       "   array([ 24.        ,  30.53333333,  37.06666667,  43.6       ,\n",
       "           50.13333333,  56.66666667,  63.2       ,  69.73333333,\n",
       "           76.26666667,  82.8       ,  89.33333333,  95.86666667,\n",
       "          102.4       , 108.93333333, 115.46666667, 122.        ]),\n",
       "   <BarContainer object of 15 artists>),\n",
       "  Text(0.5, 17.200000000000003, 'BloodPressure'),\n",
       "  Text(17.200000000000003, 0.5, 'count'),\n",
       "  None],\n",
       " [(array([ 33.,  78.,  89., 349., 104.,  73.,  30.,   9.,   1.,   1.,   0.,\n",
       "            0.,   0.,   0.,   1.]),\n",
       "   array([ 7.        , 13.13333333, 19.26666667, 25.4       , 31.53333333,\n",
       "          37.66666667, 43.8       , 49.93333333, 56.06666667, 62.2       ,\n",
       "          68.33333333, 74.46666667, 80.6       , 86.73333333, 92.86666667,\n",
       "          99.        ]),\n",
       "   <BarContainer object of 15 artists>),\n",
       "  Text(0.5, 17.200000000000003, 'SkinThickness'),\n",
       "  Text(17.200000000000003, 0.5, 'count'),\n",
       "  None],\n",
       " [(array([ 79., 115., 465.,  47.,  22.,  15.,   6.,   2.,   9.,   3.,   2.,\n",
       "            0.,   1.,   1.,   1.]),\n",
       "   array([ 14.        ,  69.46666667, 124.93333333, 180.4       ,\n",
       "          235.86666667, 291.33333333, 346.8       , 402.26666667,\n",
       "          457.73333333, 513.2       , 568.66666667, 624.13333333,\n",
       "          679.6       , 735.06666667, 790.53333333, 846.        ]),\n",
       "   <BarContainer object of 15 artists>),\n",
       "  Text(0.5, 17.200000000000003, 'Insulin'),\n",
       "  Text(17.200000000000003, 0.5, 'count'),\n",
       "  None],\n",
       " [(array([ 26.,  76., 111., 134., 151., 115.,  73.,  43.,  23.,   8.,   4.,\n",
       "            2.,   1.,   0.,   1.]),\n",
       "   array([18.2 , 21.46, 24.72, 27.98, 31.24, 34.5 , 37.76, 41.02, 44.28,\n",
       "          47.54, 50.8 , 54.06, 57.32, 60.58, 63.84, 67.1 ]),\n",
       "   <BarContainer object of 15 artists>),\n",
       "  Text(0.5, 17.200000000000003, 'BMI'),\n",
       "  Text(17.200000000000003, 0.5, 'count'),\n",
       "  None],\n",
       " [(array([172., 227., 125., 101.,  60.,  33.,  17.,  15.,   8.,   1.,   4.,\n",
       "            1.,   0.,   1.,   3.]),\n",
       "   array([0.078     , 0.23413333, 0.39026667, 0.5464    , 0.70253333,\n",
       "          0.85866667, 1.0148    , 1.17093333, 1.32706667, 1.4832    ,\n",
       "          1.63933333, 1.79546667, 1.9516    , 2.10773333, 2.26386667,\n",
       "          2.42      ]),\n",
       "   <BarContainer object of 15 artists>),\n",
       "  Text(0.5, 17.246875000000003, 'DiabetesPedigreeFunction'),\n",
       "  Text(17.200000000000003, 0.5, 'count'),\n",
       "  None],\n",
       " [(array([219., 148.,  90.,  57.,  60.,  61.,  39.,  29.,  18.,  20.,  11.,\n",
       "           11.,   4.,   0.,   1.]),\n",
       "   array([21., 25., 29., 33., 37., 41., 45., 49., 53., 57., 61., 65., 69.,\n",
       "          73., 77., 81.]),\n",
       "   <BarContainer object of 15 artists>),\n",
       "  Text(0.5, 17.200000000000003, 'Age'),\n",
       "  Text(17.200000000000003, 0.5, 'count'),\n",
       "  None],\n",
       " [(array([500.,   0.,   0.,   0.,   0.,   0.,   0.,   0.,   0.,   0.,   0.,\n",
       "            0.,   0.,   0., 268.]),\n",
       "   array([0.        , 0.06666667, 0.13333333, 0.2       , 0.26666667,\n",
       "          0.33333333, 0.4       , 0.46666667, 0.53333333, 0.6       ,\n",
       "          0.66666667, 0.73333333, 0.8       , 0.86666667, 0.93333333,\n",
       "          1.        ]),\n",
       "   <BarContainer object of 15 artists>),\n",
       "  Text(0.5, 17.200000000000003, 'Outcome'),\n",
       "  Text(17.200000000000003, 0.5, 'count'),\n",
       "  None]]"
      ]
     },
     "execution_count": 143,
     "metadata": {},
     "output_type": "execute_result"
    }
   ],
   "source": [
    "[[plt.hist(diabetes_data[i],bins=15),plt.xlabel(i), plt.ylabel('count'),plt.show()] for i in diabetes_data]\n",
    "# list comprehension that plots each columns' histogram"
   ]
  },
  {
   "cell_type": "markdown",
   "metadata": {
    "tags": []
   },
   "source": [
    "#### Plot the correlation matrix heatmap"
   ]
  },
  {
   "cell_type": "code",
   "execution_count": 144,
   "metadata": {},
   "outputs": [
    {
     "name": "stdout",
     "output_type": "stream",
     "text": [
      "Correlation between various features\n"
     ]
    },
    {
     "data": {
      "image/png": "[encoded data removed]",
      "text/plain": [
       "<Figure size 864x720 with 2 Axes>"
      ]
     },
     "metadata": {},
     "output_type": "display_data"
    }
   ],
   "source": [
    "plt.figure(figsize=(12,10))\n",
    "print('Correlation between various features')\n",
    "p=sns.heatmap(diabetes_data.corr(), annot=True,cmap ='Blues')"
   ]
  },
  {
   "cell_type": "markdown",
   "metadata": {
    "tags": []
   },
   "source": [
    "**<font color='teal'> Define the `y` variable as the `Outcome` column.</font>**"
   ]
  },
  {
   "cell_type": "code",
   "execution_count": 145,
   "metadata": {},
   "outputs": [],
   "source": [
    "y = diabetes_data['Outcome']\n",
    "X = diabetes_data.drop(columns='Outcome')"
   ]
  },
  {
   "cell_type": "markdown",
   "metadata": {
    "tags": []
   },
   "source": [
    "**<font color='teal'> Create a 70/30 train and test split. </font>**"
   ]
  },
  {
   "cell_type": "code",
   "execution_count": 146,
   "metadata": {},
   "outputs": [],
   "source": [
    "X_train, X_test, y_train, y_test = train_test_split(X, y, train_size = 0.70, stratify = y)"
   ]
  },
  {
   "cell_type": "markdown",
   "metadata": {
    "tags": []
   },
   "source": [
    "**<font color='teal'> Using Sklearn, standarize the magnitude of the features by scaling the values. </font>**"
   ]
  },
  {
   "cell_type": "markdown",
   "metadata": {},
   "source": [
    "Note: Don't forget to fit() your scaler on X_train and then use that fitted scaler to transform() X_test. This is to avoid data leakage while you standardize your data."
   ]
  },
  {
   "cell_type": "code",
   "execution_count": 147,
   "metadata": {},
   "outputs": [
    {
     "data": {
      "text/html": [
       "<div>\n",
       "<style scoped>\n",
       "    .dataframe tbody tr th:only-of-type {\n",
       "        vertical-align: middle;\n",
       "    }\n",
       "\n",
       "    .dataframe tbody tr th {\n",
       "        vertical-align: top;\n",
       "    }\n",
       "\n",
       "    .dataframe thead th {\n",
       "        text-align: right;\n",
       "    }\n",
       "</style>\n",
       "<table border=\"1\" class=\"dataframe\">\n",
       "  <thead>\n",
       "    <tr style=\"text-align: right;\">\n",
       "      <th></th>\n",
       "      <th>Pregnancies</th>\n",
       "      <th>Glucose</th>\n",
       "      <th>BloodPressure</th>\n",
       "      <th>SkinThickness</th>\n",
       "      <th>Insulin</th>\n",
       "      <th>BMI</th>\n",
       "      <th>DiabetesPedigreeFunction</th>\n",
       "      <th>Age</th>\n",
       "    </tr>\n",
       "  </thead>\n",
       "  <tbody>\n",
       "    <tr>\n",
       "      <th>0</th>\n",
       "      <td>0.931383</td>\n",
       "      <td>2.085753</td>\n",
       "      <td>0.965518</td>\n",
       "      <td>0.498532</td>\n",
       "      <td>-0.163932</td>\n",
       "      <td>0.428910</td>\n",
       "      <td>-0.374779</td>\n",
       "      <td>0.632129</td>\n",
       "    </tr>\n",
       "    <tr>\n",
       "      <th>1</th>\n",
       "      <td>0.632606</td>\n",
       "      <td>-1.222867</td>\n",
       "      <td>0.472716</td>\n",
       "      <td>0.013767</td>\n",
       "      <td>-0.163932</td>\n",
       "      <td>-0.210550</td>\n",
       "      <td>-0.294168</td>\n",
       "      <td>0.716992</td>\n",
       "    </tr>\n",
       "    <tr>\n",
       "      <th>2</th>\n",
       "      <td>-0.562502</td>\n",
       "      <td>-0.521038</td>\n",
       "      <td>-0.677154</td>\n",
       "      <td>0.740915</td>\n",
       "      <td>-0.239259</td>\n",
       "      <td>-0.314648</td>\n",
       "      <td>2.745172</td>\n",
       "      <td>0.038086</td>\n",
       "    </tr>\n",
       "    <tr>\n",
       "      <th>3</th>\n",
       "      <td>-0.562502</td>\n",
       "      <td>-0.721561</td>\n",
       "      <td>-1.498489</td>\n",
       "      <td>-0.107425</td>\n",
       "      <td>-0.415020</td>\n",
       "      <td>0.770947</td>\n",
       "      <td>0.052162</td>\n",
       "      <td>-0.810548</td>\n",
       "    </tr>\n",
       "    <tr>\n",
       "      <th>4</th>\n",
       "      <td>0.333829</td>\n",
       "      <td>-0.587879</td>\n",
       "      <td>0.144182</td>\n",
       "      <td>0.013767</td>\n",
       "      <td>-0.163932</td>\n",
       "      <td>-0.567458</td>\n",
       "      <td>-0.977870</td>\n",
       "      <td>1.226172</td>\n",
       "    </tr>\n",
       "  </tbody>\n",
       "</table>\n",
       "</div>"
      ],
      "text/plain": [
       "   Pregnancies   Glucose  BloodPressure  SkinThickness   Insulin       BMI  \\\n",
       "0     0.931383  2.085753       0.965518       0.498532 -0.163932  0.428910   \n",
       "1     0.632606 -1.222867       0.472716       0.013767 -0.163932 -0.210550   \n",
       "2    -0.562502 -0.521038      -0.677154       0.740915 -0.239259 -0.314648   \n",
       "3    -0.562502 -0.721561      -1.498489      -0.107425 -0.415020  0.770947   \n",
       "4     0.333829 -0.587879       0.144182       0.013767 -0.163932 -0.567458   \n",
       "\n",
       "   DiabetesPedigreeFunction       Age  \n",
       "0                 -0.374779  0.632129  \n",
       "1                 -0.294168  0.716992  \n",
       "2                  2.745172  0.038086  \n",
       "3                  0.052162 -0.810548  \n",
       "4                 -0.977870  1.226172  "
      ]
     },
     "execution_count": 147,
     "metadata": {},
     "output_type": "execute_result"
    }
   ],
   "source": [
    "scale = StandardScaler()\n",
    "scalefit = scale.fit(X_train)\n",
    "sX_train = pd.DataFrame(scalefit.transform(X_train),columns=X_train.columns)\n",
    "sX_train.head()"
   ]
  },
  {
   "cell_type": "code",
   "execution_count": 148,
   "metadata": {},
   "outputs": [
    {
     "data": {
      "text/html": [
       "<div>\n",
       "<style scoped>\n",
       "    .dataframe tbody tr th:only-of-type {\n",
       "        vertical-align: middle;\n",
       "    }\n",
       "\n",
       "    .dataframe tbody tr th {\n",
       "        vertical-align: top;\n",
       "    }\n",
       "\n",
       "    .dataframe thead th {\n",
       "        text-align: right;\n",
       "    }\n",
       "</style>\n",
       "<table border=\"1\" class=\"dataframe\">\n",
       "  <thead>\n",
       "    <tr style=\"text-align: right;\">\n",
       "      <th></th>\n",
       "      <th>Pregnancies</th>\n",
       "      <th>Glucose</th>\n",
       "      <th>BloodPressure</th>\n",
       "      <th>SkinThickness</th>\n",
       "      <th>Insulin</th>\n",
       "      <th>BMI</th>\n",
       "      <th>DiabetesPedigreeFunction</th>\n",
       "      <th>Age</th>\n",
       "    </tr>\n",
       "  </thead>\n",
       "  <tbody>\n",
       "    <tr>\n",
       "      <th>0</th>\n",
       "      <td>-0.263725</td>\n",
       "      <td>0.281051</td>\n",
       "      <td>0.472716</td>\n",
       "      <td>-0.713382</td>\n",
       "      <td>-0.741435</td>\n",
       "      <td>-0.626943</td>\n",
       "      <td>-0.470318</td>\n",
       "      <td>0.038086</td>\n",
       "    </tr>\n",
       "    <tr>\n",
       "      <th>1</th>\n",
       "      <td>0.035052</td>\n",
       "      <td>-0.420777</td>\n",
       "      <td>-0.677154</td>\n",
       "      <td>1.831637</td>\n",
       "      <td>-0.490347</td>\n",
       "      <td>0.324812</td>\n",
       "      <td>1.267301</td>\n",
       "      <td>-0.640821</td>\n",
       "    </tr>\n",
       "    <tr>\n",
       "      <th>2</th>\n",
       "      <td>2.126492</td>\n",
       "      <td>0.715516</td>\n",
       "      <td>1.786853</td>\n",
       "      <td>0.498532</td>\n",
       "      <td>0.099711</td>\n",
       "      <td>0.592493</td>\n",
       "      <td>-0.676324</td>\n",
       "      <td>1.480762</td>\n",
       "    </tr>\n",
       "    <tr>\n",
       "      <th>3</th>\n",
       "      <td>0.035052</td>\n",
       "      <td>0.748937</td>\n",
       "      <td>0.801250</td>\n",
       "      <td>0.377341</td>\n",
       "      <td>-0.163932</td>\n",
       "      <td>0.875045</td>\n",
       "      <td>0.219355</td>\n",
       "      <td>0.292676</td>\n",
       "    </tr>\n",
       "    <tr>\n",
       "      <th>4</th>\n",
       "      <td>1.230161</td>\n",
       "      <td>-0.554459</td>\n",
       "      <td>2.279654</td>\n",
       "      <td>0.862106</td>\n",
       "      <td>-0.163932</td>\n",
       "      <td>1.588861</td>\n",
       "      <td>-0.721108</td>\n",
       "      <td>0.971582</td>\n",
       "    </tr>\n",
       "  </tbody>\n",
       "</table>\n",
       "</div>"
      ],
      "text/plain": [
       "   Pregnancies   Glucose  BloodPressure  SkinThickness   Insulin       BMI  \\\n",
       "0    -0.263725  0.281051       0.472716      -0.713382 -0.741435 -0.626943   \n",
       "1     0.035052 -0.420777      -0.677154       1.831637 -0.490347  0.324812   \n",
       "2     2.126492  0.715516       1.786853       0.498532  0.099711  0.592493   \n",
       "3     0.035052  0.748937       0.801250       0.377341 -0.163932  0.875045   \n",
       "4     1.230161 -0.554459       2.279654       0.862106 -0.163932  1.588861   \n",
       "\n",
       "   DiabetesPedigreeFunction       Age  \n",
       "0                 -0.470318  0.038086  \n",
       "1                  1.267301 -0.640821  \n",
       "2                 -0.676324  1.480762  \n",
       "3                  0.219355  0.292676  \n",
       "4                 -0.721108  0.971582  "
      ]
     },
     "execution_count": 148,
     "metadata": {},
     "output_type": "execute_result"
    }
   ],
   "source": [
    "sX_test = pd.DataFrame(scalefit.transform(X_test),columns=X_test.columns)\n",
    "sX_test.head()"
   ]
  },
  {
   "cell_type": "markdown",
   "metadata": {
    "tags": []
   },
   "source": [
    "#### Using a range of neighbor values of 1-10, apply the KNearestNeighbor classifier to classify the the data."
   ]
  },
  {
   "cell_type": "code",
   "execution_count": 149,
   "metadata": {},
   "outputs": [],
   "source": [
    "from sklearn.neighbors import KNeighborsClassifier\n",
    "\n",
    "\n",
    "test_scores = []\n",
    "train_scores = []\n",
    "\n",
    "for i in range(1,11):\n",
    "\n",
    "    knn = KNeighborsClassifier(i)\n",
    "    knn.fit(sX_train,y_train)\n",
    "    \n",
    "    train_scores.append(knn.score(sX_train,y_train))\n",
    "    test_scores.append(knn.score(sX_test,y_test))"
   ]
  },
  {
   "cell_type": "markdown",
   "metadata": {
    "tags": []
   },
   "source": [
    "**<font color='teal'> Print the train and test scores for each iteration.</font>**"
   ]
  },
  {
   "cell_type": "code",
   "execution_count": 150,
   "metadata": {},
   "outputs": [
    {
     "name": "stdout",
     "output_type": "stream",
     "text": [
      "For k =  1\n",
      "Training:  1.0\n",
      "Testing:  0.7186147186147186\n",
      "________________________\n",
      "For k =  2\n",
      "Training:  0.8435754189944135\n",
      "Testing:  0.7229437229437229\n",
      "________________________\n",
      "For k =  3\n",
      "Training:  0.8621973929236499\n",
      "Testing:  0.7402597402597403\n",
      "________________________\n",
      "For k =  4\n",
      "Training:  0.8286778398510242\n",
      "Testing:  0.7402597402597403\n",
      "________________________\n",
      "For k =  5\n",
      "Training:  0.8342644320297952\n",
      "Testing:  0.7445887445887446\n",
      "________________________\n",
      "For k =  6\n",
      "Training:  0.8100558659217877\n",
      "Testing:  0.7402597402597403\n",
      "________________________\n",
      "For k =  7\n",
      "Training:  0.8063314711359404\n",
      "Testing:  0.7359307359307359\n",
      "________________________\n",
      "For k =  8\n",
      "Training:  0.8063314711359404\n",
      "Testing:  0.7489177489177489\n",
      "________________________\n",
      "For k =  9\n",
      "Training:  0.8007448789571695\n",
      "Testing:  0.7445887445887446\n",
      "________________________\n",
      "For k =  10\n",
      "Training:  0.8100558659217877\n",
      "Testing:  0.7359307359307359\n",
      "________________________\n"
     ]
    }
   ],
   "source": [
    "for i in range(0,10):\n",
    "\n",
    "    print(\"For k = \",i+1)\n",
    "    print(\"Training: \",train_scores[i])\n",
    "    print(\"Testing: \", test_scores[i])\n",
    "    print(\"________________________\")\n",
    "    "
   ]
  },
  {
   "cell_type": "code",
   "execution_count": 151,
   "metadata": {},
   "outputs": [
    {
     "data": {
      "text/html": [
       "<div>\n",
       "<style scoped>\n",
       "    .dataframe tbody tr th:only-of-type {\n",
       "        vertical-align: middle;\n",
       "    }\n",
       "\n",
       "    .dataframe tbody tr th {\n",
       "        vertical-align: top;\n",
       "    }\n",
       "\n",
       "    .dataframe thead th {\n",
       "        text-align: right;\n",
       "    }\n",
       "</style>\n",
       "<table border=\"1\" class=\"dataframe\">\n",
       "  <thead>\n",
       "    <tr style=\"text-align: right;\">\n",
       "      <th></th>\n",
       "      <th>k</th>\n",
       "      <th>train</th>\n",
       "      <th>test</th>\n",
       "    </tr>\n",
       "  </thead>\n",
       "  <tbody>\n",
       "    <tr>\n",
       "      <th>0</th>\n",
       "      <td>1</td>\n",
       "      <td>1.000000</td>\n",
       "      <td>0.718615</td>\n",
       "    </tr>\n",
       "    <tr>\n",
       "      <th>1</th>\n",
       "      <td>2</td>\n",
       "      <td>0.843575</td>\n",
       "      <td>0.722944</td>\n",
       "    </tr>\n",
       "    <tr>\n",
       "      <th>2</th>\n",
       "      <td>3</td>\n",
       "      <td>0.862197</td>\n",
       "      <td>0.740260</td>\n",
       "    </tr>\n",
       "    <tr>\n",
       "      <th>3</th>\n",
       "      <td>4</td>\n",
       "      <td>0.828678</td>\n",
       "      <td>0.740260</td>\n",
       "    </tr>\n",
       "    <tr>\n",
       "      <th>4</th>\n",
       "      <td>5</td>\n",
       "      <td>0.834264</td>\n",
       "      <td>0.744589</td>\n",
       "    </tr>\n",
       "    <tr>\n",
       "      <th>5</th>\n",
       "      <td>6</td>\n",
       "      <td>0.810056</td>\n",
       "      <td>0.740260</td>\n",
       "    </tr>\n",
       "    <tr>\n",
       "      <th>6</th>\n",
       "      <td>7</td>\n",
       "      <td>0.806331</td>\n",
       "      <td>0.735931</td>\n",
       "    </tr>\n",
       "    <tr>\n",
       "      <th>7</th>\n",
       "      <td>8</td>\n",
       "      <td>0.806331</td>\n",
       "      <td>0.748918</td>\n",
       "    </tr>\n",
       "    <tr>\n",
       "      <th>8</th>\n",
       "      <td>9</td>\n",
       "      <td>0.800745</td>\n",
       "      <td>0.744589</td>\n",
       "    </tr>\n",
       "    <tr>\n",
       "      <th>9</th>\n",
       "      <td>10</td>\n",
       "      <td>0.810056</td>\n",
       "      <td>0.735931</td>\n",
       "    </tr>\n",
       "  </tbody>\n",
       "</table>\n",
       "</div>"
      ],
      "text/plain": [
       "    k     train      test\n",
       "0   1  1.000000  0.718615\n",
       "1   2  0.843575  0.722944\n",
       "2   3  0.862197  0.740260\n",
       "3   4  0.828678  0.740260\n",
       "4   5  0.834264  0.744589\n",
       "5   6  0.810056  0.740260\n",
       "6   7  0.806331  0.735931\n",
       "7   8  0.806331  0.748918\n",
       "8   9  0.800745  0.744589\n",
       "9  10  0.810056  0.735931"
      ]
     },
     "execution_count": 151,
     "metadata": {},
     "output_type": "execute_result"
    }
   ],
   "source": [
    "df = pd.DataFrame(zip(numlist,train_scores,test_scores), columns=['k','train','test'])\n",
    "df"
   ]
  },
  {
   "cell_type": "markdown",
   "metadata": {
    "tags": []
   },
   "source": [
    "**<font color='teal'> Identify the number of neighbors that resulted in the max score in the training dataset. </font>**"
   ]
  },
  {
   "cell_type": "code",
   "execution_count": 152,
   "metadata": {},
   "outputs": [
    {
     "data": {
      "text/plain": [
       "0    1\n",
       "Name: k, dtype: int64"
      ]
     },
     "execution_count": 152,
     "metadata": {},
     "output_type": "execute_result"
    }
   ],
   "source": [
    "max_train = df['k'][df['train']==max(df['train'])]\n",
    "max_train"
   ]
  },
  {
   "cell_type": "markdown",
   "metadata": {
    "tags": []
   },
   "source": [
    "**<font color='teal'> Identify the number of neighbors that resulted in the max score in the testing dataset. </font>**"
   ]
  },
  {
   "cell_type": "code",
   "execution_count": 153,
   "metadata": {},
   "outputs": [
    {
     "data": {
      "text/plain": [
       "7    8\n",
       "Name: k, dtype: int64"
      ]
     },
     "execution_count": 153,
     "metadata": {},
     "output_type": "execute_result"
    }
   ],
   "source": [
    "max_test = df['k'][df['test']==max(df['test'])]\n",
    "max_test"
   ]
  },
  {
   "cell_type": "markdown",
   "metadata": {
    "tags": []
   },
   "source": [
    "Plot the train and test model performance by number of neighbors."
   ]
  },
  {
   "cell_type": "code",
   "execution_count": 154,
   "metadata": {},
   "outputs": [
    {
     "data": {
      "image/png": "[encoded data removed]",
      "text/plain": [
       "<Figure size 864x360 with 1 Axes>"
      ]
     },
     "metadata": {},
     "output_type": "display_data"
    }
   ],
   "source": [
    "plt.figure(figsize=(12,5))\n",
    "p = sns.lineplot(x=range(1,11),y=train_scores,marker='*',label='Train Score')\n",
    "p = sns.lineplot(x=range(1,11),y=test_scores,marker='o',label='Test Score')"
   ]
  },
  {
   "cell_type": "markdown",
   "metadata": {
    "tags": []
   },
   "source": [
    "**<font color='teal'> Fit and score the best number of neighbors based on the plot. </font>**"
   ]
  },
  {
   "cell_type": "code",
   "execution_count": 155,
   "metadata": {},
   "outputs": [
    {
     "data": {
      "text/plain": [
       "KNeighborsClassifier(n_neighbors=8)"
      ]
     },
     "execution_count": 155,
     "metadata": {},
     "output_type": "execute_result"
    }
   ],
   "source": [
    "knn = KNeighborsClassifier(8)\n",
    "knn.fit(sX_train,y_train)"
   ]
  },
  {
   "cell_type": "code",
   "execution_count": 156,
   "metadata": {},
   "outputs": [],
   "source": [
    "from sklearn.metrics import confusion_matrix\n",
    "y_pred = knn.predict(sX_test)\n",
    "cm = confusion_matrix(y_test,y_pred)"
   ]
  },
  {
   "cell_type": "markdown",
   "metadata": {
    "tags": []
   },
   "source": [
    "**<font color='teal'> Plot the confusion matrix for the model fit above. </font>**"
   ]
  },
  {
   "cell_type": "code",
   "execution_count": 162,
   "metadata": {},
   "outputs": [
    {
     "data": {
      "image/png": "[encoded data removed]",
      "text/plain": [
       "<Figure size 432x288 with 2 Axes>"
      ]
     },
     "metadata": {},
     "output_type": "display_data"
    }
   ],
   "source": [
    "\n",
    "cmd = ConfusionMatrixDisplay(confusion_matrix = cm)\n",
    "\n",
    "cmd.plot()\n",
    "plt.grid(None)\n",
    "plt.show()"
   ]
  },
  {
   "cell_type": "markdown",
   "metadata": {
    "tags": []
   },
   "source": [
    "**<font color='teal'> Print the classification report </font>**"
   ]
  },
  {
   "cell_type": "code",
   "execution_count": 163,
   "metadata": {},
   "outputs": [
    {
     "name": "stdout",
     "output_type": "stream",
     "text": [
      "Classification Report for Test Data\n",
      "              precision    recall  f1-score   support\n",
      "\n",
      "           0       0.76      0.89      0.82       150\n",
      "           1       0.70      0.49      0.58        81\n",
      "\n",
      "    accuracy                           0.75       231\n",
      "   macro avg       0.73      0.69      0.70       231\n",
      "weighted avg       0.74      0.75      0.74       231\n",
      "\n"
     ]
    }
   ],
   "source": [
    "print(\"Classification Report for Test Data\")\n",
    "print(classification_report(y_test, y_pred))"
   ]
  },
  {
   "cell_type": "markdown",
   "metadata": {
    "tags": []
   },
   "source": [
    "#### In the case of the K nearest neighbors algorithm, the K parameter is one of the most important parameters affecting the model performance.  The model performance isn't horrible, but what if we didn't consider a wide enough range of values in our neighbors for the KNN? An alternative to fitting a loop of models is to use a grid search to identify the proper number. It is common practice to use a grid search method for all adjustable parameters in any type of machine learning algorithm. First, you define the grid — aka the range of values — to test in the parameter being optimized, and then compare the model outcome performance based on the different values in the grid."
   ]
  },
  {
   "cell_type": "markdown",
   "metadata": {
    "tags": []
   },
   "source": [
    "#### Run the code in the next cell to see how to implement the grid search method for identifying the best parameter value for the n_neighbors parameter. Notice the param_grid is the range value to test and we apply cross validation with five folds to score each possible value of n_neighbors."
   ]
  },
  {
   "cell_type": "code",
   "execution_count": 166,
   "metadata": {},
   "outputs": [
    {
     "data": {
      "text/plain": [
       "GridSearchCV(cv=5, estimator=KNeighborsClassifier(),\n",
       "             param_grid={'n_neighbors': array([ 1,  2,  3,  4,  5,  6,  7,  8,  9, 10, 11, 12, 13, 14, 15, 16, 17,\n",
       "       18, 19, 20, 21, 22, 23, 24, 25, 26, 27, 28, 29, 30, 31, 32, 33, 34,\n",
       "       35, 36, 37, 38, 39, 40, 41, 42, 43, 44, 45, 46, 47, 48, 49])})"
      ]
     },
     "execution_count": 166,
     "metadata": {},
     "output_type": "execute_result"
    }
   ],
   "source": [
    "from sklearn.model_selection import GridSearchCV\n",
    "param_grid = {'n_neighbors':np.arange(1,50)}\n",
    "knn = KNeighborsClassifier()\n",
    "knn_cv= GridSearchCV(knn,param_grid,cv=5)\n",
    "knn_cv.fit(sX_train,y_train)"
   ]
  },
  {
   "cell_type": "markdown",
   "metadata": {
    "tags": []
   },
   "source": [
    "#### Print the best score and best parameter for n_neighbors."
   ]
  },
  {
   "cell_type": "code",
   "execution_count": 167,
   "metadata": {},
   "outputs": [
    {
     "name": "stdout",
     "output_type": "stream",
     "text": [
      "Best Score:0.7561266874350987\n",
      "Best Parameters: {'n_neighbors': 9}\n"
     ]
    }
   ],
   "source": [
    "print(\"Best Score:\" + str(knn_cv.best_score_))\n",
    "print(\"Best Parameters: \" + str(knn_cv.best_params_))"
   ]
  },
  {
   "cell_type": "markdown",
   "metadata": {},
   "source": [
    "Here you can see that the ideal number of n_neighbors for this model is 14 based on the grid search performed. "
   ]
  },
  {
   "cell_type": "markdown",
   "metadata": {},
   "source": [
    "Except that my model is telling me k = 9 is the best performing parameter."
   ]
  },
  {
   "cell_type": "markdown",
   "metadata": {
    "tags": []
   },
   "source": [
    "**<font color='teal'> Now, following the KNN example, apply this grid search method to find the optimal number of estimators in a Randon Forest model.\n",
    "</font>**"
   ]
  },
  {
   "cell_type": "code",
   "execution_count": 168,
   "metadata": {},
   "outputs": [
    {
     "data": {
      "text/plain": [
       "GridSearchCV(cv=5, estimator=RandomForestClassifier(),\n",
       "             param_grid={'max_depth': [2, 5, 8, 10],\n",
       "                         'n_estimators': array([  1,  21,  41,  61,  81, 101, 121, 141, 161, 181])})"
      ]
     },
     "execution_count": 168,
     "metadata": {},
     "output_type": "execute_result"
    }
   ],
   "source": [
    "param_grid = {'n_estimators':np.arange(1,200,20),'max_depth':[2,5,8,10]}\n",
    "rf = RandomForestClassifier()\n",
    "rf_cv= GridSearchCV(rf,param_grid,cv=5)\n",
    "rf_cv.fit(sX_train,y_train)"
   ]
  },
  {
   "cell_type": "code",
   "execution_count": 169,
   "metadata": {
    "tags": []
   },
   "outputs": [
    {
     "name": "stdout",
     "output_type": "stream",
     "text": [
      "Best Score:0.7709588092765663\n",
      "Best Parameters: {'max_depth': 5, 'n_estimators': 121}\n"
     ]
    }
   ],
   "source": [
    "print(\"Best Score:\" + str(rf_cv.best_score_))\n",
    "print(\"Best Parameters: \" + str(rf_cv.best_params_))"
   ]
  },
  {
   "cell_type": "code",
   "execution_count": 171,
   "metadata": {},
   "outputs": [
    {
     "data": {
      "text/plain": [
       "RandomForestClassifier(max_depth=5, n_estimators=121)"
      ]
     },
     "execution_count": 171,
     "metadata": {},
     "output_type": "execute_result"
    }
   ],
   "source": [
    "rf = RandomForestClassifier(max_depth=5,n_estimators=121)\n",
    "rf.fit(sX_train,y_train)"
   ]
  },
  {
   "cell_type": "code",
   "execution_count": 174,
   "metadata": {},
   "outputs": [],
   "source": [
    "from sklearn.metrics import confusion_matrix\n",
    "y_predRF = rf.predict(sX_test)\n",
    "cmRF = confusion_matrix(y_test,y_predRF)"
   ]
  },
  {
   "cell_type": "code",
   "execution_count": 175,
   "metadata": {},
   "outputs": [
    {
     "data": {
      "image/png": "[encoded data removed]",
      "text/plain": [
       "<Figure size 432x288 with 2 Axes>"
      ]
     },
     "metadata": {},
     "output_type": "display_data"
    }
   ],
   "source": [
    "cmdRF = ConfusionMatrixDisplay(confusion_matrix = cmRF)\n",
    "\n",
    "cmdRF.plot()\n",
    "plt.grid(None)\n",
    "plt.show()"
   ]
  },
  {
   "cell_type": "code",
   "execution_count": 176,
   "metadata": {},
   "outputs": [
    {
     "name": "stdout",
     "output_type": "stream",
     "text": [
      "Classification Report for Test Data\n",
      "              precision    recall  f1-score   support\n",
      "\n",
      "           0       0.77      0.85      0.81       150\n",
      "           1       0.65      0.53      0.59        81\n",
      "\n",
      "    accuracy                           0.74       231\n",
      "   macro avg       0.71      0.69      0.70       231\n",
      "weighted avg       0.73      0.74      0.73       231\n",
      "\n"
     ]
    }
   ],
   "source": [
    "print(\"Classification Report for Test Data\")\n",
    "print(classification_report(y_test, y_predRF))"
   ]
  },
  {
   "cell_type": "markdown",
   "metadata": {},
   "source": [
    "Neither of these models' performances are impressive."
   ]
  },
  {
   "cell_type": "code",
   "execution_count": null,
   "metadata": {},
   "outputs": [],
   "source": []
  }
 ],
 "metadata": {
  "kernelspec": {
   "display_name": "Python 3",
   "language": "python",
   "name": "python3"
  },
  "language_info": {
   "codemirror_mode": {
    "name": "ipython",
    "version": 3
   },
   "file_extension": ".py",
   "mimetype": "text/x-python",
   "name": "python",
   "nbconvert_exporter": "python",
   "pygments_lexer": "ipython3",
   "version": "3.8.8"
  }
 },
 "nbformat": 4,
 "nbformat_minor": 4
}
