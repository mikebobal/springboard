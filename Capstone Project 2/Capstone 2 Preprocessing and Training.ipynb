{
 "cells": [
  {
   "cell_type": "markdown",
   "id": "19642112",
   "metadata": {},
   "source": [
    "### Table of Contents\n",
    "\n",
    "* [1.0 Purpose](#1.0)\n",
    "    * [1.1 Imports](#1.1)\n",
    "    * [1.2 Load the data](#1.2)\n",
    "    * [1.3 Inspect the data](#1.3)\n",
    "* [2.1 Proportion of classes](#2.1)\n",
    "    * [2.2 Dummy encoding](#2.2)\n",
    "* [3.1 Split dataframe into features and target](#3.1)\n",
    "    * [3.2 Preliminary modeling](#3.2)\n",
    "    * [3.3 Preliminary model confusion matrix and classification report](#3.3)\n",
    "* [4.0 Logistic regression model](#4.0)    \n",
    "    * [4.1 Tuning hyperparameters using a pipeline and GridSearchCV](#4.1)\n",
    "    * [4.2 Accuracy results](#4.2)\n",
    "    * [4.3 F1 results](#4.3)\n",
    "    * [4.4 Confusion matrix and classification report for the top model](#4.4)\n",
    "* [5.0 Random Forest model](#5.0)\n",
    "\n"
   ]
  },
  {
   "cell_type": "markdown",
   "id": "159a2f1f",
   "metadata": {},
   "source": [
    "##### 1.0 Purpose<a id='1.0'></a>"
   ]
  },
  {
   "cell_type": "markdown",
   "id": "4f4766ed",
   "metadata": {},
   "source": [
    "In the previous notebook, we completed exploratory data analysis. The data was visualized in terms of correlations, both between features and targets, and between features and other features.\n",
    "\n",
    "Now, in this notebook, we are in the preprocessing and training phase of this Capstone 2 project. We will be putting together different models for the training/testing process, then checking for accuracy.\n"
   ]
  },
  {
   "cell_type": "markdown",
   "id": "80946f0e",
   "metadata": {},
   "source": [
    "##### 1.1 Imports<a id='1.1'></a>"
   ]
  },
  {
   "cell_type": "code",
   "execution_count": 173,
   "id": "8d41a63b",
   "metadata": {},
   "outputs": [],
   "source": [
    "import numpy as np\n",
    "import scipy as sp\n",
    "import pandas as pd\n",
    "#\n",
    "# plotting and visualization\n",
    "#\n",
    "import matplotlib as mpl\n",
    "import matplotlib.cm as cm\n",
    "from matplotlib.colors import ListedColormap\n",
    "import matplotlib.pyplot as plt\n",
    "#\n",
    "import seaborn as sns\n",
    "#\n",
    "# modeling\n",
    "#\n",
    "from sklearn.preprocessing import OneHotEncoder as OHE\n",
    "import sklearn.model_selection\n",
    "from sklearn.model_selection import train_test_split\n",
    "from sklearn.model_selection import KFold\n",
    "from sklearn.linear_model import LogisticRegression\n",
    "from sklearn.metrics import accuracy_score, f1_score\n",
    "from sklearn.metrics import classification_report\n",
    "from sklearn.metrics import confusion_matrix\n",
    "from sklearn.metrics import ConfusionMatrixDisplay\n",
    "from sklearn.model_selection import GridSearchCV\n",
    "from sklearn.preprocessing import StandardScaler\n",
    "from sklearn.pipeline import Pipeline\n",
    "from sklearn.ensemble import RandomForestRegressor\n",
    "from sklearn.ensemble import RandomForestClassifier\n",
    "from sklearn import tree\n",
    "from sklearn.tree import DecisionTreeClassifier\n",
    "from sklearn.tree import DecisionTreeRegressor"
   ]
  },
  {
   "cell_type": "markdown",
   "id": "d78ddeaf",
   "metadata": {},
   "source": [
    "##### 1.2 Load data<a id='1.2'></a>"
   ]
  },
  {
   "cell_type": "code",
   "execution_count": 174,
   "id": "72bd6912",
   "metadata": {},
   "outputs": [
    {
     "name": "stdout",
     "output_type": "stream",
     "text": [
      "The main data have  2126  rows and  22  columns\n",
      "\n",
      "column names: \n",
      "\n",
      "LB\n",
      "AC\n",
      "FM\n",
      "UC\n",
      "ASTV\n",
      "MSTV\n",
      "ALTV\n",
      "MLTV\n",
      "DL\n",
      "DS\n",
      "DP\n",
      "Width\n",
      "Min\n",
      "Max\n",
      "Nmax\n",
      "Nzeros\n",
      "Mode\n",
      "Mean\n",
      "Median\n",
      "Variance\n",
      "Tendency\n",
      "NSP\n"
     ]
    }
   ],
   "source": [
    "path = r'C:\\Users\\Joseph Shire\\Documents\\Springboard Python Data Science\\Python Scripts\\springboard\\Capstone2\\Fetal health idea'\n",
    "main_file = r'\\ctg_final.csv'\n",
    "df = pd.read_csv(path+main_file)\n",
    "fc = r'\\ctg_corr.csv'\n",
    "fcorr = pd.read_csv(path+fc)\n",
    "tc = r'\\ctg_corr_NSP.csv'\n",
    "tcorr = pd.read_csv(path+tc)\n",
    "\n",
    "print('The main data have ', df.shape[0], ' rows and ', df.shape[1], ' columns\\n')\n",
    "print('column names: \\n')\n",
    "print('\\n'.join(list(df.columns)))"
   ]
  },
  {
   "cell_type": "markdown",
   "id": "ed8ed659",
   "metadata": {},
   "source": [
    "Look at the correlation dataframes"
   ]
  },
  {
   "cell_type": "code",
   "execution_count": 175,
   "id": "3940720f",
   "metadata": {},
   "outputs": [
    {
     "data": {
      "text/html": [
       "<div>\n",
       "<style scoped>\n",
       "    .dataframe tbody tr th:only-of-type {\n",
       "        vertical-align: middle;\n",
       "    }\n",
       "\n",
       "    .dataframe tbody tr th {\n",
       "        vertical-align: top;\n",
       "    }\n",
       "\n",
       "    .dataframe thead th {\n",
       "        text-align: right;\n",
       "    }\n",
       "</style>\n",
       "<table border=\"1\" class=\"dataframe\">\n",
       "  <thead>\n",
       "    <tr style=\"text-align: right;\">\n",
       "      <th></th>\n",
       "      <th>var_1</th>\n",
       "      <th>var_2</th>\n",
       "      <th>correlation</th>\n",
       "      <th>abs_corr</th>\n",
       "      <th>corr_level</th>\n",
       "    </tr>\n",
       "  </thead>\n",
       "  <tbody>\n",
       "    <tr>\n",
       "      <th>0</th>\n",
       "      <td>DP</td>\n",
       "      <td>NSP_3.0</td>\n",
       "      <td>0.580253</td>\n",
       "      <td>0.580253</td>\n",
       "      <td>MID</td>\n",
       "    </tr>\n",
       "    <tr>\n",
       "      <th>1</th>\n",
       "      <td>ASTV</td>\n",
       "      <td>NSP_1.0</td>\n",
       "      <td>-0.493391</td>\n",
       "      <td>0.493391</td>\n",
       "      <td>LOW</td>\n",
       "    </tr>\n",
       "    <tr>\n",
       "      <th>2</th>\n",
       "      <td>ALTV</td>\n",
       "      <td>NSP_1.0</td>\n",
       "      <td>-0.489400</td>\n",
       "      <td>0.489400</td>\n",
       "      <td>LOW</td>\n",
       "    </tr>\n",
       "    <tr>\n",
       "      <th>3</th>\n",
       "      <td>NSP_3.0</td>\n",
       "      <td>Mode</td>\n",
       "      <td>-0.419051</td>\n",
       "      <td>0.419051</td>\n",
       "      <td>LOW</td>\n",
       "    </tr>\n",
       "    <tr>\n",
       "      <th>4</th>\n",
       "      <td>ALTV</td>\n",
       "      <td>NSP_2.0</td>\n",
       "      <td>0.418659</td>\n",
       "      <td>0.418659</td>\n",
       "      <td>LOW</td>\n",
       "    </tr>\n",
       "  </tbody>\n",
       "</table>\n",
       "</div>"
      ],
      "text/plain": [
       "     var_1    var_2  correlation  abs_corr corr_level\n",
       "0       DP  NSP_3.0     0.580253  0.580253        MID\n",
       "1     ASTV  NSP_1.0    -0.493391  0.493391        LOW\n",
       "2     ALTV  NSP_1.0    -0.489400  0.489400        LOW\n",
       "3  NSP_3.0     Mode    -0.419051  0.419051        LOW\n",
       "4     ALTV  NSP_2.0     0.418659  0.418659        LOW"
      ]
     },
     "execution_count": 175,
     "metadata": {},
     "output_type": "execute_result"
    }
   ],
   "source": [
    "tcorr.head()"
   ]
  },
  {
   "cell_type": "code",
   "execution_count": 176,
   "id": "a9bd8aa1",
   "metadata": {},
   "outputs": [
    {
     "data": {
      "text/html": [
       "<div>\n",
       "<style scoped>\n",
       "    .dataframe tbody tr th:only-of-type {\n",
       "        vertical-align: middle;\n",
       "    }\n",
       "\n",
       "    .dataframe tbody tr th {\n",
       "        vertical-align: top;\n",
       "    }\n",
       "\n",
       "    .dataframe thead th {\n",
       "        text-align: right;\n",
       "    }\n",
       "</style>\n",
       "<table border=\"1\" class=\"dataframe\">\n",
       "  <thead>\n",
       "    <tr style=\"text-align: right;\">\n",
       "      <th></th>\n",
       "      <th>var_1</th>\n",
       "      <th>var_2</th>\n",
       "      <th>correlation</th>\n",
       "      <th>abs_corr</th>\n",
       "      <th>corr_level</th>\n",
       "    </tr>\n",
       "  </thead>\n",
       "  <tbody>\n",
       "    <tr>\n",
       "      <th>0</th>\n",
       "      <td>Median</td>\n",
       "      <td>Mean</td>\n",
       "      <td>0.948251</td>\n",
       "      <td>0.948251</td>\n",
       "      <td>HIGH</td>\n",
       "    </tr>\n",
       "    <tr>\n",
       "      <th>1</th>\n",
       "      <td>Mode</td>\n",
       "      <td>Median</td>\n",
       "      <td>0.933399</td>\n",
       "      <td>0.933399</td>\n",
       "      <td>HIGH</td>\n",
       "    </tr>\n",
       "    <tr>\n",
       "      <th>2</th>\n",
       "      <td>Min</td>\n",
       "      <td>Width</td>\n",
       "      <td>-0.898519</td>\n",
       "      <td>0.898519</td>\n",
       "      <td>HIGH</td>\n",
       "    </tr>\n",
       "    <tr>\n",
       "      <th>3</th>\n",
       "      <td>Mode</td>\n",
       "      <td>Mean</td>\n",
       "      <td>0.893412</td>\n",
       "      <td>0.893412</td>\n",
       "      <td>HIGH</td>\n",
       "    </tr>\n",
       "    <tr>\n",
       "      <th>4</th>\n",
       "      <td>LB</td>\n",
       "      <td>Median</td>\n",
       "      <td>0.789246</td>\n",
       "      <td>0.789246</td>\n",
       "      <td>HIGH</td>\n",
       "    </tr>\n",
       "  </tbody>\n",
       "</table>\n",
       "</div>"
      ],
      "text/plain": [
       "    var_1   var_2  correlation  abs_corr corr_level\n",
       "0  Median    Mean     0.948251  0.948251       HIGH\n",
       "1    Mode  Median     0.933399  0.933399       HIGH\n",
       "2     Min   Width    -0.898519  0.898519       HIGH\n",
       "3    Mode    Mean     0.893412  0.893412       HIGH\n",
       "4      LB  Median     0.789246  0.789246       HIGH"
      ]
     },
     "execution_count": 176,
     "metadata": {},
     "output_type": "execute_result"
    }
   ],
   "source": [
    "fcorr.head()"
   ]
  },
  {
   "cell_type": "markdown",
   "id": "5d5f2aa2",
   "metadata": {},
   "source": [
    "##### 2.1 Proportion of classes<a id='2.1'></a>"
   ]
  },
  {
   "cell_type": "markdown",
   "id": "6090a565",
   "metadata": {},
   "source": [
    "When building classification models, it is essential to know right away the number of samples per class, proportionally to the total number of samples."
   ]
  },
  {
   "cell_type": "markdown",
   "id": "ad58298d",
   "metadata": {},
   "source": [
    "For our fetal health data, the diagnostic categories are: 1 = Normal = N, 2 = Suspect = S, 3 = Pathological = P."
   ]
  },
  {
   "cell_type": "code",
   "execution_count": 177,
   "id": "a1af8246",
   "metadata": {},
   "outputs": [
    {
     "name": "stdout",
     "output_type": "stream",
     "text": [
      "Raw totals:\n",
      "\n",
      "1.0    1655\n",
      "2.0     295\n",
      "3.0     176\n",
      "Name: NSP, dtype: int64\n"
     ]
    }
   ],
   "source": [
    "class_counts_nsp = df['NSP'].value_counts()\n",
    "print('Raw totals:\\n')\n",
    "print(class_counts_nsp)"
   ]
  },
  {
   "cell_type": "code",
   "execution_count": 178,
   "id": "3cbd3545",
   "metadata": {},
   "outputs": [
    {
     "name": "stdout",
     "output_type": "stream",
     "text": [
      "Percentages:\n",
      "\n",
      "1    77.845720\n",
      "2    13.875823\n",
      "3     8.278457\n",
      "dtype: float64\n"
     ]
    }
   ],
   "source": [
    "class_p_nsp = pd.Series([(x / df.shape[0]) * 100.00 for x in class_counts_nsp], index=[1,2,3])\n",
    "print('Percentages:\\n')\n",
    "print(class_p_nsp)"
   ]
  },
  {
   "cell_type": "markdown",
   "id": "1b5fb937",
   "metadata": {},
   "source": [
    "Visualize Proportionality"
   ]
  },
  {
   "cell_type": "code",
   "execution_count": 179,
   "id": "746ae9db",
   "metadata": {},
   "outputs": [
    {
     "data": {
      "image/png": "[encoded data removed]",
      "text/plain": [
       "<Figure size 432x288 with 1 Axes>"
      ]
     },
     "metadata": {
      "needs_background": "light"
     },
     "output_type": "display_data"
    }
   ],
   "source": [
    "fig, ax = plt.subplots()\n",
    "ax.bar(class_counts_nsp.index, class_counts_nsp)\n",
    "ax.set_xticks([1,2,3])\n",
    "ax.set_xticklabels(class_p_nsp.index.astype(str) + '\\n' + ' ' +\n",
    "                   class_p_nsp.round(2).astype(str) + '%')\n",
    "\n",
    "ax.set_ylabel('Count')\n",
    "ax.set_xlabel('NSP category')\n",
    "ax.set_title('Cardiotocogram NSP class distribution\\nwhere 1=normal; 2=suspect; 3=pathologic',\n",
    "              fontsize = 10)\n",
    "plt.show()"
   ]
  },
  {
   "cell_type": "markdown",
   "id": "cbd45b51",
   "metadata": {},
   "source": [
    "##### 2.2 Dummy encode only categorical feature<a id='2.2'></a>"
   ]
  },
  {
   "cell_type": "markdown",
   "id": "21ce93d5",
   "metadata": {},
   "source": [
    "The feature \"Tendency\" is a categorical variable, and will need dummies applied"
   ]
  },
  {
   "cell_type": "code",
   "execution_count": 180,
   "id": "fb26d45b",
   "metadata": {},
   "outputs": [
    {
     "data": {
      "text/plain": [
       " 0.0    1115\n",
       " 1.0     846\n",
       "-1.0     165\n",
       "Name: Tendency, dtype: int64"
      ]
     },
     "execution_count": 180,
     "metadata": {},
     "output_type": "execute_result"
    }
   ],
   "source": [
    "df['Tendency'].value_counts()"
   ]
  },
  {
   "cell_type": "markdown",
   "id": "b245dc64",
   "metadata": {},
   "source": [
    "According to documentaiton, 'Tendency' is histogram tendency: -1=left assymetric; 0=symmetric; 1=right assymetric"
   ]
  },
  {
   "cell_type": "code",
   "execution_count": 181,
   "id": "8b521e30",
   "metadata": {},
   "outputs": [
    {
     "data": {
      "text/html": [
       "<div>\n",
       "<style scoped>\n",
       "    .dataframe tbody tr th:only-of-type {\n",
       "        vertical-align: middle;\n",
       "    }\n",
       "\n",
       "    .dataframe tbody tr th {\n",
       "        vertical-align: top;\n",
       "    }\n",
       "\n",
       "    .dataframe thead th {\n",
       "        text-align: right;\n",
       "    }\n",
       "</style>\n",
       "<table border=\"1\" class=\"dataframe\">\n",
       "  <thead>\n",
       "    <tr style=\"text-align: right;\">\n",
       "      <th></th>\n",
       "      <th>LB</th>\n",
       "      <th>AC</th>\n",
       "      <th>FM</th>\n",
       "      <th>UC</th>\n",
       "      <th>ASTV</th>\n",
       "      <th>MSTV</th>\n",
       "      <th>ALTV</th>\n",
       "      <th>MLTV</th>\n",
       "      <th>DL</th>\n",
       "      <th>DS</th>\n",
       "      <th>...</th>\n",
       "      <th>Nmax</th>\n",
       "      <th>Nzeros</th>\n",
       "      <th>Mode</th>\n",
       "      <th>Mean</th>\n",
       "      <th>Median</th>\n",
       "      <th>Variance</th>\n",
       "      <th>NSP</th>\n",
       "      <th>Tendency_-1.0</th>\n",
       "      <th>Tendency_0.0</th>\n",
       "      <th>Tendency_1.0</th>\n",
       "    </tr>\n",
       "  </thead>\n",
       "  <tbody>\n",
       "    <tr>\n",
       "      <th>0</th>\n",
       "      <td>120.0</td>\n",
       "      <td>0.0</td>\n",
       "      <td>0.0</td>\n",
       "      <td>0.0</td>\n",
       "      <td>73.0</td>\n",
       "      <td>0.5</td>\n",
       "      <td>43.0</td>\n",
       "      <td>2.4</td>\n",
       "      <td>0.0</td>\n",
       "      <td>0.0</td>\n",
       "      <td>...</td>\n",
       "      <td>2.0</td>\n",
       "      <td>0.0</td>\n",
       "      <td>120.0</td>\n",
       "      <td>137.0</td>\n",
       "      <td>121.0</td>\n",
       "      <td>73.0</td>\n",
       "      <td>2.0</td>\n",
       "      <td>0</td>\n",
       "      <td>0</td>\n",
       "      <td>1</td>\n",
       "    </tr>\n",
       "    <tr>\n",
       "      <th>1</th>\n",
       "      <td>132.0</td>\n",
       "      <td>4.0</td>\n",
       "      <td>0.0</td>\n",
       "      <td>4.0</td>\n",
       "      <td>17.0</td>\n",
       "      <td>2.1</td>\n",
       "      <td>0.0</td>\n",
       "      <td>10.4</td>\n",
       "      <td>2.0</td>\n",
       "      <td>0.0</td>\n",
       "      <td>...</td>\n",
       "      <td>6.0</td>\n",
       "      <td>1.0</td>\n",
       "      <td>141.0</td>\n",
       "      <td>136.0</td>\n",
       "      <td>140.0</td>\n",
       "      <td>12.0</td>\n",
       "      <td>1.0</td>\n",
       "      <td>0</td>\n",
       "      <td>1</td>\n",
       "      <td>0</td>\n",
       "    </tr>\n",
       "    <tr>\n",
       "      <th>2</th>\n",
       "      <td>133.0</td>\n",
       "      <td>2.0</td>\n",
       "      <td>0.0</td>\n",
       "      <td>5.0</td>\n",
       "      <td>16.0</td>\n",
       "      <td>2.1</td>\n",
       "      <td>0.0</td>\n",
       "      <td>13.4</td>\n",
       "      <td>2.0</td>\n",
       "      <td>0.0</td>\n",
       "      <td>...</td>\n",
       "      <td>5.0</td>\n",
       "      <td>1.0</td>\n",
       "      <td>141.0</td>\n",
       "      <td>135.0</td>\n",
       "      <td>138.0</td>\n",
       "      <td>13.0</td>\n",
       "      <td>1.0</td>\n",
       "      <td>0</td>\n",
       "      <td>1</td>\n",
       "      <td>0</td>\n",
       "    </tr>\n",
       "    <tr>\n",
       "      <th>3</th>\n",
       "      <td>134.0</td>\n",
       "      <td>2.0</td>\n",
       "      <td>0.0</td>\n",
       "      <td>6.0</td>\n",
       "      <td>16.0</td>\n",
       "      <td>2.4</td>\n",
       "      <td>0.0</td>\n",
       "      <td>23.0</td>\n",
       "      <td>2.0</td>\n",
       "      <td>0.0</td>\n",
       "      <td>...</td>\n",
       "      <td>11.0</td>\n",
       "      <td>0.0</td>\n",
       "      <td>137.0</td>\n",
       "      <td>134.0</td>\n",
       "      <td>137.0</td>\n",
       "      <td>13.0</td>\n",
       "      <td>1.0</td>\n",
       "      <td>0</td>\n",
       "      <td>0</td>\n",
       "      <td>1</td>\n",
       "    </tr>\n",
       "    <tr>\n",
       "      <th>4</th>\n",
       "      <td>132.0</td>\n",
       "      <td>4.0</td>\n",
       "      <td>0.0</td>\n",
       "      <td>5.0</td>\n",
       "      <td>16.0</td>\n",
       "      <td>2.4</td>\n",
       "      <td>0.0</td>\n",
       "      <td>19.9</td>\n",
       "      <td>0.0</td>\n",
       "      <td>0.0</td>\n",
       "      <td>...</td>\n",
       "      <td>9.0</td>\n",
       "      <td>0.0</td>\n",
       "      <td>137.0</td>\n",
       "      <td>136.0</td>\n",
       "      <td>138.0</td>\n",
       "      <td>11.0</td>\n",
       "      <td>1.0</td>\n",
       "      <td>0</td>\n",
       "      <td>0</td>\n",
       "      <td>1</td>\n",
       "    </tr>\n",
       "    <tr>\n",
       "      <th>...</th>\n",
       "      <td>...</td>\n",
       "      <td>...</td>\n",
       "      <td>...</td>\n",
       "      <td>...</td>\n",
       "      <td>...</td>\n",
       "      <td>...</td>\n",
       "      <td>...</td>\n",
       "      <td>...</td>\n",
       "      <td>...</td>\n",
       "      <td>...</td>\n",
       "      <td>...</td>\n",
       "      <td>...</td>\n",
       "      <td>...</td>\n",
       "      <td>...</td>\n",
       "      <td>...</td>\n",
       "      <td>...</td>\n",
       "      <td>...</td>\n",
       "      <td>...</td>\n",
       "      <td>...</td>\n",
       "      <td>...</td>\n",
       "      <td>...</td>\n",
       "    </tr>\n",
       "    <tr>\n",
       "      <th>2121</th>\n",
       "      <td>140.0</td>\n",
       "      <td>0.0</td>\n",
       "      <td>0.0</td>\n",
       "      <td>6.0</td>\n",
       "      <td>79.0</td>\n",
       "      <td>0.2</td>\n",
       "      <td>25.0</td>\n",
       "      <td>7.2</td>\n",
       "      <td>0.0</td>\n",
       "      <td>0.0</td>\n",
       "      <td>...</td>\n",
       "      <td>4.0</td>\n",
       "      <td>0.0</td>\n",
       "      <td>153.0</td>\n",
       "      <td>150.0</td>\n",
       "      <td>152.0</td>\n",
       "      <td>2.0</td>\n",
       "      <td>2.0</td>\n",
       "      <td>0</td>\n",
       "      <td>1</td>\n",
       "      <td>0</td>\n",
       "    </tr>\n",
       "    <tr>\n",
       "      <th>2122</th>\n",
       "      <td>140.0</td>\n",
       "      <td>1.0</td>\n",
       "      <td>0.0</td>\n",
       "      <td>9.0</td>\n",
       "      <td>78.0</td>\n",
       "      <td>0.4</td>\n",
       "      <td>22.0</td>\n",
       "      <td>7.1</td>\n",
       "      <td>0.0</td>\n",
       "      <td>0.0</td>\n",
       "      <td>...</td>\n",
       "      <td>6.0</td>\n",
       "      <td>0.0</td>\n",
       "      <td>152.0</td>\n",
       "      <td>148.0</td>\n",
       "      <td>151.0</td>\n",
       "      <td>3.0</td>\n",
       "      <td>2.0</td>\n",
       "      <td>0</td>\n",
       "      <td>0</td>\n",
       "      <td>1</td>\n",
       "    </tr>\n",
       "    <tr>\n",
       "      <th>2123</th>\n",
       "      <td>140.0</td>\n",
       "      <td>1.0</td>\n",
       "      <td>0.0</td>\n",
       "      <td>7.0</td>\n",
       "      <td>79.0</td>\n",
       "      <td>0.4</td>\n",
       "      <td>20.0</td>\n",
       "      <td>6.1</td>\n",
       "      <td>0.0</td>\n",
       "      <td>0.0</td>\n",
       "      <td>...</td>\n",
       "      <td>5.0</td>\n",
       "      <td>0.0</td>\n",
       "      <td>153.0</td>\n",
       "      <td>148.0</td>\n",
       "      <td>152.0</td>\n",
       "      <td>4.0</td>\n",
       "      <td>2.0</td>\n",
       "      <td>0</td>\n",
       "      <td>0</td>\n",
       "      <td>1</td>\n",
       "    </tr>\n",
       "    <tr>\n",
       "      <th>2124</th>\n",
       "      <td>140.0</td>\n",
       "      <td>1.0</td>\n",
       "      <td>0.0</td>\n",
       "      <td>9.0</td>\n",
       "      <td>78.0</td>\n",
       "      <td>0.4</td>\n",
       "      <td>27.0</td>\n",
       "      <td>7.0</td>\n",
       "      <td>0.0</td>\n",
       "      <td>0.0</td>\n",
       "      <td>...</td>\n",
       "      <td>6.0</td>\n",
       "      <td>0.0</td>\n",
       "      <td>152.0</td>\n",
       "      <td>147.0</td>\n",
       "      <td>151.0</td>\n",
       "      <td>4.0</td>\n",
       "      <td>2.0</td>\n",
       "      <td>0</td>\n",
       "      <td>0</td>\n",
       "      <td>1</td>\n",
       "    </tr>\n",
       "    <tr>\n",
       "      <th>2125</th>\n",
       "      <td>142.0</td>\n",
       "      <td>1.0</td>\n",
       "      <td>1.0</td>\n",
       "      <td>5.0</td>\n",
       "      <td>74.0</td>\n",
       "      <td>0.4</td>\n",
       "      <td>36.0</td>\n",
       "      <td>5.0</td>\n",
       "      <td>0.0</td>\n",
       "      <td>0.0</td>\n",
       "      <td>...</td>\n",
       "      <td>2.0</td>\n",
       "      <td>1.0</td>\n",
       "      <td>145.0</td>\n",
       "      <td>143.0</td>\n",
       "      <td>145.0</td>\n",
       "      <td>1.0</td>\n",
       "      <td>1.0</td>\n",
       "      <td>0</td>\n",
       "      <td>1</td>\n",
       "      <td>0</td>\n",
       "    </tr>\n",
       "  </tbody>\n",
       "</table>\n",
       "<p>2126 rows × 24 columns</p>\n",
       "</div>"
      ],
      "text/plain": [
       "         LB   AC   FM   UC  ASTV  MSTV  ALTV  MLTV   DL   DS  ...  Nmax  \\\n",
       "0     120.0  0.0  0.0  0.0  73.0   0.5  43.0   2.4  0.0  0.0  ...   2.0   \n",
       "1     132.0  4.0  0.0  4.0  17.0   2.1   0.0  10.4  2.0  0.0  ...   6.0   \n",
       "2     133.0  2.0  0.0  5.0  16.0   2.1   0.0  13.4  2.0  0.0  ...   5.0   \n",
       "3     134.0  2.0  0.0  6.0  16.0   2.4   0.0  23.0  2.0  0.0  ...  11.0   \n",
       "4     132.0  4.0  0.0  5.0  16.0   2.4   0.0  19.9  0.0  0.0  ...   9.0   \n",
       "...     ...  ...  ...  ...   ...   ...   ...   ...  ...  ...  ...   ...   \n",
       "2121  140.0  0.0  0.0  6.0  79.0   0.2  25.0   7.2  0.0  0.0  ...   4.0   \n",
       "2122  140.0  1.0  0.0  9.0  78.0   0.4  22.0   7.1  0.0  0.0  ...   6.0   \n",
       "2123  140.0  1.0  0.0  7.0  79.0   0.4  20.0   6.1  0.0  0.0  ...   5.0   \n",
       "2124  140.0  1.0  0.0  9.0  78.0   0.4  27.0   7.0  0.0  0.0  ...   6.0   \n",
       "2125  142.0  1.0  1.0  5.0  74.0   0.4  36.0   5.0  0.0  0.0  ...   2.0   \n",
       "\n",
       "      Nzeros   Mode   Mean  Median  Variance  NSP  Tendency_-1.0  \\\n",
       "0        0.0  120.0  137.0   121.0      73.0  2.0              0   \n",
       "1        1.0  141.0  136.0   140.0      12.0  1.0              0   \n",
       "2        1.0  141.0  135.0   138.0      13.0  1.0              0   \n",
       "3        0.0  137.0  134.0   137.0      13.0  1.0              0   \n",
       "4        0.0  137.0  136.0   138.0      11.0  1.0              0   \n",
       "...      ...    ...    ...     ...       ...  ...            ...   \n",
       "2121     0.0  153.0  150.0   152.0       2.0  2.0              0   \n",
       "2122     0.0  152.0  148.0   151.0       3.0  2.0              0   \n",
       "2123     0.0  153.0  148.0   152.0       4.0  2.0              0   \n",
       "2124     0.0  152.0  147.0   151.0       4.0  2.0              0   \n",
       "2125     1.0  145.0  143.0   145.0       1.0  1.0              0   \n",
       "\n",
       "      Tendency_0.0  Tendency_1.0  \n",
       "0                0             1  \n",
       "1                1             0  \n",
       "2                1             0  \n",
       "3                0             1  \n",
       "4                0             1  \n",
       "...            ...           ...  \n",
       "2121             1             0  \n",
       "2122             0             1  \n",
       "2123             0             1  \n",
       "2124             0             1  \n",
       "2125             1             0  \n",
       "\n",
       "[2126 rows x 24 columns]"
      ]
     },
     "execution_count": 181,
     "metadata": {},
     "output_type": "execute_result"
    }
   ],
   "source": [
    "dfd = pd.get_dummies(df, columns = ['Tendency'])\n",
    "dfd"
   ]
  },
  {
   "cell_type": "markdown",
   "id": "089e9742",
   "metadata": {},
   "source": [
    "##### 3.1 Split dataframe into features and target<a id='3.1'></a>"
   ]
  },
  {
   "cell_type": "markdown",
   "id": "9ae2e330",
   "metadata": {},
   "source": [
    "Setting our features as the X variable, and targets as the y variable for use in our modeling."
   ]
  },
  {
   "cell_type": "code",
   "execution_count": 182,
   "id": "4e3dc691",
   "metadata": {},
   "outputs": [],
   "source": [
    "    dfd['NSP'] = df['NSP'].replace([1.0,2.0,3.0],['N','S','P'])"
   ]
  },
  {
   "cell_type": "code",
   "execution_count": 183,
   "id": "f369ee6d",
   "metadata": {},
   "outputs": [],
   "source": [
    "X = dfd.drop(columns = ['NSP'])"
   ]
  },
  {
   "cell_type": "code",
   "execution_count": 184,
   "id": "d3e9cd66",
   "metadata": {},
   "outputs": [],
   "source": [
    "y = dfd['NSP']"
   ]
  },
  {
   "cell_type": "code",
   "execution_count": 185,
   "id": "ad2b4866",
   "metadata": {},
   "outputs": [
    {
     "name": "stdout",
     "output_type": "stream",
     "text": [
      "      LB   AC   FM   UC  ASTV  MSTV  ALTV  MLTV   DL   DS  ...    Max  Nmax  \\\n",
      "0  120.0  0.0  0.0  0.0  73.0   0.5  43.0   2.4  0.0  0.0  ...  126.0   2.0   \n",
      "1  132.0  4.0  0.0  4.0  17.0   2.1   0.0  10.4  2.0  0.0  ...  198.0   6.0   \n",
      "2  133.0  2.0  0.0  5.0  16.0   2.1   0.0  13.4  2.0  0.0  ...  198.0   5.0   \n",
      "3  134.0  2.0  0.0  6.0  16.0   2.4   0.0  23.0  2.0  0.0  ...  170.0  11.0   \n",
      "4  132.0  4.0  0.0  5.0  16.0   2.4   0.0  19.9  0.0  0.0  ...  170.0   9.0   \n",
      "\n",
      "   Nzeros   Mode   Mean  Median  Variance  Tendency_-1.0  Tendency_0.0  \\\n",
      "0     0.0  120.0  137.0   121.0      73.0              0             0   \n",
      "1     1.0  141.0  136.0   140.0      12.0              0             1   \n",
      "2     1.0  141.0  135.0   138.0      13.0              0             1   \n",
      "3     0.0  137.0  134.0   137.0      13.0              0             0   \n",
      "4     0.0  137.0  136.0   138.0      11.0              0             0   \n",
      "\n",
      "   Tendency_1.0  \n",
      "0             1  \n",
      "1             0  \n",
      "2             0  \n",
      "3             1  \n",
      "4             1  \n",
      "\n",
      "[5 rows x 23 columns] 0    S\n",
      "1    N\n",
      "2    N\n",
      "3    N\n",
      "4    N\n",
      "Name: NSP, dtype: object\n"
     ]
    }
   ],
   "source": [
    "print(X.head(),y.head())"
   ]
  },
  {
   "cell_type": "markdown",
   "id": "3f15bad4",
   "metadata": {},
   "source": [
    "##### 3.2 Preliminary modeling<a id='3.2'></a>"
   ]
  },
  {
   "cell_type": "markdown",
   "id": "4bec5414",
   "metadata": {},
   "source": [
    "Start by training a single model on a single set of parameters, to see what non-tuned results might look like"
   ]
  },
  {
   "cell_type": "code",
   "execution_count": 186,
   "id": "a564d7a9",
   "metadata": {},
   "outputs": [],
   "source": [
    "X_train, X_test, y_train, y_test = train_test_split(X, y, random_state = 55, train_size = 0.80, stratify = y)"
   ]
  },
  {
   "cell_type": "markdown",
   "id": "07c826c9",
   "metadata": {},
   "source": [
    "Using Logistic Regression, with the solver 'liblinear', maximum iterations set to 500, and regularization (C) at 1000"
   ]
  },
  {
   "cell_type": "code",
   "execution_count": 187,
   "id": "e6a67b3d",
   "metadata": {},
   "outputs": [],
   "source": [
    "lr = LogisticRegression(solver = 'liblinear', max_iter = 500, C = 1000)"
   ]
  },
  {
   "cell_type": "markdown",
   "id": "906bd75e",
   "metadata": {},
   "source": [
    "We fit the training data to the model"
   ]
  },
  {
   "cell_type": "code",
   "execution_count": 188,
   "id": "243a0f4f",
   "metadata": {},
   "outputs": [
    {
     "data": {
      "text/plain": [
       "LogisticRegression(C=1000, max_iter=500, solver='liblinear')"
      ]
     },
     "execution_count": 188,
     "metadata": {},
     "output_type": "execute_result"
    }
   ],
   "source": [
    "lr.fit(X_train, y_train)"
   ]
  },
  {
   "cell_type": "markdown",
   "id": "781ec97b",
   "metadata": {},
   "source": [
    "Then assess accuracy scores for training and testing data"
   ]
  },
  {
   "cell_type": "code",
   "execution_count": 189,
   "id": "574c9ede",
   "metadata": {},
   "outputs": [
    {
     "name": "stdout",
     "output_type": "stream",
     "text": [
      "Accuracy on training data: 0.91\n"
     ]
    }
   ],
   "source": [
    "print(f'Accuracy on training data: {accuracy_score(lr.predict(X_train), y_train):.2f}')"
   ]
  },
  {
   "cell_type": "code",
   "execution_count": 190,
   "id": "19fbc57d",
   "metadata": {},
   "outputs": [
    {
     "name": "stdout",
     "output_type": "stream",
     "text": [
      "Accuracy on test data: 0.90\n"
     ]
    }
   ],
   "source": [
    "print(f'Accuracy on test data: {accuracy_score(lr.predict(X_test), y_test):.2f}')"
   ]
  },
  {
   "cell_type": "markdown",
   "id": "0e3df0cd",
   "metadata": {},
   "source": [
    "##### 3.3 Preliminary model confusion matrix and classification report<a id='3.3'></a>"
   ]
  },
  {
   "cell_type": "code",
   "execution_count": 191,
   "id": "a923a143",
   "metadata": {},
   "outputs": [
    {
     "data": {
      "text/plain": [
       "<sklearn.metrics._plot.confusion_matrix.ConfusionMatrixDisplay at 0x17e7bb76910>"
      ]
     },
     "execution_count": 191,
     "metadata": {},
     "output_type": "execute_result"
    },
    {
     "data": {
      "image/png": "[encoded data removed]",
      "text/plain": [
       "<Figure size 432x288 with 2 Axes>"
      ]
     },
     "metadata": {
      "needs_background": "light"
     },
     "output_type": "display_data"
    }
   ],
   "source": [
    "cm = confusion_matrix(lr.predict(X_test), y_test, labels = lr.classes_)\n",
    "_, ax = plt.subplots()\n",
    "display_cm = ConfusionMatrixDisplay(confusion_matrix = cm, \n",
    "                                    display_labels = ['N', 'S','P'])\n",
    "ax.set_xticks([0, 2])\n",
    "ax.set_yticks([0, 2])\n",
    "display_cm.plot(ax = ax)"
   ]
  },
  {
   "cell_type": "markdown",
   "id": "ae7be89b",
   "metadata": {},
   "source": [
    "Accuracy scores can be misleading, so a classification report is created for both training and testing data"
   ]
  },
  {
   "cell_type": "code",
   "execution_count": 192,
   "id": "2c6bf2e8",
   "metadata": {},
   "outputs": [
    {
     "name": "stdout",
     "output_type": "stream",
     "text": [
      "Classification Report for Training Data\n",
      "              precision    recall  f1-score   support\n",
      "\n",
      "           N       0.94      0.96      0.95      1323\n",
      "           P       0.88      0.80      0.84       141\n",
      "           S       0.71      0.66      0.68       236\n",
      "\n",
      "    accuracy                           0.91      1700\n",
      "   macro avg       0.84      0.81      0.83      1700\n",
      "weighted avg       0.91      0.91      0.91      1700\n",
      "\n"
     ]
    }
   ],
   "source": [
    "print(\"Classification Report for Training Data\")\n",
    "print(classification_report(y_train, lr.predict(X_train)))"
   ]
  },
  {
   "cell_type": "code",
   "execution_count": 193,
   "id": "a2ea4e84",
   "metadata": {},
   "outputs": [
    {
     "name": "stdout",
     "output_type": "stream",
     "text": [
      "Classification Report for Test Data\n",
      "              precision    recall  f1-score   support\n",
      "\n",
      "           N       0.95      0.95      0.95       332\n",
      "           P       0.79      0.66      0.72        35\n",
      "           S       0.66      0.71      0.68        59\n",
      "\n",
      "    accuracy                           0.90       426\n",
      "   macro avg       0.80      0.77      0.79       426\n",
      "weighted avg       0.90      0.90      0.90       426\n",
      "\n"
     ]
    }
   ],
   "source": [
    "print(\"Classification Report for Test Data\")\n",
    "print(classification_report(y_test, lr.predict(X_test)))"
   ]
  },
  {
   "cell_type": "markdown",
   "id": "6aa6de14",
   "metadata": {},
   "source": [
    "The model performs well, and even does better for the test set than the training set across the board (better precision, recall, and F1 scores for all 3 classes)"
   ]
  },
  {
   "cell_type": "markdown",
   "id": "69f29191",
   "metadata": {},
   "source": [
    "##### 4.0 Logistic regression model<a id='4.0'></a>"
   ]
  },
  {
   "cell_type": "markdown",
   "id": "4c73060e",
   "metadata": {},
   "source": [
    "Now we can commense hyperparameter tuning to get a better feel for what parameters could give us the best predictive power"
   ]
  },
  {
   "cell_type": "code",
   "execution_count": 194,
   "id": "93c0009c",
   "metadata": {
    "collapsed": true
   },
   "outputs": [
    {
     "name": "stdout",
     "output_type": "stream",
     "text": [
      "Help on class GridSearchCV in module sklearn.model_selection._search:\n",
      "\n",
      "class GridSearchCV(BaseSearchCV)\n",
      " |  GridSearchCV(estimator, param_grid, *, scoring=None, n_jobs=None, refit=True, cv=None, verbose=0, pre_dispatch='2*n_jobs', error_score=nan, return_train_score=False)\n",
      " |  \n",
      " |  Exhaustive search over specified parameter values for an estimator.\n",
      " |  \n",
      " |  Important members are fit, predict.\n",
      " |  \n",
      " |  GridSearchCV implements a \"fit\" and a \"score\" method.\n",
      " |  It also implements \"score_samples\", \"predict\", \"predict_proba\",\n",
      " |  \"decision_function\", \"transform\" and \"inverse_transform\" if they are\n",
      " |  implemented in the estimator used.\n",
      " |  \n",
      " |  The parameters of the estimator used to apply these methods are optimized\n",
      " |  by cross-validated grid-search over a parameter grid.\n",
      " |  \n",
      " |  Read more in the :ref:`User Guide <grid_search>`.\n",
      " |  \n",
      " |  Parameters\n",
      " |  ----------\n",
      " |  estimator : estimator object.\n",
      " |      This is assumed to implement the scikit-learn estimator interface.\n",
      " |      Either estimator needs to provide a ``score`` function,\n",
      " |      or ``scoring`` must be passed.\n",
      " |  \n",
      " |  param_grid : dict or list of dictionaries\n",
      " |      Dictionary with parameters names (`str`) as keys and lists of\n",
      " |      parameter settings to try as values, or a list of such\n",
      " |      dictionaries, in which case the grids spanned by each dictionary\n",
      " |      in the list are explored. This enables searching over any sequence\n",
      " |      of parameter settings.\n",
      " |  \n",
      " |  scoring : str, callable, list/tuple or dict, default=None\n",
      " |      A single str (see :ref:`scoring_parameter`) or a callable\n",
      " |      (see :ref:`scoring`) to evaluate the predictions on the test set.\n",
      " |  \n",
      " |      For evaluating multiple metrics, either give a list of (unique) strings\n",
      " |      or a dict with names as keys and callables as values.\n",
      " |  \n",
      " |      NOTE that when using custom scorers, each scorer should return a single\n",
      " |      value. Metric functions returning a list/array of values can be wrapped\n",
      " |      into multiple scorers that return one value each.\n",
      " |  \n",
      " |      See :ref:`multimetric_grid_search` for an example.\n",
      " |  \n",
      " |      If None, the estimator's score method is used.\n",
      " |  \n",
      " |  n_jobs : int, default=None\n",
      " |      Number of jobs to run in parallel.\n",
      " |      ``None`` means 1 unless in a :obj:`joblib.parallel_backend` context.\n",
      " |      ``-1`` means using all processors. See :term:`Glossary <n_jobs>`\n",
      " |      for more details.\n",
      " |  \n",
      " |      .. versionchanged:: v0.20\n",
      " |         `n_jobs` default changed from 1 to None\n",
      " |  \n",
      " |  pre_dispatch : int, or str, default=n_jobs\n",
      " |      Controls the number of jobs that get dispatched during parallel\n",
      " |      execution. Reducing this number can be useful to avoid an\n",
      " |      explosion of memory consumption when more jobs get dispatched\n",
      " |      than CPUs can process. This parameter can be:\n",
      " |  \n",
      " |          - None, in which case all the jobs are immediately\n",
      " |            created and spawned. Use this for lightweight and\n",
      " |            fast-running jobs, to avoid delays due to on-demand\n",
      " |            spawning of the jobs\n",
      " |  \n",
      " |          - An int, giving the exact number of total jobs that are\n",
      " |            spawned\n",
      " |  \n",
      " |          - A str, giving an expression as a function of n_jobs,\n",
      " |            as in '2*n_jobs'\n",
      " |  \n",
      " |  cv : int, cross-validation generator or an iterable, default=None\n",
      " |      Determines the cross-validation splitting strategy.\n",
      " |      Possible inputs for cv are:\n",
      " |  \n",
      " |      - None, to use the default 5-fold cross validation,\n",
      " |      - integer, to specify the number of folds in a `(Stratified)KFold`,\n",
      " |      - :term:`CV splitter`,\n",
      " |      - An iterable yielding (train, test) splits as arrays of indices.\n",
      " |  \n",
      " |      For integer/None inputs, if the estimator is a classifier and ``y`` is\n",
      " |      either binary or multiclass, :class:`StratifiedKFold` is used. In all\n",
      " |      other cases, :class:`KFold` is used.\n",
      " |  \n",
      " |      Refer :ref:`User Guide <cross_validation>` for the various\n",
      " |      cross-validation strategies that can be used here.\n",
      " |  \n",
      " |      .. versionchanged:: 0.22\n",
      " |          ``cv`` default value if None changed from 3-fold to 5-fold.\n",
      " |  \n",
      " |  refit : bool, str, or callable, default=True\n",
      " |      Refit an estimator using the best found parameters on the whole\n",
      " |      dataset.\n",
      " |  \n",
      " |      For multiple metric evaluation, this needs to be a `str` denoting the\n",
      " |      scorer that would be used to find the best parameters for refitting\n",
      " |      the estimator at the end.\n",
      " |  \n",
      " |      Where there are considerations other than maximum score in\n",
      " |      choosing a best estimator, ``refit`` can be set to a function which\n",
      " |      returns the selected ``best_index_`` given ``cv_results_``. In that\n",
      " |      case, the ``best_estimator_`` and ``best_params_`` will be set\n",
      " |      according to the returned ``best_index_`` while the ``best_score_``\n",
      " |      attribute will not be available.\n",
      " |  \n",
      " |      The refitted estimator is made available at the ``best_estimator_``\n",
      " |      attribute and permits using ``predict`` directly on this\n",
      " |      ``GridSearchCV`` instance.\n",
      " |  \n",
      " |      Also for multiple metric evaluation, the attributes ``best_index_``,\n",
      " |      ``best_score_`` and ``best_params_`` will only be available if\n",
      " |      ``refit`` is set and all of them will be determined w.r.t this specific\n",
      " |      scorer.\n",
      " |  \n",
      " |      See ``scoring`` parameter to know more about multiple metric\n",
      " |      evaluation.\n",
      " |  \n",
      " |      .. versionchanged:: 0.20\n",
      " |          Support for callable added.\n",
      " |  \n",
      " |  verbose : int\n",
      " |      Controls the verbosity: the higher, the more messages.\n",
      " |  \n",
      " |      - >1 : the computation time for each fold and parameter candidate is\n",
      " |        displayed;\n",
      " |      - >2 : the score is also displayed;\n",
      " |      - >3 : the fold and candidate parameter indexes are also displayed\n",
      " |        together with the starting time of the computation.\n",
      " |  \n",
      " |  error_score : 'raise' or numeric, default=np.nan\n",
      " |      Value to assign to the score if an error occurs in estimator fitting.\n",
      " |      If set to 'raise', the error is raised. If a numeric value is given,\n",
      " |      FitFailedWarning is raised. This parameter does not affect the refit\n",
      " |      step, which will always raise the error.\n",
      " |  \n",
      " |  return_train_score : bool, default=False\n",
      " |      If ``False``, the ``cv_results_`` attribute will not include training\n",
      " |      scores.\n",
      " |      Computing training scores is used to get insights on how different\n",
      " |      parameter settings impact the overfitting/underfitting trade-off.\n",
      " |      However computing the scores on the training set can be computationally\n",
      " |      expensive and is not strictly required to select the parameters that\n",
      " |      yield the best generalization performance.\n",
      " |  \n",
      " |      .. versionadded:: 0.19\n",
      " |  \n",
      " |      .. versionchanged:: 0.21\n",
      " |          Default value was changed from ``True`` to ``False``\n",
      " |  \n",
      " |  \n",
      " |  Examples\n",
      " |  --------\n",
      " |  >>> from sklearn import svm, datasets\n",
      " |  >>> from sklearn.model_selection import GridSearchCV\n",
      " |  >>> iris = datasets.load_iris()\n",
      " |  >>> parameters = {'kernel':('linear', 'rbf'), 'C':[1, 10]}\n",
      " |  >>> svc = svm.SVC()\n",
      " |  >>> clf = GridSearchCV(svc, parameters)\n",
      " |  >>> clf.fit(iris.data, iris.target)\n",
      " |  GridSearchCV(estimator=SVC(),\n",
      " |               param_grid={'C': [1, 10], 'kernel': ('linear', 'rbf')})\n",
      " |  >>> sorted(clf.cv_results_.keys())\n",
      " |  ['mean_fit_time', 'mean_score_time', 'mean_test_score',...\n",
      " |   'param_C', 'param_kernel', 'params',...\n",
      " |   'rank_test_score', 'split0_test_score',...\n",
      " |   'split2_test_score', ...\n",
      " |   'std_fit_time', 'std_score_time', 'std_test_score']\n",
      " |  \n",
      " |  Attributes\n",
      " |  ----------\n",
      " |  cv_results_ : dict of numpy (masked) ndarrays\n",
      " |      A dict with keys as column headers and values as columns, that can be\n",
      " |      imported into a pandas ``DataFrame``.\n",
      " |  \n",
      " |      For instance the below given table\n",
      " |  \n",
      " |      +------------+-----------+------------+-----------------+---+---------+\n",
      " |      |param_kernel|param_gamma|param_degree|split0_test_score|...|rank_t...|\n",
      " |      +============+===========+============+=================+===+=========+\n",
      " |      |  'poly'    |     --    |      2     |       0.80      |...|    2    |\n",
      " |      +------------+-----------+------------+-----------------+---+---------+\n",
      " |      |  'poly'    |     --    |      3     |       0.70      |...|    4    |\n",
      " |      +------------+-----------+------------+-----------------+---+---------+\n",
      " |      |  'rbf'     |     0.1   |     --     |       0.80      |...|    3    |\n",
      " |      +------------+-----------+------------+-----------------+---+---------+\n",
      " |      |  'rbf'     |     0.2   |     --     |       0.93      |...|    1    |\n",
      " |      +------------+-----------+------------+-----------------+---+---------+\n",
      " |  \n",
      " |      will be represented by a ``cv_results_`` dict of::\n",
      " |  \n",
      " |          {\n",
      " |          'param_kernel': masked_array(data = ['poly', 'poly', 'rbf', 'rbf'],\n",
      " |                                       mask = [False False False False]...)\n",
      " |          'param_gamma': masked_array(data = [-- -- 0.1 0.2],\n",
      " |                                      mask = [ True  True False False]...),\n",
      " |          'param_degree': masked_array(data = [2.0 3.0 -- --],\n",
      " |                                       mask = [False False  True  True]...),\n",
      " |          'split0_test_score'  : [0.80, 0.70, 0.80, 0.93],\n",
      " |          'split1_test_score'  : [0.82, 0.50, 0.70, 0.78],\n",
      " |          'mean_test_score'    : [0.81, 0.60, 0.75, 0.85],\n",
      " |          'std_test_score'     : [0.01, 0.10, 0.05, 0.08],\n",
      " |          'rank_test_score'    : [2, 4, 3, 1],\n",
      " |          'split0_train_score' : [0.80, 0.92, 0.70, 0.93],\n",
      " |          'split1_train_score' : [0.82, 0.55, 0.70, 0.87],\n",
      " |          'mean_train_score'   : [0.81, 0.74, 0.70, 0.90],\n",
      " |          'std_train_score'    : [0.01, 0.19, 0.00, 0.03],\n",
      " |          'mean_fit_time'      : [0.73, 0.63, 0.43, 0.49],\n",
      " |          'std_fit_time'       : [0.01, 0.02, 0.01, 0.01],\n",
      " |          'mean_score_time'    : [0.01, 0.06, 0.04, 0.04],\n",
      " |          'std_score_time'     : [0.00, 0.00, 0.00, 0.01],\n",
      " |          'params'             : [{'kernel': 'poly', 'degree': 2}, ...],\n",
      " |          }\n",
      " |  \n",
      " |      NOTE\n",
      " |  \n",
      " |      The key ``'params'`` is used to store a list of parameter\n",
      " |      settings dicts for all the parameter candidates.\n",
      " |  \n",
      " |      The ``mean_fit_time``, ``std_fit_time``, ``mean_score_time`` and\n",
      " |      ``std_score_time`` are all in seconds.\n",
      " |  \n",
      " |      For multi-metric evaluation, the scores for all the scorers are\n",
      " |      available in the ``cv_results_`` dict at the keys ending with that\n",
      " |      scorer's name (``'_<scorer_name>'``) instead of ``'_score'`` shown\n",
      " |      above. ('split0_test_precision', 'mean_train_precision' etc.)\n",
      " |  \n",
      " |  best_estimator_ : estimator\n",
      " |      Estimator that was chosen by the search, i.e. estimator\n",
      " |      which gave highest score (or smallest loss if specified)\n",
      " |      on the left out data. Not available if ``refit=False``.\n",
      " |  \n",
      " |      See ``refit`` parameter for more information on allowed values.\n",
      " |  \n",
      " |  best_score_ : float\n",
      " |      Mean cross-validated score of the best_estimator\n",
      " |  \n",
      " |      For multi-metric evaluation, this is present only if ``refit`` is\n",
      " |      specified.\n",
      " |  \n",
      " |      This attribute is not available if ``refit`` is a function.\n",
      " |  \n",
      " |  best_params_ : dict\n",
      " |      Parameter setting that gave the best results on the hold out data.\n",
      " |  \n",
      " |      For multi-metric evaluation, this is present only if ``refit`` is\n",
      " |      specified.\n",
      " |  \n",
      " |  best_index_ : int\n",
      " |      The index (of the ``cv_results_`` arrays) which corresponds to the best\n",
      " |      candidate parameter setting.\n",
      " |  \n",
      " |      The dict at ``search.cv_results_['params'][search.best_index_]`` gives\n",
      " |      the parameter setting for the best model, that gives the highest\n",
      " |      mean score (``search.best_score_``).\n",
      " |  \n",
      " |      For multi-metric evaluation, this is present only if ``refit`` is\n",
      " |      specified.\n",
      " |  \n",
      " |  scorer_ : function or a dict\n",
      " |      Scorer function used on the held out data to choose the best\n",
      " |      parameters for the model.\n",
      " |  \n",
      " |      For multi-metric evaluation, this attribute holds the validated\n",
      " |      ``scoring`` dict which maps the scorer key to the scorer callable.\n",
      " |  \n",
      " |  n_splits_ : int\n",
      " |      The number of cross-validation splits (folds/iterations).\n",
      " |  \n",
      " |  refit_time_ : float\n",
      " |      Seconds used for refitting the best model on the whole dataset.\n",
      " |  \n",
      " |      This is present only if ``refit`` is not False.\n",
      " |  \n",
      " |      .. versionadded:: 0.20\n",
      " |  \n",
      " |  multimetric_ : bool\n",
      " |      Whether or not the scorers compute several metrics.\n",
      " |  \n",
      " |  Notes\n",
      " |  -----\n",
      " |  The parameters selected are those that maximize the score of the left out\n",
      " |  data, unless an explicit score is passed in which case it is used instead.\n",
      " |  \n",
      " |  If `n_jobs` was set to a value higher than one, the data is copied for each\n",
      " |  point in the grid (and not `n_jobs` times). This is done for efficiency\n",
      " |  reasons if individual jobs take very little time, but may raise errors if\n",
      " |  the dataset is large and not enough memory is available.  A workaround in\n",
      " |  this case is to set `pre_dispatch`. Then, the memory is copied only\n",
      " |  `pre_dispatch` many times. A reasonable value for `pre_dispatch` is `2 *\n",
      " |  n_jobs`.\n",
      " |  \n",
      " |  See Also\n",
      " |  ---------\n",
      " |  ParameterGrid : Generates all the combinations of a hyperparameter grid.\n",
      " |  train_test_split : Utility function to split the data into a development\n",
      " |      set usable for fitting a GridSearchCV instance and an evaluation set\n",
      " |      for its final evaluation.\n",
      " |  sklearn.metrics.make_scorer : Make a scorer from a performance metric or\n",
      " |      loss function.\n",
      " |  \n",
      " |  Method resolution order:\n",
      " |      GridSearchCV\n",
      " |      BaseSearchCV\n",
      " |      sklearn.base.MetaEstimatorMixin\n",
      " |      sklearn.base.BaseEstimator\n",
      " |      builtins.object\n",
      " |  \n",
      " |  Methods defined here:\n",
      " |  \n",
      " |  __init__(self, estimator, param_grid, *, scoring=None, n_jobs=None, refit=True, cv=None, verbose=0, pre_dispatch='2*n_jobs', error_score=nan, return_train_score=False)\n",
      " |      Initialize self.  See help(type(self)) for accurate signature.\n",
      " |  \n",
      " |  ----------------------------------------------------------------------\n",
      " |  Data and other attributes defined here:\n",
      " |  \n",
      " |  __abstractmethods__ = frozenset()\n",
      " |  \n",
      " |  ----------------------------------------------------------------------\n",
      " |  Methods inherited from BaseSearchCV:\n",
      " |  \n",
      " |  decision_function(self, X)\n",
      " |      Call decision_function on the estimator with the best found parameters.\n",
      " |      \n",
      " |      Only available if ``refit=True`` and the underlying estimator supports\n",
      " |      ``decision_function``.\n",
      " |      \n",
      " |      Parameters\n",
      " |      ----------\n",
      " |      X : indexable, length n_samples\n",
      " |          Must fulfill the input assumptions of the\n",
      " |          underlying estimator.\n",
      " |  \n",
      " |  fit(self, X, y=None, *, groups=None, **fit_params)\n",
      " |      Run fit with all sets of parameters.\n",
      " |      \n",
      " |      Parameters\n",
      " |      ----------\n",
      " |      \n",
      " |      X : array-like of shape (n_samples, n_features)\n",
      " |          Training vector, where n_samples is the number of samples and\n",
      " |          n_features is the number of features.\n",
      " |      \n",
      " |      y : array-like of shape (n_samples, n_output)             or (n_samples,), default=None\n",
      " |          Target relative to X for classification or regression;\n",
      " |          None for unsupervised learning.\n",
      " |      \n",
      " |      groups : array-like of shape (n_samples,), default=None\n",
      " |          Group labels for the samples used while splitting the dataset into\n",
      " |          train/test set. Only used in conjunction with a \"Group\" :term:`cv`\n",
      " |          instance (e.g., :class:`~sklearn.model_selection.GroupKFold`).\n",
      " |      \n",
      " |      **fit_params : dict of str -> object\n",
      " |          Parameters passed to the ``fit`` method of the estimator\n",
      " |  \n",
      " |  inverse_transform(self, Xt)\n",
      " |      Call inverse_transform on the estimator with the best found params.\n",
      " |      \n",
      " |      Only available if the underlying estimator implements\n",
      " |      ``inverse_transform`` and ``refit=True``.\n",
      " |      \n",
      " |      Parameters\n",
      " |      ----------\n",
      " |      Xt : indexable, length n_samples\n",
      " |          Must fulfill the input assumptions of the\n",
      " |          underlying estimator.\n",
      " |  \n",
      " |  predict(self, X)\n",
      " |      Call predict on the estimator with the best found parameters.\n",
      " |      \n",
      " |      Only available if ``refit=True`` and the underlying estimator supports\n",
      " |      ``predict``.\n",
      " |      \n",
      " |      Parameters\n",
      " |      ----------\n",
      " |      X : indexable, length n_samples\n",
      " |          Must fulfill the input assumptions of the\n",
      " |          underlying estimator.\n",
      " |  \n",
      " |  predict_log_proba(self, X)\n",
      " |      Call predict_log_proba on the estimator with the best found parameters.\n",
      " |      \n",
      " |      Only available if ``refit=True`` and the underlying estimator supports\n",
      " |      ``predict_log_proba``.\n",
      " |      \n",
      " |      Parameters\n",
      " |      ----------\n",
      " |      X : indexable, length n_samples\n",
      " |          Must fulfill the input assumptions of the\n",
      " |          underlying estimator.\n",
      " |  \n",
      " |  predict_proba(self, X)\n",
      " |      Call predict_proba on the estimator with the best found parameters.\n",
      " |      \n",
      " |      Only available if ``refit=True`` and the underlying estimator supports\n",
      " |      ``predict_proba``.\n",
      " |      \n",
      " |      Parameters\n",
      " |      ----------\n",
      " |      X : indexable, length n_samples\n",
      " |          Must fulfill the input assumptions of the\n",
      " |          underlying estimator.\n",
      " |  \n",
      " |  score(self, X, y=None)\n",
      " |      Returns the score on the given data, if the estimator has been refit.\n",
      " |      \n",
      " |      This uses the score defined by ``scoring`` where provided, and the\n",
      " |      ``best_estimator_.score`` method otherwise.\n",
      " |      \n",
      " |      Parameters\n",
      " |      ----------\n",
      " |      X : array-like of shape (n_samples, n_features)\n",
      " |          Input data, where n_samples is the number of samples and\n",
      " |          n_features is the number of features.\n",
      " |      \n",
      " |      y : array-like of shape (n_samples, n_output)             or (n_samples,), default=None\n",
      " |          Target relative to X for classification or regression;\n",
      " |          None for unsupervised learning.\n",
      " |      \n",
      " |      Returns\n",
      " |      -------\n",
      " |      score : float\n",
      " |  \n",
      " |  score_samples(self, X)\n",
      " |      Call score_samples on the estimator with the best found parameters.\n",
      " |      \n",
      " |      Only available if ``refit=True`` and the underlying estimator supports\n",
      " |      ``score_samples``.\n",
      " |      \n",
      " |      .. versionadded:: 0.24\n",
      " |      \n",
      " |      Parameters\n",
      " |      ----------\n",
      " |      X : iterable\n",
      " |          Data to predict on. Must fulfill input requirements\n",
      " |          of the underlying estimator.\n",
      " |      \n",
      " |      Returns\n",
      " |      -------\n",
      " |      y_score : ndarray of shape (n_samples,)\n",
      " |  \n",
      " |  transform(self, X)\n",
      " |      Call transform on the estimator with the best found parameters.\n",
      " |      \n",
      " |      Only available if the underlying estimator supports ``transform`` and\n",
      " |      ``refit=True``.\n",
      " |      \n",
      " |      Parameters\n",
      " |      ----------\n",
      " |      X : indexable, length n_samples\n",
      " |          Must fulfill the input assumptions of the\n",
      " |          underlying estimator.\n",
      " |  \n",
      " |  ----------------------------------------------------------------------\n",
      " |  Readonly properties inherited from BaseSearchCV:\n",
      " |  \n",
      " |  classes_\n",
      " |  \n",
      " |  n_features_in_\n",
      " |  \n",
      " |  ----------------------------------------------------------------------\n",
      " |  Data descriptors inherited from sklearn.base.MetaEstimatorMixin:\n",
      " |  \n",
      " |  __dict__\n",
      " |      dictionary for instance variables (if defined)\n",
      " |  \n",
      " |  __weakref__\n",
      " |      list of weak references to the object (if defined)\n",
      " |  \n",
      " |  ----------------------------------------------------------------------\n",
      " |  Methods inherited from sklearn.base.BaseEstimator:\n",
      " |  \n",
      " |  __getstate__(self)\n",
      " |  \n",
      " |  __repr__(self, N_CHAR_MAX=700)\n",
      " |      Return repr(self).\n",
      " |  \n",
      " |  __setstate__(self, state)\n",
      " |  \n",
      " |  get_params(self, deep=True)\n",
      " |      Get parameters for this estimator.\n",
      " |      \n",
      " |      Parameters\n",
      " |      ----------\n",
      " |      deep : bool, default=True\n",
      " |          If True, will return the parameters for this estimator and\n",
      " |          contained subobjects that are estimators.\n",
      " |      \n",
      " |      Returns\n",
      " |      -------\n",
      " |      params : dict\n",
      " |          Parameter names mapped to their values.\n",
      " |  \n",
      " |  set_params(self, **params)\n",
      " |      Set the parameters of this estimator.\n",
      " |      \n",
      " |      The method works on simple estimators as well as on nested objects\n",
      " |      (such as :class:`~sklearn.pipeline.Pipeline`). The latter have\n",
      " |      parameters of the form ``<component>__<parameter>`` so that it's\n",
      " |      possible to update each component of a nested object.\n",
      " |      \n",
      " |      Parameters\n",
      " |      ----------\n",
      " |      **params : dict\n",
      " |          Estimator parameters.\n",
      " |      \n",
      " |      Returns\n",
      " |      -------\n",
      " |      self : estimator instance\n",
      " |          Estimator instance.\n",
      "\n"
     ]
    }
   ],
   "source": [
    "help(GridSearchCV)"
   ]
  },
  {
   "cell_type": "markdown",
   "id": "5271e4f0",
   "metadata": {},
   "source": [
    "##### 4.1 Tuning hyperparameters using a pipeline and GridSearchCV<a id='4.1'></a>"
   ]
  },
  {
   "cell_type": "markdown",
   "id": "88253462",
   "metadata": {},
   "source": [
    "Initially, we will look at a Logistic Regression model.\n",
    "The first step is to crete a pipeline. Within this step, we scale our data, since there are vastly differing scales among our features.\n",
    "Next, we include multiple levels of regularization (parameter 'C'), and multiple solvers.\n",
    "Finally, we use GridSearchCV to check accuracy scores across all combinations of the parameter choices."
   ]
  },
  {
   "cell_type": "code",
   "execution_count": 195,
   "id": "43688107",
   "metadata": {},
   "outputs": [],
   "source": [
    "steps = [(\"scaler\",StandardScaler()),(\"logreg\",LogisticRegression(max_iter = 8000))]\n",
    "parameters = [0.0001, 0.0005, 0.001, 0.005, 0.1, 0.5, 1, 5, 10, 50, 100]\n",
    "\n",
    "pipe = Pipeline(steps)\n",
    "params = {\"logreg__solver\":['newton-cg','liblinear','sag','lbfgs','saga'],\"logreg__C\":parameters}\n",
    "\n",
    "grid = GridSearchCV(pipe, param_grid=params, scoring=\"accuracy\")\n",
    "grid.fit(X_train, y_train)\n",
    "results2 = pd.DataFrame(grid.cv_results_)\n"
   ]
  },
  {
   "cell_type": "markdown",
   "id": "fdcc63b0",
   "metadata": {},
   "source": [
    "##### 4.2 Accuracy results<a id='4.2'></a>"
   ]
  },
  {
   "cell_type": "markdown",
   "id": "52fbdfc4",
   "metadata": {},
   "source": [
    "The results are stored within a pandas dataframe for easy viewing, sorted by the mean test score.\n",
    "The best result is also printed individually."
   ]
  },
  {
   "cell_type": "code",
   "execution_count": 196,
   "id": "76061e95",
   "metadata": {},
   "outputs": [
    {
     "name": "stdout",
     "output_type": "stream",
     "text": [
      "  param_logreg__C param_logreg__solver  mean_test_score\n",
      "0              50                  sag         0.898824\n",
      "1              50                 saga         0.898824\n",
      "2             100                 saga         0.898824\n",
      "3              50            newton-cg         0.898235\n",
      "4              50                lbfgs         0.898235\n",
      "5             100            newton-cg         0.898235\n",
      "6             100                  sag         0.898235\n",
      "7             100                lbfgs         0.898235\n",
      "8               5                 saga         0.897647\n",
      "9              10            newton-cg         0.897647\n",
      "[Pipeline(steps=[('scaler', StandardScaler()),\n",
      "                ('logreg',\n",
      "                 LogisticRegression(C=50, max_iter=8000, solver='sag'))]), {'logreg__C': 50, 'logreg__solver': 'sag'}, 0.8988235294117647]\n"
     ]
    }
   ],
   "source": [
    "best_results = [grid.best_estimator_, grid.best_params_, grid.best_score_]\n",
    "focus_results = results2.iloc[:, [4,5,12]].sort_values(['mean_test_score','param_logreg__C'], ascending=[False,True]).reset_index(drop=True)\n",
    "print(focus_results.head(10))\n",
    "print(best_results)"
   ]
  },
  {
   "cell_type": "markdown",
   "id": "b7d38dfc",
   "metadata": {},
   "source": [
    "Using scaled training data in our gridsearched pipeline (with multiple regression solvers and multiple levels of C) results in a 'best performance' by the 'sag' solver at a C of 50, with an accuracy score of 0.8988."
   ]
  },
  {
   "cell_type": "markdown",
   "id": "5699f378",
   "metadata": {},
   "source": [
    "##### 4.3 F1 results<a id='4.3'></a>"
   ]
  },
  {
   "cell_type": "markdown",
   "id": "e66c4cab",
   "metadata": {},
   "source": [
    "We can repeat this step using a different scoring metric. Taking the F1 score, which is the harmonic mean of Precision and Recall, we achieve a better measure of the incorrectly classified cases than 'accuracy'."
   ]
  },
  {
   "cell_type": "markdown",
   "id": "c9054dbd",
   "metadata": {},
   "source": [
    "F1 scoring is better for cases of imbalanced classes, as well as when correctly identifying false positives/negatives is more important than identifying true positives/negatives."
   ]
  },
  {
   "cell_type": "markdown",
   "id": "a17a2207",
   "metadata": {},
   "source": [
    "Our situation with identifying fetal heart abnormalities falls into both mentioned use-cases for utilizing 'F1' over 'accuracy' for scoring."
   ]
  },
  {
   "cell_type": "code",
   "execution_count": 197,
   "id": "d57104a0",
   "metadata": {},
   "outputs": [],
   "source": [
    "stepsF1 = [(\"scaler\",StandardScaler()),(\"logreg\",LogisticRegression(max_iter = 8000))]\n",
    "parametersF1 = [0.0001, 0.0005, 0.001, 0.005, 0.1, 0.5, 1, 5, 10, 50, 100]\n",
    "\n",
    "pipeF1 = Pipeline(stepsF1)\n",
    "paramsF1 = {\"logreg__solver\":['newton-cg','liblinear','sag','lbfgs','saga'],\"logreg__C\":parametersF1}\n",
    "\n",
    "gridF1 = GridSearchCV(pipeF1, param_grid=paramsF1, scoring='f1_macro')\n",
    "gridF1.fit(X_train, y_train)\n",
    "resultsF1 = pd.DataFrame(gridF1.cv_results_)"
   ]
  },
  {
   "cell_type": "code",
   "execution_count": 198,
   "id": "c97d7212",
   "metadata": {},
   "outputs": [
    {
     "name": "stdout",
     "output_type": "stream",
     "text": [
      "  param_logreg__C param_logreg__solver  mean_test_score\n",
      "0              50                  sag         0.805882\n",
      "1              50                 saga         0.805882\n",
      "2             100                 saga         0.805882\n",
      "3               5                 saga         0.804904\n",
      "4              50            newton-cg         0.803984\n",
      "5              50                lbfgs         0.803984\n",
      "6             100            newton-cg         0.803984\n",
      "7             100                  sag         0.803984\n",
      "8             100                lbfgs         0.803984\n",
      "9              10            newton-cg         0.803702\n",
      "[Pipeline(steps=[('scaler', StandardScaler()),\n",
      "                ('logreg',\n",
      "                 LogisticRegression(C=50, max_iter=8000, solver='sag'))]), {'logreg__C': 50, 'logreg__solver': 'sag'}, 0.8058822074974563]\n"
     ]
    }
   ],
   "source": [
    "best_resultsF1 = [gridF1.best_estimator_, gridF1.best_params_, gridF1.best_score_]\n",
    "focus_resultsF1 = resultsF1.iloc[:, [4,5,12]].sort_values(['mean_test_score','param_logreg__C'], ascending=[False,True]).reset_index(drop=True)\n",
    "print(focus_resultsF1.head(10))\n",
    "print(best_resultsF1)"
   ]
  },
  {
   "cell_type": "markdown",
   "id": "cd28c6a2",
   "metadata": {},
   "source": [
    "Results from the GridSearchCV set to F1 as the scoring mechanism paint a similar picture. 'sag' solver at C = 50 is the top performer."
   ]
  },
  {
   "cell_type": "markdown",
   "id": "8b5471f5",
   "metadata": {},
   "source": [
    "##### 4.4 Confusion matrix and classification report for the top model<a id='4.4'></a>"
   ]
  },
  {
   "cell_type": "markdown",
   "id": "c6ca870f",
   "metadata": {},
   "source": [
    "Training set:"
   ]
  },
  {
   "cell_type": "code",
   "execution_count": 204,
   "id": "84ac3861",
   "metadata": {},
   "outputs": [
    {
     "name": "stdout",
     "output_type": "stream",
     "text": [
      "Classification Report for Training Data\n",
      "              precision    recall  f1-score   support\n",
      "\n",
      "           N       0.93      0.96      0.94      1323\n",
      "           P       0.88      0.84      0.86       141\n",
      "           S       0.67      0.60      0.63       236\n",
      "\n",
      "    accuracy                           0.90      1700\n",
      "   macro avg       0.83      0.80      0.81      1700\n",
      "weighted avg       0.89      0.90      0.89      1700\n",
      "\n"
     ]
    }
   ],
   "source": [
    "lrs = LogisticRegression(solver = 'sag', max_iter = 8000, C = 50)\n",
    "lrs.fit(X_train, y_train)\n",
    "print(\"Classification Report for Training Data\")\n",
    "print(classification_report(y_train, lrs.predict(X_train)))"
   ]
  },
  {
   "cell_type": "code",
   "execution_count": 205,
   "id": "91ae77ad",
   "metadata": {},
   "outputs": [
    {
     "data": {
      "text/plain": [
       "<sklearn.metrics._plot.confusion_matrix.ConfusionMatrixDisplay at 0x17e7bab3d90>"
      ]
     },
     "execution_count": 205,
     "metadata": {},
     "output_type": "execute_result"
    },
    {
     "data": {
      "image/png": "[encoded data removed]",
      "text/plain": [
       "<Figure size 432x288 with 2 Axes>"
      ]
     },
     "metadata": {
      "needs_background": "light"
     },
     "output_type": "display_data"
    }
   ],
   "source": [
    "cm = confusion_matrix(lrs.predict(X_train), y_train, labels = lrs.classes_)\n",
    "_, ax = plt.subplots()\n",
    "display_cm = ConfusionMatrixDisplay(confusion_matrix = cm, \n",
    "                                    display_labels = ['N', 'S','P'])\n",
    "ax.set_xticks([0, 2])\n",
    "ax.set_yticks([0, 2])\n",
    "display_cm.plot(ax = ax)"
   ]
  },
  {
   "cell_type": "markdown",
   "id": "a76dc7dc",
   "metadata": {},
   "source": [
    "Test set:"
   ]
  },
  {
   "cell_type": "code",
   "execution_count": 206,
   "id": "fd7dc6df",
   "metadata": {},
   "outputs": [
    {
     "name": "stdout",
     "output_type": "stream",
     "text": [
      "Classification Report for Testing Data\n",
      "              precision    recall  f1-score   support\n",
      "\n",
      "           N       0.95      0.94      0.94       332\n",
      "           P       0.71      0.71      0.71        35\n",
      "           S       0.61      0.63      0.62        59\n",
      "\n",
      "    accuracy                           0.88       426\n",
      "   macro avg       0.76      0.76      0.76       426\n",
      "weighted avg       0.88      0.88      0.88       426\n",
      "\n"
     ]
    }
   ],
   "source": [
    "print(\"Classification Report for Testing Data\")\n",
    "print(classification_report(y_test, lrs.predict(X_test)))"
   ]
  },
  {
   "cell_type": "code",
   "execution_count": 207,
   "id": "e53d0f5c",
   "metadata": {},
   "outputs": [
    {
     "data": {
      "text/plain": [
       "<sklearn.metrics._plot.confusion_matrix.ConfusionMatrixDisplay at 0x17e7e0be490>"
      ]
     },
     "execution_count": 207,
     "metadata": {},
     "output_type": "execute_result"
    },
    {
     "data": {
      "image/png": "[encoded data removed]",
      "text/plain": [
       "<Figure size 432x288 with 2 Axes>"
      ]
     },
     "metadata": {
      "needs_background": "light"
     },
     "output_type": "display_data"
    }
   ],
   "source": [
    "cm = confusion_matrix(lrs.predict(X_test), y_test, labels = lrs.classes_)\n",
    "_, ax = plt.subplots()\n",
    "display_cm = ConfusionMatrixDisplay(confusion_matrix = cm, \n",
    "                                    display_labels = ['N', 'S','P'])\n",
    "ax.set_xticks([0, 2])\n",
    "ax.set_yticks([0, 2])\n",
    "display_cm.plot(ax = ax)"
   ]
  },
  {
   "cell_type": "markdown",
   "id": "3f567657",
   "metadata": {},
   "source": [
    "The model does mediocre on the test set. Out of curiosity, we will try 'liblinear' as a solver."
   ]
  },
  {
   "cell_type": "markdown",
   "id": "e34a43fd",
   "metadata": {},
   "source": [
    "Liblinear solver"
   ]
  },
  {
   "cell_type": "code",
   "execution_count": 240,
   "id": "a9ecf39a",
   "metadata": {},
   "outputs": [
    {
     "name": "stdout",
     "output_type": "stream",
     "text": [
      "Classification Report for Training Data\n",
      "              precision    recall  f1-score   support\n",
      "\n",
      "           N       0.94      0.96      0.95      1323\n",
      "           P       0.88      0.80      0.84       141\n",
      "           S       0.70      0.64      0.67       236\n",
      "\n",
      "    accuracy                           0.90      1700\n",
      "   macro avg       0.84      0.80      0.82      1700\n",
      "weighted avg       0.90      0.90      0.90      1700\n",
      "\n"
     ]
    }
   ],
   "source": [
    "lrl = LogisticRegression(solver = 'liblinear', max_iter = 8000, C = 10)\n",
    "lrl.fit(X_train, y_train)\n",
    "print(\"Classification Report for Training Data\")\n",
    "print(classification_report(y_train, lrl.predict(X_train)))"
   ]
  },
  {
   "cell_type": "code",
   "execution_count": 241,
   "id": "a65033e7",
   "metadata": {},
   "outputs": [
    {
     "data": {
      "text/plain": [
       "<sklearn.metrics._plot.confusion_matrix.ConfusionMatrixDisplay at 0x17e7eca7850>"
      ]
     },
     "execution_count": 241,
     "metadata": {},
     "output_type": "execute_result"
    },
    {
     "data": {
      "image/png": "[encoded data removed]",
      "text/plain": [
       "<Figure size 432x288 with 2 Axes>"
      ]
     },
     "metadata": {
      "needs_background": "light"
     },
     "output_type": "display_data"
    }
   ],
   "source": [
    "cm = confusion_matrix(lrl.predict(X_train), y_train, labels = lrl.classes_)\n",
    "_, ax = plt.subplots()\n",
    "display_cm = ConfusionMatrixDisplay(confusion_matrix = cm, \n",
    "                                    display_labels = ['N', 'S','P'])\n",
    "ax.set_xticks([0, 2])\n",
    "ax.set_yticks([0, 2])\n",
    "display_cm.plot(ax = ax)"
   ]
  },
  {
   "cell_type": "code",
   "execution_count": 244,
   "id": "4fc674e2",
   "metadata": {},
   "outputs": [
    {
     "name": "stdout",
     "output_type": "stream",
     "text": [
      "Classification Report for Testing Data\n",
      "              precision    recall  f1-score   support\n",
      "\n",
      "           N       0.95      0.96      0.95       332\n",
      "           P       0.82      0.66      0.73        35\n",
      "           S       0.67      0.71      0.69        59\n",
      "\n",
      "    accuracy                           0.90       426\n",
      "   macro avg       0.81      0.78      0.79       426\n",
      "weighted avg       0.90      0.90      0.90       426\n",
      "\n"
     ]
    }
   ],
   "source": [
    "print(\"Classification Report for Testing Data\")\n",
    "print(classification_report(y_test, lrl.predict(X_test)))"
   ]
  },
  {
   "cell_type": "code",
   "execution_count": 245,
   "id": "7d6be213",
   "metadata": {},
   "outputs": [
    {
     "data": {
      "text/plain": [
       "<sklearn.metrics._plot.confusion_matrix.ConfusionMatrixDisplay at 0x17e7ca6e460>"
      ]
     },
     "execution_count": 245,
     "metadata": {},
     "output_type": "execute_result"
    },
    {
     "data": {
      "image/png": "[encoded data removed]",
      "text/plain": [
       "<Figure size 432x288 with 2 Axes>"
      ]
     },
     "metadata": {
      "needs_background": "light"
     },
     "output_type": "display_data"
    }
   ],
   "source": [
    "cm = confusion_matrix(lrl.predict(X_test), y_test, labels = lrl.classes_)\n",
    "_, ax = plt.subplots()\n",
    "display_cm = ConfusionMatrixDisplay(confusion_matrix = cm, \n",
    "                                    display_labels = ['N', 'S','P'])\n",
    "ax.set_xticks([0, 2])\n",
    "ax.set_yticks([0, 2])\n",
    "display_cm.plot(ax = ax)"
   ]
  },
  {
   "cell_type": "code",
   "execution_count": null,
   "id": "4aabd4f7",
   "metadata": {},
   "outputs": [],
   "source": []
  },
  {
   "cell_type": "markdown",
   "id": "59e1f4c2",
   "metadata": {},
   "source": [
    "##### 5.0 Random Forest model<a id='5.0'></a>"
   ]
  },
  {
   "cell_type": "markdown",
   "id": "e44cd0d3",
   "metadata": {},
   "source": [
    "Now to try a different regressor: Random Forest"
   ]
  },
  {
   "cell_type": "markdown",
   "id": "e5db2326",
   "metadata": {},
   "source": [
    "##### 5.1 Tuning hyperparameters using a pipeline and GridSearchCV<a id='5.1'></a>"
   ]
  },
  {
   "cell_type": "code",
   "execution_count": 227,
   "id": "b3c52f9c",
   "metadata": {},
   "outputs": [],
   "source": [
    "stepsRF = [('rf', RandomForestClassifier(random_state=55))]\n",
    "\n",
    "pipeRF = Pipeline(stepsRF)\n",
    "paramsRF = {'rf__n_estimators': [10, 20, 50, 80, 100, 200, 500, 1000],\n",
    "           'rf__max_depth':[2,3]}\n",
    "\n",
    "gridRF = GridSearchCV(pipeRF, param_grid=paramsRF, n_jobs=-1)\n",
    "gridRF.fit(X_train, y_train)\n",
    "resultsRF = pd.DataFrame(gridRF.cv_results_)\n"
   ]
  },
  {
   "cell_type": "code",
   "execution_count": 231,
   "id": "f152afab",
   "metadata": {},
   "outputs": [
    {
     "name": "stdout",
     "output_type": "stream",
     "text": [
      "[Pipeline(steps=[('rf', RandomForestClassifier(max_depth=3, random_state=55))]), {'rf__max_depth': 3, 'rf__n_estimators': 100}, 0.8988235294117647]\n"
     ]
    }
   ],
   "source": [
    "best_resultsRF = [gridRF.best_estimator_, gridRF.best_params_, gridRF.best_score_]\n",
    "print(best_resultsRF)"
   ]
  },
  {
   "cell_type": "code",
   "execution_count": 232,
   "id": "1230532e",
   "metadata": {},
   "outputs": [
    {
     "data": {
      "text/plain": [
       "RandomForestClassifier(max_depth=3, random_state=55)"
      ]
     },
     "execution_count": 232,
     "metadata": {},
     "output_type": "execute_result"
    }
   ],
   "source": [
    "forest = RandomForestClassifier(random_state=55,n_estimators = 100, max_depth=3)\n",
    "forest.fit(X_train, y_train)\n"
   ]
  },
  {
   "cell_type": "code",
   "execution_count": 233,
   "id": "5fb12f46",
   "metadata": {},
   "outputs": [],
   "source": [
    "y_pred_test = forest.predict(X_test)\n"
   ]
  },
  {
   "cell_type": "code",
   "execution_count": 239,
   "id": "40dd39da",
   "metadata": {},
   "outputs": [
    {
     "name": "stdout",
     "output_type": "stream",
     "text": [
      "Classification Report for RF Testing Data\n",
      "              precision    recall  f1-score   support\n",
      "\n",
      "           N       0.90      0.99      0.95       332\n",
      "           P       0.95      0.54      0.69        35\n",
      "           S       0.75      0.51      0.61        59\n",
      "\n",
      "    accuracy                           0.89       426\n",
      "   macro avg       0.87      0.68      0.75       426\n",
      "weighted avg       0.88      0.89      0.88       426\n",
      "\n"
     ]
    }
   ],
   "source": [
    "print(\"Classification Report for RF Testing Data\")\n",
    "print(classification_report(y_test, forest.predict(X_test)))"
   ]
  },
  {
   "cell_type": "code",
   "execution_count": 238,
   "id": "3144615e",
   "metadata": {},
   "outputs": [
    {
     "data": {
      "text/plain": [
       "<sklearn.metrics._plot.confusion_matrix.ConfusionMatrixDisplay at 0x17e7c6e9130>"
      ]
     },
     "execution_count": 238,
     "metadata": {},
     "output_type": "execute_result"
    },
    {
     "data": {
      "image/png": "[encoded data removed]",
      "text/plain": [
       "<Figure size 432x288 with 2 Axes>"
      ]
     },
     "metadata": {
      "needs_background": "light"
     },
     "output_type": "display_data"
    }
   ],
   "source": [
    "cm = confusion_matrix(forest.predict(X_test), y_test, labels = forest.classes_)\n",
    "_, ax = plt.subplots()\n",
    "display_cm = ConfusionMatrixDisplay(confusion_matrix = cm, \n",
    "                                    display_labels = ['N', 'S','P'])\n",
    "ax.set_xticks([0, 2])\n",
    "ax.set_yticks([0, 2])\n",
    "display_cm.plot(ax = ax)"
   ]
  },
  {
   "cell_type": "markdown",
   "id": "9497b3cf",
   "metadata": {},
   "source": [
    "Visualizing a couple of random trees of the forest"
   ]
  },
  {
   "cell_type": "code",
   "execution_count": 235,
   "id": "22830a3f",
   "metadata": {},
   "outputs": [
    {
     "data": {
      "image/png": "[encoded data removed]",
      "text/plain": [
       "<Figure size 1200x1200 with 1 Axes>"
      ]
     },
     "metadata": {
      "needs_background": "light"
     },
     "output_type": "display_data"
    }
   ],
   "source": [
    "fn=X.columns\n",
    "\n",
    "fig, axes = plt.subplots(nrows = 1,ncols = 1,figsize = (4,4), dpi=300)\n",
    "tree.plot_tree(forest.estimators_[0],\n",
    "               feature_names = fn, \n",
    "               class_names= forest.classes_,\n",
    "               filled = True);\n",
    "fig.savefig('imagename1.png')"
   ]
  },
  {
   "cell_type": "markdown",
   "id": "343b51c3",
   "metadata": {},
   "source": [
    "Looking at a different tree of the same forest"
   ]
  },
  {
   "cell_type": "code",
   "execution_count": 237,
   "id": "9bb93ac1",
   "metadata": {},
   "outputs": [
    {
     "data": {
      "image/png": "[encoded data removed]",
      "text/plain": [
       "<Figure size 1200x1200 with 1 Axes>"
      ]
     },
     "metadata": {
      "needs_background": "light"
     },
     "output_type": "display_data"
    }
   ],
   "source": [
    "fn=X.columns\n",
    "\n",
    "fig, axes = plt.subplots(nrows = 1,ncols = 1,figsize = (4,4), dpi=300)\n",
    "tree.plot_tree(forest.estimators_[7],\n",
    "               feature_names = fn, \n",
    "               class_names= forest.classes_,\n",
    "               filled = True);\n",
    "fig.savefig('imagename2.png')"
   ]
  },
  {
   "cell_type": "markdown",
   "id": "4bab8a88",
   "metadata": {},
   "source": [
    "Compare to decision tree model:"
   ]
  },
  {
   "cell_type": "code",
   "execution_count": 229,
   "id": "89f0a1b9",
   "metadata": {},
   "outputs": [
    {
     "data": {
      "text/plain": [
       "DecisionTreeClassifier(max_depth=2, random_state=55)"
      ]
     },
     "execution_count": 229,
     "metadata": {},
     "output_type": "execute_result"
    }
   ],
   "source": [
    "clf = DecisionTreeClassifier(max_depth = 2, random_state = 55)\n",
    "clf.fit(X_train, y_train)\n"
   ]
  },
  {
   "cell_type": "code",
   "execution_count": 74,
   "id": "471b0f8b",
   "metadata": {},
   "outputs": [
    {
     "data": {
      "image/png": "[encoded data removed]",
      "text/plain": [
       "<Figure size 1200x1200 with 1 Axes>"
      ]
     },
     "metadata": {
      "needs_background": "light"
     },
     "output_type": "display_data"
    }
   ],
   "source": [
    "fn=X.columns\n",
    "\n",
    "fig, axes = plt.subplots(nrows = 1,ncols = 1,figsize = (4,4), dpi=300)\n",
    "tree.plot_tree(clf,\n",
    "               feature_names = fn, \n",
    "               class_names= forest.classes_,\n",
    "               filled = True);\n",
    "fig.savefig('imagename1.png')"
   ]
  },
  {
   "cell_type": "code",
   "execution_count": null,
   "id": "5afe6346",
   "metadata": {},
   "outputs": [],
   "source": []
  },
  {
   "cell_type": "code",
   "execution_count": null,
   "id": "9be3e259",
   "metadata": {},
   "outputs": [],
   "source": []
  }
 ],
 "metadata": {
  "kernelspec": {
   "display_name": "Python 3",
   "language": "python",
   "name": "python3"
  },
  "language_info": {
   "codemirror_mode": {
    "name": "ipython",
    "version": 3
   },
   "file_extension": ".py",
   "mimetype": "text/x-python",
   "name": "python",
   "nbconvert_exporter": "python",
   "pygments_lexer": "ipython3",
   "version": "3.8.8"
  }
 },
 "nbformat": 4,
 "nbformat_minor": 5
}
